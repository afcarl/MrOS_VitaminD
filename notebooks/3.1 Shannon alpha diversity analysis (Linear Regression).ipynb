{
 "cells": [
  {
   "cell_type": "markdown",
   "metadata": {},
   "source": [
    "1. output: 'mapping_PDalpha.txt'(mapping file with PD alpha diversity)\n",
    "2. scatterplots of PD alpha diversity vs. 5 vitaminD measurements (output: 'vitamin_pd.txt' (5 VitD variables with PD)\n",
    "3. linear regression of PD alpha diversity vs. 5 vitaminD measurements & diagnostic plots and tests\n",
    "4. effect size analysis of alpha diversity with medata (see notebook R_alpha_RDA)\n",
    "\n",
    "reference on statsmodel ols and disagnostic plots\n",
    "http://mpastell.com/pweave/_downloads/linear_regression.html (visualization)\n",
    "http://www.statsmodels.org/dev/examples/notebooks/generated/regression_diagnostics.html (tests)"
   ]
  },
  {
   "cell_type": "code",
   "execution_count": 2,
   "metadata": {},
   "outputs": [
    {
     "name": "stderr",
     "output_type": "stream",
     "text": [
      "/Users/serene/miniconda3/envs/Vitamin/lib/python3.5/site-packages/statsmodels/compat/pandas.py:56: FutureWarning: The pandas.core.datetools module is deprecated and will be removed in a future version. Please use the pandas.tseries module instead.\n",
      "  from pandas.core import datetools\n"
     ]
    }
   ],
   "source": [
    "import pandas as pd\n",
    "import numpy as np\n",
    "import statsmodels.formula.api as smf\n",
    "from statsmodels.compat import lzip\n",
    "import statsmodels.stats.api as sms\n",
    "import statsmodels.api as sm\n",
    "\n",
    "import matplotlib.pyplot as plt\n",
    "import seaborn as sns\n",
    "%matplotlib inline"
   ]
  },
  {
   "cell_type": "markdown",
   "metadata": {},
   "source": [
    "## I. prepare mapping_PDalpha file"
   ]
  },
  {
   "cell_type": "markdown",
   "metadata": {},
   "source": [
    "### calculate average PD alpha diversity at highest rarefaction 5870"
   ]
  },
  {
   "cell_type": "code",
   "execution_count": 3,
   "metadata": {},
   "outputs": [],
   "source": [
    "alpha = pd.read_csv('../data/shannon.txt', sep='\\t')"
   ]
  },
  {
   "cell_type": "code",
   "execution_count": 4,
   "metadata": {},
   "outputs": [
    {
     "data": {
      "text/html": [
       "<div>\n",
       "<style>\n",
       "    .dataframe thead tr:only-child th {\n",
       "        text-align: right;\n",
       "    }\n",
       "\n",
       "    .dataframe thead th {\n",
       "        text-align: left;\n",
       "    }\n",
       "\n",
       "    .dataframe tbody tr th {\n",
       "        vertical-align: top;\n",
       "    }\n",
       "</style>\n",
       "<table border=\"1\" class=\"dataframe\">\n",
       "  <thead>\n",
       "    <tr style=\"text-align: right;\">\n",
       "      <th></th>\n",
       "      <th>Unnamed: 0</th>\n",
       "      <th>sequences per sample</th>\n",
       "      <th>iteration</th>\n",
       "      <th>SD8637</th>\n",
       "      <th>PO7016</th>\n",
       "      <th>MN1789</th>\n",
       "      <th>MN1868</th>\n",
       "      <th>PA3814</th>\n",
       "      <th>MN2006</th>\n",
       "      <th>PA3070</th>\n",
       "      <th>...</th>\n",
       "      <th>PI4544</th>\n",
       "      <th>BI0445</th>\n",
       "      <th>PO7138</th>\n",
       "      <th>BI0215</th>\n",
       "      <th>MN2452</th>\n",
       "      <th>BI0704</th>\n",
       "      <th>PO7442</th>\n",
       "      <th>MN2439</th>\n",
       "      <th>SD8458</th>\n",
       "      <th>PI4831</th>\n",
       "    </tr>\n",
       "  </thead>\n",
       "  <tbody>\n",
       "    <tr>\n",
       "      <th>100</th>\n",
       "      <td>alpha_rarefaction_5870_0.txt</td>\n",
       "      <td>5870</td>\n",
       "      <td>0</td>\n",
       "      <td>5.358064</td>\n",
       "      <td>4.623535</td>\n",
       "      <td>5.672357</td>\n",
       "      <td>5.344327</td>\n",
       "      <td>5.956702</td>\n",
       "      <td>5.754210</td>\n",
       "      <td>4.461627</td>\n",
       "      <td>...</td>\n",
       "      <td>5.229101</td>\n",
       "      <td>2.786864</td>\n",
       "      <td>5.295023</td>\n",
       "      <td>5.243861</td>\n",
       "      <td>5.351673</td>\n",
       "      <td>5.653516</td>\n",
       "      <td>4.532820</td>\n",
       "      <td>4.280612</td>\n",
       "      <td>5.384543</td>\n",
       "      <td>3.760593</td>\n",
       "    </tr>\n",
       "    <tr>\n",
       "      <th>101</th>\n",
       "      <td>alpha_rarefaction_5870_1.txt</td>\n",
       "      <td>5870</td>\n",
       "      <td>1</td>\n",
       "      <td>5.373735</td>\n",
       "      <td>4.664897</td>\n",
       "      <td>5.575679</td>\n",
       "      <td>5.371486</td>\n",
       "      <td>5.987728</td>\n",
       "      <td>5.772647</td>\n",
       "      <td>4.478166</td>\n",
       "      <td>...</td>\n",
       "      <td>5.235149</td>\n",
       "      <td>2.709682</td>\n",
       "      <td>5.178727</td>\n",
       "      <td>5.225858</td>\n",
       "      <td>5.367119</td>\n",
       "      <td>5.615350</td>\n",
       "      <td>4.576044</td>\n",
       "      <td>4.304976</td>\n",
       "      <td>5.347405</td>\n",
       "      <td>3.788959</td>\n",
       "    </tr>\n",
       "    <tr>\n",
       "      <th>102</th>\n",
       "      <td>alpha_rarefaction_5870_2.txt</td>\n",
       "      <td>5870</td>\n",
       "      <td>2</td>\n",
       "      <td>5.288770</td>\n",
       "      <td>4.686544</td>\n",
       "      <td>5.608485</td>\n",
       "      <td>5.376532</td>\n",
       "      <td>5.939975</td>\n",
       "      <td>5.772453</td>\n",
       "      <td>4.461159</td>\n",
       "      <td>...</td>\n",
       "      <td>5.204714</td>\n",
       "      <td>2.810960</td>\n",
       "      <td>5.247735</td>\n",
       "      <td>5.229132</td>\n",
       "      <td>5.332448</td>\n",
       "      <td>5.636662</td>\n",
       "      <td>4.594560</td>\n",
       "      <td>4.230180</td>\n",
       "      <td>5.385918</td>\n",
       "      <td>3.769105</td>\n",
       "    </tr>\n",
       "    <tr>\n",
       "      <th>103</th>\n",
       "      <td>alpha_rarefaction_5870_3.txt</td>\n",
       "      <td>5870</td>\n",
       "      <td>3</td>\n",
       "      <td>5.344867</td>\n",
       "      <td>4.667271</td>\n",
       "      <td>5.632756</td>\n",
       "      <td>5.365440</td>\n",
       "      <td>5.931689</td>\n",
       "      <td>5.778828</td>\n",
       "      <td>4.440869</td>\n",
       "      <td>...</td>\n",
       "      <td>5.258647</td>\n",
       "      <td>2.750628</td>\n",
       "      <td>5.235630</td>\n",
       "      <td>5.198488</td>\n",
       "      <td>5.335737</td>\n",
       "      <td>5.630894</td>\n",
       "      <td>4.547876</td>\n",
       "      <td>4.229301</td>\n",
       "      <td>5.433851</td>\n",
       "      <td>3.735480</td>\n",
       "    </tr>\n",
       "    <tr>\n",
       "      <th>104</th>\n",
       "      <td>alpha_rarefaction_5870_4.txt</td>\n",
       "      <td>5870</td>\n",
       "      <td>4</td>\n",
       "      <td>5.342874</td>\n",
       "      <td>4.675960</td>\n",
       "      <td>5.631913</td>\n",
       "      <td>5.382005</td>\n",
       "      <td>5.952102</td>\n",
       "      <td>5.883804</td>\n",
       "      <td>4.462897</td>\n",
       "      <td>...</td>\n",
       "      <td>5.206001</td>\n",
       "      <td>2.753829</td>\n",
       "      <td>5.278896</td>\n",
       "      <td>5.232811</td>\n",
       "      <td>5.308877</td>\n",
       "      <td>5.660159</td>\n",
       "      <td>4.540313</td>\n",
       "      <td>4.246183</td>\n",
       "      <td>5.436445</td>\n",
       "      <td>3.774357</td>\n",
       "    </tr>\n",
       "    <tr>\n",
       "      <th>105</th>\n",
       "      <td>alpha_rarefaction_5870_5.txt</td>\n",
       "      <td>5870</td>\n",
       "      <td>5</td>\n",
       "      <td>5.362143</td>\n",
       "      <td>4.641412</td>\n",
       "      <td>5.592539</td>\n",
       "      <td>5.389160</td>\n",
       "      <td>5.962188</td>\n",
       "      <td>5.790364</td>\n",
       "      <td>4.448502</td>\n",
       "      <td>...</td>\n",
       "      <td>5.215240</td>\n",
       "      <td>2.741628</td>\n",
       "      <td>5.255677</td>\n",
       "      <td>5.233034</td>\n",
       "      <td>5.335807</td>\n",
       "      <td>5.657854</td>\n",
       "      <td>4.550065</td>\n",
       "      <td>4.272407</td>\n",
       "      <td>5.419759</td>\n",
       "      <td>3.742519</td>\n",
       "    </tr>\n",
       "    <tr>\n",
       "      <th>106</th>\n",
       "      <td>alpha_rarefaction_5870_6.txt</td>\n",
       "      <td>5870</td>\n",
       "      <td>6</td>\n",
       "      <td>5.346711</td>\n",
       "      <td>4.684145</td>\n",
       "      <td>5.570968</td>\n",
       "      <td>5.333318</td>\n",
       "      <td>5.971134</td>\n",
       "      <td>5.792474</td>\n",
       "      <td>4.453358</td>\n",
       "      <td>...</td>\n",
       "      <td>5.205455</td>\n",
       "      <td>2.785888</td>\n",
       "      <td>5.302992</td>\n",
       "      <td>5.267584</td>\n",
       "      <td>5.313575</td>\n",
       "      <td>5.654264</td>\n",
       "      <td>4.572185</td>\n",
       "      <td>4.275417</td>\n",
       "      <td>5.389796</td>\n",
       "      <td>3.779128</td>\n",
       "    </tr>\n",
       "    <tr>\n",
       "      <th>107</th>\n",
       "      <td>alpha_rarefaction_5870_7.txt</td>\n",
       "      <td>5870</td>\n",
       "      <td>7</td>\n",
       "      <td>5.334744</td>\n",
       "      <td>4.661993</td>\n",
       "      <td>5.565951</td>\n",
       "      <td>5.302840</td>\n",
       "      <td>5.968192</td>\n",
       "      <td>5.808405</td>\n",
       "      <td>4.492040</td>\n",
       "      <td>...</td>\n",
       "      <td>5.247786</td>\n",
       "      <td>2.754721</td>\n",
       "      <td>5.285498</td>\n",
       "      <td>5.233186</td>\n",
       "      <td>5.357254</td>\n",
       "      <td>5.684424</td>\n",
       "      <td>4.580145</td>\n",
       "      <td>4.248809</td>\n",
       "      <td>5.349595</td>\n",
       "      <td>3.735933</td>\n",
       "    </tr>\n",
       "    <tr>\n",
       "      <th>108</th>\n",
       "      <td>alpha_rarefaction_5870_8.txt</td>\n",
       "      <td>5870</td>\n",
       "      <td>8</td>\n",
       "      <td>5.329695</td>\n",
       "      <td>4.672688</td>\n",
       "      <td>5.636244</td>\n",
       "      <td>5.366249</td>\n",
       "      <td>5.980805</td>\n",
       "      <td>5.771929</td>\n",
       "      <td>4.438336</td>\n",
       "      <td>...</td>\n",
       "      <td>5.179380</td>\n",
       "      <td>2.751254</td>\n",
       "      <td>5.271003</td>\n",
       "      <td>5.179097</td>\n",
       "      <td>5.335133</td>\n",
       "      <td>5.685300</td>\n",
       "      <td>4.551880</td>\n",
       "      <td>4.249678</td>\n",
       "      <td>5.357840</td>\n",
       "      <td>3.800754</td>\n",
       "    </tr>\n",
       "    <tr>\n",
       "      <th>109</th>\n",
       "      <td>alpha_rarefaction_5870_9.txt</td>\n",
       "      <td>5870</td>\n",
       "      <td>9</td>\n",
       "      <td>5.371591</td>\n",
       "      <td>4.677832</td>\n",
       "      <td>5.659768</td>\n",
       "      <td>5.382941</td>\n",
       "      <td>5.979993</td>\n",
       "      <td>5.770804</td>\n",
       "      <td>4.422710</td>\n",
       "      <td>...</td>\n",
       "      <td>5.176630</td>\n",
       "      <td>2.715379</td>\n",
       "      <td>5.261200</td>\n",
       "      <td>5.255363</td>\n",
       "      <td>5.361065</td>\n",
       "      <td>5.692406</td>\n",
       "      <td>4.562925</td>\n",
       "      <td>4.263508</td>\n",
       "      <td>5.354514</td>\n",
       "      <td>3.785972</td>\n",
       "    </tr>\n",
       "  </tbody>\n",
       "</table>\n",
       "<p>10 rows × 602 columns</p>\n",
       "</div>"
      ],
      "text/plain": [
       "                       Unnamed: 0  sequences per sample  iteration    SD8637  \\\n",
       "100  alpha_rarefaction_5870_0.txt                  5870          0  5.358064   \n",
       "101  alpha_rarefaction_5870_1.txt                  5870          1  5.373735   \n",
       "102  alpha_rarefaction_5870_2.txt                  5870          2  5.288770   \n",
       "103  alpha_rarefaction_5870_3.txt                  5870          3  5.344867   \n",
       "104  alpha_rarefaction_5870_4.txt                  5870          4  5.342874   \n",
       "105  alpha_rarefaction_5870_5.txt                  5870          5  5.362143   \n",
       "106  alpha_rarefaction_5870_6.txt                  5870          6  5.346711   \n",
       "107  alpha_rarefaction_5870_7.txt                  5870          7  5.334744   \n",
       "108  alpha_rarefaction_5870_8.txt                  5870          8  5.329695   \n",
       "109  alpha_rarefaction_5870_9.txt                  5870          9  5.371591   \n",
       "\n",
       "       PO7016    MN1789    MN1868    PA3814    MN2006    PA3070    ...     \\\n",
       "100  4.623535  5.672357  5.344327  5.956702  5.754210  4.461627    ...      \n",
       "101  4.664897  5.575679  5.371486  5.987728  5.772647  4.478166    ...      \n",
       "102  4.686544  5.608485  5.376532  5.939975  5.772453  4.461159    ...      \n",
       "103  4.667271  5.632756  5.365440  5.931689  5.778828  4.440869    ...      \n",
       "104  4.675960  5.631913  5.382005  5.952102  5.883804  4.462897    ...      \n",
       "105  4.641412  5.592539  5.389160  5.962188  5.790364  4.448502    ...      \n",
       "106  4.684145  5.570968  5.333318  5.971134  5.792474  4.453358    ...      \n",
       "107  4.661993  5.565951  5.302840  5.968192  5.808405  4.492040    ...      \n",
       "108  4.672688  5.636244  5.366249  5.980805  5.771929  4.438336    ...      \n",
       "109  4.677832  5.659768  5.382941  5.979993  5.770804  4.422710    ...      \n",
       "\n",
       "       PI4544    BI0445    PO7138    BI0215    MN2452    BI0704    PO7442  \\\n",
       "100  5.229101  2.786864  5.295023  5.243861  5.351673  5.653516  4.532820   \n",
       "101  5.235149  2.709682  5.178727  5.225858  5.367119  5.615350  4.576044   \n",
       "102  5.204714  2.810960  5.247735  5.229132  5.332448  5.636662  4.594560   \n",
       "103  5.258647  2.750628  5.235630  5.198488  5.335737  5.630894  4.547876   \n",
       "104  5.206001  2.753829  5.278896  5.232811  5.308877  5.660159  4.540313   \n",
       "105  5.215240  2.741628  5.255677  5.233034  5.335807  5.657854  4.550065   \n",
       "106  5.205455  2.785888  5.302992  5.267584  5.313575  5.654264  4.572185   \n",
       "107  5.247786  2.754721  5.285498  5.233186  5.357254  5.684424  4.580145   \n",
       "108  5.179380  2.751254  5.271003  5.179097  5.335133  5.685300  4.551880   \n",
       "109  5.176630  2.715379  5.261200  5.255363  5.361065  5.692406  4.562925   \n",
       "\n",
       "       MN2439    SD8458    PI4831  \n",
       "100  4.280612  5.384543  3.760593  \n",
       "101  4.304976  5.347405  3.788959  \n",
       "102  4.230180  5.385918  3.769105  \n",
       "103  4.229301  5.433851  3.735480  \n",
       "104  4.246183  5.436445  3.774357  \n",
       "105  4.272407  5.419759  3.742519  \n",
       "106  4.275417  5.389796  3.779128  \n",
       "107  4.248809  5.349595  3.735933  \n",
       "108  4.249678  5.357840  3.800754  \n",
       "109  4.263508  5.354514  3.785972  \n",
       "\n",
       "[10 rows x 602 columns]"
      ]
     },
     "execution_count": 4,
     "metadata": {},
     "output_type": "execute_result"
    }
   ],
   "source": [
    "alpha.tail(10)"
   ]
  },
  {
   "cell_type": "code",
   "execution_count": 5,
   "metadata": {},
   "outputs": [
    {
     "data": {
      "text/plain": [
       "(110, 602)"
      ]
     },
     "execution_count": 5,
     "metadata": {},
     "output_type": "execute_result"
    }
   ],
   "source": [
    "alpha.shape"
   ]
  },
  {
   "cell_type": "code",
   "execution_count": 6,
   "metadata": {
    "collapsed": true
   },
   "outputs": [],
   "source": [
    "# look at only the highest rarefaction depth\n",
    "alpha_high = alpha.loc[alpha['sequences per sample'] == 5870]"
   ]
  },
  {
   "cell_type": "code",
   "execution_count": 7,
   "metadata": {
    "collapsed": true
   },
   "outputs": [],
   "source": [
    "# take average of 10 iterations as alpha value\n",
    "alpha_high = alpha_high.drop(['Unnamed: 0', 'sequences per sample', 'iteration'], axis=1)"
   ]
  },
  {
   "cell_type": "code",
   "execution_count": 8,
   "metadata": {},
   "outputs": [
    {
     "data": {
      "text/html": [
       "<div>\n",
       "<style>\n",
       "    .dataframe thead tr:only-child th {\n",
       "        text-align: right;\n",
       "    }\n",
       "\n",
       "    .dataframe thead th {\n",
       "        text-align: left;\n",
       "    }\n",
       "\n",
       "    .dataframe tbody tr th {\n",
       "        vertical-align: top;\n",
       "    }\n",
       "</style>\n",
       "<table border=\"1\" class=\"dataframe\">\n",
       "  <thead>\n",
       "    <tr style=\"text-align: right;\">\n",
       "      <th></th>\n",
       "      <th>SD8637</th>\n",
       "      <th>PO7016</th>\n",
       "      <th>MN1789</th>\n",
       "      <th>MN1868</th>\n",
       "      <th>PA3814</th>\n",
       "      <th>MN2006</th>\n",
       "      <th>PA3070</th>\n",
       "      <th>PI5374</th>\n",
       "      <th>SD8714</th>\n",
       "      <th>BI0448</th>\n",
       "      <th>...</th>\n",
       "      <th>PI4544</th>\n",
       "      <th>BI0445</th>\n",
       "      <th>PO7138</th>\n",
       "      <th>BI0215</th>\n",
       "      <th>MN2452</th>\n",
       "      <th>BI0704</th>\n",
       "      <th>PO7442</th>\n",
       "      <th>MN2439</th>\n",
       "      <th>SD8458</th>\n",
       "      <th>PI4831</th>\n",
       "    </tr>\n",
       "  </thead>\n",
       "  <tbody>\n",
       "    <tr>\n",
       "      <th>100</th>\n",
       "      <td>5.358064</td>\n",
       "      <td>4.623535</td>\n",
       "      <td>5.672357</td>\n",
       "      <td>5.344327</td>\n",
       "      <td>5.956702</td>\n",
       "      <td>5.754210</td>\n",
       "      <td>4.461627</td>\n",
       "      <td>4.922432</td>\n",
       "      <td>5.221109</td>\n",
       "      <td>4.014836</td>\n",
       "      <td>...</td>\n",
       "      <td>5.229101</td>\n",
       "      <td>2.786864</td>\n",
       "      <td>5.295023</td>\n",
       "      <td>5.243861</td>\n",
       "      <td>5.351673</td>\n",
       "      <td>5.653516</td>\n",
       "      <td>4.532820</td>\n",
       "      <td>4.280612</td>\n",
       "      <td>5.384543</td>\n",
       "      <td>3.760593</td>\n",
       "    </tr>\n",
       "    <tr>\n",
       "      <th>101</th>\n",
       "      <td>5.373735</td>\n",
       "      <td>4.664897</td>\n",
       "      <td>5.575679</td>\n",
       "      <td>5.371486</td>\n",
       "      <td>5.987728</td>\n",
       "      <td>5.772647</td>\n",
       "      <td>4.478166</td>\n",
       "      <td>4.890101</td>\n",
       "      <td>5.194618</td>\n",
       "      <td>4.035524</td>\n",
       "      <td>...</td>\n",
       "      <td>5.235149</td>\n",
       "      <td>2.709682</td>\n",
       "      <td>5.178727</td>\n",
       "      <td>5.225858</td>\n",
       "      <td>5.367119</td>\n",
       "      <td>5.615350</td>\n",
       "      <td>4.576044</td>\n",
       "      <td>4.304976</td>\n",
       "      <td>5.347405</td>\n",
       "      <td>3.788959</td>\n",
       "    </tr>\n",
       "    <tr>\n",
       "      <th>102</th>\n",
       "      <td>5.288770</td>\n",
       "      <td>4.686544</td>\n",
       "      <td>5.608485</td>\n",
       "      <td>5.376532</td>\n",
       "      <td>5.939975</td>\n",
       "      <td>5.772453</td>\n",
       "      <td>4.461159</td>\n",
       "      <td>4.898988</td>\n",
       "      <td>5.167794</td>\n",
       "      <td>4.021510</td>\n",
       "      <td>...</td>\n",
       "      <td>5.204714</td>\n",
       "      <td>2.810960</td>\n",
       "      <td>5.247735</td>\n",
       "      <td>5.229132</td>\n",
       "      <td>5.332448</td>\n",
       "      <td>5.636662</td>\n",
       "      <td>4.594560</td>\n",
       "      <td>4.230180</td>\n",
       "      <td>5.385918</td>\n",
       "      <td>3.769105</td>\n",
       "    </tr>\n",
       "    <tr>\n",
       "      <th>103</th>\n",
       "      <td>5.344867</td>\n",
       "      <td>4.667271</td>\n",
       "      <td>5.632756</td>\n",
       "      <td>5.365440</td>\n",
       "      <td>5.931689</td>\n",
       "      <td>5.778828</td>\n",
       "      <td>4.440869</td>\n",
       "      <td>4.882358</td>\n",
       "      <td>5.192064</td>\n",
       "      <td>4.030519</td>\n",
       "      <td>...</td>\n",
       "      <td>5.258647</td>\n",
       "      <td>2.750628</td>\n",
       "      <td>5.235630</td>\n",
       "      <td>5.198488</td>\n",
       "      <td>5.335737</td>\n",
       "      <td>5.630894</td>\n",
       "      <td>4.547876</td>\n",
       "      <td>4.229301</td>\n",
       "      <td>5.433851</td>\n",
       "      <td>3.735480</td>\n",
       "    </tr>\n",
       "    <tr>\n",
       "      <th>104</th>\n",
       "      <td>5.342874</td>\n",
       "      <td>4.675960</td>\n",
       "      <td>5.631913</td>\n",
       "      <td>5.382005</td>\n",
       "      <td>5.952102</td>\n",
       "      <td>5.883804</td>\n",
       "      <td>4.462897</td>\n",
       "      <td>4.859322</td>\n",
       "      <td>5.181945</td>\n",
       "      <td>4.064250</td>\n",
       "      <td>...</td>\n",
       "      <td>5.206001</td>\n",
       "      <td>2.753829</td>\n",
       "      <td>5.278896</td>\n",
       "      <td>5.232811</td>\n",
       "      <td>5.308877</td>\n",
       "      <td>5.660159</td>\n",
       "      <td>4.540313</td>\n",
       "      <td>4.246183</td>\n",
       "      <td>5.436445</td>\n",
       "      <td>3.774357</td>\n",
       "    </tr>\n",
       "  </tbody>\n",
       "</table>\n",
       "<p>5 rows × 599 columns</p>\n",
       "</div>"
      ],
      "text/plain": [
       "       SD8637    PO7016    MN1789    MN1868    PA3814    MN2006    PA3070  \\\n",
       "100  5.358064  4.623535  5.672357  5.344327  5.956702  5.754210  4.461627   \n",
       "101  5.373735  4.664897  5.575679  5.371486  5.987728  5.772647  4.478166   \n",
       "102  5.288770  4.686544  5.608485  5.376532  5.939975  5.772453  4.461159   \n",
       "103  5.344867  4.667271  5.632756  5.365440  5.931689  5.778828  4.440869   \n",
       "104  5.342874  4.675960  5.631913  5.382005  5.952102  5.883804  4.462897   \n",
       "\n",
       "       PI5374    SD8714    BI0448    ...       PI4544    BI0445    PO7138  \\\n",
       "100  4.922432  5.221109  4.014836    ...     5.229101  2.786864  5.295023   \n",
       "101  4.890101  5.194618  4.035524    ...     5.235149  2.709682  5.178727   \n",
       "102  4.898988  5.167794  4.021510    ...     5.204714  2.810960  5.247735   \n",
       "103  4.882358  5.192064  4.030519    ...     5.258647  2.750628  5.235630   \n",
       "104  4.859322  5.181945  4.064250    ...     5.206001  2.753829  5.278896   \n",
       "\n",
       "       BI0215    MN2452    BI0704    PO7442    MN2439    SD8458    PI4831  \n",
       "100  5.243861  5.351673  5.653516  4.532820  4.280612  5.384543  3.760593  \n",
       "101  5.225858  5.367119  5.615350  4.576044  4.304976  5.347405  3.788959  \n",
       "102  5.229132  5.332448  5.636662  4.594560  4.230180  5.385918  3.769105  \n",
       "103  5.198488  5.335737  5.630894  4.547876  4.229301  5.433851  3.735480  \n",
       "104  5.232811  5.308877  5.660159  4.540313  4.246183  5.436445  3.774357  \n",
       "\n",
       "[5 rows x 599 columns]"
      ]
     },
     "execution_count": 8,
     "metadata": {},
     "output_type": "execute_result"
    }
   ],
   "source": [
    "alpha_high.head()"
   ]
  },
  {
   "cell_type": "code",
   "execution_count": 9,
   "metadata": {},
   "outputs": [
    {
     "data": {
      "text/plain": [
       "(10, 599)"
      ]
     },
     "execution_count": 9,
     "metadata": {},
     "output_type": "execute_result"
    }
   ],
   "source": [
    "alpha_high.shape"
   ]
  },
  {
   "cell_type": "code",
   "execution_count": 10,
   "metadata": {
    "collapsed": true
   },
   "outputs": [],
   "source": [
    "alpha_avg = pd.DataFrame(alpha_high.mean(axis=0), columns=['alpha_shannon'])"
   ]
  },
  {
   "cell_type": "markdown",
   "metadata": {},
   "source": [
    "### Add PD alpha diversity into mapping file"
   ]
  },
  {
   "cell_type": "code",
   "execution_count": 11,
   "metadata": {
    "collapsed": true
   },
   "outputs": [],
   "source": [
    "mf = pd.read_csv('../data/mapping_cleaned_MrOS.txt', sep='\\t', dtype=str, index_col='#SampleID') "
   ]
  },
  {
   "cell_type": "code",
   "execution_count": 12,
   "metadata": {},
   "outputs": [
    {
     "data": {
      "text/html": [
       "<div>\n",
       "<style>\n",
       "    .dataframe thead tr:only-child th {\n",
       "        text-align: right;\n",
       "    }\n",
       "\n",
       "    .dataframe thead th {\n",
       "        text-align: left;\n",
       "    }\n",
       "\n",
       "    .dataframe tbody tr th {\n",
       "        vertical-align: top;\n",
       "    }\n",
       "</style>\n",
       "<table border=\"1\" class=\"dataframe\">\n",
       "  <thead>\n",
       "    <tr style=\"text-align: right;\">\n",
       "      <th></th>\n",
       "      <th>BarcodeSequence</th>\n",
       "      <th>LinkerPrimerSequence</th>\n",
       "      <th>Experiment_Design_Description</th>\n",
       "      <th>Library_Construction_Protocol</th>\n",
       "      <th>Linker</th>\n",
       "      <th>Platform</th>\n",
       "      <th>Center_Name</th>\n",
       "      <th>Center_Project</th>\n",
       "      <th>Instrument_Model</th>\n",
       "      <th>Title</th>\n",
       "      <th>...</th>\n",
       "      <th>OHV1D2</th>\n",
       "      <th>OHV1D2CT</th>\n",
       "      <th>OHVD2CT</th>\n",
       "      <th>OHVDTOT</th>\n",
       "      <th>OHV1DTOT</th>\n",
       "      <th>OHSEAS</th>\n",
       "      <th>VDstatus</th>\n",
       "      <th>Description</th>\n",
       "      <th>ratio_activation</th>\n",
       "      <th>ratio_catabolism</th>\n",
       "    </tr>\n",
       "    <tr>\n",
       "      <th>#SampleID</th>\n",
       "      <th></th>\n",
       "      <th></th>\n",
       "      <th></th>\n",
       "      <th></th>\n",
       "      <th></th>\n",
       "      <th></th>\n",
       "      <th></th>\n",
       "      <th></th>\n",
       "      <th></th>\n",
       "      <th></th>\n",
       "      <th></th>\n",
       "      <th></th>\n",
       "      <th></th>\n",
       "      <th></th>\n",
       "      <th></th>\n",
       "      <th></th>\n",
       "      <th></th>\n",
       "      <th></th>\n",
       "      <th></th>\n",
       "      <th></th>\n",
       "      <th></th>\n",
       "    </tr>\n",
       "  </thead>\n",
       "  <tbody>\n",
       "    <tr>\n",
       "      <th>BI0023</th>\n",
       "      <td>TCTGGTGACATT</td>\n",
       "      <td>GGACTACHVGGGTWTCTAAT</td>\n",
       "      <td>16S stool samples sequenced for MrOS Vitamin D...</td>\n",
       "      <td>16S rRNA v4</td>\n",
       "      <td>GT</td>\n",
       "      <td>Illumina</td>\n",
       "      <td>BI</td>\n",
       "      <td>MrOS</td>\n",
       "      <td>Illumina MiSeq</td>\n",
       "      <td>MrOS_VitaminD</td>\n",
       "      <td>...</td>\n",
       "      <td>0.0</td>\n",
       "      <td>1: Yes</td>\n",
       "      <td>1: Yes</td>\n",
       "      <td>25.8</td>\n",
       "      <td>0.039299999999999995</td>\n",
       "      <td>3:SUMMER</td>\n",
       "      <td>sufficiency</td>\n",
       "      <td>Orwoll.BI0023.BI</td>\n",
       "      <td>0.0015232558139534882</td>\n",
       "      <td>0.0686046511627907</td>\n",
       "    </tr>\n",
       "    <tr>\n",
       "      <th>BI0056</th>\n",
       "      <td>CAAGCATGCCTA</td>\n",
       "      <td>GGACTACHVGGGTWTCTAAT</td>\n",
       "      <td>16S stool samples sequenced for MrOS Vitamin D...</td>\n",
       "      <td>16S rRNA v4</td>\n",
       "      <td>GT</td>\n",
       "      <td>Illumina</td>\n",
       "      <td>BI</td>\n",
       "      <td>MrOS</td>\n",
       "      <td>Illumina MiSeq</td>\n",
       "      <td>MrOS_VitaminD</td>\n",
       "      <td>...</td>\n",
       "      <td>0.0</td>\n",
       "      <td>1: Yes</td>\n",
       "      <td>1: Yes</td>\n",
       "      <td>39.2</td>\n",
       "      <td>0.0619</td>\n",
       "      <td>2:SPRING</td>\n",
       "      <td>sufficiency</td>\n",
       "      <td>Orwoll.BI0056.BI</td>\n",
       "      <td>0.001579081632653061</td>\n",
       "      <td>0.09974489795918368</td>\n",
       "    </tr>\n",
       "    <tr>\n",
       "      <th>BI0131</th>\n",
       "      <td>CTATTTGCGACA</td>\n",
       "      <td>GGACTACHVGGGTWTCTAAT</td>\n",
       "      <td>16S stool samples sequenced for MrOS Vitamin D...</td>\n",
       "      <td>16S rRNA v4</td>\n",
       "      <td>GT</td>\n",
       "      <td>Illumina</td>\n",
       "      <td>BI</td>\n",
       "      <td>MrOS</td>\n",
       "      <td>Illumina MiSeq</td>\n",
       "      <td>MrOS_VitaminD</td>\n",
       "      <td>...</td>\n",
       "      <td>0.0</td>\n",
       "      <td>1: Yes</td>\n",
       "      <td>1: Yes</td>\n",
       "      <td>23.1</td>\n",
       "      <td>0.0521</td>\n",
       "      <td>2:SPRING</td>\n",
       "      <td>sufficiency</td>\n",
       "      <td>Orwoll.BI0131.BI</td>\n",
       "      <td>0.002255411255411255</td>\n",
       "      <td>0.06450216450216449</td>\n",
       "    </tr>\n",
       "    <tr>\n",
       "      <th>BI0153</th>\n",
       "      <td>ATCGGCGTTACA</td>\n",
       "      <td>GGACTACHVGGGTWTCTAAT</td>\n",
       "      <td>16S stool samples sequenced for MrOS Vitamin D...</td>\n",
       "      <td>16S rRNA v4</td>\n",
       "      <td>GT</td>\n",
       "      <td>Illumina</td>\n",
       "      <td>BI</td>\n",
       "      <td>MrOS</td>\n",
       "      <td>Illumina MiSeq</td>\n",
       "      <td>MrOS_VitaminD</td>\n",
       "      <td>...</td>\n",
       "      <td>0.0</td>\n",
       "      <td>1: Yes</td>\n",
       "      <td>1: Yes</td>\n",
       "      <td>27.3</td>\n",
       "      <td>0.0431</td>\n",
       "      <td>2:SPRING</td>\n",
       "      <td>sufficiency</td>\n",
       "      <td>Orwoll.BI0153.BI</td>\n",
       "      <td>0.0015787545787545787</td>\n",
       "      <td>0.07838827838827839</td>\n",
       "    </tr>\n",
       "    <tr>\n",
       "      <th>BI0215</th>\n",
       "      <td>CCTCTCGTGATC</td>\n",
       "      <td>GGACTACHVGGGTWTCTAAT</td>\n",
       "      <td>16S stool samples sequenced for MrOS Vitamin D...</td>\n",
       "      <td>16S rRNA v4</td>\n",
       "      <td>GT</td>\n",
       "      <td>Illumina</td>\n",
       "      <td>BI</td>\n",
       "      <td>MrOS</td>\n",
       "      <td>Illumina MiSeq</td>\n",
       "      <td>MrOS_VitaminD</td>\n",
       "      <td>...</td>\n",
       "      <td>0.0</td>\n",
       "      <td>1: Yes</td>\n",
       "      <td>1: Yes</td>\n",
       "      <td>33.0</td>\n",
       "      <td>0.0502</td>\n",
       "      <td>4:FALL</td>\n",
       "      <td>sufficiency</td>\n",
       "      <td>Orwoll.BI0215.BI</td>\n",
       "      <td>0.0015212121212121212</td>\n",
       "      <td>0.1096969696969697</td>\n",
       "    </tr>\n",
       "  </tbody>\n",
       "</table>\n",
       "<p>5 rows × 66 columns</p>\n",
       "</div>"
      ],
      "text/plain": [
       "          BarcodeSequence  LinkerPrimerSequence  \\\n",
       "#SampleID                                         \n",
       "BI0023       TCTGGTGACATT  GGACTACHVGGGTWTCTAAT   \n",
       "BI0056       CAAGCATGCCTA  GGACTACHVGGGTWTCTAAT   \n",
       "BI0131       CTATTTGCGACA  GGACTACHVGGGTWTCTAAT   \n",
       "BI0153       ATCGGCGTTACA  GGACTACHVGGGTWTCTAAT   \n",
       "BI0215       CCTCTCGTGATC  GGACTACHVGGGTWTCTAAT   \n",
       "\n",
       "                               Experiment_Design_Description  \\\n",
       "#SampleID                                                      \n",
       "BI0023     16S stool samples sequenced for MrOS Vitamin D...   \n",
       "BI0056     16S stool samples sequenced for MrOS Vitamin D...   \n",
       "BI0131     16S stool samples sequenced for MrOS Vitamin D...   \n",
       "BI0153     16S stool samples sequenced for MrOS Vitamin D...   \n",
       "BI0215     16S stool samples sequenced for MrOS Vitamin D...   \n",
       "\n",
       "          Library_Construction_Protocol Linker  Platform Center_Name  \\\n",
       "#SampleID                                                              \n",
       "BI0023                      16S rRNA v4     GT  Illumina          BI   \n",
       "BI0056                      16S rRNA v4     GT  Illumina          BI   \n",
       "BI0131                      16S rRNA v4     GT  Illumina          BI   \n",
       "BI0153                      16S rRNA v4     GT  Illumina          BI   \n",
       "BI0215                      16S rRNA v4     GT  Illumina          BI   \n",
       "\n",
       "          Center_Project Instrument_Model          Title         ...           \\\n",
       "#SampleID                                                        ...            \n",
       "BI0023              MrOS   Illumina MiSeq  MrOS_VitaminD         ...            \n",
       "BI0056              MrOS   Illumina MiSeq  MrOS_VitaminD         ...            \n",
       "BI0131              MrOS   Illumina MiSeq  MrOS_VitaminD         ...            \n",
       "BI0153              MrOS   Illumina MiSeq  MrOS_VitaminD         ...            \n",
       "BI0215              MrOS   Illumina MiSeq  MrOS_VitaminD         ...            \n",
       "\n",
       "          OHV1D2 OHV1D2CT OHVD2CT OHVDTOT              OHV1DTOT    OHSEAS  \\\n",
       "#SampleID                                                                   \n",
       "BI0023       0.0   1: Yes  1: Yes    25.8  0.039299999999999995  3:SUMMER   \n",
       "BI0056       0.0   1: Yes  1: Yes    39.2                0.0619  2:SPRING   \n",
       "BI0131       0.0   1: Yes  1: Yes    23.1                0.0521  2:SPRING   \n",
       "BI0153       0.0   1: Yes  1: Yes    27.3                0.0431  2:SPRING   \n",
       "BI0215       0.0   1: Yes  1: Yes    33.0                0.0502    4:FALL   \n",
       "\n",
       "              VDstatus       Description       ratio_activation  \\\n",
       "#SampleID                                                         \n",
       "BI0023     sufficiency  Orwoll.BI0023.BI  0.0015232558139534882   \n",
       "BI0056     sufficiency  Orwoll.BI0056.BI   0.001579081632653061   \n",
       "BI0131     sufficiency  Orwoll.BI0131.BI   0.002255411255411255   \n",
       "BI0153     sufficiency  Orwoll.BI0153.BI  0.0015787545787545787   \n",
       "BI0215     sufficiency  Orwoll.BI0215.BI  0.0015212121212121212   \n",
       "\n",
       "              ratio_catabolism  \n",
       "#SampleID                       \n",
       "BI0023      0.0686046511627907  \n",
       "BI0056     0.09974489795918368  \n",
       "BI0131     0.06450216450216449  \n",
       "BI0153     0.07838827838827839  \n",
       "BI0215      0.1096969696969697  \n",
       "\n",
       "[5 rows x 66 columns]"
      ]
     },
     "execution_count": 12,
     "metadata": {},
     "output_type": "execute_result"
    }
   ],
   "source": [
    "mf.head()"
   ]
  },
  {
   "cell_type": "code",
   "execution_count": 13,
   "metadata": {
    "collapsed": true
   },
   "outputs": [],
   "source": [
    "table = pd.merge(mf, alpha_avg, left_index=True, right_index=True)"
   ]
  },
  {
   "cell_type": "code",
   "execution_count": 14,
   "metadata": {},
   "outputs": [
    {
     "data": {
      "text/html": [
       "<div>\n",
       "<style>\n",
       "    .dataframe thead tr:only-child th {\n",
       "        text-align: right;\n",
       "    }\n",
       "\n",
       "    .dataframe thead th {\n",
       "        text-align: left;\n",
       "    }\n",
       "\n",
       "    .dataframe tbody tr th {\n",
       "        vertical-align: top;\n",
       "    }\n",
       "</style>\n",
       "<table border=\"1\" class=\"dataframe\">\n",
       "  <thead>\n",
       "    <tr style=\"text-align: right;\">\n",
       "      <th></th>\n",
       "      <th>BarcodeSequence</th>\n",
       "      <th>LinkerPrimerSequence</th>\n",
       "      <th>Experiment_Design_Description</th>\n",
       "      <th>Library_Construction_Protocol</th>\n",
       "      <th>Linker</th>\n",
       "      <th>Platform</th>\n",
       "      <th>Center_Name</th>\n",
       "      <th>Center_Project</th>\n",
       "      <th>Instrument_Model</th>\n",
       "      <th>Title</th>\n",
       "      <th>...</th>\n",
       "      <th>OHV1D2CT</th>\n",
       "      <th>OHVD2CT</th>\n",
       "      <th>OHVDTOT</th>\n",
       "      <th>OHV1DTOT</th>\n",
       "      <th>OHSEAS</th>\n",
       "      <th>VDstatus</th>\n",
       "      <th>Description</th>\n",
       "      <th>ratio_activation</th>\n",
       "      <th>ratio_catabolism</th>\n",
       "      <th>alpha_shannon</th>\n",
       "    </tr>\n",
       "  </thead>\n",
       "  <tbody>\n",
       "    <tr>\n",
       "      <th>BI0023</th>\n",
       "      <td>TCTGGTGACATT</td>\n",
       "      <td>GGACTACHVGGGTWTCTAAT</td>\n",
       "      <td>16S stool samples sequenced for MrOS Vitamin D...</td>\n",
       "      <td>16S rRNA v4</td>\n",
       "      <td>GT</td>\n",
       "      <td>Illumina</td>\n",
       "      <td>BI</td>\n",
       "      <td>MrOS</td>\n",
       "      <td>Illumina MiSeq</td>\n",
       "      <td>MrOS_VitaminD</td>\n",
       "      <td>...</td>\n",
       "      <td>1: Yes</td>\n",
       "      <td>1: Yes</td>\n",
       "      <td>25.8</td>\n",
       "      <td>0.039299999999999995</td>\n",
       "      <td>3:SUMMER</td>\n",
       "      <td>sufficiency</td>\n",
       "      <td>Orwoll.BI0023.BI</td>\n",
       "      <td>0.0015232558139534882</td>\n",
       "      <td>0.0686046511627907</td>\n",
       "      <td>5.621879</td>\n",
       "    </tr>\n",
       "    <tr>\n",
       "      <th>BI0056</th>\n",
       "      <td>CAAGCATGCCTA</td>\n",
       "      <td>GGACTACHVGGGTWTCTAAT</td>\n",
       "      <td>16S stool samples sequenced for MrOS Vitamin D...</td>\n",
       "      <td>16S rRNA v4</td>\n",
       "      <td>GT</td>\n",
       "      <td>Illumina</td>\n",
       "      <td>BI</td>\n",
       "      <td>MrOS</td>\n",
       "      <td>Illumina MiSeq</td>\n",
       "      <td>MrOS_VitaminD</td>\n",
       "      <td>...</td>\n",
       "      <td>1: Yes</td>\n",
       "      <td>1: Yes</td>\n",
       "      <td>39.2</td>\n",
       "      <td>0.0619</td>\n",
       "      <td>2:SPRING</td>\n",
       "      <td>sufficiency</td>\n",
       "      <td>Orwoll.BI0056.BI</td>\n",
       "      <td>0.001579081632653061</td>\n",
       "      <td>0.09974489795918368</td>\n",
       "      <td>3.766687</td>\n",
       "    </tr>\n",
       "    <tr>\n",
       "      <th>BI0131</th>\n",
       "      <td>CTATTTGCGACA</td>\n",
       "      <td>GGACTACHVGGGTWTCTAAT</td>\n",
       "      <td>16S stool samples sequenced for MrOS Vitamin D...</td>\n",
       "      <td>16S rRNA v4</td>\n",
       "      <td>GT</td>\n",
       "      <td>Illumina</td>\n",
       "      <td>BI</td>\n",
       "      <td>MrOS</td>\n",
       "      <td>Illumina MiSeq</td>\n",
       "      <td>MrOS_VitaminD</td>\n",
       "      <td>...</td>\n",
       "      <td>1: Yes</td>\n",
       "      <td>1: Yes</td>\n",
       "      <td>23.1</td>\n",
       "      <td>0.0521</td>\n",
       "      <td>2:SPRING</td>\n",
       "      <td>sufficiency</td>\n",
       "      <td>Orwoll.BI0131.BI</td>\n",
       "      <td>0.002255411255411255</td>\n",
       "      <td>0.06450216450216449</td>\n",
       "      <td>3.945446</td>\n",
       "    </tr>\n",
       "    <tr>\n",
       "      <th>BI0153</th>\n",
       "      <td>ATCGGCGTTACA</td>\n",
       "      <td>GGACTACHVGGGTWTCTAAT</td>\n",
       "      <td>16S stool samples sequenced for MrOS Vitamin D...</td>\n",
       "      <td>16S rRNA v4</td>\n",
       "      <td>GT</td>\n",
       "      <td>Illumina</td>\n",
       "      <td>BI</td>\n",
       "      <td>MrOS</td>\n",
       "      <td>Illumina MiSeq</td>\n",
       "      <td>MrOS_VitaminD</td>\n",
       "      <td>...</td>\n",
       "      <td>1: Yes</td>\n",
       "      <td>1: Yes</td>\n",
       "      <td>27.3</td>\n",
       "      <td>0.0431</td>\n",
       "      <td>2:SPRING</td>\n",
       "      <td>sufficiency</td>\n",
       "      <td>Orwoll.BI0153.BI</td>\n",
       "      <td>0.0015787545787545787</td>\n",
       "      <td>0.07838827838827839</td>\n",
       "      <td>4.801318</td>\n",
       "    </tr>\n",
       "    <tr>\n",
       "      <th>BI0215</th>\n",
       "      <td>CCTCTCGTGATC</td>\n",
       "      <td>GGACTACHVGGGTWTCTAAT</td>\n",
       "      <td>16S stool samples sequenced for MrOS Vitamin D...</td>\n",
       "      <td>16S rRNA v4</td>\n",
       "      <td>GT</td>\n",
       "      <td>Illumina</td>\n",
       "      <td>BI</td>\n",
       "      <td>MrOS</td>\n",
       "      <td>Illumina MiSeq</td>\n",
       "      <td>MrOS_VitaminD</td>\n",
       "      <td>...</td>\n",
       "      <td>1: Yes</td>\n",
       "      <td>1: Yes</td>\n",
       "      <td>33.0</td>\n",
       "      <td>0.0502</td>\n",
       "      <td>4:FALL</td>\n",
       "      <td>sufficiency</td>\n",
       "      <td>Orwoll.BI0215.BI</td>\n",
       "      <td>0.0015212121212121212</td>\n",
       "      <td>0.1096969696969697</td>\n",
       "      <td>5.229841</td>\n",
       "    </tr>\n",
       "  </tbody>\n",
       "</table>\n",
       "<p>5 rows × 67 columns</p>\n",
       "</div>"
      ],
      "text/plain": [
       "       BarcodeSequence  LinkerPrimerSequence  \\\n",
       "BI0023    TCTGGTGACATT  GGACTACHVGGGTWTCTAAT   \n",
       "BI0056    CAAGCATGCCTA  GGACTACHVGGGTWTCTAAT   \n",
       "BI0131    CTATTTGCGACA  GGACTACHVGGGTWTCTAAT   \n",
       "BI0153    ATCGGCGTTACA  GGACTACHVGGGTWTCTAAT   \n",
       "BI0215    CCTCTCGTGATC  GGACTACHVGGGTWTCTAAT   \n",
       "\n",
       "                            Experiment_Design_Description  \\\n",
       "BI0023  16S stool samples sequenced for MrOS Vitamin D...   \n",
       "BI0056  16S stool samples sequenced for MrOS Vitamin D...   \n",
       "BI0131  16S stool samples sequenced for MrOS Vitamin D...   \n",
       "BI0153  16S stool samples sequenced for MrOS Vitamin D...   \n",
       "BI0215  16S stool samples sequenced for MrOS Vitamin D...   \n",
       "\n",
       "       Library_Construction_Protocol Linker  Platform Center_Name  \\\n",
       "BI0023                   16S rRNA v4     GT  Illumina          BI   \n",
       "BI0056                   16S rRNA v4     GT  Illumina          BI   \n",
       "BI0131                   16S rRNA v4     GT  Illumina          BI   \n",
       "BI0153                   16S rRNA v4     GT  Illumina          BI   \n",
       "BI0215                   16S rRNA v4     GT  Illumina          BI   \n",
       "\n",
       "       Center_Project Instrument_Model          Title      ...      OHV1D2CT  \\\n",
       "BI0023           MrOS   Illumina MiSeq  MrOS_VitaminD      ...        1: Yes   \n",
       "BI0056           MrOS   Illumina MiSeq  MrOS_VitaminD      ...        1: Yes   \n",
       "BI0131           MrOS   Illumina MiSeq  MrOS_VitaminD      ...        1: Yes   \n",
       "BI0153           MrOS   Illumina MiSeq  MrOS_VitaminD      ...        1: Yes   \n",
       "BI0215           MrOS   Illumina MiSeq  MrOS_VitaminD      ...        1: Yes   \n",
       "\n",
       "       OHVD2CT OHVDTOT              OHV1DTOT    OHSEAS     VDstatus  \\\n",
       "BI0023  1: Yes    25.8  0.039299999999999995  3:SUMMER  sufficiency   \n",
       "BI0056  1: Yes    39.2                0.0619  2:SPRING  sufficiency   \n",
       "BI0131  1: Yes    23.1                0.0521  2:SPRING  sufficiency   \n",
       "BI0153  1: Yes    27.3                0.0431  2:SPRING  sufficiency   \n",
       "BI0215  1: Yes    33.0                0.0502    4:FALL  sufficiency   \n",
       "\n",
       "             Description       ratio_activation     ratio_catabolism  \\\n",
       "BI0023  Orwoll.BI0023.BI  0.0015232558139534882   0.0686046511627907   \n",
       "BI0056  Orwoll.BI0056.BI   0.001579081632653061  0.09974489795918368   \n",
       "BI0131  Orwoll.BI0131.BI   0.002255411255411255  0.06450216450216449   \n",
       "BI0153  Orwoll.BI0153.BI  0.0015787545787545787  0.07838827838827839   \n",
       "BI0215  Orwoll.BI0215.BI  0.0015212121212121212   0.1096969696969697   \n",
       "\n",
       "       alpha_shannon  \n",
       "BI0023      5.621879  \n",
       "BI0056      3.766687  \n",
       "BI0131      3.945446  \n",
       "BI0153      4.801318  \n",
       "BI0215      5.229841  \n",
       "\n",
       "[5 rows x 67 columns]"
      ]
     },
     "execution_count": 14,
     "metadata": {},
     "output_type": "execute_result"
    }
   ],
   "source": [
    "table.head()"
   ]
  },
  {
   "cell_type": "code",
   "execution_count": 15,
   "metadata": {},
   "outputs": [
    {
     "name": "stdout",
     "output_type": "stream",
     "text": [
      "(599, 66) (599, 67)\n"
     ]
    }
   ],
   "source": [
    "print(mf.shape, table.shape)"
   ]
  },
  {
   "cell_type": "code",
   "execution_count": 17,
   "metadata": {},
   "outputs": [
    {
     "name": "stdout",
     "output_type": "stream",
     "text": [
      "        alpha_shannon\n",
      "SD8637       5.345319\n",
      "PO7016       4.665628\n",
      "MN1789       5.614666\n",
      "MN1868       5.361430\n",
      "PA3814       5.963051\n",
      "SD8637    5.345319\n",
      "Name: alpha_shannon, dtype: float64\n",
      "PO7016    4.665628\n",
      "Name: alpha_shannon, dtype: float64\n",
      "MN1789    5.614666\n",
      "Name: alpha_shannon, dtype: float64\n",
      "MN1868    5.36143\n",
      "Name: alpha_shannon, dtype: float64\n",
      "PA3814    5.963051\n",
      "Name: alpha_shannon, dtype: float64\n"
     ]
    }
   ],
   "source": [
    "# check\n",
    "print(alpha_avg.head())\n",
    "print(table.loc[table.index=='SD8637'].alpha_shannon)\n",
    "print(table.loc[table.index=='PO7016'].alpha_shannon)\n",
    "print(table.loc[table.index=='MN1789'].alpha_shannon)\n",
    "print(table.loc[table.index=='MN1868'].alpha_shannon)\n",
    "print(table.loc[table.index=='PA3814'].alpha_shannon)"
   ]
  },
  {
   "cell_type": "markdown",
   "metadata": {},
   "source": [
    "### output mapping file with PD alpha diveristy"
   ]
  },
  {
   "cell_type": "code",
   "execution_count": 18,
   "metadata": {
    "collapsed": true
   },
   "outputs": [],
   "source": [
    "table.to_csv('../data/mapping_Shannonalpha.txt', sep='\\t')"
   ]
  },
  {
   "cell_type": "markdown",
   "metadata": {},
   "source": [
    "## II. scatterplots of PD alpha vs. 5 vitaminD measurements"
   ]
  },
  {
   "cell_type": "markdown",
   "metadata": {},
   "source": [
    "### prepare file with only 5 VitD variables and PD"
   ]
  },
  {
   "cell_type": "code",
   "execution_count": 19,
   "metadata": {
    "collapsed": true
   },
   "outputs": [],
   "source": [
    "df = table[['OHVD3', 'OHV1D3', 'OHV24D3', 'ratio_activation', 'ratio_catabolism', 'alpha_shannon']]\n",
    "df = df.apply(pd.to_numeric, errors='coerce') # still need to convert, as their types changed in 'table'"
   ]
  },
  {
   "cell_type": "code",
   "execution_count": 20,
   "metadata": {},
   "outputs": [
    {
     "name": "stdout",
     "output_type": "stream",
     "text": [
      "(599, 6)\n"
     ]
    }
   ],
   "source": [
    "print(df.shape)"
   ]
  },
  {
   "cell_type": "code",
   "execution_count": 21,
   "metadata": {},
   "outputs": [
    {
     "data": {
      "text/html": [
       "<div>\n",
       "<style>\n",
       "    .dataframe thead tr:only-child th {\n",
       "        text-align: right;\n",
       "    }\n",
       "\n",
       "    .dataframe thead th {\n",
       "        text-align: left;\n",
       "    }\n",
       "\n",
       "    .dataframe tbody tr th {\n",
       "        vertical-align: top;\n",
       "    }\n",
       "</style>\n",
       "<table border=\"1\" class=\"dataframe\">\n",
       "  <thead>\n",
       "    <tr style=\"text-align: right;\">\n",
       "      <th></th>\n",
       "      <th>OHVD3</th>\n",
       "      <th>OHV1D3</th>\n",
       "      <th>OHV24D3</th>\n",
       "      <th>ratio_activation</th>\n",
       "      <th>ratio_catabolism</th>\n",
       "      <th>alpha_shannon</th>\n",
       "    </tr>\n",
       "  </thead>\n",
       "  <tbody>\n",
       "    <tr>\n",
       "      <th>BI0023</th>\n",
       "      <td>25.8</td>\n",
       "      <td>0.0393</td>\n",
       "      <td>1.77</td>\n",
       "      <td>0.001523</td>\n",
       "      <td>0.068605</td>\n",
       "      <td>5.621879</td>\n",
       "    </tr>\n",
       "    <tr>\n",
       "      <th>BI0056</th>\n",
       "      <td>39.2</td>\n",
       "      <td>0.0619</td>\n",
       "      <td>3.91</td>\n",
       "      <td>0.001579</td>\n",
       "      <td>0.099745</td>\n",
       "      <td>3.766687</td>\n",
       "    </tr>\n",
       "    <tr>\n",
       "      <th>BI0131</th>\n",
       "      <td>23.1</td>\n",
       "      <td>0.0521</td>\n",
       "      <td>1.49</td>\n",
       "      <td>0.002255</td>\n",
       "      <td>0.064502</td>\n",
       "      <td>3.945446</td>\n",
       "    </tr>\n",
       "    <tr>\n",
       "      <th>BI0153</th>\n",
       "      <td>27.3</td>\n",
       "      <td>0.0431</td>\n",
       "      <td>2.14</td>\n",
       "      <td>0.001579</td>\n",
       "      <td>0.078388</td>\n",
       "      <td>4.801318</td>\n",
       "    </tr>\n",
       "    <tr>\n",
       "      <th>BI0215</th>\n",
       "      <td>33.0</td>\n",
       "      <td>0.0502</td>\n",
       "      <td>3.62</td>\n",
       "      <td>0.001521</td>\n",
       "      <td>0.109697</td>\n",
       "      <td>5.229841</td>\n",
       "    </tr>\n",
       "  </tbody>\n",
       "</table>\n",
       "</div>"
      ],
      "text/plain": [
       "        OHVD3  OHV1D3  OHV24D3  ratio_activation  ratio_catabolism  \\\n",
       "BI0023   25.8  0.0393     1.77          0.001523          0.068605   \n",
       "BI0056   39.2  0.0619     3.91          0.001579          0.099745   \n",
       "BI0131   23.1  0.0521     1.49          0.002255          0.064502   \n",
       "BI0153   27.3  0.0431     2.14          0.001579          0.078388   \n",
       "BI0215   33.0  0.0502     3.62          0.001521          0.109697   \n",
       "\n",
       "        alpha_shannon  \n",
       "BI0023       5.621879  \n",
       "BI0056       3.766687  \n",
       "BI0131       3.945446  \n",
       "BI0153       4.801318  \n",
       "BI0215       5.229841  "
      ]
     },
     "execution_count": 21,
     "metadata": {},
     "output_type": "execute_result"
    }
   ],
   "source": [
    "df.head()"
   ]
  },
  {
   "cell_type": "code",
   "execution_count": 22,
   "metadata": {},
   "outputs": [
    {
     "data": {
      "text/html": [
       "<div>\n",
       "<style>\n",
       "    .dataframe thead tr:only-child th {\n",
       "        text-align: right;\n",
       "    }\n",
       "\n",
       "    .dataframe thead th {\n",
       "        text-align: left;\n",
       "    }\n",
       "\n",
       "    .dataframe tbody tr th {\n",
       "        vertical-align: top;\n",
       "    }\n",
       "</style>\n",
       "<table border=\"1\" class=\"dataframe\">\n",
       "  <thead>\n",
       "    <tr style=\"text-align: right;\">\n",
       "      <th></th>\n",
       "      <th>OHVD3</th>\n",
       "      <th>OHV1D3</th>\n",
       "      <th>OHV24D3</th>\n",
       "      <th>ratio_activation</th>\n",
       "      <th>ratio_catabolism</th>\n",
       "      <th>alpha_shannon</th>\n",
       "    </tr>\n",
       "  </thead>\n",
       "  <tbody>\n",
       "    <tr>\n",
       "      <th>count</th>\n",
       "      <td>556.000000</td>\n",
       "      <td>567.000000</td>\n",
       "      <td>567.000000</td>\n",
       "      <td>556.000000</td>\n",
       "      <td>556.000000</td>\n",
       "      <td>599.000000</td>\n",
       "    </tr>\n",
       "    <tr>\n",
       "      <th>mean</th>\n",
       "      <td>35.229137</td>\n",
       "      <td>0.057775</td>\n",
       "      <td>3.430864</td>\n",
       "      <td>0.001772</td>\n",
       "      <td>0.094776</td>\n",
       "      <td>4.903917</td>\n",
       "    </tr>\n",
       "    <tr>\n",
       "      <th>std</th>\n",
       "      <td>12.450758</td>\n",
       "      <td>0.019773</td>\n",
       "      <td>1.834771</td>\n",
       "      <td>0.000735</td>\n",
       "      <td>0.029770</td>\n",
       "      <td>0.888095</td>\n",
       "    </tr>\n",
       "    <tr>\n",
       "      <th>min</th>\n",
       "      <td>7.800000</td>\n",
       "      <td>0.010700</td>\n",
       "      <td>0.300000</td>\n",
       "      <td>0.000398</td>\n",
       "      <td>0.018788</td>\n",
       "      <td>1.458999</td>\n",
       "    </tr>\n",
       "    <tr>\n",
       "      <th>25%</th>\n",
       "      <td>27.400000</td>\n",
       "      <td>0.044100</td>\n",
       "      <td>2.175000</td>\n",
       "      <td>0.001316</td>\n",
       "      <td>0.074216</td>\n",
       "      <td>4.383837</td>\n",
       "    </tr>\n",
       "    <tr>\n",
       "      <th>50%</th>\n",
       "      <td>33.650000</td>\n",
       "      <td>0.055500</td>\n",
       "      <td>3.180000</td>\n",
       "      <td>0.001660</td>\n",
       "      <td>0.092821</td>\n",
       "      <td>5.018715</td>\n",
       "    </tr>\n",
       "    <tr>\n",
       "      <th>75%</th>\n",
       "      <td>41.825000</td>\n",
       "      <td>0.066300</td>\n",
       "      <td>4.235000</td>\n",
       "      <td>0.002081</td>\n",
       "      <td>0.112849</td>\n",
       "      <td>5.546945</td>\n",
       "    </tr>\n",
       "    <tr>\n",
       "      <th>max</th>\n",
       "      <td>104.000000</td>\n",
       "      <td>0.156000</td>\n",
       "      <td>14.070000</td>\n",
       "      <td>0.006727</td>\n",
       "      <td>0.197786</td>\n",
       "      <td>6.763706</td>\n",
       "    </tr>\n",
       "  </tbody>\n",
       "</table>\n",
       "</div>"
      ],
      "text/plain": [
       "            OHVD3      OHV1D3     OHV24D3  ratio_activation  ratio_catabolism  \\\n",
       "count  556.000000  567.000000  567.000000        556.000000        556.000000   \n",
       "mean    35.229137    0.057775    3.430864          0.001772          0.094776   \n",
       "std     12.450758    0.019773    1.834771          0.000735          0.029770   \n",
       "min      7.800000    0.010700    0.300000          0.000398          0.018788   \n",
       "25%     27.400000    0.044100    2.175000          0.001316          0.074216   \n",
       "50%     33.650000    0.055500    3.180000          0.001660          0.092821   \n",
       "75%     41.825000    0.066300    4.235000          0.002081          0.112849   \n",
       "max    104.000000    0.156000   14.070000          0.006727          0.197786   \n",
       "\n",
       "       alpha_shannon  \n",
       "count     599.000000  \n",
       "mean        4.903917  \n",
       "std         0.888095  \n",
       "min         1.458999  \n",
       "25%         4.383837  \n",
       "50%         5.018715  \n",
       "75%         5.546945  \n",
       "max         6.763706  "
      ]
     },
     "execution_count": 22,
     "metadata": {},
     "output_type": "execute_result"
    }
   ],
   "source": [
    "df.describe()"
   ]
  },
  {
   "cell_type": "code",
   "execution_count": 23,
   "metadata": {
    "collapsed": true
   },
   "outputs": [],
   "source": [
    "df.to_csv('../data/vitamin_shannon.txt', sep='\\t')"
   ]
  },
  {
   "cell_type": "markdown",
   "metadata": {},
   "source": [
    "### plot scatterplots separately due to different scale"
   ]
  },
  {
   "cell_type": "code",
   "execution_count": 24,
   "metadata": {
    "collapsed": true
   },
   "outputs": [],
   "source": [
    "var = df.columns.drop('alpha_shannon')"
   ]
  },
  {
   "cell_type": "code",
   "execution_count": 25,
   "metadata": {},
   "outputs": [
    {
     "data": {
      "image/png": "[encoded data removed]",
      "text/plain": [
       "<matplotlib.figure.Figure at 0x11666ab00>"
      ]
     },
     "metadata": {},
     "output_type": "display_data"
    }
   ],
   "source": [
    "i = 0\n",
    "col_list_palette = sns.xkcd_palette(['sky blue'])\n",
    "sns.set_palette(col_list_palette)\n",
    "ax = sns.regplot(x=var[i], y=\"alpha_shannon\", label=var[i],data=df)\n",
    "ax.set_xlabel('25(OH)2D3', fontsize=20)\n",
    "ax.set_ylabel('Shannon alpha diversity', fontsize=20)\n",
    "\n",
    "ax = ax.get_figure()\n",
    "ax.tight_layout()\n",
    "ax.savefig('../figures/Shannon_VD3_reg.pdf')\n",
    "ax.savefig('../figures/Shannon_VD3_reg.png')"
   ]
  },
  {
   "cell_type": "code",
   "execution_count": 26,
   "metadata": {},
   "outputs": [
    {
     "data": {
      "image/png": "[encoded data removed]",
      "text/plain": [
       "<matplotlib.figure.Figure at 0x1199fa240>"
      ]
     },
     "metadata": {},
     "output_type": "display_data"
    }
   ],
   "source": [
    "i = 1\n",
    "col_list_palette = sns.xkcd_palette(['aquamarine'])\n",
    "sns.set_palette(col_list_palette)\n",
    "ax = sns.regplot(x=var[i], y=\"alpha_shannon\", label=var[i],data=df)\n",
    "ax.set_xlabel('1,25(OH)2D3', fontsize=20)\n",
    "ax.set_ylabel('Shannon alpha diversity', fontsize=20)\n",
    "\n",
    "ax = ax.get_figure()\n",
    "ax.tight_layout()\n",
    "ax.savefig('../figures/Shannon_V1D3_reg.pdf')\n",
    "ax.savefig('../figures/Shannon_V1D3_reg.png')"
   ]
  },
  {
   "cell_type": "code",
   "execution_count": 27,
   "metadata": {},
   "outputs": [
    {
     "data": {
      "image/png": "[encoded data removed]",
      "text/plain": [
       "<matplotlib.figure.Figure at 0x119b96e80>"
      ]
     },
     "metadata": {},
     "output_type": "display_data"
    }
   ],
   "source": [
    "i = 2\n",
    "col_list_palette = sns.xkcd_palette(['light orange'])\n",
    "sns.set_palette(col_list_palette)\n",
    "ax = sns.regplot(x=var[i], y=\"alpha_shannon\", label=var[i],data=df)\n",
    "ax.set_xlabel('24,25(OH)2D3', fontsize=20)\n",
    "ax.set_ylabel('Shannon alpha diversity', fontsize=20)\n",
    "\n",
    "ax = ax.get_figure()\n",
    "ax.tight_layout()\n",
    "ax.savefig('../figures/Shannon_V24D3_reg.pdf')\n",
    "ax.savefig('../figures/Shannon_V24D3_reg.png')"
   ]
  },
  {
   "cell_type": "code",
   "execution_count": 28,
   "metadata": {},
   "outputs": [
    {
     "data": {
      "image/png": "[encoded data removed]",
      "text/plain": [
       "<matplotlib.figure.Figure at 0x11586a198>"
      ]
     },
     "metadata": {},
     "output_type": "display_data"
    }
   ],
   "source": [
    "i = 3\n",
    "col_list_palette = sns.xkcd_palette(['pale purple'])\n",
    "sns.set_palette(col_list_palette)\n",
    "ax = sns.regplot(x=var[i], y=\"alpha_shannon\", label=var[i],data=df)\n",
    "ax.set_xlabel(var[i], fontsize=20)\n",
    "ax.set_ylabel('Shannon alpha diversity', fontsize=20)\n",
    "\n",
    "ax = ax.get_figure()\n",
    "ax.tight_layout()\n",
    "ax.savefig('../figures/Shannon_RatioAct_reg.pdf')\n",
    "ax.savefig('../figures/Shannon_RatioAct_reg.png')"
   ]
  },
  {
   "cell_type": "code",
   "execution_count": 29,
   "metadata": {},
   "outputs": [
    {
     "data": {
      "image/png": "[encoded data removed]",
      "text/plain": [
       "<matplotlib.figure.Figure at 0x119b85518>"
      ]
     },
     "metadata": {},
     "output_type": "display_data"
    }
   ],
   "source": [
    "i = 4\n",
    "col_list_palette = sns.xkcd_palette(['red'])\n",
    "sns.set_palette(col_list_palette)\n",
    "ax = sns.regplot(x=var[i], y=\"alpha_shannon\", label=var[i],data=df)\n",
    "ax.set_xlabel(var[i], fontsize=20)\n",
    "ax.set_ylabel('Shannon alpha diversity', fontsize=20)\n",
    "\n",
    "ax = ax.get_figure()\n",
    "ax.tight_layout()\n",
    "ax.savefig('../figures/Shannon_RatioCat_reg.pdf')\n",
    "ax.savefig('../figures/Shannon_RatioCat_reg.png')"
   ]
  },
  {
   "cell_type": "code",
   "execution_count": 30,
   "metadata": {
    "scrolled": false
   },
   "outputs": [
    {
     "data": {
      "image/png": "[encoded data removed]",
      "text/plain": [
       "<matplotlib.figure.Figure at 0x1165fd8d0>"
      ]
     },
     "metadata": {},
     "output_type": "display_data"
    }
   ],
   "source": [
    "# all 5 VitD measurements \n",
    "sns.set(color_codes=True)\n",
    "var = df.columns.drop('alpha_shannon')\n",
    "sns.set_palette(\"Set2\", n_colors=len(var))\n",
    "for i in range(len(var)):\n",
    "    ax = sns.regplot(x=var[i], y=\"alpha_shannon\", label=var[i], data=df)\n",
    "ax.set(xlabel='VitaminD measurement', ylabel='Shannon alpha diversity')\n",
    "ax.legend()\n",
    "plt.xlim(-5, 120)\n",
    "\n",
    "ax = ax.get_figure()\n",
    "ax.tight_layout()\n",
    "ax.savefig('../figures/Shannon_5VitD_reg.pdf')\n",
    "ax.savefig('../figures/Shannon_5VitD_reg.png')"
   ]
  },
  {
   "cell_type": "markdown",
   "metadata": {},
   "source": [
    "## III. linear regression of PD alpha diversity vs. 5 vitaminD measurements"
   ]
  },
  {
   "cell_type": "code",
   "execution_count": 31,
   "metadata": {
    "scrolled": false
   },
   "outputs": [
    {
     "data": {
      "text/html": [
       "<div>\n",
       "<style>\n",
       "    .dataframe thead tr:only-child th {\n",
       "        text-align: right;\n",
       "    }\n",
       "\n",
       "    .dataframe thead th {\n",
       "        text-align: left;\n",
       "    }\n",
       "\n",
       "    .dataframe tbody tr th {\n",
       "        vertical-align: top;\n",
       "    }\n",
       "</style>\n",
       "<table border=\"1\" class=\"dataframe\">\n",
       "  <thead>\n",
       "    <tr style=\"text-align: right;\">\n",
       "      <th></th>\n",
       "      <th>y</th>\n",
       "      <th>X</th>\n",
       "      <th>slope</th>\n",
       "      <th>pvalue</th>\n",
       "      <th>adjusted R-square</th>\n",
       "      <th>norm test P-val</th>\n",
       "      <th>condition number</th>\n",
       "      <th>hetero test P-val</th>\n",
       "      <th>linear P-val</th>\n",
       "    </tr>\n",
       "  </thead>\n",
       "  <tbody>\n",
       "    <tr>\n",
       "      <th>0</th>\n",
       "      <td>alpha_shannon</td>\n",
       "      <td>OHVD3</td>\n",
       "      <td>0.003522</td>\n",
       "      <td>0.246062</td>\n",
       "      <td>0.000627</td>\n",
       "      <td>4.284689e-11</td>\n",
       "      <td>112.280839</td>\n",
       "      <td>0.127203</td>\n",
       "      <td>0.489002</td>\n",
       "    </tr>\n",
       "    <tr>\n",
       "      <th>1</th>\n",
       "      <td>alpha_shannon</td>\n",
       "      <td>OHV1D3</td>\n",
       "      <td>7.563663</td>\n",
       "      <td>0.000053</td>\n",
       "      <td>0.026792</td>\n",
       "      <td>5.671851e-13</td>\n",
       "      <td>50.788391</td>\n",
       "      <td>0.897337</td>\n",
       "      <td>0.868035</td>\n",
       "    </tr>\n",
       "    <tr>\n",
       "      <th>2</th>\n",
       "      <td>alpha_shannon</td>\n",
       "      <td>OHV24D3</td>\n",
       "      <td>0.060370</td>\n",
       "      <td>0.002854</td>\n",
       "      <td>0.013898</td>\n",
       "      <td>3.146411e-11</td>\n",
       "      <td>8.684601</td>\n",
       "      <td>0.068469</td>\n",
       "      <td>0.760686</td>\n",
       "    </tr>\n",
       "    <tr>\n",
       "      <th>3</th>\n",
       "      <td>alpha_shannon</td>\n",
       "      <td>ratio_activation</td>\n",
       "      <td>105.141667</td>\n",
       "      <td>0.040672</td>\n",
       "      <td>0.005749</td>\n",
       "      <td>2.093292e-12</td>\n",
       "      <td>1361.655743</td>\n",
       "      <td>0.146394</td>\n",
       "      <td>0.299349</td>\n",
       "    </tr>\n",
       "    <tr>\n",
       "      <th>4</th>\n",
       "      <td>alpha_shannon</td>\n",
       "      <td>ratio_catabolism</td>\n",
       "      <td>4.385633</td>\n",
       "      <td>0.000520</td>\n",
       "      <td>0.019754</td>\n",
       "      <td>1.466280e-11</td>\n",
       "      <td>33.923192</td>\n",
       "      <td>0.168445</td>\n",
       "      <td>0.559495</td>\n",
       "    </tr>\n",
       "  </tbody>\n",
       "</table>\n",
       "</div>"
      ],
      "text/plain": [
       "               y                 X       slope    pvalue  adjusted R-square  \\\n",
       "0  alpha_shannon             OHVD3    0.003522  0.246062           0.000627   \n",
       "1  alpha_shannon            OHV1D3    7.563663  0.000053           0.026792   \n",
       "2  alpha_shannon           OHV24D3    0.060370  0.002854           0.013898   \n",
       "3  alpha_shannon  ratio_activation  105.141667  0.040672           0.005749   \n",
       "4  alpha_shannon  ratio_catabolism    4.385633  0.000520           0.019754   \n",
       "\n",
       "   norm test P-val  condition number  hetero test P-val  linear P-val  \n",
       "0     4.284689e-11        112.280839           0.127203      0.489002  \n",
       "1     5.671851e-13         50.788391           0.897337      0.868035  \n",
       "2     3.146411e-11          8.684601           0.068469      0.760686  \n",
       "3     2.093292e-12       1361.655743           0.146394      0.299349  \n",
       "4     1.466280e-11         33.923192           0.168445      0.559495  "
      ]
     },
     "execution_count": 31,
     "metadata": {},
     "output_type": "execute_result"
    }
   ],
   "source": [
    "out = []\n",
    "for i in range(len(var)):\n",
    "    tmp = df[['alpha_shannon', var[i]]].dropna(axis=0, how='any')\n",
    "    y = tmp['alpha_shannon']\n",
    "    X = tmp[var[i]]\n",
    "    results = smf.OLS(y, sm.add_constant(X)).fit()\n",
    "    #print(results.summary())\n",
    "    \n",
    "    # normality test\n",
    "    name = ['Chi^2', 'Two-tail probability']\n",
    "    test = sms.omni_normtest(results.resid)\n",
    "    normtest = lzip(name, test)[1][1]\n",
    "    \n",
    "    # condition number\n",
    "    cn = np.linalg.cond(results.model.exog)\n",
    "    \n",
    "    # heteroskedasticity tests (null: the residual variance does not depend on the variables in x)\n",
    "    name = ['Lagrange multiplier statistic', 'p-value']\n",
    "    test = sms.het_breuschpagan(results.resid, results.model.exog)\n",
    "    heter = lzip(name, test)[1][1]\n",
    "    \n",
    "    # linearity test (null: is linear)\n",
    "    name = ['t value', 'p value']\n",
    "    test = sms.linear_harvey_collier(results)\n",
    "    linear = lzip(name, test)[1][1]\n",
    "\n",
    "    out.append(['alpha_shannon', var[i], results.params[1], results.pvalues[1], \n",
    "                results.rsquared_adj, normtest, cn, heter, linear])\n",
    "out = pd.DataFrame(out, columns=['y', 'X', 'slope', 'pvalue', 'adjusted R-square', \n",
    "                                 'norm test P-val', 'condition number', 'hetero test P-val', 'linear P-val'])\n",
    "out\n",
    "\n",
    "# fine with non-normal residuals\n",
    "# reference: https://stats.stackexchange.com/questions/29731/regression-when-the-ols-residuals-are-not-normally-distributed"
   ]
  },
  {
   "cell_type": "markdown",
   "metadata": {},
   "source": [
    "#### diagnostic results: only break the 'normality' asssumption; all else hold\n",
    "This is not a concern, see here (https://stats.stackexchange.com/questions/75054/how-do-i-perform-a-regression-on-non-normal-data-which-remain-non-normal-when-tr)"
   ]
  },
  {
   "cell_type": "markdown",
   "metadata": {},
   "source": [
    "#### Diagnostics Plots and Tests"
   ]
  },
  {
   "cell_type": "code",
   "execution_count": 32,
   "metadata": {},
   "outputs": [
    {
     "data": {
      "text/plain": [
       "<matplotlib.text.Text at 0x11661fe10>"
      ]
     },
     "execution_count": 32,
     "metadata": {},
     "output_type": "execute_result"
    },
    {
     "data": {
      "image/png": "[encoded data removed]",
      "text/plain": [
       "<matplotlib.figure.Figure at 0x1165fda90>"
      ]
     },
     "metadata": {},
     "output_type": "display_data"
    }
   ],
   "source": [
    "# plot the data and fit\n",
    "plt.plot(X, y, 'ro')\n",
    "plt.plot(X, results.fittedvalues, 'b')\n",
    "plt.xlabel(var[i])\n",
    "plt.ylabel('shannon Alpha')"
   ]
  },
  {
   "cell_type": "code",
   "execution_count": 33,
   "metadata": {},
   "outputs": [
    {
     "data": {
      "text/plain": [
       "<matplotlib.text.Text at 0x1165fd908>"
      ]
     },
     "execution_count": 33,
     "metadata": {},
     "output_type": "execute_result"
    },
    {
     "data": {
      "image/png": "[encoded data removed]",
      "text/plain": [
       "<matplotlib.figure.Figure at 0x119bf3208>"
      ]
     },
     "metadata": {},
     "output_type": "display_data"
    }
   ],
   "source": [
    "# histogram of normalized residuals\n",
    "plt.hist(results.resid_pearson)\n",
    "plt.ylabel('Count')\n",
    "plt.xlabel('Normalized residuals')"
   ]
  },
  {
   "cell_type": "code",
   "execution_count": 34,
   "metadata": {},
   "outputs": [
    {
     "name": "stdout",
     "output_type": "stream",
     "text": [
      "[('Jarque-Bera', 64.83719873334232), ('Chi^2 two-tail prob.', 8.3326124648428383e-15), ('Skew', -0.7083670349285603), ('Kurtosis', 3.8897148858955686)]\n",
      "[('Chi^2', 49.891415093440436), ('Two-tail probability', 1.4662798461578983e-11)]\n"
     ]
    }
   ],
   "source": [
    "# normality of residual tests\n",
    "# Jarque-Bera test\n",
    "name = ['Jarque-Bera', 'Chi^2 two-tail prob.', 'Skew', 'Kurtosis']\n",
    "test = sms.jarque_bera(results.resid)\n",
    "print(lzip(name, test))\n",
    "\n",
    "# Omni test\n",
    "name = ['Chi^2', 'Two-tail probability']\n",
    "test = sms.omni_normtest(results.resid)\n",
    "print(lzip(name, test))"
   ]
  },
  {
   "cell_type": "code",
   "execution_count": 35,
   "metadata": {},
   "outputs": [
    {
     "data": {
      "text/plain": [
       "<Container object of 3 artists>"
      ]
     },
     "execution_count": 35,
     "metadata": {},
     "output_type": "execute_result"
    },
    {
     "data": {
      "image/png": "[encoded data removed]",
      "text/plain": [
       "<matplotlib.figure.Figure at 0x119d64fd0>"
      ]
     },
     "metadata": {},
     "output_type": "display_data"
    }
   ],
   "source": [
    "# cooks distance\n",
    "influence = results.get_influence()\n",
    "(c, p) = influence.cooks_distance # c is the distance and p is p-value\n",
    "plt.stem(np.arange(len(c)), c, markerfmt=',')"
   ]
  },
  {
   "cell_type": "code",
   "execution_count": 36,
   "metadata": {},
   "outputs": [
    {
     "data": {
      "text/plain": [
       "array([[ 0.04541307, -0.03508372],\n",
       "       [-0.00787697, -0.00939814],\n",
       "       [-0.05109184,  0.04092899],\n",
       "       [-0.00149383,  0.00099749],\n",
       "       [-0.00219101,  0.00613303]])"
      ]
     },
     "execution_count": 36,
     "metadata": {},
     "output_type": "execute_result"
    }
   ],
   "source": [
    "# influence test\n",
    "from statsmodels.stats.outliers_influence import OLSInfluence\n",
    "test_class = OLSInfluence(results)\n",
    "test_class.dfbetas[:5,:]"
   ]
  },
  {
   "cell_type": "code",
   "execution_count": 37,
   "metadata": {},
   "outputs": [
    {
     "data": {
      "image/png": "[encoded data removed]",
      "text/plain": [
       "<matplotlib.figure.Figure at 0x11ab48ba8>"
      ]
     },
     "metadata": {},
     "output_type": "display_data"
    }
   ],
   "source": [
    "# residuals against leverage\n",
    "from statsmodels.graphics.regressionplots import plot_leverage_resid2\n",
    "fig, ax = plt.subplots(figsize=(8,6))\n",
    "fig = plot_leverage_resid2(results, ax = ax)"
   ]
  },
  {
   "cell_type": "code",
   "execution_count": 38,
   "metadata": {},
   "outputs": [
    {
     "data": {
      "text/plain": [
       "33.923191966589435"
      ]
     },
     "execution_count": 38,
     "metadata": {},
     "output_type": "execute_result"
    }
   ],
   "source": [
    "# multicolinearity\n",
    "np.linalg.cond(results.model.exog) # condition number"
   ]
  },
  {
   "cell_type": "code",
   "execution_count": 39,
   "metadata": {},
   "outputs": [
    {
     "name": "stdout",
     "output_type": "stream",
     "text": [
      "[('Lagrange multiplier statistic', 1.8967268016156811), ('p-valuef-value', 0.1684451521070148), ('f p-value', 1.8963732916244314)]\n",
      "[('F statistic', 1.1049931979747807), ('p-value', 0.20372091727920719)]\n"
     ]
    }
   ],
   "source": [
    "# heteroskedasticity tests (whether residuals have unequal variance)\n",
    "# Breush-Pagan test\n",
    "name = ['Lagrange multiplier statistic', 'p-value'\n",
    "        'f-value', 'f p-value']\n",
    "test = sms.het_breuschpagan(results.resid, results.model.exog)\n",
    "print(lzip(name, test))\n",
    "\n",
    "# Goldfeld-Quand test\n",
    "name = ['F statistic', 'p-value']\n",
    "test = sms.het_goldfeldquandt(results.resid, results.model.exog)\n",
    "print(lzip(name, test))"
   ]
  },
  {
   "cell_type": "code",
   "execution_count": 40,
   "metadata": {},
   "outputs": [
    {
     "data": {
      "text/plain": [
       "[('t value', 0.58394623101007703), ('p value', 0.559495028649863)]"
      ]
     },
     "execution_count": 40,
     "metadata": {},
     "output_type": "execute_result"
    }
   ],
   "source": [
    "# linearity test\n",
    "name = ['t value', 'p value']\n",
    "test = sms.linear_harvey_collier(results)\n",
    "lzip(name, test)"
   ]
  },
  {
   "cell_type": "code",
   "execution_count": null,
   "metadata": {
    "collapsed": true
   },
   "outputs": [],
   "source": []
  }
 ],
 "metadata": {
  "kernelspec": {
   "display_name": "Python 3",
   "language": "python",
   "name": "python3"
  },
  "language_info": {
   "codemirror_mode": {
    "name": "ipython",
    "version": 3
   },
   "file_extension": ".py",
   "mimetype": "text/x-python",
   "name": "python",
   "nbconvert_exporter": "python",
   "pygments_lexer": "ipython3",
   "version": "3.5.3"
  }
 },
 "nbformat": 4,
 "nbformat_minor": 2
}
