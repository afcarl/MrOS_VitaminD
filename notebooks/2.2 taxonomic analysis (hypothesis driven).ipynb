{
 "cells": [
  {
   "cell_type": "code",
   "execution_count": 1,
   "metadata": {
    "collapsed": true
   },
   "outputs": [],
   "source": [
    "%matplotlib inline\n",
    "import pandas as pd\n",
    "import matplotlib.pyplot as plt\n",
    "import numpy as np"
   ]
  },
  {
   "cell_type": "code",
   "execution_count": 2,
   "metadata": {
    "collapsed": true
   },
   "outputs": [],
   "source": [
    "mf = pd.read_csv('mapping_MrOS.txt', sep='\\t', dtype=str, index_col='#SampleID', na_values='Missing:Not collected') "
   ]
  },
  {
   "cell_type": "code",
   "execution_count": 3,
   "metadata": {
    "collapsed": true
   },
   "outputs": [],
   "source": [
    "dat1 = pd.read_csv('../../1.1_cd_20k/taxa_plots/taxa_summary_plots/raw_data/table_mc5876_sorted_L6.txt', \n",
    "                   skiprows=1, sep='\\t', dtype=str, index_col = '#OTU ID')"
   ]
  },
  {
   "cell_type": "code",
   "execution_count": 4,
   "metadata": {
    "collapsed": false
   },
   "outputs": [
    {
     "data": {
      "text/html": [
       "<div>\n",
       "<style>\n",
       "    .dataframe thead tr:only-child th {\n",
       "        text-align: right;\n",
       "    }\n",
       "\n",
       "    .dataframe thead th {\n",
       "        text-align: left;\n",
       "    }\n",
       "\n",
       "    .dataframe tbody tr th {\n",
       "        vertical-align: top;\n",
       "    }\n",
       "</style>\n",
       "<table border=\"1\" class=\"dataframe\">\n",
       "  <thead>\n",
       "    <tr style=\"text-align: right;\">\n",
       "      <th></th>\n",
       "      <th>BI0023</th>\n",
       "      <th>BI0056</th>\n",
       "      <th>BI0131</th>\n",
       "      <th>BI0153</th>\n",
       "      <th>BI0215</th>\n",
       "      <th>BI0353</th>\n",
       "      <th>BI0371</th>\n",
       "      <th>BI0372</th>\n",
       "      <th>BI0380</th>\n",
       "      <th>BI0389</th>\n",
       "      <th>...</th>\n",
       "      <th>SD8964</th>\n",
       "      <th>SD8966</th>\n",
       "      <th>SD8972</th>\n",
       "      <th>SD8973</th>\n",
       "      <th>SD8985</th>\n",
       "      <th>SD8996</th>\n",
       "      <th>SD8999</th>\n",
       "      <th>SD9001</th>\n",
       "      <th>SD9003</th>\n",
       "      <th>SD9009</th>\n",
       "    </tr>\n",
       "    <tr>\n",
       "      <th>#OTU ID</th>\n",
       "      <th></th>\n",
       "      <th></th>\n",
       "      <th></th>\n",
       "      <th></th>\n",
       "      <th></th>\n",
       "      <th></th>\n",
       "      <th></th>\n",
       "      <th></th>\n",
       "      <th></th>\n",
       "      <th></th>\n",
       "      <th></th>\n",
       "      <th></th>\n",
       "      <th></th>\n",
       "      <th></th>\n",
       "      <th></th>\n",
       "      <th></th>\n",
       "      <th></th>\n",
       "      <th></th>\n",
       "      <th></th>\n",
       "      <th></th>\n",
       "      <th></th>\n",
       "    </tr>\n",
       "  </thead>\n",
       "  <tbody>\n",
       "    <tr>\n",
       "      <th>Unassigned;Other;Other;Other;Other;Other</th>\n",
       "      <td>0.00299015548809</td>\n",
       "      <td>0.0</td>\n",
       "      <td>9.61261174661e-05</td>\n",
       "      <td>0.0</td>\n",
       "      <td>0.0</td>\n",
       "      <td>0.0</td>\n",
       "      <td>0.000276518084283</td>\n",
       "      <td>0.00083811488621</td>\n",
       "      <td>0.0</td>\n",
       "      <td>0.0</td>\n",
       "      <td>...</td>\n",
       "      <td>0.0</td>\n",
       "      <td>0.0</td>\n",
       "      <td>0.000346040717458</td>\n",
       "      <td>0.00404538727183</td>\n",
       "      <td>0.0</td>\n",
       "      <td>0.0</td>\n",
       "      <td>0.00166008357662</td>\n",
       "      <td>0.0</td>\n",
       "      <td>0.0</td>\n",
       "      <td>0.0</td>\n",
       "    </tr>\n",
       "    <tr>\n",
       "      <th>k__Archaea;p__Euryarchaeota;c__Methanobacteria;o__Methanobacteriales;f__Methanobacteriaceae;g__Methanobrevibacter</th>\n",
       "      <td>0.000276014352746</td>\n",
       "      <td>0.00010055304173</td>\n",
       "      <td>9.61261174661e-05</td>\n",
       "      <td>0.0</td>\n",
       "      <td>0.0</td>\n",
       "      <td>0.0</td>\n",
       "      <td>0.000331821701139</td>\n",
       "      <td>0.0</td>\n",
       "      <td>0.000159650896706</td>\n",
       "      <td>0.0</td>\n",
       "      <td>...</td>\n",
       "      <td>0.0</td>\n",
       "      <td>0.0</td>\n",
       "      <td>0.000230693811639</td>\n",
       "      <td>0.000493339911199</td>\n",
       "      <td>0.0</td>\n",
       "      <td>0.0</td>\n",
       "      <td>0.0</td>\n",
       "      <td>0.0</td>\n",
       "      <td>0.00012025012025</td>\n",
       "      <td>0.0</td>\n",
       "    </tr>\n",
       "    <tr>\n",
       "      <th>k__Archaea;p__Euryarchaeota;c__Methanobacteria;o__Methanobacteriales;f__Methanobacteriaceae;g__Methanosphaera</th>\n",
       "      <td>0.0</td>\n",
       "      <td>0.0</td>\n",
       "      <td>0.0</td>\n",
       "      <td>0.0</td>\n",
       "      <td>0.0</td>\n",
       "      <td>0.0</td>\n",
       "      <td>0.0</td>\n",
       "      <td>0.0</td>\n",
       "      <td>0.0</td>\n",
       "      <td>0.0</td>\n",
       "      <td>...</td>\n",
       "      <td>0.0</td>\n",
       "      <td>0.0</td>\n",
       "      <td>0.0</td>\n",
       "      <td>0.0</td>\n",
       "      <td>0.0</td>\n",
       "      <td>0.0</td>\n",
       "      <td>0.0</td>\n",
       "      <td>0.0</td>\n",
       "      <td>0.0</td>\n",
       "      <td>0.0</td>\n",
       "    </tr>\n",
       "    <tr>\n",
       "      <th>k__Archaea;p__Euryarchaeota;c__Thermoplasmata;o__E2;f__[Methanomassiliicoccaceae];g__</th>\n",
       "      <td>0.0</td>\n",
       "      <td>0.0</td>\n",
       "      <td>0.0</td>\n",
       "      <td>0.0</td>\n",
       "      <td>0.0</td>\n",
       "      <td>0.0</td>\n",
       "      <td>0.0</td>\n",
       "      <td>0.0</td>\n",
       "      <td>0.0</td>\n",
       "      <td>0.0</td>\n",
       "      <td>...</td>\n",
       "      <td>0.0</td>\n",
       "      <td>0.0</td>\n",
       "      <td>0.0</td>\n",
       "      <td>0.000394671928959</td>\n",
       "      <td>0.0</td>\n",
       "      <td>0.0</td>\n",
       "      <td>0.0</td>\n",
       "      <td>0.0</td>\n",
       "      <td>0.0</td>\n",
       "      <td>0.0</td>\n",
       "    </tr>\n",
       "    <tr>\n",
       "      <th>k__Archaea;p__Euryarchaeota;c__Thermoplasmata;o__E2;f__[Methanomassiliicoccaceae];g__Methanomassiliicoccus</th>\n",
       "      <td>0.0</td>\n",
       "      <td>0.0</td>\n",
       "      <td>0.0</td>\n",
       "      <td>0.0</td>\n",
       "      <td>0.0</td>\n",
       "      <td>0.0</td>\n",
       "      <td>0.0</td>\n",
       "      <td>0.0</td>\n",
       "      <td>0.0</td>\n",
       "      <td>0.0</td>\n",
       "      <td>...</td>\n",
       "      <td>0.0</td>\n",
       "      <td>0.0</td>\n",
       "      <td>0.0</td>\n",
       "      <td>0.0</td>\n",
       "      <td>0.0</td>\n",
       "      <td>0.0</td>\n",
       "      <td>0.0</td>\n",
       "      <td>0.0</td>\n",
       "      <td>0.0</td>\n",
       "      <td>0.0</td>\n",
       "    </tr>\n",
       "  </tbody>\n",
       "</table>\n",
       "<p>5 rows × 599 columns</p>\n",
       "</div>"
      ],
      "text/plain": [
       "                                                               BI0023  \\\n",
       "#OTU ID                                                                 \n",
       "Unassigned;Other;Other;Other;Other;Other             0.00299015548809   \n",
       "k__Archaea;p__Euryarchaeota;c__Methanobacteria;...  0.000276014352746   \n",
       "k__Archaea;p__Euryarchaeota;c__Methanobacteria;...                0.0   \n",
       "k__Archaea;p__Euryarchaeota;c__Thermoplasmata;o...                0.0   \n",
       "k__Archaea;p__Euryarchaeota;c__Thermoplasmata;o...                0.0   \n",
       "\n",
       "                                                              BI0056  \\\n",
       "#OTU ID                                                                \n",
       "Unassigned;Other;Other;Other;Other;Other                         0.0   \n",
       "k__Archaea;p__Euryarchaeota;c__Methanobacteria;...  0.00010055304173   \n",
       "k__Archaea;p__Euryarchaeota;c__Methanobacteria;...               0.0   \n",
       "k__Archaea;p__Euryarchaeota;c__Thermoplasmata;o...               0.0   \n",
       "k__Archaea;p__Euryarchaeota;c__Thermoplasmata;o...               0.0   \n",
       "\n",
       "                                                               BI0131 BI0153  \\\n",
       "#OTU ID                                                                        \n",
       "Unassigned;Other;Other;Other;Other;Other            9.61261174661e-05    0.0   \n",
       "k__Archaea;p__Euryarchaeota;c__Methanobacteria;...  9.61261174661e-05    0.0   \n",
       "k__Archaea;p__Euryarchaeota;c__Methanobacteria;...                0.0    0.0   \n",
       "k__Archaea;p__Euryarchaeota;c__Thermoplasmata;o...                0.0    0.0   \n",
       "k__Archaea;p__Euryarchaeota;c__Thermoplasmata;o...                0.0    0.0   \n",
       "\n",
       "                                                   BI0215 BI0353  \\\n",
       "#OTU ID                                                            \n",
       "Unassigned;Other;Other;Other;Other;Other              0.0    0.0   \n",
       "k__Archaea;p__Euryarchaeota;c__Methanobacteria;...    0.0    0.0   \n",
       "k__Archaea;p__Euryarchaeota;c__Methanobacteria;...    0.0    0.0   \n",
       "k__Archaea;p__Euryarchaeota;c__Thermoplasmata;o...    0.0    0.0   \n",
       "k__Archaea;p__Euryarchaeota;c__Thermoplasmata;o...    0.0    0.0   \n",
       "\n",
       "                                                               BI0371  \\\n",
       "#OTU ID                                                                 \n",
       "Unassigned;Other;Other;Other;Other;Other            0.000276518084283   \n",
       "k__Archaea;p__Euryarchaeota;c__Methanobacteria;...  0.000331821701139   \n",
       "k__Archaea;p__Euryarchaeota;c__Methanobacteria;...                0.0   \n",
       "k__Archaea;p__Euryarchaeota;c__Thermoplasmata;o...                0.0   \n",
       "k__Archaea;p__Euryarchaeota;c__Thermoplasmata;o...                0.0   \n",
       "\n",
       "                                                              BI0372  \\\n",
       "#OTU ID                                                                \n",
       "Unassigned;Other;Other;Other;Other;Other            0.00083811488621   \n",
       "k__Archaea;p__Euryarchaeota;c__Methanobacteria;...               0.0   \n",
       "k__Archaea;p__Euryarchaeota;c__Methanobacteria;...               0.0   \n",
       "k__Archaea;p__Euryarchaeota;c__Thermoplasmata;o...               0.0   \n",
       "k__Archaea;p__Euryarchaeota;c__Thermoplasmata;o...               0.0   \n",
       "\n",
       "                                                               BI0380 BI0389  \\\n",
       "#OTU ID                                                                        \n",
       "Unassigned;Other;Other;Other;Other;Other                          0.0    0.0   \n",
       "k__Archaea;p__Euryarchaeota;c__Methanobacteria;...  0.000159650896706    0.0   \n",
       "k__Archaea;p__Euryarchaeota;c__Methanobacteria;...                0.0    0.0   \n",
       "k__Archaea;p__Euryarchaeota;c__Thermoplasmata;o...                0.0    0.0   \n",
       "k__Archaea;p__Euryarchaeota;c__Thermoplasmata;o...                0.0    0.0   \n",
       "\n",
       "                                                    ...   SD8964 SD8966  \\\n",
       "#OTU ID                                             ...                   \n",
       "Unassigned;Other;Other;Other;Other;Other            ...      0.0    0.0   \n",
       "k__Archaea;p__Euryarchaeota;c__Methanobacteria;...  ...      0.0    0.0   \n",
       "k__Archaea;p__Euryarchaeota;c__Methanobacteria;...  ...      0.0    0.0   \n",
       "k__Archaea;p__Euryarchaeota;c__Thermoplasmata;o...  ...      0.0    0.0   \n",
       "k__Archaea;p__Euryarchaeota;c__Thermoplasmata;o...  ...      0.0    0.0   \n",
       "\n",
       "                                                               SD8972  \\\n",
       "#OTU ID                                                                 \n",
       "Unassigned;Other;Other;Other;Other;Other            0.000346040717458   \n",
       "k__Archaea;p__Euryarchaeota;c__Methanobacteria;...  0.000230693811639   \n",
       "k__Archaea;p__Euryarchaeota;c__Methanobacteria;...                0.0   \n",
       "k__Archaea;p__Euryarchaeota;c__Thermoplasmata;o...                0.0   \n",
       "k__Archaea;p__Euryarchaeota;c__Thermoplasmata;o...                0.0   \n",
       "\n",
       "                                                               SD8973 SD8985  \\\n",
       "#OTU ID                                                                        \n",
       "Unassigned;Other;Other;Other;Other;Other             0.00404538727183    0.0   \n",
       "k__Archaea;p__Euryarchaeota;c__Methanobacteria;...  0.000493339911199    0.0   \n",
       "k__Archaea;p__Euryarchaeota;c__Methanobacteria;...                0.0    0.0   \n",
       "k__Archaea;p__Euryarchaeota;c__Thermoplasmata;o...  0.000394671928959    0.0   \n",
       "k__Archaea;p__Euryarchaeota;c__Thermoplasmata;o...                0.0    0.0   \n",
       "\n",
       "                                                   SD8996            SD8999  \\\n",
       "#OTU ID                                                                       \n",
       "Unassigned;Other;Other;Other;Other;Other              0.0  0.00166008357662   \n",
       "k__Archaea;p__Euryarchaeota;c__Methanobacteria;...    0.0               0.0   \n",
       "k__Archaea;p__Euryarchaeota;c__Methanobacteria;...    0.0               0.0   \n",
       "k__Archaea;p__Euryarchaeota;c__Thermoplasmata;o...    0.0               0.0   \n",
       "k__Archaea;p__Euryarchaeota;c__Thermoplasmata;o...    0.0               0.0   \n",
       "\n",
       "                                                   SD9001            SD9003  \\\n",
       "#OTU ID                                                                       \n",
       "Unassigned;Other;Other;Other;Other;Other              0.0               0.0   \n",
       "k__Archaea;p__Euryarchaeota;c__Methanobacteria;...    0.0  0.00012025012025   \n",
       "k__Archaea;p__Euryarchaeota;c__Methanobacteria;...    0.0               0.0   \n",
       "k__Archaea;p__Euryarchaeota;c__Thermoplasmata;o...    0.0               0.0   \n",
       "k__Archaea;p__Euryarchaeota;c__Thermoplasmata;o...    0.0               0.0   \n",
       "\n",
       "                                                   SD9009  \n",
       "#OTU ID                                                    \n",
       "Unassigned;Other;Other;Other;Other;Other              0.0  \n",
       "k__Archaea;p__Euryarchaeota;c__Methanobacteria;...    0.0  \n",
       "k__Archaea;p__Euryarchaeota;c__Methanobacteria;...    0.0  \n",
       "k__Archaea;p__Euryarchaeota;c__Thermoplasmata;o...    0.0  \n",
       "k__Archaea;p__Euryarchaeota;c__Thermoplasmata;o...    0.0  \n",
       "\n",
       "[5 rows x 599 columns]"
      ]
     },
     "execution_count": 4,
     "metadata": {},
     "output_type": "execute_result"
    }
   ],
   "source": [
    "dat1.head()"
   ]
  },
  {
   "cell_type": "code",
   "execution_count": 5,
   "metadata": {
    "collapsed": true
   },
   "outputs": [],
   "source": [
    "dat = dat1[dat1.index.str.contains(\n",
    "    'Bifidobacterium|Faecalibacterium|Eubacterium|Roseburia|Anaerostipes|Bacteroides|Ruminococcus|Lactobacillus',\n",
    "     na=False)]"
   ]
  },
  {
   "cell_type": "code",
   "execution_count": 6,
   "metadata": {
    "collapsed": false
   },
   "outputs": [
    {
     "data": {
      "text/plain": [
       "Index(['k__Bacteria;p__Actinobacteria;c__Actinobacteria;o__Bifidobacteriales;f__Bifidobacteriaceae;g__Bifidobacterium',\n",
       "       'k__Bacteria;p__Bacteroidetes;c__Bacteroidia;o__Bacteroidales;f__Bacteroidaceae;g__Bacteroides',\n",
       "       'k__Bacteria;p__Firmicutes;c__Bacilli;o__Lactobacillales;f__Lactobacillaceae;g__Lactobacillus',\n",
       "       'k__Bacteria;p__Firmicutes;c__Clostridia;o__Clostridiales;f__Eubacteriaceae;g__Pseudoramibacter_Eubacterium',\n",
       "       'k__Bacteria;p__Firmicutes;c__Clostridia;o__Clostridiales;f__Lachnospiraceae;g__Anaerostipes',\n",
       "       'k__Bacteria;p__Firmicutes;c__Clostridia;o__Clostridiales;f__Lachnospiraceae;g__Roseburia',\n",
       "       'k__Bacteria;p__Firmicutes;c__Clostridia;o__Clostridiales;f__Lachnospiraceae;g__[Ruminococcus]',\n",
       "       'k__Bacteria;p__Firmicutes;c__Clostridia;o__Clostridiales;f__Ruminococcaceae;g__Faecalibacterium',\n",
       "       'k__Bacteria;p__Firmicutes;c__Clostridia;o__Clostridiales;f__Ruminococcaceae;g__Ruminococcus',\n",
       "       'k__Bacteria;p__Firmicutes;c__Erysipelotrichi;o__Erysipelotrichales;f__Erysipelotrichaceae;g__[Eubacterium]'],\n",
       "      dtype='object', name='#OTU ID')"
      ]
     },
     "execution_count": 6,
     "metadata": {},
     "output_type": "execute_result"
    }
   ],
   "source": [
    "dat.index"
   ]
  },
  {
   "cell_type": "code",
   "execution_count": 7,
   "metadata": {
    "collapsed": true
   },
   "outputs": [],
   "source": [
    "dat = dat.transpose()"
   ]
  },
  {
   "cell_type": "code",
   "execution_count": 8,
   "metadata": {
    "collapsed": false
   },
   "outputs": [
    {
     "data": {
      "text/html": [
       "<div>\n",
       "<style>\n",
       "    .dataframe thead tr:only-child th {\n",
       "        text-align: right;\n",
       "    }\n",
       "\n",
       "    .dataframe thead th {\n",
       "        text-align: left;\n",
       "    }\n",
       "\n",
       "    .dataframe tbody tr th {\n",
       "        vertical-align: top;\n",
       "    }\n",
       "</style>\n",
       "<table border=\"1\" class=\"dataframe\">\n",
       "  <thead>\n",
       "    <tr style=\"text-align: right;\">\n",
       "      <th>#OTU ID</th>\n",
       "      <th>k__Bacteria;p__Actinobacteria;c__Actinobacteria;o__Bifidobacteriales;f__Bifidobacteriaceae;g__Bifidobacterium</th>\n",
       "      <th>k__Bacteria;p__Bacteroidetes;c__Bacteroidia;o__Bacteroidales;f__Bacteroidaceae;g__Bacteroides</th>\n",
       "      <th>k__Bacteria;p__Firmicutes;c__Bacilli;o__Lactobacillales;f__Lactobacillaceae;g__Lactobacillus</th>\n",
       "      <th>k__Bacteria;p__Firmicutes;c__Clostridia;o__Clostridiales;f__Eubacteriaceae;g__Pseudoramibacter_Eubacterium</th>\n",
       "      <th>k__Bacteria;p__Firmicutes;c__Clostridia;o__Clostridiales;f__Lachnospiraceae;g__Anaerostipes</th>\n",
       "      <th>k__Bacteria;p__Firmicutes;c__Clostridia;o__Clostridiales;f__Lachnospiraceae;g__Roseburia</th>\n",
       "      <th>k__Bacteria;p__Firmicutes;c__Clostridia;o__Clostridiales;f__Lachnospiraceae;g__[Ruminococcus]</th>\n",
       "      <th>k__Bacteria;p__Firmicutes;c__Clostridia;o__Clostridiales;f__Ruminococcaceae;g__Faecalibacterium</th>\n",
       "      <th>k__Bacteria;p__Firmicutes;c__Clostridia;o__Clostridiales;f__Ruminococcaceae;g__Ruminococcus</th>\n",
       "      <th>k__Bacteria;p__Firmicutes;c__Erysipelotrichi;o__Erysipelotrichales;f__Erysipelotrichaceae;g__[Eubacterium]</th>\n",
       "    </tr>\n",
       "  </thead>\n",
       "  <tbody>\n",
       "    <tr>\n",
       "      <th>BI0023</th>\n",
       "      <td>0.0</td>\n",
       "      <td>0.273254209219</td>\n",
       "      <td>0.0</td>\n",
       "      <td>0.0</td>\n",
       "      <td>0.00506026313368</td>\n",
       "      <td>0.0</td>\n",
       "      <td>0.00630232772104</td>\n",
       "      <td>0.0246572821787</td>\n",
       "      <td>0.0320636673107</td>\n",
       "      <td>9.20047842488e-05</td>\n",
       "    </tr>\n",
       "    <tr>\n",
       "      <th>BI0056</th>\n",
       "      <td>0.0</td>\n",
       "      <td>0.750930115636</td>\n",
       "      <td>0.0</td>\n",
       "      <td>0.0</td>\n",
       "      <td>0.0</td>\n",
       "      <td>0.00140774258421</td>\n",
       "      <td>0.0112116641528</td>\n",
       "      <td>0.00603318250377</td>\n",
       "      <td>0.0201106083459</td>\n",
       "      <td>0.0</td>\n",
       "    </tr>\n",
       "    <tr>\n",
       "      <th>BI0131</th>\n",
       "      <td>0.0</td>\n",
       "      <td>0.249062770355</td>\n",
       "      <td>0.0</td>\n",
       "      <td>0.0</td>\n",
       "      <td>0.000384504469864</td>\n",
       "      <td>0.0</td>\n",
       "      <td>0.00264346823032</td>\n",
       "      <td>0.0448908968567</td>\n",
       "      <td>0.00759396327982</td>\n",
       "      <td>0.0</td>\n",
       "    </tr>\n",
       "    <tr>\n",
       "      <th>BI0153</th>\n",
       "      <td>0.00191659506972</td>\n",
       "      <td>0.485493358007</td>\n",
       "      <td>0.0</td>\n",
       "      <td>0.0</td>\n",
       "      <td>0.000925252792281</td>\n",
       "      <td>0.00898816998216</td>\n",
       "      <td>0.0023131319807</td>\n",
       "      <td>0.155112021677</td>\n",
       "      <td>0.00713766439759</td>\n",
       "      <td>0.000132178970326</td>\n",
       "    </tr>\n",
       "    <tr>\n",
       "      <th>BI0215</th>\n",
       "      <td>0.000113205411219</td>\n",
       "      <td>0.383766344031</td>\n",
       "      <td>0.0</td>\n",
       "      <td>0.0</td>\n",
       "      <td>0.0</td>\n",
       "      <td>0.0164147846267</td>\n",
       "      <td>0.00158487575706</td>\n",
       "      <td>0.0604516895908</td>\n",
       "      <td>0.053319748684</td>\n",
       "      <td>0.0</td>\n",
       "    </tr>\n",
       "  </tbody>\n",
       "</table>\n",
       "</div>"
      ],
      "text/plain": [
       "#OTU ID k__Bacteria;p__Actinobacteria;c__Actinobacteria;o__Bifidobacteriales;f__Bifidobacteriaceae;g__Bifidobacterium  \\\n",
       "BI0023                                                 0.0                                                              \n",
       "BI0056                                                 0.0                                                              \n",
       "BI0131                                                 0.0                                                              \n",
       "BI0153                                    0.00191659506972                                                              \n",
       "BI0215                                   0.000113205411219                                                              \n",
       "\n",
       "#OTU ID k__Bacteria;p__Bacteroidetes;c__Bacteroidia;o__Bacteroidales;f__Bacteroidaceae;g__Bacteroides  \\\n",
       "BI0023                                      0.273254209219                                              \n",
       "BI0056                                      0.750930115636                                              \n",
       "BI0131                                      0.249062770355                                              \n",
       "BI0153                                      0.485493358007                                              \n",
       "BI0215                                      0.383766344031                                              \n",
       "\n",
       "#OTU ID k__Bacteria;p__Firmicutes;c__Bacilli;o__Lactobacillales;f__Lactobacillaceae;g__Lactobacillus  \\\n",
       "BI0023                                                 0.0                                             \n",
       "BI0056                                                 0.0                                             \n",
       "BI0131                                                 0.0                                             \n",
       "BI0153                                                 0.0                                             \n",
       "BI0215                                                 0.0                                             \n",
       "\n",
       "#OTU ID k__Bacteria;p__Firmicutes;c__Clostridia;o__Clostridiales;f__Eubacteriaceae;g__Pseudoramibacter_Eubacterium  \\\n",
       "BI0023                                                 0.0                                                           \n",
       "BI0056                                                 0.0                                                           \n",
       "BI0131                                                 0.0                                                           \n",
       "BI0153                                                 0.0                                                           \n",
       "BI0215                                                 0.0                                                           \n",
       "\n",
       "#OTU ID k__Bacteria;p__Firmicutes;c__Clostridia;o__Clostridiales;f__Lachnospiraceae;g__Anaerostipes  \\\n",
       "BI0023                                    0.00506026313368                                            \n",
       "BI0056                                                 0.0                                            \n",
       "BI0131                                   0.000384504469864                                            \n",
       "BI0153                                   0.000925252792281                                            \n",
       "BI0215                                                 0.0                                            \n",
       "\n",
       "#OTU ID k__Bacteria;p__Firmicutes;c__Clostridia;o__Clostridiales;f__Lachnospiraceae;g__Roseburia  \\\n",
       "BI0023                                                 0.0                                         \n",
       "BI0056                                    0.00140774258421                                         \n",
       "BI0131                                                 0.0                                         \n",
       "BI0153                                    0.00898816998216                                         \n",
       "BI0215                                     0.0164147846267                                         \n",
       "\n",
       "#OTU ID k__Bacteria;p__Firmicutes;c__Clostridia;o__Clostridiales;f__Lachnospiraceae;g__[Ruminococcus]  \\\n",
       "BI0023                                    0.00630232772104                                              \n",
       "BI0056                                     0.0112116641528                                              \n",
       "BI0131                                    0.00264346823032                                              \n",
       "BI0153                                     0.0023131319807                                              \n",
       "BI0215                                    0.00158487575706                                              \n",
       "\n",
       "#OTU ID k__Bacteria;p__Firmicutes;c__Clostridia;o__Clostridiales;f__Ruminococcaceae;g__Faecalibacterium  \\\n",
       "BI0023                                     0.0246572821787                                                \n",
       "BI0056                                    0.00603318250377                                                \n",
       "BI0131                                     0.0448908968567                                                \n",
       "BI0153                                      0.155112021677                                                \n",
       "BI0215                                     0.0604516895908                                                \n",
       "\n",
       "#OTU ID k__Bacteria;p__Firmicutes;c__Clostridia;o__Clostridiales;f__Ruminococcaceae;g__Ruminococcus  \\\n",
       "BI0023                                     0.0320636673107                                            \n",
       "BI0056                                     0.0201106083459                                            \n",
       "BI0131                                    0.00759396327982                                            \n",
       "BI0153                                    0.00713766439759                                            \n",
       "BI0215                                      0.053319748684                                            \n",
       "\n",
       "#OTU ID k__Bacteria;p__Firmicutes;c__Erysipelotrichi;o__Erysipelotrichales;f__Erysipelotrichaceae;g__[Eubacterium]  \n",
       "BI0023                                   9.20047842488e-05                                                          \n",
       "BI0056                                                 0.0                                                          \n",
       "BI0131                                                 0.0                                                          \n",
       "BI0153                                   0.000132178970326                                                          \n",
       "BI0215                                                 0.0                                                          "
      ]
     },
     "execution_count": 8,
     "metadata": {},
     "output_type": "execute_result"
    }
   ],
   "source": [
    "dat.head()"
   ]
  },
  {
   "cell_type": "code",
   "execution_count": 9,
   "metadata": {
    "collapsed": true
   },
   "outputs": [],
   "source": [
    "df = pd.merge(mf, dat, left_index=True, right_index=True)"
   ]
  },
  {
   "cell_type": "code",
   "execution_count": 10,
   "metadata": {
    "collapsed": false
   },
   "outputs": [
    {
     "data": {
      "text/plain": [
       "(599, 10)"
      ]
     },
     "execution_count": 10,
     "metadata": {},
     "output_type": "execute_result"
    }
   ],
   "source": [
    "dat.shape"
   ]
  },
  {
   "cell_type": "code",
   "execution_count": 11,
   "metadata": {
    "collapsed": false
   },
   "outputs": [
    {
     "data": {
      "text/plain": [
       "(599, 64)"
      ]
     },
     "execution_count": 11,
     "metadata": {},
     "output_type": "execute_result"
    }
   ],
   "source": [
    "mf.shape"
   ]
  },
  {
   "cell_type": "code",
   "execution_count": 12,
   "metadata": {
    "collapsed": false
   },
   "outputs": [
    {
     "data": {
      "text/plain": [
       "(599, 74)"
      ]
     },
     "execution_count": 12,
     "metadata": {},
     "output_type": "execute_result"
    }
   ],
   "source": [
    "df.shape"
   ]
  },
  {
   "cell_type": "code",
   "execution_count": 13,
   "metadata": {
    "collapsed": false
   },
   "outputs": [
    {
     "data": {
      "text/html": [
       "<div>\n",
       "<style>\n",
       "    .dataframe thead tr:only-child th {\n",
       "        text-align: right;\n",
       "    }\n",
       "\n",
       "    .dataframe thead th {\n",
       "        text-align: left;\n",
       "    }\n",
       "\n",
       "    .dataframe tbody tr th {\n",
       "        vertical-align: top;\n",
       "    }\n",
       "</style>\n",
       "<table border=\"1\" class=\"dataframe\">\n",
       "  <thead>\n",
       "    <tr style=\"text-align: right;\">\n",
       "      <th></th>\n",
       "      <th>BarcodeSequence</th>\n",
       "      <th>LinkerPrimerSequence</th>\n",
       "      <th>Experiment_Design_Description</th>\n",
       "      <th>Library_Construction_Protocol</th>\n",
       "      <th>Linker</th>\n",
       "      <th>Platform</th>\n",
       "      <th>Center_Name</th>\n",
       "      <th>Center_Project</th>\n",
       "      <th>Instrument_Model</th>\n",
       "      <th>Title</th>\n",
       "      <th>...</th>\n",
       "      <th>k__Bacteria;p__Actinobacteria;c__Actinobacteria;o__Bifidobacteriales;f__Bifidobacteriaceae;g__Bifidobacterium</th>\n",
       "      <th>k__Bacteria;p__Bacteroidetes;c__Bacteroidia;o__Bacteroidales;f__Bacteroidaceae;g__Bacteroides</th>\n",
       "      <th>k__Bacteria;p__Firmicutes;c__Bacilli;o__Lactobacillales;f__Lactobacillaceae;g__Lactobacillus</th>\n",
       "      <th>k__Bacteria;p__Firmicutes;c__Clostridia;o__Clostridiales;f__Eubacteriaceae;g__Pseudoramibacter_Eubacterium</th>\n",
       "      <th>k__Bacteria;p__Firmicutes;c__Clostridia;o__Clostridiales;f__Lachnospiraceae;g__Anaerostipes</th>\n",
       "      <th>k__Bacteria;p__Firmicutes;c__Clostridia;o__Clostridiales;f__Lachnospiraceae;g__Roseburia</th>\n",
       "      <th>k__Bacteria;p__Firmicutes;c__Clostridia;o__Clostridiales;f__Lachnospiraceae;g__[Ruminococcus]</th>\n",
       "      <th>k__Bacteria;p__Firmicutes;c__Clostridia;o__Clostridiales;f__Ruminococcaceae;g__Faecalibacterium</th>\n",
       "      <th>k__Bacteria;p__Firmicutes;c__Clostridia;o__Clostridiales;f__Ruminococcaceae;g__Ruminococcus</th>\n",
       "      <th>k__Bacteria;p__Firmicutes;c__Erysipelotrichi;o__Erysipelotrichales;f__Erysipelotrichaceae;g__[Eubacterium]</th>\n",
       "    </tr>\n",
       "  </thead>\n",
       "  <tbody>\n",
       "    <tr>\n",
       "      <th>BI0023</th>\n",
       "      <td>TCTGGTGACATT</td>\n",
       "      <td>GGACTACHVGGGTWTCTAAT</td>\n",
       "      <td>16S stool samples sequenced for MrOS Vitamin D...</td>\n",
       "      <td>16S rRNA v4</td>\n",
       "      <td>GT</td>\n",
       "      <td>Illumina</td>\n",
       "      <td>BI</td>\n",
       "      <td>MrOS</td>\n",
       "      <td>Illumina MiSeq</td>\n",
       "      <td>MrOS_VitaminD</td>\n",
       "      <td>...</td>\n",
       "      <td>0.0</td>\n",
       "      <td>0.273254209219</td>\n",
       "      <td>0.0</td>\n",
       "      <td>0.0</td>\n",
       "      <td>0.00506026313368</td>\n",
       "      <td>0.0</td>\n",
       "      <td>0.00630232772104</td>\n",
       "      <td>0.0246572821787</td>\n",
       "      <td>0.0320636673107</td>\n",
       "      <td>9.20047842488e-05</td>\n",
       "    </tr>\n",
       "    <tr>\n",
       "      <th>BI0056</th>\n",
       "      <td>CAAGCATGCCTA</td>\n",
       "      <td>GGACTACHVGGGTWTCTAAT</td>\n",
       "      <td>16S stool samples sequenced for MrOS Vitamin D...</td>\n",
       "      <td>16S rRNA v4</td>\n",
       "      <td>GT</td>\n",
       "      <td>Illumina</td>\n",
       "      <td>BI</td>\n",
       "      <td>MrOS</td>\n",
       "      <td>Illumina MiSeq</td>\n",
       "      <td>MrOS_VitaminD</td>\n",
       "      <td>...</td>\n",
       "      <td>0.0</td>\n",
       "      <td>0.750930115636</td>\n",
       "      <td>0.0</td>\n",
       "      <td>0.0</td>\n",
       "      <td>0.0</td>\n",
       "      <td>0.00140774258421</td>\n",
       "      <td>0.0112116641528</td>\n",
       "      <td>0.00603318250377</td>\n",
       "      <td>0.0201106083459</td>\n",
       "      <td>0.0</td>\n",
       "    </tr>\n",
       "    <tr>\n",
       "      <th>BI0131</th>\n",
       "      <td>CTATTTGCGACA</td>\n",
       "      <td>GGACTACHVGGGTWTCTAAT</td>\n",
       "      <td>16S stool samples sequenced for MrOS Vitamin D...</td>\n",
       "      <td>16S rRNA v4</td>\n",
       "      <td>GT</td>\n",
       "      <td>Illumina</td>\n",
       "      <td>BI</td>\n",
       "      <td>MrOS</td>\n",
       "      <td>Illumina MiSeq</td>\n",
       "      <td>MrOS_VitaminD</td>\n",
       "      <td>...</td>\n",
       "      <td>0.0</td>\n",
       "      <td>0.249062770355</td>\n",
       "      <td>0.0</td>\n",
       "      <td>0.0</td>\n",
       "      <td>0.000384504469864</td>\n",
       "      <td>0.0</td>\n",
       "      <td>0.00264346823032</td>\n",
       "      <td>0.0448908968567</td>\n",
       "      <td>0.00759396327982</td>\n",
       "      <td>0.0</td>\n",
       "    </tr>\n",
       "    <tr>\n",
       "      <th>BI0153</th>\n",
       "      <td>ATCGGCGTTACA</td>\n",
       "      <td>GGACTACHVGGGTWTCTAAT</td>\n",
       "      <td>16S stool samples sequenced for MrOS Vitamin D...</td>\n",
       "      <td>16S rRNA v4</td>\n",
       "      <td>GT</td>\n",
       "      <td>Illumina</td>\n",
       "      <td>BI</td>\n",
       "      <td>MrOS</td>\n",
       "      <td>Illumina MiSeq</td>\n",
       "      <td>MrOS_VitaminD</td>\n",
       "      <td>...</td>\n",
       "      <td>0.00191659506972</td>\n",
       "      <td>0.485493358007</td>\n",
       "      <td>0.0</td>\n",
       "      <td>0.0</td>\n",
       "      <td>0.000925252792281</td>\n",
       "      <td>0.00898816998216</td>\n",
       "      <td>0.0023131319807</td>\n",
       "      <td>0.155112021677</td>\n",
       "      <td>0.00713766439759</td>\n",
       "      <td>0.000132178970326</td>\n",
       "    </tr>\n",
       "    <tr>\n",
       "      <th>BI0215</th>\n",
       "      <td>CCTCTCGTGATC</td>\n",
       "      <td>GGACTACHVGGGTWTCTAAT</td>\n",
       "      <td>16S stool samples sequenced for MrOS Vitamin D...</td>\n",
       "      <td>16S rRNA v4</td>\n",
       "      <td>GT</td>\n",
       "      <td>Illumina</td>\n",
       "      <td>BI</td>\n",
       "      <td>MrOS</td>\n",
       "      <td>Illumina MiSeq</td>\n",
       "      <td>MrOS_VitaminD</td>\n",
       "      <td>...</td>\n",
       "      <td>0.000113205411219</td>\n",
       "      <td>0.383766344031</td>\n",
       "      <td>0.0</td>\n",
       "      <td>0.0</td>\n",
       "      <td>0.0</td>\n",
       "      <td>0.0164147846267</td>\n",
       "      <td>0.00158487575706</td>\n",
       "      <td>0.0604516895908</td>\n",
       "      <td>0.053319748684</td>\n",
       "      <td>0.0</td>\n",
       "    </tr>\n",
       "  </tbody>\n",
       "</table>\n",
       "<p>5 rows × 74 columns</p>\n",
       "</div>"
      ],
      "text/plain": [
       "       BarcodeSequence  LinkerPrimerSequence  \\\n",
       "BI0023    TCTGGTGACATT  GGACTACHVGGGTWTCTAAT   \n",
       "BI0056    CAAGCATGCCTA  GGACTACHVGGGTWTCTAAT   \n",
       "BI0131    CTATTTGCGACA  GGACTACHVGGGTWTCTAAT   \n",
       "BI0153    ATCGGCGTTACA  GGACTACHVGGGTWTCTAAT   \n",
       "BI0215    CCTCTCGTGATC  GGACTACHVGGGTWTCTAAT   \n",
       "\n",
       "                            Experiment_Design_Description  \\\n",
       "BI0023  16S stool samples sequenced for MrOS Vitamin D...   \n",
       "BI0056  16S stool samples sequenced for MrOS Vitamin D...   \n",
       "BI0131  16S stool samples sequenced for MrOS Vitamin D...   \n",
       "BI0153  16S stool samples sequenced for MrOS Vitamin D...   \n",
       "BI0215  16S stool samples sequenced for MrOS Vitamin D...   \n",
       "\n",
       "       Library_Construction_Protocol Linker  Platform Center_Name  \\\n",
       "BI0023                   16S rRNA v4     GT  Illumina          BI   \n",
       "BI0056                   16S rRNA v4     GT  Illumina          BI   \n",
       "BI0131                   16S rRNA v4     GT  Illumina          BI   \n",
       "BI0153                   16S rRNA v4     GT  Illumina          BI   \n",
       "BI0215                   16S rRNA v4     GT  Illumina          BI   \n",
       "\n",
       "       Center_Project Instrument_Model          Title  \\\n",
       "BI0023           MrOS   Illumina MiSeq  MrOS_VitaminD   \n",
       "BI0056           MrOS   Illumina MiSeq  MrOS_VitaminD   \n",
       "BI0131           MrOS   Illumina MiSeq  MrOS_VitaminD   \n",
       "BI0153           MrOS   Illumina MiSeq  MrOS_VitaminD   \n",
       "BI0215           MrOS   Illumina MiSeq  MrOS_VitaminD   \n",
       "\n",
       "                                                          ...                                                      \\\n",
       "BI0023                                                    ...                                                       \n",
       "BI0056                                                    ...                                                       \n",
       "BI0131                                                    ...                                                       \n",
       "BI0153                                                    ...                                                       \n",
       "BI0215                                                    ...                                                       \n",
       "\n",
       "       k__Bacteria;p__Actinobacteria;c__Actinobacteria;o__Bifidobacteriales;f__Bifidobacteriaceae;g__Bifidobacterium  \\\n",
       "BI0023                                                0.0                                                              \n",
       "BI0056                                                0.0                                                              \n",
       "BI0131                                                0.0                                                              \n",
       "BI0153                                   0.00191659506972                                                              \n",
       "BI0215                                  0.000113205411219                                                              \n",
       "\n",
       "       k__Bacteria;p__Bacteroidetes;c__Bacteroidia;o__Bacteroidales;f__Bacteroidaceae;g__Bacteroides  \\\n",
       "BI0023                                     0.273254209219                                              \n",
       "BI0056                                     0.750930115636                                              \n",
       "BI0131                                     0.249062770355                                              \n",
       "BI0153                                     0.485493358007                                              \n",
       "BI0215                                     0.383766344031                                              \n",
       "\n",
       "       k__Bacteria;p__Firmicutes;c__Bacilli;o__Lactobacillales;f__Lactobacillaceae;g__Lactobacillus  \\\n",
       "BI0023                                                0.0                                             \n",
       "BI0056                                                0.0                                             \n",
       "BI0131                                                0.0                                             \n",
       "BI0153                                                0.0                                             \n",
       "BI0215                                                0.0                                             \n",
       "\n",
       "       k__Bacteria;p__Firmicutes;c__Clostridia;o__Clostridiales;f__Eubacteriaceae;g__Pseudoramibacter_Eubacterium  \\\n",
       "BI0023                                                0.0                                                           \n",
       "BI0056                                                0.0                                                           \n",
       "BI0131                                                0.0                                                           \n",
       "BI0153                                                0.0                                                           \n",
       "BI0215                                                0.0                                                           \n",
       "\n",
       "       k__Bacteria;p__Firmicutes;c__Clostridia;o__Clostridiales;f__Lachnospiraceae;g__Anaerostipes  \\\n",
       "BI0023                                   0.00506026313368                                            \n",
       "BI0056                                                0.0                                            \n",
       "BI0131                                  0.000384504469864                                            \n",
       "BI0153                                  0.000925252792281                                            \n",
       "BI0215                                                0.0                                            \n",
       "\n",
       "       k__Bacteria;p__Firmicutes;c__Clostridia;o__Clostridiales;f__Lachnospiraceae;g__Roseburia  \\\n",
       "BI0023                                                0.0                                         \n",
       "BI0056                                   0.00140774258421                                         \n",
       "BI0131                                                0.0                                         \n",
       "BI0153                                   0.00898816998216                                         \n",
       "BI0215                                    0.0164147846267                                         \n",
       "\n",
       "       k__Bacteria;p__Firmicutes;c__Clostridia;o__Clostridiales;f__Lachnospiraceae;g__[Ruminococcus]  \\\n",
       "BI0023                                   0.00630232772104                                              \n",
       "BI0056                                    0.0112116641528                                              \n",
       "BI0131                                   0.00264346823032                                              \n",
       "BI0153                                    0.0023131319807                                              \n",
       "BI0215                                   0.00158487575706                                              \n",
       "\n",
       "       k__Bacteria;p__Firmicutes;c__Clostridia;o__Clostridiales;f__Ruminococcaceae;g__Faecalibacterium  \\\n",
       "BI0023                                    0.0246572821787                                                \n",
       "BI0056                                   0.00603318250377                                                \n",
       "BI0131                                    0.0448908968567                                                \n",
       "BI0153                                     0.155112021677                                                \n",
       "BI0215                                    0.0604516895908                                                \n",
       "\n",
       "       k__Bacteria;p__Firmicutes;c__Clostridia;o__Clostridiales;f__Ruminococcaceae;g__Ruminococcus  \\\n",
       "BI0023                                    0.0320636673107                                            \n",
       "BI0056                                    0.0201106083459                                            \n",
       "BI0131                                   0.00759396327982                                            \n",
       "BI0153                                   0.00713766439759                                            \n",
       "BI0215                                     0.053319748684                                            \n",
       "\n",
       "       k__Bacteria;p__Firmicutes;c__Erysipelotrichi;o__Erysipelotrichales;f__Erysipelotrichaceae;g__[Eubacterium]  \n",
       "BI0023                                  9.20047842488e-05                                                          \n",
       "BI0056                                                0.0                                                          \n",
       "BI0131                                                0.0                                                          \n",
       "BI0153                                  0.000132178970326                                                          \n",
       "BI0215                                                0.0                                                          \n",
       "\n",
       "[5 rows x 74 columns]"
      ]
     },
     "execution_count": 13,
     "metadata": {},
     "output_type": "execute_result"
    }
   ],
   "source": [
    "df.head()"
   ]
  },
  {
   "cell_type": "code",
   "execution_count": 14,
   "metadata": {
    "collapsed": true
   },
   "outputs": [],
   "source": [
    "select_cols = list(dat.columns)\n",
    "select_cols.append('OHV1D3')\n",
    "select_cols.append('OHVD3')"
   ]
  },
  {
   "cell_type": "code",
   "execution_count": 15,
   "metadata": {
    "collapsed": true
   },
   "outputs": [],
   "source": [
    "table = df.loc[:, df.columns.isin(select_cols)]"
   ]
  },
  {
   "cell_type": "code",
   "execution_count": 16,
   "metadata": {
    "collapsed": false
   },
   "outputs": [
    {
     "data": {
      "text/plain": [
       "(599, 12)"
      ]
     },
     "execution_count": 16,
     "metadata": {},
     "output_type": "execute_result"
    }
   ],
   "source": [
    "table.shape"
   ]
  },
  {
   "cell_type": "code",
   "execution_count": 17,
   "metadata": {
    "collapsed": true
   },
   "outputs": [],
   "source": [
    "table = table.apply(pd.to_numeric, errors='coerce') "
   ]
  },
  {
   "cell_type": "code",
   "execution_count": 18,
   "metadata": {
    "collapsed": false
   },
   "outputs": [
    {
     "data": {
      "text/plain": [
       "Index(['OHV1D3', 'OHVD3',\n",
       "       'k__Bacteria;p__Actinobacteria;c__Actinobacteria;o__Bifidobacteriales;f__Bifidobacteriaceae;g__Bifidobacterium',\n",
       "       'k__Bacteria;p__Bacteroidetes;c__Bacteroidia;o__Bacteroidales;f__Bacteroidaceae;g__Bacteroides',\n",
       "       'k__Bacteria;p__Firmicutes;c__Bacilli;o__Lactobacillales;f__Lactobacillaceae;g__Lactobacillus',\n",
       "       'k__Bacteria;p__Firmicutes;c__Clostridia;o__Clostridiales;f__Eubacteriaceae;g__Pseudoramibacter_Eubacterium',\n",
       "       'k__Bacteria;p__Firmicutes;c__Clostridia;o__Clostridiales;f__Lachnospiraceae;g__Anaerostipes',\n",
       "       'k__Bacteria;p__Firmicutes;c__Clostridia;o__Clostridiales;f__Lachnospiraceae;g__Roseburia',\n",
       "       'k__Bacteria;p__Firmicutes;c__Clostridia;o__Clostridiales;f__Lachnospiraceae;g__[Ruminococcus]',\n",
       "       'k__Bacteria;p__Firmicutes;c__Clostridia;o__Clostridiales;f__Ruminococcaceae;g__Faecalibacterium',\n",
       "       'k__Bacteria;p__Firmicutes;c__Clostridia;o__Clostridiales;f__Ruminococcaceae;g__Ruminococcus',\n",
       "       'k__Bacteria;p__Firmicutes;c__Erysipelotrichi;o__Erysipelotrichales;f__Erysipelotrichaceae;g__[Eubacterium]'],\n",
       "      dtype='object')"
      ]
     },
     "execution_count": 18,
     "metadata": {},
     "output_type": "execute_result"
    }
   ],
   "source": [
    "table.columns"
   ]
  },
  {
   "cell_type": "code",
   "execution_count": 19,
   "metadata": {
    "collapsed": true
   },
   "outputs": [],
   "source": [
    "table = table.rename(columns = {'k__Bacteria;p__Actinobacteria;c__Actinobacteria;o__Bifidobacteriales;f__Bifidobacteriaceae;g__Bifidobacterium':'Bifidobacterium',\n",
    "                                'k__Bacteria;p__Bacteroidetes;c__Bacteroidia;o__Bacteroidales;f__Bacteroidaceae;g__Bacteroides': 'Bacteroides',\n",
    "                                'k__Bacteria;p__Firmicutes;c__Bacilli;o__Lactobacillales;f__Lactobacillaceae;g__Lactobacillus': 'Lactobacillus',\n",
    "                               'k__Bacteria;p__Firmicutes;c__Clostridia;o__Clostridiales;f__Eubacteriaceae;g__Pseudoramibacter_Eubacterium': 'Pseudoramibacter_Eubacterium',\n",
    "                               'k__Bacteria;p__Firmicutes;c__Clostridia;o__Clostridiales;f__Lachnospiraceae;g__Anaerostipes': 'Anaerostipes',\n",
    "                               'k__Bacteria;p__Firmicutes;c__Clostridia;o__Clostridiales;f__Lachnospiraceae;g__Roseburia': 'Roseburia',\n",
    "                               'k__Bacteria;p__Firmicutes;c__Clostridia;o__Clostridiales;f__Lachnospiraceae;g__[Ruminococcus]': 'Lachnospiraceae_Ruminococcus',\n",
    "                               'k__Bacteria;p__Firmicutes;c__Clostridia;o__Clostridiales;f__Ruminococcaceae;g__Faecalibacterium': 'Faecalibacterium',\n",
    "                                'k__Bacteria;p__Firmicutes;c__Clostridia;o__Clostridiales;f__Ruminococcaceae;g__Ruminococcus': 'Ruminococcus',\n",
    "                               'k__Bacteria;p__Firmicutes;c__Erysipelotrichi;o__Erysipelotrichales;f__Erysipelotrichaceae;g__[Eubacterium]': 'Eubacterium'})"
   ]
  },
  {
   "cell_type": "code",
   "execution_count": 20,
   "metadata": {
    "collapsed": false
   },
   "outputs": [
    {
     "data": {
      "text/html": [
       "<div>\n",
       "<style>\n",
       "    .dataframe thead tr:only-child th {\n",
       "        text-align: right;\n",
       "    }\n",
       "\n",
       "    .dataframe thead th {\n",
       "        text-align: left;\n",
       "    }\n",
       "\n",
       "    .dataframe tbody tr th {\n",
       "        vertical-align: top;\n",
       "    }\n",
       "</style>\n",
       "<table border=\"1\" class=\"dataframe\">\n",
       "  <thead>\n",
       "    <tr style=\"text-align: right;\">\n",
       "      <th></th>\n",
       "      <th>OHV1D3</th>\n",
       "      <th>OHVD3</th>\n",
       "      <th>Bifidobacterium</th>\n",
       "      <th>Bacteroides</th>\n",
       "      <th>Lactobacillus</th>\n",
       "      <th>Pseudoramibacter_Eubacterium</th>\n",
       "      <th>Anaerostipes</th>\n",
       "      <th>Roseburia</th>\n",
       "      <th>Lachnospiraceae_Ruminococcus</th>\n",
       "      <th>Faecalibacterium</th>\n",
       "      <th>Ruminococcus</th>\n",
       "      <th>Eubacterium</th>\n",
       "    </tr>\n",
       "  </thead>\n",
       "  <tbody>\n",
       "    <tr>\n",
       "      <th>BI0023</th>\n",
       "      <td>39.3</td>\n",
       "      <td>25.8</td>\n",
       "      <td>0.000000</td>\n",
       "      <td>0.273254</td>\n",
       "      <td>0.0</td>\n",
       "      <td>0.0</td>\n",
       "      <td>0.005060</td>\n",
       "      <td>0.000000</td>\n",
       "      <td>0.006302</td>\n",
       "      <td>0.024657</td>\n",
       "      <td>0.032064</td>\n",
       "      <td>0.000092</td>\n",
       "    </tr>\n",
       "    <tr>\n",
       "      <th>BI0056</th>\n",
       "      <td>61.9</td>\n",
       "      <td>39.2</td>\n",
       "      <td>0.000000</td>\n",
       "      <td>0.750930</td>\n",
       "      <td>0.0</td>\n",
       "      <td>0.0</td>\n",
       "      <td>0.000000</td>\n",
       "      <td>0.001408</td>\n",
       "      <td>0.011212</td>\n",
       "      <td>0.006033</td>\n",
       "      <td>0.020111</td>\n",
       "      <td>0.000000</td>\n",
       "    </tr>\n",
       "    <tr>\n",
       "      <th>BI0131</th>\n",
       "      <td>52.1</td>\n",
       "      <td>23.1</td>\n",
       "      <td>0.000000</td>\n",
       "      <td>0.249063</td>\n",
       "      <td>0.0</td>\n",
       "      <td>0.0</td>\n",
       "      <td>0.000385</td>\n",
       "      <td>0.000000</td>\n",
       "      <td>0.002643</td>\n",
       "      <td>0.044891</td>\n",
       "      <td>0.007594</td>\n",
       "      <td>0.000000</td>\n",
       "    </tr>\n",
       "    <tr>\n",
       "      <th>BI0153</th>\n",
       "      <td>43.1</td>\n",
       "      <td>27.3</td>\n",
       "      <td>0.001917</td>\n",
       "      <td>0.485493</td>\n",
       "      <td>0.0</td>\n",
       "      <td>0.0</td>\n",
       "      <td>0.000925</td>\n",
       "      <td>0.008988</td>\n",
       "      <td>0.002313</td>\n",
       "      <td>0.155112</td>\n",
       "      <td>0.007138</td>\n",
       "      <td>0.000132</td>\n",
       "    </tr>\n",
       "    <tr>\n",
       "      <th>BI0215</th>\n",
       "      <td>50.2</td>\n",
       "      <td>33.0</td>\n",
       "      <td>0.000113</td>\n",
       "      <td>0.383766</td>\n",
       "      <td>0.0</td>\n",
       "      <td>0.0</td>\n",
       "      <td>0.000000</td>\n",
       "      <td>0.016415</td>\n",
       "      <td>0.001585</td>\n",
       "      <td>0.060452</td>\n",
       "      <td>0.053320</td>\n",
       "      <td>0.000000</td>\n",
       "    </tr>\n",
       "  </tbody>\n",
       "</table>\n",
       "</div>"
      ],
      "text/plain": [
       "        OHV1D3  OHVD3  Bifidobacterium  Bacteroides  Lactobacillus  \\\n",
       "BI0023    39.3   25.8         0.000000     0.273254            0.0   \n",
       "BI0056    61.9   39.2         0.000000     0.750930            0.0   \n",
       "BI0131    52.1   23.1         0.000000     0.249063            0.0   \n",
       "BI0153    43.1   27.3         0.001917     0.485493            0.0   \n",
       "BI0215    50.2   33.0         0.000113     0.383766            0.0   \n",
       "\n",
       "        Pseudoramibacter_Eubacterium  Anaerostipes  Roseburia  \\\n",
       "BI0023                           0.0      0.005060   0.000000   \n",
       "BI0056                           0.0      0.000000   0.001408   \n",
       "BI0131                           0.0      0.000385   0.000000   \n",
       "BI0153                           0.0      0.000925   0.008988   \n",
       "BI0215                           0.0      0.000000   0.016415   \n",
       "\n",
       "        Lachnospiraceae_Ruminococcus  Faecalibacterium  Ruminococcus  \\\n",
       "BI0023                      0.006302          0.024657      0.032064   \n",
       "BI0056                      0.011212          0.006033      0.020111   \n",
       "BI0131                      0.002643          0.044891      0.007594   \n",
       "BI0153                      0.002313          0.155112      0.007138   \n",
       "BI0215                      0.001585          0.060452      0.053320   \n",
       "\n",
       "        Eubacterium  \n",
       "BI0023     0.000092  \n",
       "BI0056     0.000000  \n",
       "BI0131     0.000000  \n",
       "BI0153     0.000132  \n",
       "BI0215     0.000000  "
      ]
     },
     "execution_count": 20,
     "metadata": {},
     "output_type": "execute_result"
    }
   ],
   "source": [
    "table.head()"
   ]
  },
  {
   "cell_type": "code",
   "execution_count": 21,
   "metadata": {
    "collapsed": true
   },
   "outputs": [],
   "source": [
    "table.to_csv('genus.txt', sep='\\t')"
   ]
  },
  {
   "cell_type": "code",
   "execution_count": 22,
   "metadata": {
    "collapsed": false
   },
   "outputs": [
    {
     "data": {
      "text/plain": [
       "Index(['Bifidobacterium', 'Bacteroides', 'Lactobacillus',\n",
       "       'Pseudoramibacter_Eubacterium', 'Anaerostipes', 'Roseburia',\n",
       "       'Lachnospiraceae_Ruminococcus', 'Faecalibacterium', 'Ruminococcus',\n",
       "       'Eubacterium'],\n",
       "      dtype='object')"
      ]
     },
     "execution_count": 22,
     "metadata": {},
     "output_type": "execute_result"
    }
   ],
   "source": [
    "genus = table.columns[2:]\n",
    "genus"
   ]
  },
  {
   "cell_type": "code",
   "execution_count": 23,
   "metadata": {
    "collapsed": true
   },
   "outputs": [],
   "source": [
    "# take logarithm of the table\n",
    "# table[genus] = np.log2(table[genus])"
   ]
  },
  {
   "cell_type": "code",
   "execution_count": 24,
   "metadata": {
    "collapsed": false
   },
   "outputs": [
    {
     "data": {
      "text/plain": [
       "<matplotlib.legend.Legend at 0x113a36898>"
      ]
     },
     "execution_count": 24,
     "metadata": {},
     "output_type": "execute_result"
    },
    {
     "data": {
      "image/png": "[encoded data removed]",
      "text/plain": [
       "<matplotlib.figure.Figure at 0x115bf8fd0>"
      ]
     },
     "metadata": {},
     "output_type": "display_data"
    }
   ],
   "source": [
    "import seaborn as sns; sns.set(color_codes=True)\n",
    "sns.set_palette(\"husl\", n_colors=len(genus))\n",
    "for i in range(len(genus)):\n",
    "    ax = sns.regplot(x=\"OHVD3\", y=genus[i], label=genus[i], data=table)\n",
    "ax.set(xlabel='OHVD3', ylabel='bacteria')\n",
    "plt.legend(bbox_to_anchor=(1.05, 1), loc=2, borderaxespad=0.)"
   ]
  },
  {
   "cell_type": "code",
   "execution_count": 25,
   "metadata": {
    "collapsed": false
   },
   "outputs": [
    {
     "data": {
      "text/plain": [
       "<matplotlib.legend.Legend at 0x119114fd0>"
      ]
     },
     "execution_count": 25,
     "metadata": {},
     "output_type": "execute_result"
    },
    {
     "data": {
      "image/png": "[encoded data removed]",
      "text/plain": [
       "<matplotlib.figure.Figure at 0x113a36080>"
      ]
     },
     "metadata": {},
     "output_type": "display_data"
    }
   ],
   "source": [
    "sns.set_palette(\"husl\", n_colors=len(genus))\n",
    "for i in range(len(genus)):\n",
    "    ax = sns.regplot(x=\"OHV1D3\", y=genus[i], label=genus[i], data=table) # how to add legend\n",
    "    \n",
    "ax.set(xlabel='OHV1D3', ylabel='bacteria')\n",
    "plt.legend(bbox_to_anchor=(1.05, 1), loc=2, borderaxespad=0.)"
   ]
  },
  {
   "cell_type": "code",
   "execution_count": 33,
   "metadata": {
    "collapsed": false,
    "scrolled": true
   },
   "outputs": [
    {
     "data": {
      "text/html": [
       "<div>\n",
       "<style>\n",
       "    .dataframe thead tr:only-child th {\n",
       "        text-align: right;\n",
       "    }\n",
       "\n",
       "    .dataframe thead th {\n",
       "        text-align: left;\n",
       "    }\n",
       "\n",
       "    .dataframe tbody tr th {\n",
       "        vertical-align: top;\n",
       "    }\n",
       "</style>\n",
       "<table border=\"1\" class=\"dataframe\">\n",
       "  <thead>\n",
       "    <tr style=\"text-align: right;\">\n",
       "      <th></th>\n",
       "      <th>y</th>\n",
       "      <th>X</th>\n",
       "      <th>slope</th>\n",
       "      <th>pvalue</th>\n",
       "      <th>adjusted R-square</th>\n",
       "    </tr>\n",
       "  </thead>\n",
       "  <tbody>\n",
       "    <tr>\n",
       "      <th>0</th>\n",
       "      <td>OHV1D3</td>\n",
       "      <td>Bifidobacterium</td>\n",
       "      <td>2.679217e-06</td>\n",
       "      <td>0.868669</td>\n",
       "      <td>-0.001721</td>\n",
       "    </tr>\n",
       "    <tr>\n",
       "      <th>1</th>\n",
       "      <td>OHV1D3</td>\n",
       "      <td>Bacteroides</td>\n",
       "      <td>-9.728757e-04</td>\n",
       "      <td>0.011666</td>\n",
       "      <td>0.009455</td>\n",
       "    </tr>\n",
       "    <tr>\n",
       "      <th>2</th>\n",
       "      <td>OHV1D3</td>\n",
       "      <td>Lactobacillus</td>\n",
       "      <td>-6.630435e-06</td>\n",
       "      <td>0.392207</td>\n",
       "      <td>-0.000472</td>\n",
       "    </tr>\n",
       "    <tr>\n",
       "      <th>3</th>\n",
       "      <td>OHV1D3</td>\n",
       "      <td>Pseudoramibacter_Eubacterium</td>\n",
       "      <td>-5.588975e-07</td>\n",
       "      <td>0.188975</td>\n",
       "      <td>0.001288</td>\n",
       "    </tr>\n",
       "    <tr>\n",
       "      <th>4</th>\n",
       "      <td>OHV1D3</td>\n",
       "      <td>Anaerostipes</td>\n",
       "      <td>3.555792e-06</td>\n",
       "      <td>0.789175</td>\n",
       "      <td>-0.001643</td>\n",
       "    </tr>\n",
       "    <tr>\n",
       "      <th>5</th>\n",
       "      <td>OHV1D3</td>\n",
       "      <td>Roseburia</td>\n",
       "      <td>-2.001011e-05</td>\n",
       "      <td>0.352369</td>\n",
       "      <td>-0.000236</td>\n",
       "    </tr>\n",
       "    <tr>\n",
       "      <th>6</th>\n",
       "      <td>OHV1D3</td>\n",
       "      <td>Lachnospiraceae_Ruminococcus</td>\n",
       "      <td>-1.695358e-05</td>\n",
       "      <td>0.371823</td>\n",
       "      <td>-0.000356</td>\n",
       "    </tr>\n",
       "    <tr>\n",
       "      <th>7</th>\n",
       "      <td>OHV1D3</td>\n",
       "      <td>Faecalibacterium</td>\n",
       "      <td>5.963169e-05</td>\n",
       "      <td>0.607432</td>\n",
       "      <td>-0.001302</td>\n",
       "    </tr>\n",
       "    <tr>\n",
       "      <th>8</th>\n",
       "      <td>OHV1D3</td>\n",
       "      <td>Ruminococcus</td>\n",
       "      <td>2.174128e-04</td>\n",
       "      <td>0.001211</td>\n",
       "      <td>0.016646</td>\n",
       "    </tr>\n",
       "    <tr>\n",
       "      <th>9</th>\n",
       "      <td>OHV1D3</td>\n",
       "      <td>Eubacterium</td>\n",
       "      <td>8.653888e-06</td>\n",
       "      <td>0.394207</td>\n",
       "      <td>-0.000483</td>\n",
       "    </tr>\n",
       "  </tbody>\n",
       "</table>\n",
       "</div>"
      ],
      "text/plain": [
       "        y                             X         slope    pvalue  \\\n",
       "0  OHV1D3               Bifidobacterium  2.679217e-06  0.868669   \n",
       "1  OHV1D3                   Bacteroides -9.728757e-04  0.011666   \n",
       "2  OHV1D3                 Lactobacillus -6.630435e-06  0.392207   \n",
       "3  OHV1D3  Pseudoramibacter_Eubacterium -5.588975e-07  0.188975   \n",
       "4  OHV1D3                  Anaerostipes  3.555792e-06  0.789175   \n",
       "5  OHV1D3                     Roseburia -2.001011e-05  0.352369   \n",
       "6  OHV1D3  Lachnospiraceae_Ruminococcus -1.695358e-05  0.371823   \n",
       "7  OHV1D3              Faecalibacterium  5.963169e-05  0.607432   \n",
       "8  OHV1D3                  Ruminococcus  2.174128e-04  0.001211   \n",
       "9  OHV1D3                   Eubacterium  8.653888e-06  0.394207   \n",
       "\n",
       "   adjusted R-square  \n",
       "0          -0.001721  \n",
       "1           0.009455  \n",
       "2          -0.000472  \n",
       "3           0.001288  \n",
       "4          -0.001643  \n",
       "5          -0.000236  \n",
       "6          -0.000356  \n",
       "7          -0.001302  \n",
       "8           0.016646  \n",
       "9          -0.000483  "
      ]
     },
     "execution_count": 33,
     "metadata": {},
     "output_type": "execute_result"
    }
   ],
   "source": [
    "import statsmodels.api as sm # need to add constant manually in statsmodel with add_constant()\n",
    "out = []\n",
    "for i in range(len(genus)):\n",
    "    y = table[genus[i]]\n",
    "    X = table[['OHV1D3']]\n",
    "    model = sm.OLS(y, sm.add_constant(X), missing='drop') \n",
    "    results = model.fit()\n",
    "    #print(results.summary())\n",
    "    out.append(['OHV1D3', genus[i], results.params[1], \n",
    "                   results.pvalues[1], results.rsquared_adj])\n",
    "out = pd.DataFrame(out, columns=['y', 'X', 'slope', 'pvalue', 'adjusted R-square'])\n",
    "out"
   ]
  },
  {
   "cell_type": "code",
   "execution_count": 34,
   "metadata": {
    "collapsed": false,
    "scrolled": false
   },
   "outputs": [
    {
     "data": {
      "text/html": [
       "<div>\n",
       "<style>\n",
       "    .dataframe thead tr:only-child th {\n",
       "        text-align: right;\n",
       "    }\n",
       "\n",
       "    .dataframe thead th {\n",
       "        text-align: left;\n",
       "    }\n",
       "\n",
       "    .dataframe tbody tr th {\n",
       "        vertical-align: top;\n",
       "    }\n",
       "</style>\n",
       "<table border=\"1\" class=\"dataframe\">\n",
       "  <thead>\n",
       "    <tr style=\"text-align: right;\">\n",
       "      <th></th>\n",
       "      <th>y</th>\n",
       "      <th>X</th>\n",
       "      <th>slope</th>\n",
       "      <th>pvalue</th>\n",
       "      <th>adjusted R-square</th>\n",
       "    </tr>\n",
       "  </thead>\n",
       "  <tbody>\n",
       "    <tr>\n",
       "      <th>0</th>\n",
       "      <td>OHVD3</td>\n",
       "      <td>Bifidobacterium</td>\n",
       "      <td>8.580007e-06</td>\n",
       "      <td>0.725574</td>\n",
       "      <td>-0.001582</td>\n",
       "    </tr>\n",
       "    <tr>\n",
       "      <th>1</th>\n",
       "      <td>OHVD3</td>\n",
       "      <td>Bacteroides</td>\n",
       "      <td>8.957975e-04</td>\n",
       "      <td>0.149943</td>\n",
       "      <td>0.001940</td>\n",
       "    </tr>\n",
       "    <tr>\n",
       "      <th>2</th>\n",
       "      <td>OHVD3</td>\n",
       "      <td>Lactobacillus</td>\n",
       "      <td>-6.502013e-06</td>\n",
       "      <td>0.604431</td>\n",
       "      <td>-0.001319</td>\n",
       "    </tr>\n",
       "    <tr>\n",
       "      <th>3</th>\n",
       "      <td>OHVD3</td>\n",
       "      <td>Pseudoramibacter_Eubacterium</td>\n",
       "      <td>-2.958449e-07</td>\n",
       "      <td>0.667810</td>\n",
       "      <td>-0.001472</td>\n",
       "    </tr>\n",
       "    <tr>\n",
       "      <th>4</th>\n",
       "      <td>OHVD3</td>\n",
       "      <td>Anaerostipes</td>\n",
       "      <td>-1.958781e-05</td>\n",
       "      <td>0.362874</td>\n",
       "      <td>-0.000308</td>\n",
       "    </tr>\n",
       "    <tr>\n",
       "      <th>5</th>\n",
       "      <td>OHVD3</td>\n",
       "      <td>Roseburia</td>\n",
       "      <td>-1.136300e-06</td>\n",
       "      <td>0.973942</td>\n",
       "      <td>-0.001803</td>\n",
       "    </tr>\n",
       "    <tr>\n",
       "      <th>6</th>\n",
       "      <td>OHVD3</td>\n",
       "      <td>Lachnospiraceae_Ruminococcus</td>\n",
       "      <td>-1.045947e-05</td>\n",
       "      <td>0.731429</td>\n",
       "      <td>-0.001592</td>\n",
       "    </tr>\n",
       "    <tr>\n",
       "      <th>7</th>\n",
       "      <td>OHVD3</td>\n",
       "      <td>Faecalibacterium</td>\n",
       "      <td>1.179252e-04</td>\n",
       "      <td>0.526693</td>\n",
       "      <td>-0.001080</td>\n",
       "    </tr>\n",
       "    <tr>\n",
       "      <th>8</th>\n",
       "      <td>OHVD3</td>\n",
       "      <td>Ruminococcus</td>\n",
       "      <td>2.061847e-04</td>\n",
       "      <td>0.056949</td>\n",
       "      <td>0.004733</td>\n",
       "    </tr>\n",
       "    <tr>\n",
       "      <th>9</th>\n",
       "      <td>OHVD3</td>\n",
       "      <td>Eubacterium</td>\n",
       "      <td>-1.882382e-05</td>\n",
       "      <td>0.251726</td>\n",
       "      <td>0.000570</td>\n",
       "    </tr>\n",
       "  </tbody>\n",
       "</table>\n",
       "</div>"
      ],
      "text/plain": [
       "       y                             X         slope    pvalue  \\\n",
       "0  OHVD3               Bifidobacterium  8.580007e-06  0.725574   \n",
       "1  OHVD3                   Bacteroides  8.957975e-04  0.149943   \n",
       "2  OHVD3                 Lactobacillus -6.502013e-06  0.604431   \n",
       "3  OHVD3  Pseudoramibacter_Eubacterium -2.958449e-07  0.667810   \n",
       "4  OHVD3                  Anaerostipes -1.958781e-05  0.362874   \n",
       "5  OHVD3                     Roseburia -1.136300e-06  0.973942   \n",
       "6  OHVD3  Lachnospiraceae_Ruminococcus -1.045947e-05  0.731429   \n",
       "7  OHVD3              Faecalibacterium  1.179252e-04  0.526693   \n",
       "8  OHVD3                  Ruminococcus  2.061847e-04  0.056949   \n",
       "9  OHVD3                   Eubacterium -1.882382e-05  0.251726   \n",
       "\n",
       "   adjusted R-square  \n",
       "0          -0.001582  \n",
       "1           0.001940  \n",
       "2          -0.001319  \n",
       "3          -0.001472  \n",
       "4          -0.000308  \n",
       "5          -0.001803  \n",
       "6          -0.001592  \n",
       "7          -0.001080  \n",
       "8           0.004733  \n",
       "9           0.000570  "
      ]
     },
     "execution_count": 34,
     "metadata": {},
     "output_type": "execute_result"
    }
   ],
   "source": [
    "output = []\n",
    "for i in range(len(genus)):\n",
    "    y = table[genus[i]]\n",
    "    X = table[['OHVD3']]\n",
    "    model = sm.OLS(y, sm.add_constant(X), missing='drop') \n",
    "    results = model.fit()\n",
    "    #print(results.summary())\n",
    "    output.append(['OHVD3', genus[i], results.params[1], \n",
    "                   results.pvalues[1], results.rsquared_adj])\n",
    "output = pd.DataFrame(output, columns=['y', 'X', 'slope', 'pvalue', 'adjusted R-square'])\n",
    "output"
   ]
  },
  {
   "cell_type": "markdown",
   "metadata": {},
   "source": [
    "## plot"
   ]
  },
  {
   "cell_type": "code",
   "execution_count": null,
   "metadata": {
    "collapsed": true
   },
   "outputs": [],
   "source": [
    "table1 = table.drop('OHVD3', 1)\n",
    "values = table1['OHV1D3'].unique()\n",
    "info = np.zeros([len(genus)+1, len(values)])\n",
    "for i in range(len(values)):\n",
    "    sub = table1.loc[table['OHV1D3'] == values[i]]\n",
    "    sub = sub.mean(axis=0)\n",
    "    info[:, i] = sub"
   ]
  },
  {
   "cell_type": "code",
   "execution_count": null,
   "metadata": {
    "collapsed": false
   },
   "outputs": [],
   "source": [
    "info.shape"
   ]
  },
  {
   "cell_type": "code",
   "execution_count": null,
   "metadata": {
    "collapsed": true
   },
   "outputs": [],
   "source": [
    "info = pd.DataFrame(info, index=table1.columns).transpose()"
   ]
  },
  {
   "cell_type": "code",
   "execution_count": null,
   "metadata": {
    "collapsed": false
   },
   "outputs": [],
   "source": [
    "info.head()"
   ]
  },
  {
   "cell_type": "code",
   "execution_count": null,
   "metadata": {
    "collapsed": false
   },
   "outputs": [],
   "source": [
    "plt.bar(info.OHV1D3, info.Bifidobacterium*100, color = 'b')\n",
    "plt.bar(info.OHV1D3, info.Pseudoramibacter_Eubacterium*100, color = 'r', bottom = info.Bifidobacterium)\n",
    "plt.show()"
   ]
  },
  {
   "cell_type": "code",
   "execution_count": null,
   "metadata": {
    "collapsed": true
   },
   "outputs": [],
   "source": [
    "# check\n",
    "sub = table1.loc[table['OHV1D3'] == values[0]]\n",
    "sub = sub.mean(axis=0)\n",
    "print(sub)\n",
    "sub = table1.loc[table['OHV1D3'] == values[2]]\n",
    "sub = sub.mean(axis=0)\n",
    "sub"
   ]
  },
  {
   "cell_type": "code",
   "execution_count": null,
   "metadata": {
    "collapsed": true
   },
   "outputs": [],
   "source": []
  },
  {
   "cell_type": "code",
   "execution_count": null,
   "metadata": {
    "collapsed": true
   },
   "outputs": [],
   "source": [
    "# clustermap: http://seaborn.pydata.org/generated/seaborn.clustermap.html"
   ]
  }
 ],
 "metadata": {
  "kernelspec": {
   "display_name": "Python 3",
   "language": "python",
   "name": "python3"
  },
  "language_info": {
   "codemirror_mode": {
    "name": "ipython",
    "version": 3
   },
   "file_extension": ".py",
   "mimetype": "text/x-python",
   "name": "python",
   "nbconvert_exporter": "python",
   "pygments_lexer": "ipython3",
   "version": "3.5.3"
  }
 },
 "nbformat": 4,
 "nbformat_minor": 2
}
