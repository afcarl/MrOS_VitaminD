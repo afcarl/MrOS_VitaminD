{
 "cells": [
  {
   "cell_type": "code",
   "execution_count": 1,
   "metadata": {
    "collapsed": false
   },
   "outputs": [
    {
     "name": "stderr",
     "output_type": "stream",
     "text": [
      "Loading required package: permute\n",
      "Loading required package: lattice\n",
      "This is vegan 2.4-3\n"
     ]
    }
   ],
   "source": [
    "library(vegan)"
   ]
  },
  {
   "cell_type": "code",
   "execution_count": 2,
   "metadata": {
    "collapsed": true
   },
   "outputs": [],
   "source": [
    "mf = read.csv('../data/mapping_PDalpha.txt', stringsAsFactors=FALSE, sep='\\t')\n",
    "colnames(mf)[1] = 'SampleName'"
   ]
  },
  {
   "cell_type": "code",
   "execution_count": 3,
   "metadata": {
    "collapsed": false
   },
   "outputs": [
    {
     "data": {
      "text/html": [
       "<table>\n",
       "<thead><tr><th scope=col>SampleName</th><th scope=col>BarcodeSequence</th><th scope=col>LinkerPrimerSequence</th><th scope=col>Experiment_Design_Description</th><th scope=col>Library_Construction_Protocol</th><th scope=col>Linker</th><th scope=col>Platform</th><th scope=col>Center_Name</th><th scope=col>Center_Project</th><th scope=col>Instrument_Model</th><th scope=col>⋯</th><th scope=col>OHV1D2CT</th><th scope=col>OHVD2CT</th><th scope=col>OHVDTOT</th><th scope=col>OHV1DTOT</th><th scope=col>OHSEAS</th><th scope=col>VDstatus</th><th scope=col>Description</th><th scope=col>ratio_activation</th><th scope=col>ratio_catabolism</th><th scope=col>alpha_pd</th></tr></thead>\n",
       "<tbody>\n",
       "\t<tr><td>BI0023                                              </td><td>TCTGGTGACATT                                        </td><td>GGACTACHVGGGTWTCTAAT                                </td><td>16S stool samples sequenced for MrOS Vitamin D study</td><td>16S rRNA v4                                         </td><td>GT                                                  </td><td>Illumina                                            </td><td>BI                                                  </td><td>MrOS                                                </td><td>Illumina MiSeq                                      </td><td>⋯                                                   </td><td>1: Yes                                              </td><td>1: Yes                                              </td><td>25.8                                                </td><td>0.0393                                              </td><td>3:SUMMER                                            </td><td>sufficiency                                         </td><td>Orwoll.BI0023.BI                                    </td><td>0.001523256                                         </td><td>0.06860465                                          </td><td>22.49523                                            </td></tr>\n",
       "\t<tr><td>BI0056                                              </td><td>CAAGCATGCCTA                                        </td><td>GGACTACHVGGGTWTCTAAT                                </td><td>16S stool samples sequenced for MrOS Vitamin D study</td><td>16S rRNA v4                                         </td><td>GT                                                  </td><td>Illumina                                            </td><td>BI                                                  </td><td>MrOS                                                </td><td>Illumina MiSeq                                      </td><td>⋯                                                   </td><td>1: Yes                                              </td><td>1: Yes                                              </td><td>39.2                                                </td><td>0.0619                                              </td><td>2:SPRING                                            </td><td>sufficiency                                         </td><td>Orwoll.BI0056.BI                                    </td><td>0.001579082                                         </td><td>0.09974490                                          </td><td>14.80982                                            </td></tr>\n",
       "\t<tr><td>BI0131                                              </td><td>CTATTTGCGACA                                        </td><td>GGACTACHVGGGTWTCTAAT                                </td><td>16S stool samples sequenced for MrOS Vitamin D study</td><td>16S rRNA v4                                         </td><td>GT                                                  </td><td>Illumina                                            </td><td>BI                                                  </td><td>MrOS                                                </td><td>Illumina MiSeq                                      </td><td>⋯                                                   </td><td>1: Yes                                              </td><td>1: Yes                                              </td><td>23.1                                                </td><td>0.0521                                              </td><td>2:SPRING                                            </td><td>sufficiency                                         </td><td>Orwoll.BI0131.BI                                    </td><td>0.002255411                                         </td><td>0.06450216                                          </td><td>17.61783                                            </td></tr>\n",
       "\t<tr><td>BI0153                                              </td><td>ATCGGCGTTACA                                        </td><td>GGACTACHVGGGTWTCTAAT                                </td><td>16S stool samples sequenced for MrOS Vitamin D study</td><td>16S rRNA v4                                         </td><td>GT                                                  </td><td>Illumina                                            </td><td>BI                                                  </td><td>MrOS                                                </td><td>Illumina MiSeq                                      </td><td>⋯                                                   </td><td>1: Yes                                              </td><td>1: Yes                                              </td><td>27.3                                                </td><td>0.0431                                              </td><td>2:SPRING                                            </td><td>sufficiency                                         </td><td>Orwoll.BI0153.BI                                    </td><td>0.001578755                                         </td><td>0.07838828                                          </td><td>14.79724                                            </td></tr>\n",
       "\t<tr><td>BI0215                                              </td><td>CCTCTCGTGATC                                        </td><td>GGACTACHVGGGTWTCTAAT                                </td><td>16S stool samples sequenced for MrOS Vitamin D study</td><td>16S rRNA v4                                         </td><td>GT                                                  </td><td>Illumina                                            </td><td>BI                                                  </td><td>MrOS                                                </td><td>Illumina MiSeq                                      </td><td>⋯                                                   </td><td>1: Yes                                              </td><td>1: Yes                                              </td><td>33.0                                                </td><td>0.0502                                              </td><td>4:FALL                                              </td><td>sufficiency                                         </td><td>Orwoll.BI0215.BI                                    </td><td>0.001521212                                         </td><td>0.10969697                                          </td><td>15.39670                                            </td></tr>\n",
       "\t<tr><td>BI0353                                              </td><td>TGCCATCTGAAT                                        </td><td>GGACTACHVGGGTWTCTAAT                                </td><td>16S stool samples sequenced for MrOS Vitamin D study</td><td>16S rRNA v4                                         </td><td>GT                                                  </td><td>Illumina                                            </td><td>BI                                                  </td><td>MrOS                                                </td><td>Illumina MiSeq                                      </td><td>⋯                                                   </td><td>1: Yes                                              </td><td>1: Yes                                              </td><td>19.5                                                </td><td>0.0455                                              </td><td>2:SPRING                                            </td><td>deficiency                                          </td><td>Orwoll.BI0353.BI                                    </td><td>0.002333333                                         </td><td>0.09179487                                          </td><td>10.69057                                            </td></tr>\n",
       "</tbody>\n",
       "</table>\n"
      ],
      "text/latex": [
       "\\begin{tabular}{r|llllllllllllllllllllllllllllllllllllllllllllllllllllllllllllllllllll}\n",
       " SampleName & BarcodeSequence & LinkerPrimerSequence & Experiment\\_Design\\_Description & Library\\_Construction\\_Protocol & Linker & Platform & Center\\_Name & Center\\_Project & Instrument\\_Model & ⋯ & OHV1D2CT & OHVD2CT & OHVDTOT & OHV1DTOT & OHSEAS & VDstatus & Description & ratio\\_activation & ratio\\_catabolism & alpha\\_pd\\\\\n",
       "\\hline\n",
       "\t BI0023                                               & TCTGGTGACATT                                         & GGACTACHVGGGTWTCTAAT                                 & 16S stool samples sequenced for MrOS Vitamin D study & 16S rRNA v4                                          & GT                                                   & Illumina                                             & BI                                                   & MrOS                                                 & Illumina MiSeq                                       & ⋯                                                    & 1: Yes                                               & 1: Yes                                               & 25.8                                                 & 0.0393                                               & 3:SUMMER                                             & sufficiency                                          & Orwoll.BI0023.BI                                     & 0.001523256                                          & 0.06860465                                           & 22.49523                                            \\\\\n",
       "\t BI0056                                               & CAAGCATGCCTA                                         & GGACTACHVGGGTWTCTAAT                                 & 16S stool samples sequenced for MrOS Vitamin D study & 16S rRNA v4                                          & GT                                                   & Illumina                                             & BI                                                   & MrOS                                                 & Illumina MiSeq                                       & ⋯                                                    & 1: Yes                                               & 1: Yes                                               & 39.2                                                 & 0.0619                                               & 2:SPRING                                             & sufficiency                                          & Orwoll.BI0056.BI                                     & 0.001579082                                          & 0.09974490                                           & 14.80982                                            \\\\\n",
       "\t BI0131                                               & CTATTTGCGACA                                         & GGACTACHVGGGTWTCTAAT                                 & 16S stool samples sequenced for MrOS Vitamin D study & 16S rRNA v4                                          & GT                                                   & Illumina                                             & BI                                                   & MrOS                                                 & Illumina MiSeq                                       & ⋯                                                    & 1: Yes                                               & 1: Yes                                               & 23.1                                                 & 0.0521                                               & 2:SPRING                                             & sufficiency                                          & Orwoll.BI0131.BI                                     & 0.002255411                                          & 0.06450216                                           & 17.61783                                            \\\\\n",
       "\t BI0153                                               & ATCGGCGTTACA                                         & GGACTACHVGGGTWTCTAAT                                 & 16S stool samples sequenced for MrOS Vitamin D study & 16S rRNA v4                                          & GT                                                   & Illumina                                             & BI                                                   & MrOS                                                 & Illumina MiSeq                                       & ⋯                                                    & 1: Yes                                               & 1: Yes                                               & 27.3                                                 & 0.0431                                               & 2:SPRING                                             & sufficiency                                          & Orwoll.BI0153.BI                                     & 0.001578755                                          & 0.07838828                                           & 14.79724                                            \\\\\n",
       "\t BI0215                                               & CCTCTCGTGATC                                         & GGACTACHVGGGTWTCTAAT                                 & 16S stool samples sequenced for MrOS Vitamin D study & 16S rRNA v4                                          & GT                                                   & Illumina                                             & BI                                                   & MrOS                                                 & Illumina MiSeq                                       & ⋯                                                    & 1: Yes                                               & 1: Yes                                               & 33.0                                                 & 0.0502                                               & 4:FALL                                               & sufficiency                                          & Orwoll.BI0215.BI                                     & 0.001521212                                          & 0.10969697                                           & 15.39670                                            \\\\\n",
       "\t BI0353                                               & TGCCATCTGAAT                                         & GGACTACHVGGGTWTCTAAT                                 & 16S stool samples sequenced for MrOS Vitamin D study & 16S rRNA v4                                          & GT                                                   & Illumina                                             & BI                                                   & MrOS                                                 & Illumina MiSeq                                       & ⋯                                                    & 1: Yes                                               & 1: Yes                                               & 19.5                                                 & 0.0455                                               & 2:SPRING                                             & deficiency                                           & Orwoll.BI0353.BI                                     & 0.002333333                                          & 0.09179487                                           & 10.69057                                            \\\\\n",
       "\\end{tabular}\n"
      ],
      "text/markdown": [
       "\n",
       "SampleName | BarcodeSequence | LinkerPrimerSequence | Experiment_Design_Description | Library_Construction_Protocol | Linker | Platform | Center_Name | Center_Project | Instrument_Model | ⋯ | OHV1D2CT | OHVD2CT | OHVDTOT | OHV1DTOT | OHSEAS | VDstatus | Description | ratio_activation | ratio_catabolism | alpha_pd | \n",
       "|---|---|---|---|---|---|\n",
       "| BI0023                                               | TCTGGTGACATT                                         | GGACTACHVGGGTWTCTAAT                                 | 16S stool samples sequenced for MrOS Vitamin D study | 16S rRNA v4                                          | GT                                                   | Illumina                                             | BI                                                   | MrOS                                                 | Illumina MiSeq                                       | ⋯                                                    | 1: Yes                                               | 1: Yes                                               | 25.8                                                 | 0.0393                                               | 3:SUMMER                                             | sufficiency                                          | Orwoll.BI0023.BI                                     | 0.001523256                                          | 0.06860465                                           | 22.49523                                             | \n",
       "| BI0056                                               | CAAGCATGCCTA                                         | GGACTACHVGGGTWTCTAAT                                 | 16S stool samples sequenced for MrOS Vitamin D study | 16S rRNA v4                                          | GT                                                   | Illumina                                             | BI                                                   | MrOS                                                 | Illumina MiSeq                                       | ⋯                                                    | 1: Yes                                               | 1: Yes                                               | 39.2                                                 | 0.0619                                               | 2:SPRING                                             | sufficiency                                          | Orwoll.BI0056.BI                                     | 0.001579082                                          | 0.09974490                                           | 14.80982                                             | \n",
       "| BI0131                                               | CTATTTGCGACA                                         | GGACTACHVGGGTWTCTAAT                                 | 16S stool samples sequenced for MrOS Vitamin D study | 16S rRNA v4                                          | GT                                                   | Illumina                                             | BI                                                   | MrOS                                                 | Illumina MiSeq                                       | ⋯                                                    | 1: Yes                                               | 1: Yes                                               | 23.1                                                 | 0.0521                                               | 2:SPRING                                             | sufficiency                                          | Orwoll.BI0131.BI                                     | 0.002255411                                          | 0.06450216                                           | 17.61783                                             | \n",
       "| BI0153                                               | ATCGGCGTTACA                                         | GGACTACHVGGGTWTCTAAT                                 | 16S stool samples sequenced for MrOS Vitamin D study | 16S rRNA v4                                          | GT                                                   | Illumina                                             | BI                                                   | MrOS                                                 | Illumina MiSeq                                       | ⋯                                                    | 1: Yes                                               | 1: Yes                                               | 27.3                                                 | 0.0431                                               | 2:SPRING                                             | sufficiency                                          | Orwoll.BI0153.BI                                     | 0.001578755                                          | 0.07838828                                           | 14.79724                                             | \n",
       "| BI0215                                               | CCTCTCGTGATC                                         | GGACTACHVGGGTWTCTAAT                                 | 16S stool samples sequenced for MrOS Vitamin D study | 16S rRNA v4                                          | GT                                                   | Illumina                                             | BI                                                   | MrOS                                                 | Illumina MiSeq                                       | ⋯                                                    | 1: Yes                                               | 1: Yes                                               | 33.0                                                 | 0.0502                                               | 4:FALL                                               | sufficiency                                          | Orwoll.BI0215.BI                                     | 0.001521212                                          | 0.10969697                                           | 15.39670                                             | \n",
       "| BI0353                                               | TGCCATCTGAAT                                         | GGACTACHVGGGTWTCTAAT                                 | 16S stool samples sequenced for MrOS Vitamin D study | 16S rRNA v4                                          | GT                                                   | Illumina                                             | BI                                                   | MrOS                                                 | Illumina MiSeq                                       | ⋯                                                    | 1: Yes                                               | 1: Yes                                               | 19.5                                                 | 0.0455                                               | 2:SPRING                                             | deficiency                                           | Orwoll.BI0353.BI                                     | 0.002333333                                          | 0.09179487                                           | 10.69057                                             | \n",
       "\n",
       "\n"
      ],
      "text/plain": [
       "  SampleName BarcodeSequence LinkerPrimerSequence\n",
       "1 BI0023     TCTGGTGACATT    GGACTACHVGGGTWTCTAAT\n",
       "2 BI0056     CAAGCATGCCTA    GGACTACHVGGGTWTCTAAT\n",
       "3 BI0131     CTATTTGCGACA    GGACTACHVGGGTWTCTAAT\n",
       "4 BI0153     ATCGGCGTTACA    GGACTACHVGGGTWTCTAAT\n",
       "5 BI0215     CCTCTCGTGATC    GGACTACHVGGGTWTCTAAT\n",
       "6 BI0353     TGCCATCTGAAT    GGACTACHVGGGTWTCTAAT\n",
       "  Experiment_Design_Description                       \n",
       "1 16S stool samples sequenced for MrOS Vitamin D study\n",
       "2 16S stool samples sequenced for MrOS Vitamin D study\n",
       "3 16S stool samples sequenced for MrOS Vitamin D study\n",
       "4 16S stool samples sequenced for MrOS Vitamin D study\n",
       "5 16S stool samples sequenced for MrOS Vitamin D study\n",
       "6 16S stool samples sequenced for MrOS Vitamin D study\n",
       "  Library_Construction_Protocol Linker Platform Center_Name Center_Project\n",
       "1 16S rRNA v4                   GT     Illumina BI          MrOS          \n",
       "2 16S rRNA v4                   GT     Illumina BI          MrOS          \n",
       "3 16S rRNA v4                   GT     Illumina BI          MrOS          \n",
       "4 16S rRNA v4                   GT     Illumina BI          MrOS          \n",
       "5 16S rRNA v4                   GT     Illumina BI          MrOS          \n",
       "6 16S rRNA v4                   GT     Illumina BI          MrOS          \n",
       "  Instrument_Model ⋯ OHV1D2CT OHVD2CT OHVDTOT OHV1DTOT OHSEAS   VDstatus   \n",
       "1 Illumina MiSeq   ⋯ 1: Yes   1: Yes  25.8    0.0393   3:SUMMER sufficiency\n",
       "2 Illumina MiSeq   ⋯ 1: Yes   1: Yes  39.2    0.0619   2:SPRING sufficiency\n",
       "3 Illumina MiSeq   ⋯ 1: Yes   1: Yes  23.1    0.0521   2:SPRING sufficiency\n",
       "4 Illumina MiSeq   ⋯ 1: Yes   1: Yes  27.3    0.0431   2:SPRING sufficiency\n",
       "5 Illumina MiSeq   ⋯ 1: Yes   1: Yes  33.0    0.0502   4:FALL   sufficiency\n",
       "6 Illumina MiSeq   ⋯ 1: Yes   1: Yes  19.5    0.0455   2:SPRING deficiency \n",
       "  Description      ratio_activation ratio_catabolism alpha_pd\n",
       "1 Orwoll.BI0023.BI 0.001523256      0.06860465       22.49523\n",
       "2 Orwoll.BI0056.BI 0.001579082      0.09974490       14.80982\n",
       "3 Orwoll.BI0131.BI 0.002255411      0.06450216       17.61783\n",
       "4 Orwoll.BI0153.BI 0.001578755      0.07838828       14.79724\n",
       "5 Orwoll.BI0215.BI 0.001521212      0.10969697       15.39670\n",
       "6 Orwoll.BI0353.BI 0.002333333      0.09179487       10.69057"
      ]
     },
     "metadata": {},
     "output_type": "display_data"
    }
   ],
   "source": [
    "head(mf)"
   ]
  },
  {
   "cell_type": "code",
   "execution_count": 4,
   "metadata": {
    "collapsed": false
   },
   "outputs": [
    {
     "data": {
      "text/html": [
       "<ol class=list-inline>\n",
       "\t<li>599</li>\n",
       "\t<li>68</li>\n",
       "</ol>\n"
      ],
      "text/latex": [
       "\\begin{enumerate*}\n",
       "\\item 599\n",
       "\\item 68\n",
       "\\end{enumerate*}\n"
      ],
      "text/markdown": [
       "1. 599\n",
       "2. 68\n",
       "\n",
       "\n"
      ],
      "text/plain": [
       "[1] 599  68"
      ]
     },
     "metadata": {},
     "output_type": "display_data"
    }
   ],
   "source": [
    "dim(mf)"
   ]
  },
  {
   "cell_type": "code",
   "execution_count": 5,
   "metadata": {
    "collapsed": false
   },
   "outputs": [],
   "source": [
    "# convert categorial to factors\n",
    "vars_cat = c('Sex','GIERACE', 'SITE', 'TUDRAMT', 'TURSMOKE', 'M1ADEPR', 'M1VITMND', 'M1ANTIB', 'M1PROBI', \n",
    "               'OHSEAS', 'VDstatus', 'OHV1D2CT', 'OHVD2CT')\n",
    "mf[vars_cat] = lapply(mf[vars_cat], factor)\n",
    "\n",
    "# convert continuous to numeric\n",
    "vars_cts = c('Latitude', 'Longitude', 'Age', 'Height', 'Weight', 'BMI', 'PASCORE', 'DTVITD', \n",
    "             'OHV1D3', 'OHV24D3', 'OHVD3', 'OHVD2', 'OHV1D2', 'OHVDTOT', 'OHV1DTOT', 'alpha_pd')"
   ]
  },
  {
   "cell_type": "code",
   "execution_count": 6,
   "metadata": {
    "collapsed": false
   },
   "outputs": [
    {
     "data": {
      "text/html": [
       "13"
      ],
      "text/latex": [
       "13"
      ],
      "text/markdown": [
       "13"
      ],
      "text/plain": [
       "[1] 13"
      ]
     },
     "metadata": {},
     "output_type": "display_data"
    },
    {
     "data": {
      "text/html": [
       "16"
      ],
      "text/latex": [
       "16"
      ],
      "text/markdown": [
       "16"
      ],
      "text/plain": [
       "[1] 16"
      ]
     },
     "metadata": {},
     "output_type": "display_data"
    }
   ],
   "source": [
    "length(vars_cat)\n",
    "length(vars_cts)"
   ]
  },
  {
   "cell_type": "code",
   "execution_count": 7,
   "metadata": {
    "collapsed": false
   },
   "outputs": [
    {
     "data": {
      "text/html": [
       "<ol class=list-inline>\n",
       "\t<li>599</li>\n",
       "\t<li>29</li>\n",
       "</ol>\n"
      ],
      "text/latex": [
       "\\begin{enumerate*}\n",
       "\\item 599\n",
       "\\item 29\n",
       "\\end{enumerate*}\n"
      ],
      "text/markdown": [
       "1. 599\n",
       "2. 29\n",
       "\n",
       "\n"
      ],
      "text/plain": [
       "[1] 599  29"
      ]
     },
     "metadata": {},
     "output_type": "display_data"
    },
    {
     "data": {
      "text/html": [
       "<table>\n",
       "<thead><tr><th scope=col>Sex</th><th scope=col>GIERACE</th><th scope=col>SITE</th><th scope=col>TUDRAMT</th><th scope=col>TURSMOKE</th><th scope=col>M1ADEPR</th><th scope=col>M1VITMND</th><th scope=col>M1ANTIB</th><th scope=col>M1PROBI</th><th scope=col>OHSEAS</th><th scope=col>⋯</th><th scope=col>PASCORE</th><th scope=col>DTVITD</th><th scope=col>OHV1D3</th><th scope=col>OHV24D3</th><th scope=col>OHVD3</th><th scope=col>OHVD2</th><th scope=col>OHV1D2</th><th scope=col>OHVDTOT</th><th scope=col>OHV1DTOT</th><th scope=col>alpha_pd</th></tr></thead>\n",
       "<tbody>\n",
       "\t<tr><td>male                           </td><td>1:WHITE                        </td><td>Birmingham                     </td><td>1: Less than one drink per week</td><td>M:Not Applicable               </td><td>0: No                          </td><td>0: No                          </td><td>0: No                          </td><td>0: No                          </td><td>3:SUMMER                       </td><td>⋯                              </td><td> 91.00000                      </td><td>250.90                         </td><td>0.0393                         </td><td>1.77                           </td><td>25.8                           </td><td>0                              </td><td>0                              </td><td>25.8                           </td><td>0.0393                         </td><td>22.49523                       </td></tr>\n",
       "\t<tr><td>male                           </td><td>1:WHITE                        </td><td>Birmingham                     </td><td>0:None drinker                 </td><td>1:PAST                         </td><td>0: No                          </td><td>1: Yes                         </td><td>1: Yes                         </td><td>0: No                          </td><td>2:SPRING                       </td><td>⋯                              </td><td>199.17857                      </td><td> 72.97                         </td><td>0.0619                         </td><td>3.91                           </td><td>39.2                           </td><td>0                              </td><td>0                              </td><td>39.2                           </td><td>0.0619                         </td><td>14.80982                       </td></tr>\n",
       "\t<tr><td>male                           </td><td>1:WHITE                        </td><td>Birmingham                     </td><td>0:None drinker                 </td><td>1:PAST                         </td><td>0: No                          </td><td>1: Yes                         </td><td>0: No                          </td><td>0: No                          </td><td>2:SPRING                       </td><td>⋯                              </td><td>161.71429                      </td><td>312.15                         </td><td>0.0521                         </td><td>1.49                           </td><td>23.1                           </td><td>0                              </td><td>0                              </td><td>23.1                           </td><td>0.0521                         </td><td>17.61783                       </td></tr>\n",
       "\t<tr><td>male                           </td><td>1:WHITE                        </td><td>Birmingham                     </td><td>4: 6-13 drinks per week        </td><td>1:PAST                         </td><td>0: No                          </td><td>1: Yes                         </td><td>0: No                          </td><td>0: No                          </td><td>2:SPRING                       </td><td>⋯                              </td><td> 88.21429                      </td><td>323.52                         </td><td>0.0431                         </td><td>2.14                           </td><td>27.3                           </td><td>0                              </td><td>0                              </td><td>27.3                           </td><td>0.0431                         </td><td>14.79724                       </td></tr>\n",
       "\t<tr><td>male                           </td><td>1:WHITE                        </td><td>Birmingham                     </td><td>3: 3-5 drinks per week         </td><td>1:PAST                         </td><td>0: No                          </td><td>0: No                          </td><td>0: No                          </td><td>0: No                          </td><td>4:FALL                         </td><td>⋯                              </td><td>256.82143                      </td><td> 31.95                         </td><td>0.0502                         </td><td>3.62                           </td><td>33.0                           </td><td>0                              </td><td>0                              </td><td>33.0                           </td><td>0.0502                         </td><td>15.39670                       </td></tr>\n",
       "\t<tr><td>male                           </td><td>1:WHITE                        </td><td>Birmingham                     </td><td>0:None drinker                 </td><td>1:PAST                         </td><td>0: No                          </td><td>0: No                          </td><td>1: Yes                         </td><td>0: No                          </td><td>2:SPRING                       </td><td>⋯                              </td><td>179.57143                      </td><td>156.06                         </td><td>0.0455                         </td><td>1.79                           </td><td>19.5                           </td><td>0                              </td><td>0                              </td><td>19.5                           </td><td>0.0455                         </td><td>10.69057                       </td></tr>\n",
       "</tbody>\n",
       "</table>\n"
      ],
      "text/latex": [
       "\\begin{tabular}{r|lllllllllllllllllllllllllllll}\n",
       " Sex & GIERACE & SITE & TUDRAMT & TURSMOKE & M1ADEPR & M1VITMND & M1ANTIB & M1PROBI & OHSEAS & ⋯ & PASCORE & DTVITD & OHV1D3 & OHV24D3 & OHVD3 & OHVD2 & OHV1D2 & OHVDTOT & OHV1DTOT & alpha\\_pd\\\\\n",
       "\\hline\n",
       "\t male                            & 1:WHITE                         & Birmingham                      & 1: Less than one drink per week & M:Not Applicable                & 0: No                           & 0: No                           & 0: No                           & 0: No                           & 3:SUMMER                        & ⋯                               &  91.00000                       & 250.90                          & 0.0393                          & 1.77                            & 25.8                            & 0                               & 0                               & 25.8                            & 0.0393                          & 22.49523                       \\\\\n",
       "\t male                            & 1:WHITE                         & Birmingham                      & 0:None drinker                  & 1:PAST                          & 0: No                           & 1: Yes                          & 1: Yes                          & 0: No                           & 2:SPRING                        & ⋯                               & 199.17857                       &  72.97                          & 0.0619                          & 3.91                            & 39.2                            & 0                               & 0                               & 39.2                            & 0.0619                          & 14.80982                       \\\\\n",
       "\t male                            & 1:WHITE                         & Birmingham                      & 0:None drinker                  & 1:PAST                          & 0: No                           & 1: Yes                          & 0: No                           & 0: No                           & 2:SPRING                        & ⋯                               & 161.71429                       & 312.15                          & 0.0521                          & 1.49                            & 23.1                            & 0                               & 0                               & 23.1                            & 0.0521                          & 17.61783                       \\\\\n",
       "\t male                            & 1:WHITE                         & Birmingham                      & 4: 6-13 drinks per week         & 1:PAST                          & 0: No                           & 1: Yes                          & 0: No                           & 0: No                           & 2:SPRING                        & ⋯                               &  88.21429                       & 323.52                          & 0.0431                          & 2.14                            & 27.3                            & 0                               & 0                               & 27.3                            & 0.0431                          & 14.79724                       \\\\\n",
       "\t male                            & 1:WHITE                         & Birmingham                      & 3: 3-5 drinks per week          & 1:PAST                          & 0: No                           & 0: No                           & 0: No                           & 0: No                           & 4:FALL                          & ⋯                               & 256.82143                       &  31.95                          & 0.0502                          & 3.62                            & 33.0                            & 0                               & 0                               & 33.0                            & 0.0502                          & 15.39670                       \\\\\n",
       "\t male                            & 1:WHITE                         & Birmingham                      & 0:None drinker                  & 1:PAST                          & 0: No                           & 0: No                           & 1: Yes                          & 0: No                           & 2:SPRING                        & ⋯                               & 179.57143                       & 156.06                          & 0.0455                          & 1.79                            & 19.5                            & 0                               & 0                               & 19.5                            & 0.0455                          & 10.69057                       \\\\\n",
       "\\end{tabular}\n"
      ],
      "text/markdown": [
       "\n",
       "Sex | GIERACE | SITE | TUDRAMT | TURSMOKE | M1ADEPR | M1VITMND | M1ANTIB | M1PROBI | OHSEAS | ⋯ | PASCORE | DTVITD | OHV1D3 | OHV24D3 | OHVD3 | OHVD2 | OHV1D2 | OHVDTOT | OHV1DTOT | alpha_pd | \n",
       "|---|---|---|---|---|---|\n",
       "| male                            | 1:WHITE                         | Birmingham                      | 1: Less than one drink per week | M:Not Applicable                | 0: No                           | 0: No                           | 0: No                           | 0: No                           | 3:SUMMER                        | ⋯                               |  91.00000                       | 250.90                          | 0.0393                          | 1.77                            | 25.8                            | 0                               | 0                               | 25.8                            | 0.0393                          | 22.49523                        | \n",
       "| male                            | 1:WHITE                         | Birmingham                      | 0:None drinker                  | 1:PAST                          | 0: No                           | 1: Yes                          | 1: Yes                          | 0: No                           | 2:SPRING                        | ⋯                               | 199.17857                       |  72.97                          | 0.0619                          | 3.91                            | 39.2                            | 0                               | 0                               | 39.2                            | 0.0619                          | 14.80982                        | \n",
       "| male                            | 1:WHITE                         | Birmingham                      | 0:None drinker                  | 1:PAST                          | 0: No                           | 1: Yes                          | 0: No                           | 0: No                           | 2:SPRING                        | ⋯                               | 161.71429                       | 312.15                          | 0.0521                          | 1.49                            | 23.1                            | 0                               | 0                               | 23.1                            | 0.0521                          | 17.61783                        | \n",
       "| male                            | 1:WHITE                         | Birmingham                      | 4: 6-13 drinks per week         | 1:PAST                          | 0: No                           | 1: Yes                          | 0: No                           | 0: No                           | 2:SPRING                        | ⋯                               |  88.21429                       | 323.52                          | 0.0431                          | 2.14                            | 27.3                            | 0                               | 0                               | 27.3                            | 0.0431                          | 14.79724                        | \n",
       "| male                            | 1:WHITE                         | Birmingham                      | 3: 3-5 drinks per week          | 1:PAST                          | 0: No                           | 0: No                           | 0: No                           | 0: No                           | 4:FALL                          | ⋯                               | 256.82143                       |  31.95                          | 0.0502                          | 3.62                            | 33.0                            | 0                               | 0                               | 33.0                            | 0.0502                          | 15.39670                        | \n",
       "| male                            | 1:WHITE                         | Birmingham                      | 0:None drinker                  | 1:PAST                          | 0: No                           | 0: No                           | 1: Yes                          | 0: No                           | 2:SPRING                        | ⋯                               | 179.57143                       | 156.06                          | 0.0455                          | 1.79                            | 19.5                            | 0                               | 0                               | 19.5                            | 0.0455                          | 10.69057                        | \n",
       "\n",
       "\n"
      ],
      "text/plain": [
       "  Sex  GIERACE SITE       TUDRAMT                         TURSMOKE        \n",
       "1 male 1:WHITE Birmingham 1: Less than one drink per week M:Not Applicable\n",
       "2 male 1:WHITE Birmingham 0:None drinker                  1:PAST          \n",
       "3 male 1:WHITE Birmingham 0:None drinker                  1:PAST          \n",
       "4 male 1:WHITE Birmingham 4: 6-13 drinks per week         1:PAST          \n",
       "5 male 1:WHITE Birmingham 3: 3-5 drinks per week          1:PAST          \n",
       "6 male 1:WHITE Birmingham 0:None drinker                  1:PAST          \n",
       "  M1ADEPR M1VITMND M1ANTIB M1PROBI OHSEAS   ⋯ PASCORE   DTVITD OHV1D3 OHV24D3\n",
       "1 0: No   0: No    0: No   0: No   3:SUMMER ⋯  91.00000 250.90 0.0393 1.77   \n",
       "2 0: No   1: Yes   1: Yes  0: No   2:SPRING ⋯ 199.17857  72.97 0.0619 3.91   \n",
       "3 0: No   1: Yes   0: No   0: No   2:SPRING ⋯ 161.71429 312.15 0.0521 1.49   \n",
       "4 0: No   1: Yes   0: No   0: No   2:SPRING ⋯  88.21429 323.52 0.0431 2.14   \n",
       "5 0: No   0: No    0: No   0: No   4:FALL   ⋯ 256.82143  31.95 0.0502 3.62   \n",
       "6 0: No   0: No    1: Yes  0: No   2:SPRING ⋯ 179.57143 156.06 0.0455 1.79   \n",
       "  OHVD3 OHVD2 OHV1D2 OHVDTOT OHV1DTOT alpha_pd\n",
       "1 25.8  0     0      25.8    0.0393   22.49523\n",
       "2 39.2  0     0      39.2    0.0619   14.80982\n",
       "3 23.1  0     0      23.1    0.0521   17.61783\n",
       "4 27.3  0     0      27.3    0.0431   14.79724\n",
       "5 33.0  0     0      33.0    0.0502   15.39670\n",
       "6 19.5  0     0      19.5    0.0455   10.69057"
      ]
     },
     "metadata": {},
     "output_type": "display_data"
    }
   ],
   "source": [
    "dat = mf[c(vars_cat, vars_cts)]\n",
    "dim(dat)\n",
    "head(dat)"
   ]
  },
  {
   "cell_type": "code",
   "execution_count": 8,
   "metadata": {
    "collapsed": false
   },
   "outputs": [
    {
     "data": {
      "text/plain": [
       "   Sex                    GIERACE             SITE    \n",
       " male:599   1:WHITE           :520   Birmingham : 75  \n",
       "            2:AFRICAN AMERICAN: 24   Minneapolis: 91  \n",
       "            3:ASIAN           : 34   Palo Alto  : 86  \n",
       "            4:HISPANIC        : 12   Pittsburgh : 92  \n",
       "            5:OTHER           :  9   Portland   :121  \n",
       "                                     San Diego  :134  \n",
       "                                                      \n",
       "                            TUDRAMT                TURSMOKE     M1ADEPR   \n",
       " .                              :  2   0:NO            :230   0: No :546  \n",
       " 0:None drinker                 :230   1:PAST          :289   1: Yes: 53  \n",
       " 1: Less than one drink per week: 78   2:CURRENT       :  9               \n",
       " 2: 1-2drinks per week          : 66   M:Not Applicable: 71               \n",
       " 3: 3-5 drinks per week         : 90                                      \n",
       " 4: 6-13 drinks per week        :106                                      \n",
       " 5: 14 or more drinks per week  : 27                                      \n",
       "   M1VITMND     M1ANTIB      M1PROBI                       OHSEAS   \n",
       " 0: No :154   0: No :558   0: No :573   1:WINTER              :  6  \n",
       " 1: Yes:445   1: Yes: 41   1: Yes: 26   2:SPRING              :211  \n",
       "                                        3:SUMMER              :220  \n",
       "                                        4:FALL                :130  \n",
       "                                        Missing:Not collected : 32  \n",
       "                                                                    \n",
       "                                                                    \n",
       "                   VDstatus                     OHV1D2CT  \n",
       "                       : 11   0: No                 :  4  \n",
       " deficiency            : 40   1: Yes                :563  \n",
       " Missing:Not collected : 32   Missing:Not collected : 32  \n",
       " sufficiency           :516                               \n",
       "                                                          \n",
       "                                                          \n",
       "                                                          \n",
       "                   OHVD2CT       Latitude       Longitude           Age       \n",
       " 0: No                 :119   Min.   :32.72   Min.   :-122.7   Min.   :78.00  \n",
       " 1: Yes                :448   1st Qu.:33.52   1st Qu.:-122.1   1st Qu.:81.00  \n",
       " Missing:Not collected : 32   Median :40.44   Median :-117.2   Median :83.00  \n",
       "                              Mean   :39.13   Mean   :-105.9   Mean   :84.24  \n",
       "                              3rd Qu.:44.98   3rd Qu.: -86.8   3rd Qu.:87.00  \n",
       "                              Max.   :45.52   Max.   : -80.0   Max.   :98.00  \n",
       "                                                                              \n",
       "     Height          Weight            BMI           PASCORE      \n",
       " Min.   :153.8   Min.   : 51.40   Min.   :17.60   Min.   :  0.00  \n",
       " 1st Qu.:167.3   1st Qu.: 71.00   1st Qu.:24.51   1st Qu.: 70.14  \n",
       " Median :172.1   Median : 79.00   Median :26.72   Median :116.75  \n",
       " Mean   :172.1   Mean   : 80.17   Mean   :27.01   Mean   :122.48  \n",
       " 3rd Qu.:176.7   3rd Qu.: 87.50   3rd Qu.:28.98   3rd Qu.:165.79  \n",
       " Max.   :194.7   Max.   :127.60   Max.   :42.93   Max.   :359.14  \n",
       "                                                                  \n",
       "     DTVITD            OHV1D3           OHV24D3           OHVD3       \n",
       " Min.   :  0.429   Min.   :0.01070   Min.   : 0.300   Min.   :  7.80  \n",
       " 1st Qu.: 77.963   1st Qu.:0.04410   1st Qu.: 2.175   1st Qu.: 27.40  \n",
       " Median :128.125   Median :0.05550   Median : 3.180   Median : 33.65  \n",
       " Mean   :164.396   Mean   :0.05777   Mean   : 3.431   Mean   : 35.23  \n",
       " 3rd Qu.:211.643   3rd Qu.:0.06630   3rd Qu.: 4.235   3rd Qu.: 41.83  \n",
       " Max.   :982.830   Max.   :0.15600   Max.   :14.070   Max.   :104.00  \n",
       " NA's   :15        NA's   :32        NA's   :32       NA's   :43      \n",
       "     OHVD2             OHV1D2           OHVDTOT          OHV1DTOT      \n",
       " Min.   : 0.0000   Min.   :0.00000   Min.   :  7.80   Min.   :0.01070  \n",
       " 1st Qu.: 0.0000   1st Qu.:0.00000   1st Qu.: 28.10   1st Qu.:0.04425  \n",
       " Median : 0.0000   Median :0.00000   Median : 34.15   Median :0.05550  \n",
       " Mean   : 0.7691   Mean   :0.00018   Mean   : 36.01   Mean   :0.05795  \n",
       " 3rd Qu.: 0.0000   3rd Qu.:0.00000   3rd Qu.: 42.30   3rd Qu.:0.06645  \n",
       " Max.   :59.0000   Max.   :0.03780   Max.   :104.00   Max.   :0.15600  \n",
       " NA's   :32        NA's   :32        NA's   :43       NA's   :32       \n",
       "    alpha_pd     \n",
       " Min.   : 3.206  \n",
       " 1st Qu.:12.900  \n",
       " Median :16.074  \n",
       " Mean   :16.451  \n",
       " 3rd Qu.:20.063  \n",
       " Max.   :29.953  \n",
       "                 "
      ]
     },
     "metadata": {},
     "output_type": "display_data"
    }
   ],
   "source": [
    "summary(dat)"
   ]
  },
  {
   "cell_type": "code",
   "execution_count": 9,
   "metadata": {
    "collapsed": false
   },
   "outputs": [
    {
     "name": "stdout",
     "output_type": "stream",
     "text": [
      "[1] 545  29\n"
     ]
    },
    {
     "data": {
      "text/html": [
       "<ol class=list-inline>\n",
       "\t<li>545</li>\n",
       "\t<li>28</li>\n",
       "</ol>\n"
      ],
      "text/latex": [
       "\\begin{enumerate*}\n",
       "\\item 545\n",
       "\\item 28\n",
       "\\end{enumerate*}\n"
      ],
      "text/markdown": [
       "1. 545\n",
       "2. 28\n",
       "\n",
       "\n"
      ],
      "text/plain": [
       "[1] 545  28"
      ]
     },
     "metadata": {},
     "output_type": "display_data"
    }
   ],
   "source": [
    "dat = dat[complete.cases(dat), ]\n",
    "print(dim(dat))\n",
    "alpha = dat$alpha_pd\n",
    "dat = dat[, -which(names(dat) %in% 'alpha_pd')]\n",
    "dim(dat)"
   ]
  },
  {
   "cell_type": "code",
   "execution_count": 10,
   "metadata": {
    "collapsed": true
   },
   "outputs": [],
   "source": [
    "mod0 <- rda(alpha ~ 1., dat)  # Model with intercept only\n",
    "mod1 <- rda(alpha ~ ., dat)  # Model with all explanatory variables"
   ]
  },
  {
   "cell_type": "code",
   "execution_count": 11,
   "metadata": {
    "collapsed": false
   },
   "outputs": [
    {
     "name": "stdout",
     "output_type": "stream",
     "text": [
      "Step: R2.adj= 0 \n",
      "Call: alpha ~ 1 \n",
      " \n",
      "                  R2.adjusted\n",
      "<All variables>  0.1259630505\n",
      "+ OHV1DTOT       0.0455455639\n",
      "+ OHV1D3         0.0446292301\n",
      "+ SITE           0.0311618389\n",
      "+ GIERACE        0.0271660306\n",
      "+ M1ANTIB        0.0211519590\n",
      "+ Latitude       0.0210409870\n",
      "+ TUDRAMT        0.0187397874\n",
      "+ M1ADEPR        0.0098967724\n",
      "+ OHV24D3        0.0061390817\n",
      "+ Longitude      0.0053765637\n",
      "+ OHVD2CT        0.0041786581\n",
      "+ PASCORE        0.0032152201\n",
      "+ BMI            0.0029544630\n",
      "+ Age            0.0025306259\n",
      "+ OHSEAS         0.0018635360\n",
      "+ Weight         0.0006867532\n",
      "+ OHVD2          0.0003109701\n",
      "<none>           0.0000000000\n",
      "+ Sex            0.0000000000\n",
      "+ M1PROBI       -0.0007188472\n",
      "+ OHVDTOT       -0.0012109491\n",
      "+ VDstatus      -0.0012901636\n",
      "+ M1VITMND      -0.0015829009\n",
      "+ Height        -0.0016186020\n",
      "+ OHVD3         -0.0017627462\n",
      "+ OHV1D2CT      -0.0017909375\n",
      "+ OHV1D2        -0.0017937839\n",
      "+ DTVITD        -0.0018356540\n",
      "+ TURSMOKE      -0.0052206388\n",
      "\n",
      "           Df    AIC      F Pr(>F)   \n",
      "+ OHV1DTOT  1 1659.7 26.959  0.002 **\n",
      "---\n",
      "Signif. codes:  0 ‘***’ 0.001 ‘**’ 0.01 ‘*’ 0.05 ‘.’ 0.1 ‘ ’ 1\n",
      "\n",
      "Step: R2.adj= 0.04554556 \n",
      "Call: alpha ~ OHV1DTOT \n",
      " \n",
      "                R2.adjusted\n",
      "<All variables>  0.12596305\n",
      "+ SITE           0.07518566\n",
      "+ GIERACE        0.06971679\n",
      "+ Latitude       0.06745386\n",
      "+ M1ANTIB        0.06240655\n",
      "+ OHVDTOT        0.05848702\n",
      "+ OHVD3          0.05621401\n",
      "+ TUDRAMT        0.05570484\n",
      "+ M1ADEPR        0.05230161\n",
      "+ Age            0.05080285\n",
      "+ Longitude      0.04962648\n",
      "+ OHSEAS         0.04880212\n",
      "+ M1VITMND       0.04864340\n",
      "+ OHVD2CT        0.04801510\n",
      "+ M1PROBI        0.04661057\n",
      "+ OHV24D3        0.04567053\n",
      "<none>           0.04554556\n",
      "+ Sex            0.04554556\n",
      "+ BMI            0.04527385\n",
      "+ PASCORE        0.04504960\n",
      "+ OHVD2          0.04460698\n",
      "+ Height         0.04437866\n",
      "+ Weight         0.04411556\n",
      "+ VDstatus       0.04411456\n",
      "+ DTVITD         0.04384848\n",
      "+ OHV1D2         0.04381955\n",
      "+ OHV1D3         0.04381955\n",
      "+ OHV1D2CT       0.04380537\n",
      "+ TURSMOKE       0.04040278\n",
      "\n",
      "       Df    AIC      F Pr(>F)   \n",
      "+ SITE  5 1647.5 4.4806  0.002 **\n",
      "---\n",
      "Signif. codes:  0 ‘***’ 0.001 ‘**’ 0.01 ‘*’ 0.05 ‘.’ 0.1 ‘ ’ 1\n",
      "\n",
      "Step: R2.adj= 0.07518566 \n",
      "Call: alpha ~ OHV1DTOT + SITE \n",
      " \n",
      "                R2.adjusted\n",
      "<All variables>  0.12596305\n",
      "+ GIERACE        0.09741708\n",
      "+ M1ANTIB        0.08656495\n",
      "+ OHVDTOT        0.08454035\n",
      "+ OHVD3          0.08381350\n",
      "+ M1ADEPR        0.08193039\n",
      "+ TUDRAMT        0.08149368\n",
      "+ Age            0.07957713\n",
      "+ M1VITMND       0.07898872\n",
      "+ M1PROBI        0.07581920\n",
      "+ PASCORE        0.07567500\n",
      "+ OHV24D3        0.07533269\n",
      "+ OHVD2CT        0.07519435\n",
      "<none>           0.07518566\n",
      "+ Sex            0.07518566\n",
      "+ Latitude       0.07518566\n",
      "+ Longitude      0.07518566\n",
      "+ OHSEAS         0.07509863\n",
      "+ BMI            0.07446073\n",
      "+ DTVITD         0.07382140\n",
      "+ OHV1D2         0.07376042\n",
      "+ OHV1D3         0.07376042\n",
      "+ Weight         0.07374421\n",
      "+ Height         0.07372653\n",
      "+ VDstatus       0.07361439\n",
      "+ OHVD2          0.07359777\n",
      "+ OHV1D2CT       0.07352021\n",
      "+ TURSMOKE       0.07019275\n",
      "\n",
      "          Df    AIC      F Pr(>F)   \n",
      "+ GIERACE  4 1638.2 4.3129  0.004 **\n",
      "---\n",
      "Signif. codes:  0 ‘***’ 0.001 ‘**’ 0.01 ‘*’ 0.05 ‘.’ 0.1 ‘ ’ 1\n",
      "\n",
      "Step: R2.adj= 0.09741708 \n",
      "Call: alpha ~ OHV1DTOT + SITE + GIERACE \n",
      " \n",
      "                R2.adjusted\n",
      "<All variables>  0.12596305\n",
      "+ OHVDTOT        0.11006721\n",
      "+ M1ANTIB        0.10952791\n",
      "+ OHVD3          0.10906921\n",
      "+ M1ADEPR        0.10592749\n",
      "+ M1VITMND       0.10035140\n",
      "+ Age            0.10013792\n",
      "+ OHSEAS         0.09913744\n",
      "+ PASCORE        0.09909125\n",
      "+ M1PROBI        0.09866066\n",
      "+ OHV24D3        0.09863145\n",
      "+ Weight         0.09830159\n",
      "+ BMI            0.09827145\n",
      "+ TUDRAMT        0.09783283\n",
      "<none>           0.09741708\n",
      "+ Sex            0.09741708\n",
      "+ Latitude       0.09741708\n",
      "+ Longitude      0.09741708\n",
      "+ OHVD2CT        0.09715362\n",
      "+ DTVITD         0.09648618\n",
      "+ Height         0.09621369\n",
      "+ OHV1D2         0.09595488\n",
      "+ OHV1D3         0.09595488\n",
      "+ OHVD2          0.09594473\n",
      "+ OHV1D2CT       0.09573675\n",
      "+ VDstatus       0.09573438\n",
      "+ TURSMOKE       0.09276304\n",
      "\n",
      "          Df    AIC      F Pr(>F)   \n",
      "+ OHVDTOT  1 1631.4 8.5906  0.008 **\n",
      "---\n",
      "Signif. codes:  0 ‘***’ 0.001 ‘**’ 0.01 ‘*’ 0.05 ‘.’ 0.1 ‘ ’ 1\n",
      "\n",
      "Step: R2.adj= 0.1100672 \n",
      "Call: alpha ~ OHV1DTOT + SITE + GIERACE + OHVDTOT \n",
      " \n",
      "                R2.adjusted\n",
      "<All variables>   0.1259631\n",
      "+ M1ANTIB         0.1227722\n",
      "+ M1ADEPR         0.1162019\n",
      "+ Age             0.1129860\n",
      "+ OHSEAS          0.1120651\n",
      "+ Weight          0.1118310\n",
      "+ BMI             0.1117963\n",
      "+ PASCORE         0.1117143\n",
      "+ M1PROBI         0.1113392\n",
      "+ TUDRAMT         0.1102671\n",
      "<none>            0.1100672\n",
      "+ Sex             0.1100672\n",
      "+ Latitude        0.1100672\n",
      "+ Longitude       0.1100672\n",
      "+ OHVD2CT         0.1099989\n",
      "+ OHV24D3         0.1098021\n",
      "+ M1VITMND        0.1094061\n",
      "+ OHV1D2          0.1092404\n",
      "+ OHV1D3          0.1092404\n",
      "+ VDstatus        0.1090778\n",
      "+ Height          0.1089457\n",
      "+ DTVITD          0.1088647\n",
      "+ OHV1D2CT        0.1085747\n",
      "+ OHVD3           0.1085589\n",
      "+ OHVD2           0.1085589\n",
      "+ TURSMOKE        0.1055434\n",
      "\n",
      "          Df    AIC      F Pr(>F)   \n",
      "+ M1ANTIB  1 1624.6 8.7195  0.004 **\n",
      "---\n",
      "Signif. codes:  0 ‘***’ 0.001 ‘**’ 0.01 ‘*’ 0.05 ‘.’ 0.1 ‘ ’ 1\n",
      "\n",
      "Step: R2.adj= 0.1227722 \n",
      "Call: alpha ~ OHV1DTOT + SITE + GIERACE + OHVDTOT + M1ANTIB \n",
      " \n",
      "                R2.adjusted\n",
      "+ M1ADEPR         0.1290980\n",
      "<All variables>   0.1259631\n",
      "+ OHSEAS          0.1258564\n",
      "+ Age             0.1252768\n",
      "+ TUDRAMT         0.1247094\n",
      "+ PASCORE         0.1242834\n",
      "+ Weight          0.1237718\n",
      "+ BMI             0.1236242\n",
      "+ M1PROBI         0.1228087\n",
      "<none>            0.1227722\n",
      "+ Sex             0.1227722\n",
      "+ Latitude        0.1227722\n",
      "+ Longitude       0.1227722\n",
      "+ OHVD2CT         0.1227436\n",
      "+ OHV1D2          0.1224839\n",
      "+ OHV1D3          0.1224839\n",
      "+ OHV24D3         0.1220017\n",
      "+ Height          0.1216943\n",
      "+ M1VITMND        0.1216492\n",
      "+ OHV1D2CT        0.1215532\n",
      "+ VDstatus        0.1215267\n",
      "+ DTVITD          0.1214938\n",
      "+ OHVD3           0.1213308\n",
      "+ OHVD2           0.1213308\n",
      "+ TURSMOKE        0.1180293\n",
      "\n"
     ]
    }
   ],
   "source": [
    "step.res <- ordiR2step(mod0, mod1, perm.max = 1000)"
   ]
  },
  {
   "cell_type": "code",
   "execution_count": 15,
   "metadata": {
    "collapsed": false
   },
   "outputs": [
    {
     "data": {
      "text/html": [
       "<table>\n",
       "<thead><tr><th></th><th scope=col>R2.adj</th><th scope=col>Df</th><th scope=col>AIC</th><th scope=col>F</th><th scope=col>Pr(&gt;F)</th></tr></thead>\n",
       "<tbody>\n",
       "\t<tr><th scope=row>+ OHV1DTOT</th><td>0.04554556</td><td> 1        </td><td>1659.710  </td><td>26.959109 </td><td>0.002     </td></tr>\n",
       "\t<tr><th scope=row>+ SITE</th><td>0.07518566</td><td> 5        </td><td>1647.475  </td><td> 4.480606 </td><td>0.002     </td></tr>\n",
       "\t<tr><th scope=row>+ GIERACE</th><td>0.09741708</td><td> 4        </td><td>1638.147  </td><td> 4.312855 </td><td>0.004     </td></tr>\n",
       "\t<tr><th scope=row>+ OHVDTOT</th><td>0.11006721</td><td> 1        </td><td>1631.433  </td><td> 8.590649 </td><td>0.008     </td></tr>\n",
       "\t<tr><th scope=row>+ M1ANTIB</th><td>0.12277224</td><td> 1        </td><td>1624.572  </td><td> 8.719521 </td><td>0.004     </td></tr>\n",
       "\t<tr><th scope=row>&lt;All variables&gt;</th><td>0.12596305</td><td>NA        </td><td>      NA  </td><td>       NA </td><td>   NA     </td></tr>\n",
       "</tbody>\n",
       "</table>\n"
      ],
      "text/latex": [
       "\\begin{tabular}{r|lllll}\n",
       "  & R2.adj & Df & AIC & F & Pr(>F)\\\\\n",
       "\\hline\n",
       "\t+ OHV1DTOT & 0.04554556 &  1         & 1659.710   & 26.959109  & 0.002     \\\\\n",
       "\t+ SITE & 0.07518566 &  5         & 1647.475   &  4.480606  & 0.002     \\\\\n",
       "\t+ GIERACE & 0.09741708 &  4         & 1638.147   &  4.312855  & 0.004     \\\\\n",
       "\t+ OHVDTOT & 0.11006721 &  1         & 1631.433   &  8.590649  & 0.008     \\\\\n",
       "\t+ M1ANTIB & 0.12277224 &  1         & 1624.572   &  8.719521  & 0.004     \\\\\n",
       "\t<All variables> & 0.12596305 & NA         &       NA   &        NA  &    NA     \\\\\n",
       "\\end{tabular}\n"
      ],
      "text/markdown": [
       "\n",
       "| <!--/--> | R2.adj | Df | AIC | F | Pr(>F) | \n",
       "|---|---|---|---|---|---|\n",
       "| + OHV1DTOT | 0.04554556 |  1         | 1659.710   | 26.959109  | 0.002      | \n",
       "| + SITE | 0.07518566 |  5         | 1647.475   |  4.480606  | 0.002      | \n",
       "| + GIERACE | 0.09741708 |  4         | 1638.147   |  4.312855  | 0.004      | \n",
       "| + OHVDTOT | 0.11006721 |  1         | 1631.433   |  8.590649  | 0.008      | \n",
       "| + M1ANTIB | 0.12277224 |  1         | 1624.572   |  8.719521  | 0.004      | \n",
       "| <All variables> | 0.12596305 | NA         |       NA   |        NA  |    NA      | \n",
       "\n",
       "\n"
      ],
      "text/plain": [
       "                R2.adj     Df AIC      F         Pr(>F)\n",
       "+ OHV1DTOT      0.04554556  1 1659.710 26.959109 0.002 \n",
       "+ SITE          0.07518566  5 1647.475  4.480606 0.002 \n",
       "+ GIERACE       0.09741708  4 1638.147  4.312855 0.004 \n",
       "+ OHVDTOT       0.11006721  1 1631.433  8.590649 0.008 \n",
       "+ M1ANTIB       0.12277224  1 1624.572  8.719521 0.004 \n",
       "<All variables> 0.12596305 NA       NA        NA    NA "
      ]
     },
     "metadata": {},
     "output_type": "display_data"
    }
   ],
   "source": [
    "table = step.res$anova\n",
    "table"
   ]
  },
  {
   "cell_type": "code",
   "execution_count": null,
   "metadata": {
    "collapsed": false
   },
   "outputs": [],
   "source": [
    "# Step: R2.adj= 0 \n",
    "# Call: alpha ~ 1 \n",
    " \n",
    "#                   R2.adjusted\n",
    "# <All variables>  0.1259630505\n",
    "# + OHV1DTOT       0.0455455639\n",
    "# + SITE           0.0311618389\n",
    "# + GIERACE        0.0271660306\n",
    "# + M1ANTIB        0.0211519590\n",
    "# + OHVDTOT       -0.0012109491"
   ]
  },
  {
   "cell_type": "code",
   "execution_count": null,
   "metadata": {
    "collapsed": true
   },
   "outputs": [],
   "source": [
    "# explain negative adjusted R^2: https://stats.stackexchange.com/questions/183265/what-does-negative-r-squared-mean"
   ]
  },
  {
   "cell_type": "code",
   "execution_count": 16,
   "metadata": {
    "collapsed": false
   },
   "outputs": [],
   "source": [
    "table$ES.independent = c(0.0455455639, 0.0311618389, 0.0271660306, 0.0012109491, 0.0211519590, 0.1259630505)\n",
    "table$ES.RDA = c(table$R2.adj[1], table$R2.adj[2]-table$R2.adj[1], \n",
    "                       table$R2.adj[3]-table$R2.adj[2], table$R2.adj[4]-table$R2.adj[3],\n",
    "                       table$R2.adj[5]-table$R2.adj[4], table$R2.adj[6]-table$R2.adj[5])\n",
    "table = table[-6, ]"
   ]
  },
  {
   "cell_type": "code",
   "execution_count": 17,
   "metadata": {
    "collapsed": false
   },
   "outputs": [
    {
     "data": {
      "text/plain": [
       "rda(formula = alpha ~ OHV1DTOT + SITE + GIERACE + OHVDTOT + M1ANTIB, \n",
       "    data = dat)"
      ]
     },
     "metadata": {},
     "output_type": "display_data"
    }
   ],
   "source": [
    "step.res$call"
   ]
  },
  {
   "cell_type": "code",
   "execution_count": 18,
   "metadata": {
    "collapsed": false,
    "scrolled": true
   },
   "outputs": [
    {
     "data": {
      "text/html": [
       "<table>\n",
       "<thead><tr><th></th><th scope=col>R2.adj</th><th scope=col>Df</th><th scope=col>AIC</th><th scope=col>F</th><th scope=col>Pr(&gt;F)</th><th scope=col>ES.independent</th><th scope=col>ES.RDA</th></tr></thead>\n",
       "<tbody>\n",
       "\t<tr><th scope=row>+ OHV1DTOT</th><td>0.04554556 </td><td>1          </td><td>1659.710   </td><td>26.959109  </td><td>0.002      </td><td>0.045545564</td><td>0.04554556 </td></tr>\n",
       "\t<tr><th scope=row>+ SITE</th><td>0.07518566 </td><td>5          </td><td>1647.475   </td><td> 4.480606  </td><td>0.002      </td><td>0.031161839</td><td>0.02964010 </td></tr>\n",
       "\t<tr><th scope=row>+ GIERACE</th><td>0.09741708 </td><td>4          </td><td>1638.147   </td><td> 4.312855  </td><td>0.004      </td><td>0.027166031</td><td>0.02223142 </td></tr>\n",
       "\t<tr><th scope=row>+ OHVDTOT</th><td>0.11006721 </td><td>1          </td><td>1631.433   </td><td> 8.590649  </td><td>0.008      </td><td>0.001210949</td><td>0.01265013 </td></tr>\n",
       "\t<tr><th scope=row>+ M1ANTIB</th><td>0.12277224 </td><td>1          </td><td>1624.572   </td><td> 8.719521  </td><td>0.004      </td><td>0.021151959</td><td>0.01270502 </td></tr>\n",
       "</tbody>\n",
       "</table>\n"
      ],
      "text/latex": [
       "\\begin{tabular}{r|lllllll}\n",
       "  & R2.adj & Df & AIC & F & Pr(>F) & ES.independent & ES.RDA\\\\\n",
       "\\hline\n",
       "\t+ OHV1DTOT & 0.04554556  & 1           & 1659.710    & 26.959109   & 0.002       & 0.045545564 & 0.04554556 \\\\\n",
       "\t+ SITE & 0.07518566  & 5           & 1647.475    &  4.480606   & 0.002       & 0.031161839 & 0.02964010 \\\\\n",
       "\t+ GIERACE & 0.09741708  & 4           & 1638.147    &  4.312855   & 0.004       & 0.027166031 & 0.02223142 \\\\\n",
       "\t+ OHVDTOT & 0.11006721  & 1           & 1631.433    &  8.590649   & 0.008       & 0.001210949 & 0.01265013 \\\\\n",
       "\t+ M1ANTIB & 0.12277224  & 1           & 1624.572    &  8.719521   & 0.004       & 0.021151959 & 0.01270502 \\\\\n",
       "\\end{tabular}\n"
      ],
      "text/markdown": [
       "\n",
       "| <!--/--> | R2.adj | Df | AIC | F | Pr(>F) | ES.independent | ES.RDA | \n",
       "|---|---|---|---|---|\n",
       "| + OHV1DTOT | 0.04554556  | 1           | 1659.710    | 26.959109   | 0.002       | 0.045545564 | 0.04554556  | \n",
       "| + SITE | 0.07518566  | 5           | 1647.475    |  4.480606   | 0.002       | 0.031161839 | 0.02964010  | \n",
       "| + GIERACE | 0.09741708  | 4           | 1638.147    |  4.312855   | 0.004       | 0.027166031 | 0.02223142  | \n",
       "| + OHVDTOT | 0.11006721  | 1           | 1631.433    |  8.590649   | 0.008       | 0.001210949 | 0.01265013  | \n",
       "| + M1ANTIB | 0.12277224  | 1           | 1624.572    |  8.719521   | 0.004       | 0.021151959 | 0.01270502  | \n",
       "\n",
       "\n"
      ],
      "text/plain": [
       "           R2.adj     Df AIC      F         Pr(>F) ES.independent ES.RDA    \n",
       "+ OHV1DTOT 0.04554556 1  1659.710 26.959109 0.002  0.045545564    0.04554556\n",
       "+ SITE     0.07518566 5  1647.475  4.480606 0.002  0.031161839    0.02964010\n",
       "+ GIERACE  0.09741708 4  1638.147  4.312855 0.004  0.027166031    0.02223142\n",
       "+ OHVDTOT  0.11006721 1  1631.433  8.590649 0.008  0.001210949    0.01265013\n",
       "+ M1ANTIB  0.12277224 1  1624.572  8.719521 0.004  0.021151959    0.01270502"
      ]
     },
     "metadata": {},
     "output_type": "display_data"
    }
   ],
   "source": [
    "table"
   ]
  },
  {
   "cell_type": "code",
   "execution_count": null,
   "metadata": {
    "collapsed": true
   },
   "outputs": [],
   "source": []
  }
 ],
 "metadata": {
  "kernelspec": {
   "display_name": "R",
   "language": "R",
   "name": "ir"
  },
  "language_info": {
   "codemirror_mode": "r",
   "file_extension": ".r",
   "mimetype": "text/x-r-source",
   "name": "R",
   "pygments_lexer": "r",
   "version": "3.3.2"
  }
 },
 "nbformat": 4,
 "nbformat_minor": 2
}
