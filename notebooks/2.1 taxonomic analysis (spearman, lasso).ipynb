{
 "cells": [
  {
   "cell_type": "markdown",
   "metadata": {},
   "source": [
    "1. use spearman correlation between OTUs and 5 VitD variables (with BH FDR corrected p-val <= 0.05 as threshold)\n",
    "2. use lasso regression on all OTUs vs. 5 VitD variables (need Cross-validation to choose tuning parameter)"
   ]
  },
  {
   "cell_type": "code",
   "execution_count": 1,
   "metadata": {
    "collapsed": true
   },
   "outputs": [],
   "source": [
    "import warnings\n",
    "warnings.filterwarnings(\"ignore\")\n",
    "\n",
    "import pandas as pd\n",
    "import numpy as np\n",
    "from scipy.stats import spearmanr, pearsonr\n",
    "from statsmodels.sandbox.stats.multicomp import multipletests\n",
    "\n",
    "from sklearn.model_selection import train_test_split\n",
    "from sklearn.linear_model import LassoLarsCV\n",
    "from sklearn.preprocessing import StandardScaler\n",
    "\n",
    "import matplotlib.pylab as plt\n",
    "import seaborn as sns\n",
    "%matplotlib inline"
   ]
  },
  {
   "cell_type": "markdown",
   "metadata": {},
   "source": [
    "## Spearman correlation"
   ]
  },
  {
   "cell_type": "markdown",
   "metadata": {},
   "source": [
    "### merge biomtable with mapping file (output: dat)"
   ]
  },
  {
   "cell_type": "code",
   "execution_count": 2,
   "metadata": {
    "collapsed": true
   },
   "outputs": [],
   "source": [
    "mf = pd.read_csv('../data/mapping_cleaned_MrOS.txt', sep='\\t', dtype=str, index_col='#SampleID')\n",
    "bt = pd.read_csv('../data/biomtable.txt', sep='\\t', dtype=str, index_col='#OTU ID')  \n",
    "bt = bt.transpose()"
   ]
  },
  {
   "cell_type": "code",
   "execution_count": 3,
   "metadata": {},
   "outputs": [
    {
     "name": "stdout",
     "output_type": "stream",
     "text": [
      "(599, 66) (600, 4727)\n"
     ]
    }
   ],
   "source": [
    "print(mf.shape, bt.shape) # bt has an additional row of 'taxonomy'"
   ]
  },
  {
   "cell_type": "code",
   "execution_count": 4,
   "metadata": {},
   "outputs": [
    {
     "data": {
      "text/html": [
       "<div>\n",
       "<style>\n",
       "    .dataframe thead tr:only-child th {\n",
       "        text-align: right;\n",
       "    }\n",
       "\n",
       "    .dataframe thead th {\n",
       "        text-align: left;\n",
       "    }\n",
       "\n",
       "    .dataframe tbody tr th {\n",
       "        vertical-align: top;\n",
       "    }\n",
       "</style>\n",
       "<table border=\"1\" class=\"dataframe\">\n",
       "  <thead>\n",
       "    <tr style=\"text-align: right;\">\n",
       "      <th></th>\n",
       "      <th>BarcodeSequence</th>\n",
       "      <th>LinkerPrimerSequence</th>\n",
       "      <th>Experiment_Design_Description</th>\n",
       "      <th>Library_Construction_Protocol</th>\n",
       "      <th>Linker</th>\n",
       "      <th>Platform</th>\n",
       "      <th>Center_Name</th>\n",
       "      <th>Center_Project</th>\n",
       "      <th>Instrument_Model</th>\n",
       "      <th>Title</th>\n",
       "      <th>...</th>\n",
       "      <th>OHV1D2</th>\n",
       "      <th>OHV1D2CT</th>\n",
       "      <th>OHVD2CT</th>\n",
       "      <th>OHVDTOT</th>\n",
       "      <th>OHV1DTOT</th>\n",
       "      <th>OHSEAS</th>\n",
       "      <th>VDstatus</th>\n",
       "      <th>Description</th>\n",
       "      <th>ratio_activation</th>\n",
       "      <th>ratio_catabolism</th>\n",
       "    </tr>\n",
       "    <tr>\n",
       "      <th>#SampleID</th>\n",
       "      <th></th>\n",
       "      <th></th>\n",
       "      <th></th>\n",
       "      <th></th>\n",
       "      <th></th>\n",
       "      <th></th>\n",
       "      <th></th>\n",
       "      <th></th>\n",
       "      <th></th>\n",
       "      <th></th>\n",
       "      <th></th>\n",
       "      <th></th>\n",
       "      <th></th>\n",
       "      <th></th>\n",
       "      <th></th>\n",
       "      <th></th>\n",
       "      <th></th>\n",
       "      <th></th>\n",
       "      <th></th>\n",
       "      <th></th>\n",
       "      <th></th>\n",
       "    </tr>\n",
       "  </thead>\n",
       "  <tbody>\n",
       "    <tr>\n",
       "      <th>BI0023</th>\n",
       "      <td>TCTGGTGACATT</td>\n",
       "      <td>GGACTACHVGGGTWTCTAAT</td>\n",
       "      <td>16S stool samples sequenced for MrOS Vitamin D...</td>\n",
       "      <td>16S rRNA v4</td>\n",
       "      <td>GT</td>\n",
       "      <td>Illumina</td>\n",
       "      <td>BI</td>\n",
       "      <td>MrOS</td>\n",
       "      <td>Illumina MiSeq</td>\n",
       "      <td>MrOS_VitaminD</td>\n",
       "      <td>...</td>\n",
       "      <td>0.0</td>\n",
       "      <td>1: Yes</td>\n",
       "      <td>1: Yes</td>\n",
       "      <td>25.8</td>\n",
       "      <td>0.039299999999999995</td>\n",
       "      <td>3:SUMMER</td>\n",
       "      <td>sufficiency</td>\n",
       "      <td>Orwoll.BI0023.BI</td>\n",
       "      <td>0.0015232558139534882</td>\n",
       "      <td>0.0686046511627907</td>\n",
       "    </tr>\n",
       "    <tr>\n",
       "      <th>BI0056</th>\n",
       "      <td>CAAGCATGCCTA</td>\n",
       "      <td>GGACTACHVGGGTWTCTAAT</td>\n",
       "      <td>16S stool samples sequenced for MrOS Vitamin D...</td>\n",
       "      <td>16S rRNA v4</td>\n",
       "      <td>GT</td>\n",
       "      <td>Illumina</td>\n",
       "      <td>BI</td>\n",
       "      <td>MrOS</td>\n",
       "      <td>Illumina MiSeq</td>\n",
       "      <td>MrOS_VitaminD</td>\n",
       "      <td>...</td>\n",
       "      <td>0.0</td>\n",
       "      <td>1: Yes</td>\n",
       "      <td>1: Yes</td>\n",
       "      <td>39.2</td>\n",
       "      <td>0.0619</td>\n",
       "      <td>2:SPRING</td>\n",
       "      <td>sufficiency</td>\n",
       "      <td>Orwoll.BI0056.BI</td>\n",
       "      <td>0.001579081632653061</td>\n",
       "      <td>0.09974489795918368</td>\n",
       "    </tr>\n",
       "    <tr>\n",
       "      <th>BI0131</th>\n",
       "      <td>CTATTTGCGACA</td>\n",
       "      <td>GGACTACHVGGGTWTCTAAT</td>\n",
       "      <td>16S stool samples sequenced for MrOS Vitamin D...</td>\n",
       "      <td>16S rRNA v4</td>\n",
       "      <td>GT</td>\n",
       "      <td>Illumina</td>\n",
       "      <td>BI</td>\n",
       "      <td>MrOS</td>\n",
       "      <td>Illumina MiSeq</td>\n",
       "      <td>MrOS_VitaminD</td>\n",
       "      <td>...</td>\n",
       "      <td>0.0</td>\n",
       "      <td>1: Yes</td>\n",
       "      <td>1: Yes</td>\n",
       "      <td>23.1</td>\n",
       "      <td>0.0521</td>\n",
       "      <td>2:SPRING</td>\n",
       "      <td>sufficiency</td>\n",
       "      <td>Orwoll.BI0131.BI</td>\n",
       "      <td>0.002255411255411255</td>\n",
       "      <td>0.06450216450216449</td>\n",
       "    </tr>\n",
       "    <tr>\n",
       "      <th>BI0153</th>\n",
       "      <td>ATCGGCGTTACA</td>\n",
       "      <td>GGACTACHVGGGTWTCTAAT</td>\n",
       "      <td>16S stool samples sequenced for MrOS Vitamin D...</td>\n",
       "      <td>16S rRNA v4</td>\n",
       "      <td>GT</td>\n",
       "      <td>Illumina</td>\n",
       "      <td>BI</td>\n",
       "      <td>MrOS</td>\n",
       "      <td>Illumina MiSeq</td>\n",
       "      <td>MrOS_VitaminD</td>\n",
       "      <td>...</td>\n",
       "      <td>0.0</td>\n",
       "      <td>1: Yes</td>\n",
       "      <td>1: Yes</td>\n",
       "      <td>27.3</td>\n",
       "      <td>0.0431</td>\n",
       "      <td>2:SPRING</td>\n",
       "      <td>sufficiency</td>\n",
       "      <td>Orwoll.BI0153.BI</td>\n",
       "      <td>0.0015787545787545787</td>\n",
       "      <td>0.07838827838827839</td>\n",
       "    </tr>\n",
       "    <tr>\n",
       "      <th>BI0215</th>\n",
       "      <td>CCTCTCGTGATC</td>\n",
       "      <td>GGACTACHVGGGTWTCTAAT</td>\n",
       "      <td>16S stool samples sequenced for MrOS Vitamin D...</td>\n",
       "      <td>16S rRNA v4</td>\n",
       "      <td>GT</td>\n",
       "      <td>Illumina</td>\n",
       "      <td>BI</td>\n",
       "      <td>MrOS</td>\n",
       "      <td>Illumina MiSeq</td>\n",
       "      <td>MrOS_VitaminD</td>\n",
       "      <td>...</td>\n",
       "      <td>0.0</td>\n",
       "      <td>1: Yes</td>\n",
       "      <td>1: Yes</td>\n",
       "      <td>33.0</td>\n",
       "      <td>0.0502</td>\n",
       "      <td>4:FALL</td>\n",
       "      <td>sufficiency</td>\n",
       "      <td>Orwoll.BI0215.BI</td>\n",
       "      <td>0.0015212121212121212</td>\n",
       "      <td>0.1096969696969697</td>\n",
       "    </tr>\n",
       "  </tbody>\n",
       "</table>\n",
       "<p>5 rows × 66 columns</p>\n",
       "</div>"
      ],
      "text/plain": [
       "          BarcodeSequence  LinkerPrimerSequence  \\\n",
       "#SampleID                                         \n",
       "BI0023       TCTGGTGACATT  GGACTACHVGGGTWTCTAAT   \n",
       "BI0056       CAAGCATGCCTA  GGACTACHVGGGTWTCTAAT   \n",
       "BI0131       CTATTTGCGACA  GGACTACHVGGGTWTCTAAT   \n",
       "BI0153       ATCGGCGTTACA  GGACTACHVGGGTWTCTAAT   \n",
       "BI0215       CCTCTCGTGATC  GGACTACHVGGGTWTCTAAT   \n",
       "\n",
       "                               Experiment_Design_Description  \\\n",
       "#SampleID                                                      \n",
       "BI0023     16S stool samples sequenced for MrOS Vitamin D...   \n",
       "BI0056     16S stool samples sequenced for MrOS Vitamin D...   \n",
       "BI0131     16S stool samples sequenced for MrOS Vitamin D...   \n",
       "BI0153     16S stool samples sequenced for MrOS Vitamin D...   \n",
       "BI0215     16S stool samples sequenced for MrOS Vitamin D...   \n",
       "\n",
       "          Library_Construction_Protocol Linker  Platform Center_Name  \\\n",
       "#SampleID                                                              \n",
       "BI0023                      16S rRNA v4     GT  Illumina          BI   \n",
       "BI0056                      16S rRNA v4     GT  Illumina          BI   \n",
       "BI0131                      16S rRNA v4     GT  Illumina          BI   \n",
       "BI0153                      16S rRNA v4     GT  Illumina          BI   \n",
       "BI0215                      16S rRNA v4     GT  Illumina          BI   \n",
       "\n",
       "          Center_Project Instrument_Model          Title         ...           \\\n",
       "#SampleID                                                        ...            \n",
       "BI0023              MrOS   Illumina MiSeq  MrOS_VitaminD         ...            \n",
       "BI0056              MrOS   Illumina MiSeq  MrOS_VitaminD         ...            \n",
       "BI0131              MrOS   Illumina MiSeq  MrOS_VitaminD         ...            \n",
       "BI0153              MrOS   Illumina MiSeq  MrOS_VitaminD         ...            \n",
       "BI0215              MrOS   Illumina MiSeq  MrOS_VitaminD         ...            \n",
       "\n",
       "          OHV1D2 OHV1D2CT OHVD2CT OHVDTOT              OHV1DTOT    OHSEAS  \\\n",
       "#SampleID                                                                   \n",
       "BI0023       0.0   1: Yes  1: Yes    25.8  0.039299999999999995  3:SUMMER   \n",
       "BI0056       0.0   1: Yes  1: Yes    39.2                0.0619  2:SPRING   \n",
       "BI0131       0.0   1: Yes  1: Yes    23.1                0.0521  2:SPRING   \n",
       "BI0153       0.0   1: Yes  1: Yes    27.3                0.0431  2:SPRING   \n",
       "BI0215       0.0   1: Yes  1: Yes    33.0                0.0502    4:FALL   \n",
       "\n",
       "              VDstatus       Description       ratio_activation  \\\n",
       "#SampleID                                                         \n",
       "BI0023     sufficiency  Orwoll.BI0023.BI  0.0015232558139534882   \n",
       "BI0056     sufficiency  Orwoll.BI0056.BI   0.001579081632653061   \n",
       "BI0131     sufficiency  Orwoll.BI0131.BI   0.002255411255411255   \n",
       "BI0153     sufficiency  Orwoll.BI0153.BI  0.0015787545787545787   \n",
       "BI0215     sufficiency  Orwoll.BI0215.BI  0.0015212121212121212   \n",
       "\n",
       "              ratio_catabolism  \n",
       "#SampleID                       \n",
       "BI0023      0.0686046511627907  \n",
       "BI0056     0.09974489795918368  \n",
       "BI0131     0.06450216450216449  \n",
       "BI0153     0.07838827838827839  \n",
       "BI0215      0.1096969696969697  \n",
       "\n",
       "[5 rows x 66 columns]"
      ]
     },
     "execution_count": 4,
     "metadata": {},
     "output_type": "execute_result"
    }
   ],
   "source": [
    "mf.head()"
   ]
  },
  {
   "cell_type": "code",
   "execution_count": 5,
   "metadata": {},
   "outputs": [
    {
     "data": {
      "text/html": [
       "<div>\n",
       "<style>\n",
       "    .dataframe thead tr:only-child th {\n",
       "        text-align: right;\n",
       "    }\n",
       "\n",
       "    .dataframe thead th {\n",
       "        text-align: left;\n",
       "    }\n",
       "\n",
       "    .dataframe tbody tr th {\n",
       "        vertical-align: top;\n",
       "    }\n",
       "</style>\n",
       "<table border=\"1\" class=\"dataframe\">\n",
       "  <thead>\n",
       "    <tr style=\"text-align: right;\">\n",
       "      <th>#OTU ID</th>\n",
       "      <th>TACGTAGGTGGCAAGCGTTGTCCGGAATTACTGGGTGTAAAGGGAGTGTAGGCGGGATATCAAGTCAGAAGTGAAAATTACGGGCTCAACTCGTAACCTGCTTTTGAAACTGACATTCTTGAGTGAAGTAGAGGCAAGCGGAATTCCTAGTGTAGCGGTGAAATGCGTAGATATTAGGAGGAACACCAGTGGCGAAGGCGGCTTGCTGGGCTTTTACTGACGCTGAGGCTCGAAAGCGTGGGGAGCAAA</th>\n",
       "      <th>TACGGAGGATGCGAGCGTTATCCGGATTTATTGGGTTTAAAGGGAGCGTAGACGGGTCCTTAAGTCAGTTGTGAAAGTTTGCGGCTCAACCGTAAAATTGCAGTTGATACTGGGGACCTTGAGTGCGGCAGAGGCAGGCGGAATTCGTGGTGTAGCGGTGAAATGCTTAGATATCACGAAGAACTCCGATTGCGAAGGCAGCTTGCTGGACCGTAACTGACGTTGATGCTCGAAAGTGCGGGTATCAAA</th>\n",
       "      <th>AACGTAGGTCACAAGCGTTGTCCGGAATTACTGGGTGTAAAGGGAGCGCAGGCGGGAAGACAAGTTGGAAGTGAAATCCATGGGCTCAACCCATGAACTGCTTTCAAAACTGTTTTTCTTGAGTAGTGCAGAGGTAGGCGGAATTCCCGGTGTAGCGGTGGAATGCGTAGATATCGGGAGGAACACCAGTGGCGAAGGCGGCCTACTGGGCACCAACTGACGCTGAGGCTCGAAAGTGTGGGTAGCAAA</th>\n",
       "      <th>TACGGAGGATCCGAGCGTTATCCGGATTTATTGGGTTTAAAGGGAGCGTAGATGGATGTTTAAGTCAGTTGTGAAAGTTTGCGGCTCAACCGTAAAATTGCAGTTGATACTGGATATCTTGAGTGCAGTTGAGGCAGGCGGAATTCGTGGTGTAGCGGTGAAATGCTTAGATATCACGAAGAACTCCGATTGCGAAGGCAGCCTGCTAAGCTGCAACTGACATTGAGGCTCGAAAGTGTGGGTATCAAA</th>\n",
       "      <th>AACGTAGGTCACAAGCGTTGTCCGGAATTACTGGGTGTAAAGGGAGCGCAGGCGGGAAGACAAGTTGGAAGTGAAATCTATGGGCTCAACCCATAAACTGCTTTCAAAACTGTTTTTCTTGAGTAGTGCAGAGGTAGGCGGAATTCCCGGTGTAGCGGTGGAATGCGTAGATATCGGGAGGAACACCAGTGGCGAAGGCGGCCTACTGGGCACCAACTGACGCTGAGGCTCGAAAGTGTGGGTAGCAAA</th>\n",
       "      <th>TACGGAGGATCCGAGCGTTATCCGGATTTATTGGGTTTAAAGGGAGCGTAGGCGGACGCTTAAGTCAGTTGTGAAAGTTTGCGGCTCAACCGTAAAATTGCAGTTGATACTGGGTGTCTTGAGTACAGTAGAGGCAGGCGGAATTCGTGGTGTAGCGGTGAAATGCTTAGATATCACGAAGAACTCCGATTGCGAAGGCAGCTTGCTGGACTGTAACTGACGCTGATGCTCGAAAGTGTGGGTATCAAA</th>\n",
       "      <th>TACGGAGGATTCAAGCGTTATCCGGATTTATTGGGTTTAAAGGGTGCGTAGGCGGTTTGATAAGTTAGAGGTGAAATTTCGGGGCTCAACCCTGAACGTGCCTCTAATACTGTTGAGCTAGAGAGTAGTTGCGGTAGGCGGAATGTATGGTGTAGCGGTGAAATGCTTAGAGATCATACAGAACACCGATTGCGAAGGCAGCTTACCAAACTATATCTGACGTTGAGGCACGAAAGCGTGGGGAGCAAA</th>\n",
       "      <th>TACGTATGGTGCAAGCGTTATCCGGATTTACTGGGTGTAAAGGGAGCGCAGGCGGTGCGGCAAGTCTGATGTGAAAGCCCGGGGCTCAACCCCGGTACTGCATTGGAAACTGTCGTACTAGAGTGTCGGAGGGGTAAGCGGAATTCCTAGTGTAGCGGTGAAATGCGTAGATATTAGGAGGAACACCAGTGGCGAAGGCGGCTTACTGGACGATAACTGACGCTGAGGCTCGAAAGCGTGGGGAGCAAA</th>\n",
       "      <th>TACGGAGGATCCAAGCGTTATCCGGATTTATTGGGTTTAAAGGGTGCGTAGGCGGTCAGATAAGTTAGAGGTGAAATTCCGGTGCTTAACACCGGCGCTGCCTCTAATACTGTTTGACTAGAGAGTAGTTGCGGTAGGCGGAATGTATGGTGTAGCGGTGAAATGCTTAGAGATCATACAGAACACCGATTGCGAAGGCAGCTTACCAAGCTATATCTGACGTTGAGGCACGAAAGCGTGGGGAGCAAA</th>\n",
       "      <th>TACGTATGGAGCAAGCGTTATCCGGATTTACTGGGTGTAAAGGGAGTGTAGGTGGCATCACAAGTCAGAAGTGAAAGCCCGGGGCTCAACCCCGGGACTGCTTTTGAAACTGTGGAGCTGGAGTGCAGGAGAGGCAAGTGGAATTCCTAGTGTAGCGGTGAAATGCGTAGATATTAGGAGGAACACCAGTGGCGAAGGCGGCTTGCTGGACTGTAACTGACACTGAGGCTCGAAAGCGTGGGGAGCAAA</th>\n",
       "      <th>...</th>\n",
       "      <th>AACGTAGGGTGCAAGCGTTGTCCGGAATTACTGGGTGTAAAGGGAGCGCAGGCGGACCGGCAAGTTGGAAGTGAAAACTATGGGCTCAACCCATAAATTGCTTTCAAAACTGTTGGCCTTGAGTAGTGCAGAGGTAGGTGGAATTCCCGGTGTAGCGGTGGAATGCGTAGATATCGGGAGGAACACCAGTGGCGAAGGCGACCTACTGGGCACCAACTGACGCTGAGGCTCGAAAGCATGGGTAGCAAA</th>\n",
       "      <th>TACGTAGGGGGCAAGCGTTATCCGGATTTACTGGGTGTAAAGGGAGCGTAGGTGGCAAGGCAAGTCAGATGTGAAAACCCGGGGCTCAACTCCGGGACTGCATTTGAAACTGTCTAGCTAGAGTGCAGGAGAGGTAAGTGGAATTCCTAGTGTAGCGGTGAAATGCATAGATATTAGGAGGAACACCAGTGGCGAAGGCGGCTTACTGGACTGTAACTGACACTGAGGCTCGAAAGCGTGGGGAGCAAA</th>\n",
       "      <th>TACGTAGGGGGCAAGCGTTATCCGGATTTACTGGGTGTAAAGGGAGCGTAGACGGCGACGCAAGTCTGAAGTGAAATACCCGGGCTCAACCTGGGAACTGCTTTGGAAACTGTGTTGCTAGAGTGCTGGAGAGGTAAGCGGAATTCCTAGTGTAGCGGTGAAATGCGTAGATATTAGGAAGAACACCAGTGGCGAAGGCGGCTTACTGGACAGTAACTGACGTTGAGGCTCGAAAACGTGGGGAGCAAA</th>\n",
       "      <th>TACGGAGGGTGCAAGCGTTAATCGGAATCACTGGGCGTAAAGCGCACGTAGGCGGCTTGGTAAGTCAGGGGTGAAATCCCACAGCCCAACTATGGAACTGCCTTTGATACTGCCAGGCTTGAGTACCGGAGAGGGTGGCGGAATTCCAGGTGTAGGAGTGAAATCCGTAGATATCTGGAGGAACACCGGTGGCGAAGGCGGCCACCTGGACGGTAACTGACGCTGAGGTGCGAAAGCGTGGGTAGCAAA</th>\n",
       "      <th>TACGTAGGTGGCAAGCGTTGTCCGGAATTACTGGGTGTAAAGGGTGCGCAGGCGGGATTGCAAGTTGGATGTGAAATACCGGGGCTTAACCCCGGAGCTGCATCCAAAACTGTAGTTCTTGAGTGGAGTAGAGGTAAGCGGAATTCCGAGTGTAGCGGTGAAATGCGTAGATATTCGGAGGAACACCAGCGGCGAAGGCGGCTTACTGGGCTCTAACTGACGCTGAGGCACGAAAGCATGGGTAGCAAA</th>\n",
       "      <th>TACGTAGGGGGCAAGCGTTATCCGGATTTACTGGGTGTAAAGGGAGCGCAGGCGGTCTTGTAAGTCCGGTGTGAAAACCCGAGGCTCAACCTCGGGACTGCACTGGAAACTATGGGACTGGAGTGTCGGAGAGGTAAGTGGAATTCCTAGTGTAGCGGTGAAATGCGTAGATATTAGGAGGAACACCAGTGGCGAAGGCGGCTTACTGGACGACAACTGACGCTGAGGCTCGAAAGCGTGGGGAGCAAA</th>\n",
       "      <th>TACGGAGGATGCGAGCGTTATCCGGATTTATTGGGTTTAAAGGGTGCGTAGGCGGGGATTTAAGTCAGCGGTGAAAGTTTGAGGCTCAACCTTAAAATTGCCGTTGAAACTGGGTTTCTTGAGTGTATTTGAAGTAGGCGGAATTCGTTGTGTAGCGGTGAAATGCATAGATATAACGAAGAACTCCAATTGCGCAGGCAGCTTACTAAACTACAACTGACGCTGAAGCACGAAAGCGTGGGTATCAAA</th>\n",
       "      <th>TACGTAGGGGGCAAGCGTTATCCGGATTTACTGGGTGTAAAGGGAGCGTAGACGGCGAAGCAAGTCAGAAGTGAAAACCCCGGGCTTAACCTGGGGACTGCTTTTGAAACTGTTTGGCTGGAGTGCAGGAGAGGTGAGTGGAATTCCTAGTGTAGCGGTGAAATGCGTAGATATTAGGAGGAACACCAGTGGCGAAGGCGGCTTACTGGACTGTAACTGACGTTGAGGCTCGAAAGCGTGGGGAGCAAA</th>\n",
       "      <th>TACGTAGGTGGCAAGCGTTGTCCGGAATTACTGGGTGTAAAGGGAGCGTAGGCGGGGAGACAAGTTGAATGTCTAAACTATCGGCTTAACTGATAGTCGCGTTCAAAACTATCACTCTTGAGTGCAGTAGAGGTAGGCAGAATTCCTAGTGTAGCGGTGAAATGCGTAGATATTAGGAGGAACACCAGTGGCGAAGGCGGCCTACTGGGCTGTAACTGACGCTGAGGCTCGAAAGCGTGGGTAGCAAAC</th>\n",
       "      <th>TACGTAGGGGGCAAGAGTTATCCGGATTTACTGGGTGTAAAGGGAGCGTAGACGGCATGACAAGCCAGATGTGAAAACCCAGGGCTCAACCCTGGGACTGCATTTGGAACTGCCAGGCTGGAGTGCAGGAGAGGTAAGCGGAATTCCTAGTGTAGCGGTGAAATGCGTAGATATTAGGAGGAACACCAGTGGCGAAGGCGGCTTACTGGACTGTAACTGACGTTGAGGCTCGAAAGCGTGGGGAGCAAA</th>\n",
       "    </tr>\n",
       "  </thead>\n",
       "  <tbody>\n",
       "    <tr>\n",
       "      <th>SD8637</th>\n",
       "      <td>1819.0</td>\n",
       "      <td>1656.0</td>\n",
       "      <td>983.0</td>\n",
       "      <td>781.0</td>\n",
       "      <td>649.0</td>\n",
       "      <td>633.0</td>\n",
       "      <td>390.0</td>\n",
       "      <td>377.0</td>\n",
       "      <td>364.0</td>\n",
       "      <td>260.0</td>\n",
       "      <td>...</td>\n",
       "      <td>0.0</td>\n",
       "      <td>0.0</td>\n",
       "      <td>0.0</td>\n",
       "      <td>0.0</td>\n",
       "      <td>0.0</td>\n",
       "      <td>0.0</td>\n",
       "      <td>0.0</td>\n",
       "      <td>0.0</td>\n",
       "      <td>0.0</td>\n",
       "      <td>0.0</td>\n",
       "    </tr>\n",
       "    <tr>\n",
       "      <th>PO7016</th>\n",
       "      <td>15.0</td>\n",
       "      <td>0.0</td>\n",
       "      <td>249.0</td>\n",
       "      <td>0.0</td>\n",
       "      <td>315.0</td>\n",
       "      <td>1693.0</td>\n",
       "      <td>1045.0</td>\n",
       "      <td>0.0</td>\n",
       "      <td>0.0</td>\n",
       "      <td>0.0</td>\n",
       "      <td>...</td>\n",
       "      <td>0.0</td>\n",
       "      <td>0.0</td>\n",
       "      <td>0.0</td>\n",
       "      <td>0.0</td>\n",
       "      <td>0.0</td>\n",
       "      <td>0.0</td>\n",
       "      <td>0.0</td>\n",
       "      <td>0.0</td>\n",
       "      <td>0.0</td>\n",
       "      <td>0.0</td>\n",
       "    </tr>\n",
       "    <tr>\n",
       "      <th>MN1789</th>\n",
       "      <td>0.0</td>\n",
       "      <td>0.0</td>\n",
       "      <td>0.0</td>\n",
       "      <td>381.0</td>\n",
       "      <td>0.0</td>\n",
       "      <td>0.0</td>\n",
       "      <td>6.0</td>\n",
       "      <td>58.0</td>\n",
       "      <td>0.0</td>\n",
       "      <td>10.0</td>\n",
       "      <td>...</td>\n",
       "      <td>0.0</td>\n",
       "      <td>0.0</td>\n",
       "      <td>0.0</td>\n",
       "      <td>0.0</td>\n",
       "      <td>0.0</td>\n",
       "      <td>0.0</td>\n",
       "      <td>0.0</td>\n",
       "      <td>0.0</td>\n",
       "      <td>0.0</td>\n",
       "      <td>0.0</td>\n",
       "    </tr>\n",
       "    <tr>\n",
       "      <th>MN1868</th>\n",
       "      <td>195.0</td>\n",
       "      <td>0.0</td>\n",
       "      <td>978.0</td>\n",
       "      <td>0.0</td>\n",
       "      <td>0.0</td>\n",
       "      <td>270.0</td>\n",
       "      <td>273.0</td>\n",
       "      <td>40.0</td>\n",
       "      <td>0.0</td>\n",
       "      <td>9.0</td>\n",
       "      <td>...</td>\n",
       "      <td>0.0</td>\n",
       "      <td>0.0</td>\n",
       "      <td>0.0</td>\n",
       "      <td>0.0</td>\n",
       "      <td>0.0</td>\n",
       "      <td>0.0</td>\n",
       "      <td>0.0</td>\n",
       "      <td>0.0</td>\n",
       "      <td>0.0</td>\n",
       "      <td>0.0</td>\n",
       "    </tr>\n",
       "    <tr>\n",
       "      <th>PA3814</th>\n",
       "      <td>190.0</td>\n",
       "      <td>0.0</td>\n",
       "      <td>236.0</td>\n",
       "      <td>1311.0</td>\n",
       "      <td>829.0</td>\n",
       "      <td>63.0</td>\n",
       "      <td>253.0</td>\n",
       "      <td>99.0</td>\n",
       "      <td>0.0</td>\n",
       "      <td>1.0</td>\n",
       "      <td>...</td>\n",
       "      <td>0.0</td>\n",
       "      <td>0.0</td>\n",
       "      <td>0.0</td>\n",
       "      <td>0.0</td>\n",
       "      <td>0.0</td>\n",
       "      <td>0.0</td>\n",
       "      <td>0.0</td>\n",
       "      <td>0.0</td>\n",
       "      <td>0.0</td>\n",
       "      <td>0.0</td>\n",
       "    </tr>\n",
       "  </tbody>\n",
       "</table>\n",
       "<p>5 rows × 4727 columns</p>\n",
       "</div>"
      ],
      "text/plain": [
       "#OTU ID TACGTAGGTGGCAAGCGTTGTCCGGAATTACTGGGTGTAAAGGGAGTGTAGGCGGGATATCAAGTCAGAAGTGAAAATTACGGGCTCAACTCGTAACCTGCTTTTGAAACTGACATTCTTGAGTGAAGTAGAGGCAAGCGGAATTCCTAGTGTAGCGGTGAAATGCGTAGATATTAGGAGGAACACCAGTGGCGAAGGCGGCTTGCTGGGCTTTTACTGACGCTGAGGCTCGAAAGCGTGGGGAGCAAA  \\\n",
       "SD8637                                              1819.0                                                                                                                                                                                                          \n",
       "PO7016                                                15.0                                                                                                                                                                                                          \n",
       "MN1789                                                 0.0                                                                                                                                                                                                          \n",
       "MN1868                                               195.0                                                                                                                                                                                                          \n",
       "PA3814                                               190.0                                                                                                                                                                                                          \n",
       "\n",
       "#OTU ID TACGGAGGATGCGAGCGTTATCCGGATTTATTGGGTTTAAAGGGAGCGTAGACGGGTCCTTAAGTCAGTTGTGAAAGTTTGCGGCTCAACCGTAAAATTGCAGTTGATACTGGGGACCTTGAGTGCGGCAGAGGCAGGCGGAATTCGTGGTGTAGCGGTGAAATGCTTAGATATCACGAAGAACTCCGATTGCGAAGGCAGCTTGCTGGACCGTAACTGACGTTGATGCTCGAAAGTGCGGGTATCAAA  \\\n",
       "SD8637                                              1656.0                                                                                                                                                                                                          \n",
       "PO7016                                                 0.0                                                                                                                                                                                                          \n",
       "MN1789                                                 0.0                                                                                                                                                                                                          \n",
       "MN1868                                                 0.0                                                                                                                                                                                                          \n",
       "PA3814                                                 0.0                                                                                                                                                                                                          \n",
       "\n",
       "#OTU ID AACGTAGGTCACAAGCGTTGTCCGGAATTACTGGGTGTAAAGGGAGCGCAGGCGGGAAGACAAGTTGGAAGTGAAATCCATGGGCTCAACCCATGAACTGCTTTCAAAACTGTTTTTCTTGAGTAGTGCAGAGGTAGGCGGAATTCCCGGTGTAGCGGTGGAATGCGTAGATATCGGGAGGAACACCAGTGGCGAAGGCGGCCTACTGGGCACCAACTGACGCTGAGGCTCGAAAGTGTGGGTAGCAAA  \\\n",
       "SD8637                                               983.0                                                                                                                                                                                                          \n",
       "PO7016                                               249.0                                                                                                                                                                                                          \n",
       "MN1789                                                 0.0                                                                                                                                                                                                          \n",
       "MN1868                                               978.0                                                                                                                                                                                                          \n",
       "PA3814                                               236.0                                                                                                                                                                                                          \n",
       "\n",
       "#OTU ID TACGGAGGATCCGAGCGTTATCCGGATTTATTGGGTTTAAAGGGAGCGTAGATGGATGTTTAAGTCAGTTGTGAAAGTTTGCGGCTCAACCGTAAAATTGCAGTTGATACTGGATATCTTGAGTGCAGTTGAGGCAGGCGGAATTCGTGGTGTAGCGGTGAAATGCTTAGATATCACGAAGAACTCCGATTGCGAAGGCAGCCTGCTAAGCTGCAACTGACATTGAGGCTCGAAAGTGTGGGTATCAAA  \\\n",
       "SD8637                                               781.0                                                                                                                                                                                                          \n",
       "PO7016                                                 0.0                                                                                                                                                                                                          \n",
       "MN1789                                               381.0                                                                                                                                                                                                          \n",
       "MN1868                                                 0.0                                                                                                                                                                                                          \n",
       "PA3814                                              1311.0                                                                                                                                                                                                          \n",
       "\n",
       "#OTU ID AACGTAGGTCACAAGCGTTGTCCGGAATTACTGGGTGTAAAGGGAGCGCAGGCGGGAAGACAAGTTGGAAGTGAAATCTATGGGCTCAACCCATAAACTGCTTTCAAAACTGTTTTTCTTGAGTAGTGCAGAGGTAGGCGGAATTCCCGGTGTAGCGGTGGAATGCGTAGATATCGGGAGGAACACCAGTGGCGAAGGCGGCCTACTGGGCACCAACTGACGCTGAGGCTCGAAAGTGTGGGTAGCAAA  \\\n",
       "SD8637                                               649.0                                                                                                                                                                                                          \n",
       "PO7016                                               315.0                                                                                                                                                                                                          \n",
       "MN1789                                                 0.0                                                                                                                                                                                                          \n",
       "MN1868                                                 0.0                                                                                                                                                                                                          \n",
       "PA3814                                               829.0                                                                                                                                                                                                          \n",
       "\n",
       "#OTU ID TACGGAGGATCCGAGCGTTATCCGGATTTATTGGGTTTAAAGGGAGCGTAGGCGGACGCTTAAGTCAGTTGTGAAAGTTTGCGGCTCAACCGTAAAATTGCAGTTGATACTGGGTGTCTTGAGTACAGTAGAGGCAGGCGGAATTCGTGGTGTAGCGGTGAAATGCTTAGATATCACGAAGAACTCCGATTGCGAAGGCAGCTTGCTGGACTGTAACTGACGCTGATGCTCGAAAGTGTGGGTATCAAA  \\\n",
       "SD8637                                               633.0                                                                                                                                                                                                          \n",
       "PO7016                                              1693.0                                                                                                                                                                                                          \n",
       "MN1789                                                 0.0                                                                                                                                                                                                          \n",
       "MN1868                                               270.0                                                                                                                                                                                                          \n",
       "PA3814                                                63.0                                                                                                                                                                                                          \n",
       "\n",
       "#OTU ID TACGGAGGATTCAAGCGTTATCCGGATTTATTGGGTTTAAAGGGTGCGTAGGCGGTTTGATAAGTTAGAGGTGAAATTTCGGGGCTCAACCCTGAACGTGCCTCTAATACTGTTGAGCTAGAGAGTAGTTGCGGTAGGCGGAATGTATGGTGTAGCGGTGAAATGCTTAGAGATCATACAGAACACCGATTGCGAAGGCAGCTTACCAAACTATATCTGACGTTGAGGCACGAAAGCGTGGGGAGCAAA  \\\n",
       "SD8637                                               390.0                                                                                                                                                                                                          \n",
       "PO7016                                              1045.0                                                                                                                                                                                                          \n",
       "MN1789                                                 6.0                                                                                                                                                                                                          \n",
       "MN1868                                               273.0                                                                                                                                                                                                          \n",
       "PA3814                                               253.0                                                                                                                                                                                                          \n",
       "\n",
       "#OTU ID TACGTATGGTGCAAGCGTTATCCGGATTTACTGGGTGTAAAGGGAGCGCAGGCGGTGCGGCAAGTCTGATGTGAAAGCCCGGGGCTCAACCCCGGTACTGCATTGGAAACTGTCGTACTAGAGTGTCGGAGGGGTAAGCGGAATTCCTAGTGTAGCGGTGAAATGCGTAGATATTAGGAGGAACACCAGTGGCGAAGGCGGCTTACTGGACGATAACTGACGCTGAGGCTCGAAAGCGTGGGGAGCAAA  \\\n",
       "SD8637                                               377.0                                                                                                                                                                                                          \n",
       "PO7016                                                 0.0                                                                                                                                                                                                          \n",
       "MN1789                                                58.0                                                                                                                                                                                                          \n",
       "MN1868                                                40.0                                                                                                                                                                                                          \n",
       "PA3814                                                99.0                                                                                                                                                                                                          \n",
       "\n",
       "#OTU ID TACGGAGGATCCAAGCGTTATCCGGATTTATTGGGTTTAAAGGGTGCGTAGGCGGTCAGATAAGTTAGAGGTGAAATTCCGGTGCTTAACACCGGCGCTGCCTCTAATACTGTTTGACTAGAGAGTAGTTGCGGTAGGCGGAATGTATGGTGTAGCGGTGAAATGCTTAGAGATCATACAGAACACCGATTGCGAAGGCAGCTTACCAAGCTATATCTGACGTTGAGGCACGAAAGCGTGGGGAGCAAA  \\\n",
       "SD8637                                               364.0                                                                                                                                                                                                          \n",
       "PO7016                                                 0.0                                                                                                                                                                                                          \n",
       "MN1789                                                 0.0                                                                                                                                                                                                          \n",
       "MN1868                                                 0.0                                                                                                                                                                                                          \n",
       "PA3814                                                 0.0                                                                                                                                                                                                          \n",
       "\n",
       "#OTU ID TACGTATGGAGCAAGCGTTATCCGGATTTACTGGGTGTAAAGGGAGTGTAGGTGGCATCACAAGTCAGAAGTGAAAGCCCGGGGCTCAACCCCGGGACTGCTTTTGAAACTGTGGAGCTGGAGTGCAGGAGAGGCAAGTGGAATTCCTAGTGTAGCGGTGAAATGCGTAGATATTAGGAGGAACACCAGTGGCGAAGGCGGCTTGCTGGACTGTAACTGACACTGAGGCTCGAAAGCGTGGGGAGCAAA  \\\n",
       "SD8637                                               260.0                                                                                                                                                                                                          \n",
       "PO7016                                                 0.0                                                                                                                                                                                                          \n",
       "MN1789                                                10.0                                                                                                                                                                                                          \n",
       "MN1868                                                 9.0                                                                                                                                                                                                          \n",
       "PA3814                                                 1.0                                                                                                                                                                                                          \n",
       "\n",
       "#OTU ID                                                                                                                            ...                                                                                                                             \\\n",
       "SD8637                                                                                                                             ...                                                                                                                              \n",
       "PO7016                                                                                                                             ...                                                                                                                              \n",
       "MN1789                                                                                                                             ...                                                                                                                              \n",
       "MN1868                                                                                                                             ...                                                                                                                              \n",
       "PA3814                                                                                                                             ...                                                                                                                              \n",
       "\n",
       "#OTU ID AACGTAGGGTGCAAGCGTTGTCCGGAATTACTGGGTGTAAAGGGAGCGCAGGCGGACCGGCAAGTTGGAAGTGAAAACTATGGGCTCAACCCATAAATTGCTTTCAAAACTGTTGGCCTTGAGTAGTGCAGAGGTAGGTGGAATTCCCGGTGTAGCGGTGGAATGCGTAGATATCGGGAGGAACACCAGTGGCGAAGGCGACCTACTGGGCACCAACTGACGCTGAGGCTCGAAAGCATGGGTAGCAAA  \\\n",
       "SD8637                                                 0.0                                                                                                                                                                                                          \n",
       "PO7016                                                 0.0                                                                                                                                                                                                          \n",
       "MN1789                                                 0.0                                                                                                                                                                                                          \n",
       "MN1868                                                 0.0                                                                                                                                                                                                          \n",
       "PA3814                                                 0.0                                                                                                                                                                                                          \n",
       "\n",
       "#OTU ID TACGTAGGGGGCAAGCGTTATCCGGATTTACTGGGTGTAAAGGGAGCGTAGGTGGCAAGGCAAGTCAGATGTGAAAACCCGGGGCTCAACTCCGGGACTGCATTTGAAACTGTCTAGCTAGAGTGCAGGAGAGGTAAGTGGAATTCCTAGTGTAGCGGTGAAATGCATAGATATTAGGAGGAACACCAGTGGCGAAGGCGGCTTACTGGACTGTAACTGACACTGAGGCTCGAAAGCGTGGGGAGCAAA  \\\n",
       "SD8637                                                 0.0                                                                                                                                                                                                          \n",
       "PO7016                                                 0.0                                                                                                                                                                                                          \n",
       "MN1789                                                 0.0                                                                                                                                                                                                          \n",
       "MN1868                                                 0.0                                                                                                                                                                                                          \n",
       "PA3814                                                 0.0                                                                                                                                                                                                          \n",
       "\n",
       "#OTU ID TACGTAGGGGGCAAGCGTTATCCGGATTTACTGGGTGTAAAGGGAGCGTAGACGGCGACGCAAGTCTGAAGTGAAATACCCGGGCTCAACCTGGGAACTGCTTTGGAAACTGTGTTGCTAGAGTGCTGGAGAGGTAAGCGGAATTCCTAGTGTAGCGGTGAAATGCGTAGATATTAGGAAGAACACCAGTGGCGAAGGCGGCTTACTGGACAGTAACTGACGTTGAGGCTCGAAAACGTGGGGAGCAAA  \\\n",
       "SD8637                                                 0.0                                                                                                                                                                                                          \n",
       "PO7016                                                 0.0                                                                                                                                                                                                          \n",
       "MN1789                                                 0.0                                                                                                                                                                                                          \n",
       "MN1868                                                 0.0                                                                                                                                                                                                          \n",
       "PA3814                                                 0.0                                                                                                                                                                                                          \n",
       "\n",
       "#OTU ID TACGGAGGGTGCAAGCGTTAATCGGAATCACTGGGCGTAAAGCGCACGTAGGCGGCTTGGTAAGTCAGGGGTGAAATCCCACAGCCCAACTATGGAACTGCCTTTGATACTGCCAGGCTTGAGTACCGGAGAGGGTGGCGGAATTCCAGGTGTAGGAGTGAAATCCGTAGATATCTGGAGGAACACCGGTGGCGAAGGCGGCCACCTGGACGGTAACTGACGCTGAGGTGCGAAAGCGTGGGTAGCAAA  \\\n",
       "SD8637                                                 0.0                                                                                                                                                                                                          \n",
       "PO7016                                                 0.0                                                                                                                                                                                                          \n",
       "MN1789                                                 0.0                                                                                                                                                                                                          \n",
       "MN1868                                                 0.0                                                                                                                                                                                                          \n",
       "PA3814                                                 0.0                                                                                                                                                                                                          \n",
       "\n",
       "#OTU ID TACGTAGGTGGCAAGCGTTGTCCGGAATTACTGGGTGTAAAGGGTGCGCAGGCGGGATTGCAAGTTGGATGTGAAATACCGGGGCTTAACCCCGGAGCTGCATCCAAAACTGTAGTTCTTGAGTGGAGTAGAGGTAAGCGGAATTCCGAGTGTAGCGGTGAAATGCGTAGATATTCGGAGGAACACCAGCGGCGAAGGCGGCTTACTGGGCTCTAACTGACGCTGAGGCACGAAAGCATGGGTAGCAAA  \\\n",
       "SD8637                                                 0.0                                                                                                                                                                                                          \n",
       "PO7016                                                 0.0                                                                                                                                                                                                          \n",
       "MN1789                                                 0.0                                                                                                                                                                                                          \n",
       "MN1868                                                 0.0                                                                                                                                                                                                          \n",
       "PA3814                                                 0.0                                                                                                                                                                                                          \n",
       "\n",
       "#OTU ID TACGTAGGGGGCAAGCGTTATCCGGATTTACTGGGTGTAAAGGGAGCGCAGGCGGTCTTGTAAGTCCGGTGTGAAAACCCGAGGCTCAACCTCGGGACTGCACTGGAAACTATGGGACTGGAGTGTCGGAGAGGTAAGTGGAATTCCTAGTGTAGCGGTGAAATGCGTAGATATTAGGAGGAACACCAGTGGCGAAGGCGGCTTACTGGACGACAACTGACGCTGAGGCTCGAAAGCGTGGGGAGCAAA  \\\n",
       "SD8637                                                 0.0                                                                                                                                                                                                          \n",
       "PO7016                                                 0.0                                                                                                                                                                                                          \n",
       "MN1789                                                 0.0                                                                                                                                                                                                          \n",
       "MN1868                                                 0.0                                                                                                                                                                                                          \n",
       "PA3814                                                 0.0                                                                                                                                                                                                          \n",
       "\n",
       "#OTU ID TACGGAGGATGCGAGCGTTATCCGGATTTATTGGGTTTAAAGGGTGCGTAGGCGGGGATTTAAGTCAGCGGTGAAAGTTTGAGGCTCAACCTTAAAATTGCCGTTGAAACTGGGTTTCTTGAGTGTATTTGAAGTAGGCGGAATTCGTTGTGTAGCGGTGAAATGCATAGATATAACGAAGAACTCCAATTGCGCAGGCAGCTTACTAAACTACAACTGACGCTGAAGCACGAAAGCGTGGGTATCAAA  \\\n",
       "SD8637                                                 0.0                                                                                                                                                                                                          \n",
       "PO7016                                                 0.0                                                                                                                                                                                                          \n",
       "MN1789                                                 0.0                                                                                                                                                                                                          \n",
       "MN1868                                                 0.0                                                                                                                                                                                                          \n",
       "PA3814                                                 0.0                                                                                                                                                                                                          \n",
       "\n",
       "#OTU ID TACGTAGGGGGCAAGCGTTATCCGGATTTACTGGGTGTAAAGGGAGCGTAGACGGCGAAGCAAGTCAGAAGTGAAAACCCCGGGCTTAACCTGGGGACTGCTTTTGAAACTGTTTGGCTGGAGTGCAGGAGAGGTGAGTGGAATTCCTAGTGTAGCGGTGAAATGCGTAGATATTAGGAGGAACACCAGTGGCGAAGGCGGCTTACTGGACTGTAACTGACGTTGAGGCTCGAAAGCGTGGGGAGCAAA  \\\n",
       "SD8637                                                 0.0                                                                                                                                                                                                          \n",
       "PO7016                                                 0.0                                                                                                                                                                                                          \n",
       "MN1789                                                 0.0                                                                                                                                                                                                          \n",
       "MN1868                                                 0.0                                                                                                                                                                                                          \n",
       "PA3814                                                 0.0                                                                                                                                                                                                          \n",
       "\n",
       "#OTU ID TACGTAGGTGGCAAGCGTTGTCCGGAATTACTGGGTGTAAAGGGAGCGTAGGCGGGGAGACAAGTTGAATGTCTAAACTATCGGCTTAACTGATAGTCGCGTTCAAAACTATCACTCTTGAGTGCAGTAGAGGTAGGCAGAATTCCTAGTGTAGCGGTGAAATGCGTAGATATTAGGAGGAACACCAGTGGCGAAGGCGGCCTACTGGGCTGTAACTGACGCTGAGGCTCGAAAGCGTGGGTAGCAAAC  \\\n",
       "SD8637                                                 0.0                                                                                                                                                                                                          \n",
       "PO7016                                                 0.0                                                                                                                                                                                                          \n",
       "MN1789                                                 0.0                                                                                                                                                                                                          \n",
       "MN1868                                                 0.0                                                                                                                                                                                                          \n",
       "PA3814                                                 0.0                                                                                                                                                                                                          \n",
       "\n",
       "#OTU ID TACGTAGGGGGCAAGAGTTATCCGGATTTACTGGGTGTAAAGGGAGCGTAGACGGCATGACAAGCCAGATGTGAAAACCCAGGGCTCAACCCTGGGACTGCATTTGGAACTGCCAGGCTGGAGTGCAGGAGAGGTAAGCGGAATTCCTAGTGTAGCGGTGAAATGCGTAGATATTAGGAGGAACACCAGTGGCGAAGGCGGCTTACTGGACTGTAACTGACGTTGAGGCTCGAAAGCGTGGGGAGCAAA  \n",
       "SD8637                                                 0.0                                                                                                                                                                                                         \n",
       "PO7016                                                 0.0                                                                                                                                                                                                         \n",
       "MN1789                                                 0.0                                                                                                                                                                                                         \n",
       "MN1868                                                 0.0                                                                                                                                                                                                         \n",
       "PA3814                                                 0.0                                                                                                                                                                                                         \n",
       "\n",
       "[5 rows x 4727 columns]"
      ]
     },
     "execution_count": 5,
     "metadata": {},
     "output_type": "execute_result"
    }
   ],
   "source": [
    "bt.head()"
   ]
  },
  {
   "cell_type": "code",
   "execution_count": 6,
   "metadata": {
    "collapsed": true
   },
   "outputs": [],
   "source": [
    "dat = pd.merge(mf, bt, left_index=True, right_index=True)"
   ]
  },
  {
   "cell_type": "code",
   "execution_count": 7,
   "metadata": {},
   "outputs": [
    {
     "data": {
      "text/plain": [
       "(599, 4793)"
      ]
     },
     "execution_count": 7,
     "metadata": {},
     "output_type": "execute_result"
    }
   ],
   "source": [
    "dat.shape"
   ]
  },
  {
   "cell_type": "code",
   "execution_count": 8,
   "metadata": {},
   "outputs": [
    {
     "data": {
      "text/html": [
       "<div>\n",
       "<style>\n",
       "    .dataframe thead tr:only-child th {\n",
       "        text-align: right;\n",
       "    }\n",
       "\n",
       "    .dataframe thead th {\n",
       "        text-align: left;\n",
       "    }\n",
       "\n",
       "    .dataframe tbody tr th {\n",
       "        vertical-align: top;\n",
       "    }\n",
       "</style>\n",
       "<table border=\"1\" class=\"dataframe\">\n",
       "  <thead>\n",
       "    <tr style=\"text-align: right;\">\n",
       "      <th></th>\n",
       "      <th>BarcodeSequence</th>\n",
       "      <th>LinkerPrimerSequence</th>\n",
       "      <th>Experiment_Design_Description</th>\n",
       "      <th>Library_Construction_Protocol</th>\n",
       "      <th>Linker</th>\n",
       "      <th>Platform</th>\n",
       "      <th>Center_Name</th>\n",
       "      <th>Center_Project</th>\n",
       "      <th>Instrument_Model</th>\n",
       "      <th>Title</th>\n",
       "      <th>...</th>\n",
       "      <th>AACGTAGGGTGCAAGCGTTGTCCGGAATTACTGGGTGTAAAGGGAGCGCAGGCGGACCGGCAAGTTGGAAGTGAAAACTATGGGCTCAACCCATAAATTGCTTTCAAAACTGTTGGCCTTGAGTAGTGCAGAGGTAGGTGGAATTCCCGGTGTAGCGGTGGAATGCGTAGATATCGGGAGGAACACCAGTGGCGAAGGCGACCTACTGGGCACCAACTGACGCTGAGGCTCGAAAGCATGGGTAGCAAA</th>\n",
       "      <th>TACGTAGGGGGCAAGCGTTATCCGGATTTACTGGGTGTAAAGGGAGCGTAGGTGGCAAGGCAAGTCAGATGTGAAAACCCGGGGCTCAACTCCGGGACTGCATTTGAAACTGTCTAGCTAGAGTGCAGGAGAGGTAAGTGGAATTCCTAGTGTAGCGGTGAAATGCATAGATATTAGGAGGAACACCAGTGGCGAAGGCGGCTTACTGGACTGTAACTGACACTGAGGCTCGAAAGCGTGGGGAGCAAA</th>\n",
       "      <th>TACGTAGGGGGCAAGCGTTATCCGGATTTACTGGGTGTAAAGGGAGCGTAGACGGCGACGCAAGTCTGAAGTGAAATACCCGGGCTCAACCTGGGAACTGCTTTGGAAACTGTGTTGCTAGAGTGCTGGAGAGGTAAGCGGAATTCCTAGTGTAGCGGTGAAATGCGTAGATATTAGGAAGAACACCAGTGGCGAAGGCGGCTTACTGGACAGTAACTGACGTTGAGGCTCGAAAACGTGGGGAGCAAA</th>\n",
       "      <th>TACGGAGGGTGCAAGCGTTAATCGGAATCACTGGGCGTAAAGCGCACGTAGGCGGCTTGGTAAGTCAGGGGTGAAATCCCACAGCCCAACTATGGAACTGCCTTTGATACTGCCAGGCTTGAGTACCGGAGAGGGTGGCGGAATTCCAGGTGTAGGAGTGAAATCCGTAGATATCTGGAGGAACACCGGTGGCGAAGGCGGCCACCTGGACGGTAACTGACGCTGAGGTGCGAAAGCGTGGGTAGCAAA</th>\n",
       "      <th>TACGTAGGTGGCAAGCGTTGTCCGGAATTACTGGGTGTAAAGGGTGCGCAGGCGGGATTGCAAGTTGGATGTGAAATACCGGGGCTTAACCCCGGAGCTGCATCCAAAACTGTAGTTCTTGAGTGGAGTAGAGGTAAGCGGAATTCCGAGTGTAGCGGTGAAATGCGTAGATATTCGGAGGAACACCAGCGGCGAAGGCGGCTTACTGGGCTCTAACTGACGCTGAGGCACGAAAGCATGGGTAGCAAA</th>\n",
       "      <th>TACGTAGGGGGCAAGCGTTATCCGGATTTACTGGGTGTAAAGGGAGCGCAGGCGGTCTTGTAAGTCCGGTGTGAAAACCCGAGGCTCAACCTCGGGACTGCACTGGAAACTATGGGACTGGAGTGTCGGAGAGGTAAGTGGAATTCCTAGTGTAGCGGTGAAATGCGTAGATATTAGGAGGAACACCAGTGGCGAAGGCGGCTTACTGGACGACAACTGACGCTGAGGCTCGAAAGCGTGGGGAGCAAA</th>\n",
       "      <th>TACGGAGGATGCGAGCGTTATCCGGATTTATTGGGTTTAAAGGGTGCGTAGGCGGGGATTTAAGTCAGCGGTGAAAGTTTGAGGCTCAACCTTAAAATTGCCGTTGAAACTGGGTTTCTTGAGTGTATTTGAAGTAGGCGGAATTCGTTGTGTAGCGGTGAAATGCATAGATATAACGAAGAACTCCAATTGCGCAGGCAGCTTACTAAACTACAACTGACGCTGAAGCACGAAAGCGTGGGTATCAAA</th>\n",
       "      <th>TACGTAGGGGGCAAGCGTTATCCGGATTTACTGGGTGTAAAGGGAGCGTAGACGGCGAAGCAAGTCAGAAGTGAAAACCCCGGGCTTAACCTGGGGACTGCTTTTGAAACTGTTTGGCTGGAGTGCAGGAGAGGTGAGTGGAATTCCTAGTGTAGCGGTGAAATGCGTAGATATTAGGAGGAACACCAGTGGCGAAGGCGGCTTACTGGACTGTAACTGACGTTGAGGCTCGAAAGCGTGGGGAGCAAA</th>\n",
       "      <th>TACGTAGGTGGCAAGCGTTGTCCGGAATTACTGGGTGTAAAGGGAGCGTAGGCGGGGAGACAAGTTGAATGTCTAAACTATCGGCTTAACTGATAGTCGCGTTCAAAACTATCACTCTTGAGTGCAGTAGAGGTAGGCAGAATTCCTAGTGTAGCGGTGAAATGCGTAGATATTAGGAGGAACACCAGTGGCGAAGGCGGCCTACTGGGCTGTAACTGACGCTGAGGCTCGAAAGCGTGGGTAGCAAAC</th>\n",
       "      <th>TACGTAGGGGGCAAGAGTTATCCGGATTTACTGGGTGTAAAGGGAGCGTAGACGGCATGACAAGCCAGATGTGAAAACCCAGGGCTCAACCCTGGGACTGCATTTGGAACTGCCAGGCTGGAGTGCAGGAGAGGTAAGCGGAATTCCTAGTGTAGCGGTGAAATGCGTAGATATTAGGAGGAACACCAGTGGCGAAGGCGGCTTACTGGACTGTAACTGACGTTGAGGCTCGAAAGCGTGGGGAGCAAA</th>\n",
       "    </tr>\n",
       "  </thead>\n",
       "  <tbody>\n",
       "    <tr>\n",
       "      <th>BI0023</th>\n",
       "      <td>TCTGGTGACATT</td>\n",
       "      <td>GGACTACHVGGGTWTCTAAT</td>\n",
       "      <td>16S stool samples sequenced for MrOS Vitamin D...</td>\n",
       "      <td>16S rRNA v4</td>\n",
       "      <td>GT</td>\n",
       "      <td>Illumina</td>\n",
       "      <td>BI</td>\n",
       "      <td>MrOS</td>\n",
       "      <td>Illumina MiSeq</td>\n",
       "      <td>MrOS_VitaminD</td>\n",
       "      <td>...</td>\n",
       "      <td>0.0</td>\n",
       "      <td>0.0</td>\n",
       "      <td>0.0</td>\n",
       "      <td>0.0</td>\n",
       "      <td>0.0</td>\n",
       "      <td>0.0</td>\n",
       "      <td>0.0</td>\n",
       "      <td>0.0</td>\n",
       "      <td>0.0</td>\n",
       "      <td>0.0</td>\n",
       "    </tr>\n",
       "    <tr>\n",
       "      <th>BI0056</th>\n",
       "      <td>CAAGCATGCCTA</td>\n",
       "      <td>GGACTACHVGGGTWTCTAAT</td>\n",
       "      <td>16S stool samples sequenced for MrOS Vitamin D...</td>\n",
       "      <td>16S rRNA v4</td>\n",
       "      <td>GT</td>\n",
       "      <td>Illumina</td>\n",
       "      <td>BI</td>\n",
       "      <td>MrOS</td>\n",
       "      <td>Illumina MiSeq</td>\n",
       "      <td>MrOS_VitaminD</td>\n",
       "      <td>...</td>\n",
       "      <td>0.0</td>\n",
       "      <td>0.0</td>\n",
       "      <td>0.0</td>\n",
       "      <td>0.0</td>\n",
       "      <td>0.0</td>\n",
       "      <td>0.0</td>\n",
       "      <td>0.0</td>\n",
       "      <td>0.0</td>\n",
       "      <td>0.0</td>\n",
       "      <td>0.0</td>\n",
       "    </tr>\n",
       "    <tr>\n",
       "      <th>BI0131</th>\n",
       "      <td>CTATTTGCGACA</td>\n",
       "      <td>GGACTACHVGGGTWTCTAAT</td>\n",
       "      <td>16S stool samples sequenced for MrOS Vitamin D...</td>\n",
       "      <td>16S rRNA v4</td>\n",
       "      <td>GT</td>\n",
       "      <td>Illumina</td>\n",
       "      <td>BI</td>\n",
       "      <td>MrOS</td>\n",
       "      <td>Illumina MiSeq</td>\n",
       "      <td>MrOS_VitaminD</td>\n",
       "      <td>...</td>\n",
       "      <td>0.0</td>\n",
       "      <td>0.0</td>\n",
       "      <td>0.0</td>\n",
       "      <td>0.0</td>\n",
       "      <td>0.0</td>\n",
       "      <td>0.0</td>\n",
       "      <td>0.0</td>\n",
       "      <td>0.0</td>\n",
       "      <td>0.0</td>\n",
       "      <td>0.0</td>\n",
       "    </tr>\n",
       "    <tr>\n",
       "      <th>BI0153</th>\n",
       "      <td>ATCGGCGTTACA</td>\n",
       "      <td>GGACTACHVGGGTWTCTAAT</td>\n",
       "      <td>16S stool samples sequenced for MrOS Vitamin D...</td>\n",
       "      <td>16S rRNA v4</td>\n",
       "      <td>GT</td>\n",
       "      <td>Illumina</td>\n",
       "      <td>BI</td>\n",
       "      <td>MrOS</td>\n",
       "      <td>Illumina MiSeq</td>\n",
       "      <td>MrOS_VitaminD</td>\n",
       "      <td>...</td>\n",
       "      <td>0.0</td>\n",
       "      <td>0.0</td>\n",
       "      <td>0.0</td>\n",
       "      <td>0.0</td>\n",
       "      <td>0.0</td>\n",
       "      <td>0.0</td>\n",
       "      <td>0.0</td>\n",
       "      <td>0.0</td>\n",
       "      <td>0.0</td>\n",
       "      <td>0.0</td>\n",
       "    </tr>\n",
       "    <tr>\n",
       "      <th>BI0215</th>\n",
       "      <td>CCTCTCGTGATC</td>\n",
       "      <td>GGACTACHVGGGTWTCTAAT</td>\n",
       "      <td>16S stool samples sequenced for MrOS Vitamin D...</td>\n",
       "      <td>16S rRNA v4</td>\n",
       "      <td>GT</td>\n",
       "      <td>Illumina</td>\n",
       "      <td>BI</td>\n",
       "      <td>MrOS</td>\n",
       "      <td>Illumina MiSeq</td>\n",
       "      <td>MrOS_VitaminD</td>\n",
       "      <td>...</td>\n",
       "      <td>0.0</td>\n",
       "      <td>0.0</td>\n",
       "      <td>0.0</td>\n",
       "      <td>0.0</td>\n",
       "      <td>0.0</td>\n",
       "      <td>0.0</td>\n",
       "      <td>0.0</td>\n",
       "      <td>0.0</td>\n",
       "      <td>0.0</td>\n",
       "      <td>0.0</td>\n",
       "    </tr>\n",
       "  </tbody>\n",
       "</table>\n",
       "<p>5 rows × 4793 columns</p>\n",
       "</div>"
      ],
      "text/plain": [
       "       BarcodeSequence  LinkerPrimerSequence  \\\n",
       "BI0023    TCTGGTGACATT  GGACTACHVGGGTWTCTAAT   \n",
       "BI0056    CAAGCATGCCTA  GGACTACHVGGGTWTCTAAT   \n",
       "BI0131    CTATTTGCGACA  GGACTACHVGGGTWTCTAAT   \n",
       "BI0153    ATCGGCGTTACA  GGACTACHVGGGTWTCTAAT   \n",
       "BI0215    CCTCTCGTGATC  GGACTACHVGGGTWTCTAAT   \n",
       "\n",
       "                            Experiment_Design_Description  \\\n",
       "BI0023  16S stool samples sequenced for MrOS Vitamin D...   \n",
       "BI0056  16S stool samples sequenced for MrOS Vitamin D...   \n",
       "BI0131  16S stool samples sequenced for MrOS Vitamin D...   \n",
       "BI0153  16S stool samples sequenced for MrOS Vitamin D...   \n",
       "BI0215  16S stool samples sequenced for MrOS Vitamin D...   \n",
       "\n",
       "       Library_Construction_Protocol Linker  Platform Center_Name  \\\n",
       "BI0023                   16S rRNA v4     GT  Illumina          BI   \n",
       "BI0056                   16S rRNA v4     GT  Illumina          BI   \n",
       "BI0131                   16S rRNA v4     GT  Illumina          BI   \n",
       "BI0153                   16S rRNA v4     GT  Illumina          BI   \n",
       "BI0215                   16S rRNA v4     GT  Illumina          BI   \n",
       "\n",
       "       Center_Project Instrument_Model          Title  \\\n",
       "BI0023           MrOS   Illumina MiSeq  MrOS_VitaminD   \n",
       "BI0056           MrOS   Illumina MiSeq  MrOS_VitaminD   \n",
       "BI0131           MrOS   Illumina MiSeq  MrOS_VitaminD   \n",
       "BI0153           MrOS   Illumina MiSeq  MrOS_VitaminD   \n",
       "BI0215           MrOS   Illumina MiSeq  MrOS_VitaminD   \n",
       "\n",
       "                                                                                                                                  ...                                                                                                                             \\\n",
       "BI0023                                                                                                                            ...                                                                                                                              \n",
       "BI0056                                                                                                                            ...                                                                                                                              \n",
       "BI0131                                                                                                                            ...                                                                                                                              \n",
       "BI0153                                                                                                                            ...                                                                                                                              \n",
       "BI0215                                                                                                                            ...                                                                                                                              \n",
       "\n",
       "       AACGTAGGGTGCAAGCGTTGTCCGGAATTACTGGGTGTAAAGGGAGCGCAGGCGGACCGGCAAGTTGGAAGTGAAAACTATGGGCTCAACCCATAAATTGCTTTCAAAACTGTTGGCCTTGAGTAGTGCAGAGGTAGGTGGAATTCCCGGTGTAGCGGTGGAATGCGTAGATATCGGGAGGAACACCAGTGGCGAAGGCGACCTACTGGGCACCAACTGACGCTGAGGCTCGAAAGCATGGGTAGCAAA  \\\n",
       "BI0023                                                0.0                                                                                                                                                                                                          \n",
       "BI0056                                                0.0                                                                                                                                                                                                          \n",
       "BI0131                                                0.0                                                                                                                                                                                                          \n",
       "BI0153                                                0.0                                                                                                                                                                                                          \n",
       "BI0215                                                0.0                                                                                                                                                                                                          \n",
       "\n",
       "       TACGTAGGGGGCAAGCGTTATCCGGATTTACTGGGTGTAAAGGGAGCGTAGGTGGCAAGGCAAGTCAGATGTGAAAACCCGGGGCTCAACTCCGGGACTGCATTTGAAACTGTCTAGCTAGAGTGCAGGAGAGGTAAGTGGAATTCCTAGTGTAGCGGTGAAATGCATAGATATTAGGAGGAACACCAGTGGCGAAGGCGGCTTACTGGACTGTAACTGACACTGAGGCTCGAAAGCGTGGGGAGCAAA  \\\n",
       "BI0023                                                0.0                                                                                                                                                                                                          \n",
       "BI0056                                                0.0                                                                                                                                                                                                          \n",
       "BI0131                                                0.0                                                                                                                                                                                                          \n",
       "BI0153                                                0.0                                                                                                                                                                                                          \n",
       "BI0215                                                0.0                                                                                                                                                                                                          \n",
       "\n",
       "       TACGTAGGGGGCAAGCGTTATCCGGATTTACTGGGTGTAAAGGGAGCGTAGACGGCGACGCAAGTCTGAAGTGAAATACCCGGGCTCAACCTGGGAACTGCTTTGGAAACTGTGTTGCTAGAGTGCTGGAGAGGTAAGCGGAATTCCTAGTGTAGCGGTGAAATGCGTAGATATTAGGAAGAACACCAGTGGCGAAGGCGGCTTACTGGACAGTAACTGACGTTGAGGCTCGAAAACGTGGGGAGCAAA  \\\n",
       "BI0023                                                0.0                                                                                                                                                                                                          \n",
       "BI0056                                                0.0                                                                                                                                                                                                          \n",
       "BI0131                                                0.0                                                                                                                                                                                                          \n",
       "BI0153                                                0.0                                                                                                                                                                                                          \n",
       "BI0215                                                0.0                                                                                                                                                                                                          \n",
       "\n",
       "       TACGGAGGGTGCAAGCGTTAATCGGAATCACTGGGCGTAAAGCGCACGTAGGCGGCTTGGTAAGTCAGGGGTGAAATCCCACAGCCCAACTATGGAACTGCCTTTGATACTGCCAGGCTTGAGTACCGGAGAGGGTGGCGGAATTCCAGGTGTAGGAGTGAAATCCGTAGATATCTGGAGGAACACCGGTGGCGAAGGCGGCCACCTGGACGGTAACTGACGCTGAGGTGCGAAAGCGTGGGTAGCAAA  \\\n",
       "BI0023                                                0.0                                                                                                                                                                                                          \n",
       "BI0056                                                0.0                                                                                                                                                                                                          \n",
       "BI0131                                                0.0                                                                                                                                                                                                          \n",
       "BI0153                                                0.0                                                                                                                                                                                                          \n",
       "BI0215                                                0.0                                                                                                                                                                                                          \n",
       "\n",
       "       TACGTAGGTGGCAAGCGTTGTCCGGAATTACTGGGTGTAAAGGGTGCGCAGGCGGGATTGCAAGTTGGATGTGAAATACCGGGGCTTAACCCCGGAGCTGCATCCAAAACTGTAGTTCTTGAGTGGAGTAGAGGTAAGCGGAATTCCGAGTGTAGCGGTGAAATGCGTAGATATTCGGAGGAACACCAGCGGCGAAGGCGGCTTACTGGGCTCTAACTGACGCTGAGGCACGAAAGCATGGGTAGCAAA  \\\n",
       "BI0023                                                0.0                                                                                                                                                                                                          \n",
       "BI0056                                                0.0                                                                                                                                                                                                          \n",
       "BI0131                                                0.0                                                                                                                                                                                                          \n",
       "BI0153                                                0.0                                                                                                                                                                                                          \n",
       "BI0215                                                0.0                                                                                                                                                                                                          \n",
       "\n",
       "       TACGTAGGGGGCAAGCGTTATCCGGATTTACTGGGTGTAAAGGGAGCGCAGGCGGTCTTGTAAGTCCGGTGTGAAAACCCGAGGCTCAACCTCGGGACTGCACTGGAAACTATGGGACTGGAGTGTCGGAGAGGTAAGTGGAATTCCTAGTGTAGCGGTGAAATGCGTAGATATTAGGAGGAACACCAGTGGCGAAGGCGGCTTACTGGACGACAACTGACGCTGAGGCTCGAAAGCGTGGGGAGCAAA  \\\n",
       "BI0023                                                0.0                                                                                                                                                                                                          \n",
       "BI0056                                                0.0                                                                                                                                                                                                          \n",
       "BI0131                                                0.0                                                                                                                                                                                                          \n",
       "BI0153                                                0.0                                                                                                                                                                                                          \n",
       "BI0215                                                0.0                                                                                                                                                                                                          \n",
       "\n",
       "       TACGGAGGATGCGAGCGTTATCCGGATTTATTGGGTTTAAAGGGTGCGTAGGCGGGGATTTAAGTCAGCGGTGAAAGTTTGAGGCTCAACCTTAAAATTGCCGTTGAAACTGGGTTTCTTGAGTGTATTTGAAGTAGGCGGAATTCGTTGTGTAGCGGTGAAATGCATAGATATAACGAAGAACTCCAATTGCGCAGGCAGCTTACTAAACTACAACTGACGCTGAAGCACGAAAGCGTGGGTATCAAA  \\\n",
       "BI0023                                                0.0                                                                                                                                                                                                          \n",
       "BI0056                                                0.0                                                                                                                                                                                                          \n",
       "BI0131                                                0.0                                                                                                                                                                                                          \n",
       "BI0153                                                0.0                                                                                                                                                                                                          \n",
       "BI0215                                                0.0                                                                                                                                                                                                          \n",
       "\n",
       "       TACGTAGGGGGCAAGCGTTATCCGGATTTACTGGGTGTAAAGGGAGCGTAGACGGCGAAGCAAGTCAGAAGTGAAAACCCCGGGCTTAACCTGGGGACTGCTTTTGAAACTGTTTGGCTGGAGTGCAGGAGAGGTGAGTGGAATTCCTAGTGTAGCGGTGAAATGCGTAGATATTAGGAGGAACACCAGTGGCGAAGGCGGCTTACTGGACTGTAACTGACGTTGAGGCTCGAAAGCGTGGGGAGCAAA  \\\n",
       "BI0023                                                0.0                                                                                                                                                                                                          \n",
       "BI0056                                                0.0                                                                                                                                                                                                          \n",
       "BI0131                                                0.0                                                                                                                                                                                                          \n",
       "BI0153                                                0.0                                                                                                                                                                                                          \n",
       "BI0215                                                0.0                                                                                                                                                                                                          \n",
       "\n",
       "       TACGTAGGTGGCAAGCGTTGTCCGGAATTACTGGGTGTAAAGGGAGCGTAGGCGGGGAGACAAGTTGAATGTCTAAACTATCGGCTTAACTGATAGTCGCGTTCAAAACTATCACTCTTGAGTGCAGTAGAGGTAGGCAGAATTCCTAGTGTAGCGGTGAAATGCGTAGATATTAGGAGGAACACCAGTGGCGAAGGCGGCCTACTGGGCTGTAACTGACGCTGAGGCTCGAAAGCGTGGGTAGCAAAC  \\\n",
       "BI0023                                                0.0                                                                                                                                                                                                          \n",
       "BI0056                                                0.0                                                                                                                                                                                                          \n",
       "BI0131                                                0.0                                                                                                                                                                                                          \n",
       "BI0153                                                0.0                                                                                                                                                                                                          \n",
       "BI0215                                                0.0                                                                                                                                                                                                          \n",
       "\n",
       "       TACGTAGGGGGCAAGAGTTATCCGGATTTACTGGGTGTAAAGGGAGCGTAGACGGCATGACAAGCCAGATGTGAAAACCCAGGGCTCAACCCTGGGACTGCATTTGGAACTGCCAGGCTGGAGTGCAGGAGAGGTAAGCGGAATTCCTAGTGTAGCGGTGAAATGCGTAGATATTAGGAGGAACACCAGTGGCGAAGGCGGCTTACTGGACTGTAACTGACGTTGAGGCTCGAAAGCGTGGGGAGCAAA  \n",
       "BI0023                                                0.0                                                                                                                                                                                                         \n",
       "BI0056                                                0.0                                                                                                                                                                                                         \n",
       "BI0131                                                0.0                                                                                                                                                                                                         \n",
       "BI0153                                                0.0                                                                                                                                                                                                         \n",
       "BI0215                                                0.0                                                                                                                                                                                                         \n",
       "\n",
       "[5 rows x 4793 columns]"
      ]
     },
     "execution_count": 8,
     "metadata": {},
     "output_type": "execute_result"
    }
   ],
   "source": [
    "dat.head()"
   ]
  },
  {
   "cell_type": "code",
   "execution_count": 9,
   "metadata": {
    "collapsed": true
   },
   "outputs": [],
   "source": [
    "vars_vd = np.array(['OHVD3', 'OHV1D3', 'OHV24D3', 'ratio_activation', 'ratio_catabolism'])\n",
    "dat[vars_vd] = dat[vars_vd].apply(pd.to_numeric, errors='coerce')"
   ]
  },
  {
   "cell_type": "code",
   "execution_count": 10,
   "metadata": {},
   "outputs": [
    {
     "data": {
      "text/html": [
       "<div>\n",
       "<style>\n",
       "    .dataframe thead tr:only-child th {\n",
       "        text-align: right;\n",
       "    }\n",
       "\n",
       "    .dataframe thead th {\n",
       "        text-align: left;\n",
       "    }\n",
       "\n",
       "    .dataframe tbody tr th {\n",
       "        vertical-align: top;\n",
       "    }\n",
       "</style>\n",
       "<table border=\"1\" class=\"dataframe\">\n",
       "  <thead>\n",
       "    <tr style=\"text-align: right;\">\n",
       "      <th></th>\n",
       "      <th>OHVD3</th>\n",
       "      <th>OHV1D3</th>\n",
       "      <th>OHV24D3</th>\n",
       "      <th>ratio_activation</th>\n",
       "      <th>ratio_catabolism</th>\n",
       "    </tr>\n",
       "  </thead>\n",
       "  <tbody>\n",
       "    <tr>\n",
       "      <th>count</th>\n",
       "      <td>556.000000</td>\n",
       "      <td>567.000000</td>\n",
       "      <td>567.000000</td>\n",
       "      <td>556.000000</td>\n",
       "      <td>556.000000</td>\n",
       "    </tr>\n",
       "    <tr>\n",
       "      <th>mean</th>\n",
       "      <td>35.229137</td>\n",
       "      <td>0.057775</td>\n",
       "      <td>3.430864</td>\n",
       "      <td>0.001772</td>\n",
       "      <td>0.094776</td>\n",
       "    </tr>\n",
       "    <tr>\n",
       "      <th>std</th>\n",
       "      <td>12.450758</td>\n",
       "      <td>0.019773</td>\n",
       "      <td>1.834771</td>\n",
       "      <td>0.000735</td>\n",
       "      <td>0.029770</td>\n",
       "    </tr>\n",
       "    <tr>\n",
       "      <th>min</th>\n",
       "      <td>7.800000</td>\n",
       "      <td>0.010700</td>\n",
       "      <td>0.300000</td>\n",
       "      <td>0.000398</td>\n",
       "      <td>0.018788</td>\n",
       "    </tr>\n",
       "    <tr>\n",
       "      <th>25%</th>\n",
       "      <td>27.400000</td>\n",
       "      <td>0.044100</td>\n",
       "      <td>2.175000</td>\n",
       "      <td>0.001316</td>\n",
       "      <td>0.074216</td>\n",
       "    </tr>\n",
       "    <tr>\n",
       "      <th>50%</th>\n",
       "      <td>33.650000</td>\n",
       "      <td>0.055500</td>\n",
       "      <td>3.180000</td>\n",
       "      <td>0.001660</td>\n",
       "      <td>0.092821</td>\n",
       "    </tr>\n",
       "    <tr>\n",
       "      <th>75%</th>\n",
       "      <td>41.825000</td>\n",
       "      <td>0.066300</td>\n",
       "      <td>4.235000</td>\n",
       "      <td>0.002081</td>\n",
       "      <td>0.112849</td>\n",
       "    </tr>\n",
       "    <tr>\n",
       "      <th>max</th>\n",
       "      <td>104.000000</td>\n",
       "      <td>0.156000</td>\n",
       "      <td>14.070000</td>\n",
       "      <td>0.006727</td>\n",
       "      <td>0.197786</td>\n",
       "    </tr>\n",
       "  </tbody>\n",
       "</table>\n",
       "</div>"
      ],
      "text/plain": [
       "            OHVD3      OHV1D3     OHV24D3  ratio_activation  ratio_catabolism\n",
       "count  556.000000  567.000000  567.000000        556.000000        556.000000\n",
       "mean    35.229137    0.057775    3.430864          0.001772          0.094776\n",
       "std     12.450758    0.019773    1.834771          0.000735          0.029770\n",
       "min      7.800000    0.010700    0.300000          0.000398          0.018788\n",
       "25%     27.400000    0.044100    2.175000          0.001316          0.074216\n",
       "50%     33.650000    0.055500    3.180000          0.001660          0.092821\n",
       "75%     41.825000    0.066300    4.235000          0.002081          0.112849\n",
       "max    104.000000    0.156000   14.070000          0.006727          0.197786"
      ]
     },
     "execution_count": 10,
     "metadata": {},
     "output_type": "execute_result"
    }
   ],
   "source": [
    "dat[vars_vd].describe()"
   ]
  },
  {
   "cell_type": "markdown",
   "metadata": {},
   "source": [
    "### correlation"
   ]
  },
  {
   "cell_type": "code",
   "execution_count": 11,
   "metadata": {},
   "outputs": [
    {
     "data": {
      "text/plain": [
       "4727"
      ]
     },
     "execution_count": 11,
     "metadata": {},
     "output_type": "execute_result"
    }
   ],
   "source": [
    "otu_cols = dat.columns[mf.shape[1]:dat.shape[1]]\n",
    "len(otu_cols)"
   ]
  },
  {
   "cell_type": "markdown",
   "metadata": {},
   "source": [
    "#### OHVD3"
   ]
  },
  {
   "cell_type": "code",
   "execution_count": 12,
   "metadata": {
    "collapsed": true
   },
   "outputs": [],
   "source": [
    "results= []\n",
    "i = 0\n",
    "for j in range(len(otu_cols)):\n",
    "    tmp = dat[[vars_vd[i], otu_cols[j]]].dropna(axis=0, how='any')\n",
    "    rho, pval = spearmanr(tmp[vars_vd[i]], tmp[otu_cols[j]])\n",
    "    tax = bt.loc['taxonomy'][otu_cols[j]]\n",
    "    results.append([vars_vd[i], otu_cols[j], tax, rho, pval])\n",
    "\n",
    "# output table    \n",
    "results = pd.DataFrame(results, columns=['vars', 'otu', \n",
    "                                         'taxonomy', 'rho', 'pval']).dropna(axis=0, how='any')\n",
    "results['fdr pval'] = multipletests(results['pval'], method = 'fdr_bh')[1]\n",
    "results = results.sort_values(['fdr pval'], ascending=True)\n",
    "\n",
    "# specific bacteria\n",
    "index = results.loc[results['fdr pval'] <= 0.05].index\n",
    "for i in range(len(index)):\n",
    "    print(results.taxonomy[index[i]], results['fdr pval'][index[i]])"
   ]
  },
  {
   "cell_type": "code",
   "execution_count": 13,
   "metadata": {},
   "outputs": [
    {
     "data": {
      "text/html": [
       "<div>\n",
       "<style>\n",
       "    .dataframe thead tr:only-child th {\n",
       "        text-align: right;\n",
       "    }\n",
       "\n",
       "    .dataframe thead th {\n",
       "        text-align: left;\n",
       "    }\n",
       "\n",
       "    .dataframe tbody tr th {\n",
       "        vertical-align: top;\n",
       "    }\n",
       "</style>\n",
       "<table border=\"1\" class=\"dataframe\">\n",
       "  <thead>\n",
       "    <tr style=\"text-align: right;\">\n",
       "      <th></th>\n",
       "      <th>vars</th>\n",
       "      <th>otu</th>\n",
       "      <th>taxonomy</th>\n",
       "      <th>rho</th>\n",
       "      <th>pval</th>\n",
       "      <th>fdr pval</th>\n",
       "    </tr>\n",
       "  </thead>\n",
       "  <tbody>\n",
       "    <tr>\n",
       "      <th>2334</th>\n",
       "      <td>OHVD3</td>\n",
       "      <td>TACGTAGGGAGCAAGCGTTGTCCGGATTCACTGGGCGTAAAGAGCA...</td>\n",
       "      <td>k__Bacteria; p__Firmicutes; c__Clostridia; o__...</td>\n",
       "      <td>0.109423</td>\n",
       "      <td>0.009820</td>\n",
       "      <td>0.826241</td>\n",
       "    </tr>\n",
       "    <tr>\n",
       "      <th>2734</th>\n",
       "      <td>OHVD3</td>\n",
       "      <td>TACGTAGGGGGCGAGCGTTGTCCGGAATCACTGGGCGTAAAGGGCG...</td>\n",
       "      <td>k__Bacteria; p__Firmicutes; c__Clostridia; o__...</td>\n",
       "      <td>0.074962</td>\n",
       "      <td>0.077383</td>\n",
       "      <td>0.826241</td>\n",
       "    </tr>\n",
       "    <tr>\n",
       "      <th>2721</th>\n",
       "      <td>OHVD3</td>\n",
       "      <td>TACGTAGGGAGCAAGCGTTATCCGGATTTATTGGGTGTAAAGGGTG...</td>\n",
       "      <td>k__Bacteria; p__Firmicutes; c__Clostridia; o__...</td>\n",
       "      <td>0.068540</td>\n",
       "      <td>0.106439</td>\n",
       "      <td>0.826241</td>\n",
       "    </tr>\n",
       "    <tr>\n",
       "      <th>2703</th>\n",
       "      <td>OHVD3</td>\n",
       "      <td>TACGTAGGTGGCGAGCGTTATCCGGATTTACTGGGTGTAAAGGGCG...</td>\n",
       "      <td>k__Bacteria; p__Firmicutes; c__Clostridia; o__...</td>\n",
       "      <td>0.126345</td>\n",
       "      <td>0.002841</td>\n",
       "      <td>0.826241</td>\n",
       "    </tr>\n",
       "    <tr>\n",
       "      <th>2701</th>\n",
       "      <td>OHVD3</td>\n",
       "      <td>TACGTAGGGGGCAAGTGTTATCCGGATTTACTGGGTGTAAAGGGAG...</td>\n",
       "      <td>k__Bacteria; p__Firmicutes; c__Clostridia; o__...</td>\n",
       "      <td>-0.069011</td>\n",
       "      <td>0.104050</td>\n",
       "      <td>0.826241</td>\n",
       "    </tr>\n",
       "  </tbody>\n",
       "</table>\n",
       "</div>"
      ],
      "text/plain": [
       "       vars                                                otu  \\\n",
       "2334  OHVD3  TACGTAGGGAGCAAGCGTTGTCCGGATTCACTGGGCGTAAAGAGCA...   \n",
       "2734  OHVD3  TACGTAGGGGGCGAGCGTTGTCCGGAATCACTGGGCGTAAAGGGCG...   \n",
       "2721  OHVD3  TACGTAGGGAGCAAGCGTTATCCGGATTTATTGGGTGTAAAGGGTG...   \n",
       "2703  OHVD3  TACGTAGGTGGCGAGCGTTATCCGGATTTACTGGGTGTAAAGGGCG...   \n",
       "2701  OHVD3  TACGTAGGGGGCAAGTGTTATCCGGATTTACTGGGTGTAAAGGGAG...   \n",
       "\n",
       "                                               taxonomy       rho      pval  \\\n",
       "2334  k__Bacteria; p__Firmicutes; c__Clostridia; o__...  0.109423  0.009820   \n",
       "2734  k__Bacteria; p__Firmicutes; c__Clostridia; o__...  0.074962  0.077383   \n",
       "2721  k__Bacteria; p__Firmicutes; c__Clostridia; o__...  0.068540  0.106439   \n",
       "2703  k__Bacteria; p__Firmicutes; c__Clostridia; o__...  0.126345  0.002841   \n",
       "2701  k__Bacteria; p__Firmicutes; c__Clostridia; o__... -0.069011  0.104050   \n",
       "\n",
       "      fdr pval  \n",
       "2334  0.826241  \n",
       "2734  0.826241  \n",
       "2721  0.826241  \n",
       "2703  0.826241  \n",
       "2701  0.826241  "
      ]
     },
     "execution_count": 13,
     "metadata": {},
     "output_type": "execute_result"
    }
   ],
   "source": [
    "# check\n",
    "results.head(5)"
   ]
  },
  {
   "cell_type": "markdown",
   "metadata": {},
   "source": [
    "###### OHV1D3"
   ]
  },
  {
   "cell_type": "code",
   "execution_count": 14,
   "metadata": {},
   "outputs": [
    {
     "name": "stdout",
     "output_type": "stream",
     "text": [
      "k__Bacteria; p__Firmicutes; c__Clostridia; o__Clostridiales; f__Lachnospiraceae; g__Blautia; s__ -0.199859878038 0.00752977206365\n",
      "k__Bacteria; p__Firmicutes; c__Clostridia; o__Clostridiales; f__Ruminococcaceae; g__Ruminococcus; s__ 0.175859458122 0.0284551114051\n",
      "k__Bacteria; p__Firmicutes; c__Clostridia; o__Clostridiales; f__; g__; s__ 0.17598295019 0.0284551114051\n",
      "k__Bacteria; p__Firmicutes; c__Clostridia; o__Clostridiales; f__Christensenellaceae; g__; s__ 0.176234965806 0.0284551114051\n",
      "k__Bacteria; p__Tenericutes; c__RF3; o__ML615J-28; f__; g__; s__ 0.17245893348 0.0284551114051\n",
      "k__Bacteria; p__Firmicutes; c__Clostridia; o__Clostridiales; f__; g__; s__ 0.1741285045 0.0284551114051\n",
      "k__Bacteria; p__Firmicutes; c__Clostridia; o__Clostridiales; f__Lachnospiraceae; g__Lachnospira; s__ 0.170018992582 0.0315087394734\n",
      "k__Bacteria; p__Firmicutes; c__Clostridia; o__Clostridiales; f__Ruminococcaceae; g__; s__ 0.165885498221 0.0422056869211\n",
      "k__Bacteria; p__Firmicutes; c__Clostridia; o__Clostridiales; f__Ruminococcaceae; g__; s__ 0.162297298626 0.0484812652804\n",
      "k__Bacteria; p__Firmicutes; c__Clostridia; o__Clostridiales; f__; g__; s__ 0.162294763458 0.0484812652804\n"
     ]
    }
   ],
   "source": [
    "results_spearman_OHV1D3 = []\n",
    "i = 1\n",
    "for j in range(len(otu_cols)):\n",
    "    tmp = dat[[vars_vd[i], otu_cols[j]]].dropna(axis=0, how='any')\n",
    "    rho, pval = spearmanr(tmp[vars_vd[i]], tmp[otu_cols[j]])\n",
    "    tax = bt.loc['taxonomy'][otu_cols[j]]\n",
    "    results_spearman_OHV1D3.append([vars_vd[i], otu_cols[j], tax, rho, pval])\n",
    "\n",
    "# output table    \n",
    "results_spearman_OHV1D3 = pd.DataFrame(results_spearman_OHV1D3, columns=['vars', 'otu', 'taxonomy', 'rho', \n",
    "                                                           'pval']).dropna(axis=0, how='any')\n",
    "results_spearman_OHV1D3['fdr pval'] = multipletests(results_spearman_OHV1D3['pval'], method = 'fdr_bh')[1]\n",
    "results_spearman_OHV1D3 = results_spearman_OHV1D3.sort_values(['fdr pval'], ascending=True)\n",
    "\n",
    "# specific bacteria\n",
    "index_OHV1D3 = results_spearman_OHV1D3.loc[results_spearman_OHV1D3['fdr pval'] <= 0.05].index\n",
    "for i in range(len(index_OHV1D3)):\n",
    "    print(results_spearman_OHV1D3.taxonomy[index_OHV1D3[i]],\n",
    "          results_spearman_OHV1D3['rho'][index_OHV1D3[i]],\n",
    "          results_spearman_OHV1D3['fdr pval'][index_OHV1D3[i]])"
   ]
  },
  {
   "cell_type": "code",
   "execution_count": 15,
   "metadata": {},
   "outputs": [
    {
     "data": {
      "text/html": [
       "<div>\n",
       "<style>\n",
       "    .dataframe thead tr:only-child th {\n",
       "        text-align: right;\n",
       "    }\n",
       "\n",
       "    .dataframe thead th {\n",
       "        text-align: left;\n",
       "    }\n",
       "\n",
       "    .dataframe tbody tr th {\n",
       "        vertical-align: top;\n",
       "    }\n",
       "</style>\n",
       "<table border=\"1\" class=\"dataframe\">\n",
       "  <thead>\n",
       "    <tr style=\"text-align: right;\">\n",
       "      <th></th>\n",
       "      <th>vars</th>\n",
       "      <th>otu</th>\n",
       "      <th>taxonomy</th>\n",
       "      <th>rho</th>\n",
       "      <th>pval</th>\n",
       "      <th>fdr pval</th>\n",
       "    </tr>\n",
       "  </thead>\n",
       "  <tbody>\n",
       "    <tr>\n",
       "      <th>808</th>\n",
       "      <td>OHV1D3</td>\n",
       "      <td>TACGTAGGGGGCAAGCGTTATCCGGATTTACTGGGTGTAAAGGGAG...</td>\n",
       "      <td>k__Bacteria; p__Firmicutes; c__Clostridia; o__...</td>\n",
       "      <td>-0.199860</td>\n",
       "      <td>0.000002</td>\n",
       "      <td>0.007530</td>\n",
       "    </tr>\n",
       "    <tr>\n",
       "      <th>0</th>\n",
       "      <td>OHV1D3</td>\n",
       "      <td>TACGTAGGTGGCAAGCGTTGTCCGGAATTACTGGGTGTAAAGGGAG...</td>\n",
       "      <td>k__Bacteria; p__Firmicutes; c__Clostridia; o__...</td>\n",
       "      <td>0.175859</td>\n",
       "      <td>0.000025</td>\n",
       "      <td>0.028455</td>\n",
       "    </tr>\n",
       "    <tr>\n",
       "      <th>237</th>\n",
       "      <td>OHV1D3</td>\n",
       "      <td>TACGTAGGTGGCGAGCGTTGTCCGGAATGACTGGGCGTAAAGGGAG...</td>\n",
       "      <td>k__Bacteria; p__Firmicutes; c__Clostridia; o__...</td>\n",
       "      <td>0.175983</td>\n",
       "      <td>0.000025</td>\n",
       "      <td>0.028455</td>\n",
       "    </tr>\n",
       "    <tr>\n",
       "      <th>289</th>\n",
       "      <td>OHV1D3</td>\n",
       "      <td>TACGTAGGGGGCGAGCGTTGTCCGGAATTATTGGGCGTAAAGGGCG...</td>\n",
       "      <td>k__Bacteria; p__Firmicutes; c__Clostridia; o__...</td>\n",
       "      <td>0.176235</td>\n",
       "      <td>0.000024</td>\n",
       "      <td>0.028455</td>\n",
       "    </tr>\n",
       "    <tr>\n",
       "      <th>315</th>\n",
       "      <td>OHV1D3</td>\n",
       "      <td>TACATAGGGGGCAAGCGTTATCCGGAATTATTGGGCGTAAAGCGTG...</td>\n",
       "      <td>k__Bacteria; p__Tenericutes; c__RF3; o__ML615J...</td>\n",
       "      <td>0.172459</td>\n",
       "      <td>0.000037</td>\n",
       "      <td>0.028455</td>\n",
       "    </tr>\n",
       "    <tr>\n",
       "      <th>341</th>\n",
       "      <td>OHV1D3</td>\n",
       "      <td>TACGTAGGGGGCGAGCGTTGTCCGGAATGACTGGGCGTAAAGGGCG...</td>\n",
       "      <td>k__Bacteria; p__Firmicutes; c__Clostridia; o__...</td>\n",
       "      <td>0.174129</td>\n",
       "      <td>0.000031</td>\n",
       "      <td>0.028455</td>\n",
       "    </tr>\n",
       "    <tr>\n",
       "      <th>62</th>\n",
       "      <td>OHV1D3</td>\n",
       "      <td>TACGTATGGAGCAAGCGTTATCCGGATTTACTGGGTGTAAAGGGAG...</td>\n",
       "      <td>k__Bacteria; p__Firmicutes; c__Clostridia; o__...</td>\n",
       "      <td>0.170019</td>\n",
       "      <td>0.000047</td>\n",
       "      <td>0.031509</td>\n",
       "    </tr>\n",
       "    <tr>\n",
       "      <th>524</th>\n",
       "      <td>OHV1D3</td>\n",
       "      <td>TACGTAGGTGGCAAGCGTTATCCGGATTTACTGGGTGTAAAGGGTG...</td>\n",
       "      <td>k__Bacteria; p__Firmicutes; c__Clostridia; o__...</td>\n",
       "      <td>0.165885</td>\n",
       "      <td>0.000072</td>\n",
       "      <td>0.042206</td>\n",
       "    </tr>\n",
       "    <tr>\n",
       "      <th>389</th>\n",
       "      <td>OHV1D3</td>\n",
       "      <td>TACGTAGGTGGCAAGCGTTGTCCGGAATTACTGGGTGTAAAGGGTG...</td>\n",
       "      <td>k__Bacteria; p__Firmicutes; c__Clostridia; o__...</td>\n",
       "      <td>0.162297</td>\n",
       "      <td>0.000104</td>\n",
       "      <td>0.048481</td>\n",
       "    </tr>\n",
       "    <tr>\n",
       "      <th>346</th>\n",
       "      <td>OHV1D3</td>\n",
       "      <td>TACGTAGGGGGCAAGCGTTGTCCGGAATGATTGGGCGTAAAGGGCG...</td>\n",
       "      <td>k__Bacteria; p__Firmicutes; c__Clostridia; o__...</td>\n",
       "      <td>0.162295</td>\n",
       "      <td>0.000104</td>\n",
       "      <td>0.048481</td>\n",
       "    </tr>\n",
       "  </tbody>\n",
       "</table>\n",
       "</div>"
      ],
      "text/plain": [
       "       vars                                                otu  \\\n",
       "808  OHV1D3  TACGTAGGGGGCAAGCGTTATCCGGATTTACTGGGTGTAAAGGGAG...   \n",
       "0    OHV1D3  TACGTAGGTGGCAAGCGTTGTCCGGAATTACTGGGTGTAAAGGGAG...   \n",
       "237  OHV1D3  TACGTAGGTGGCGAGCGTTGTCCGGAATGACTGGGCGTAAAGGGAG...   \n",
       "289  OHV1D3  TACGTAGGGGGCGAGCGTTGTCCGGAATTATTGGGCGTAAAGGGCG...   \n",
       "315  OHV1D3  TACATAGGGGGCAAGCGTTATCCGGAATTATTGGGCGTAAAGCGTG...   \n",
       "341  OHV1D3  TACGTAGGGGGCGAGCGTTGTCCGGAATGACTGGGCGTAAAGGGCG...   \n",
       "62   OHV1D3  TACGTATGGAGCAAGCGTTATCCGGATTTACTGGGTGTAAAGGGAG...   \n",
       "524  OHV1D3  TACGTAGGTGGCAAGCGTTATCCGGATTTACTGGGTGTAAAGGGTG...   \n",
       "389  OHV1D3  TACGTAGGTGGCAAGCGTTGTCCGGAATTACTGGGTGTAAAGGGTG...   \n",
       "346  OHV1D3  TACGTAGGGGGCAAGCGTTGTCCGGAATGATTGGGCGTAAAGGGCG...   \n",
       "\n",
       "                                              taxonomy       rho      pval  \\\n",
       "808  k__Bacteria; p__Firmicutes; c__Clostridia; o__... -0.199860  0.000002   \n",
       "0    k__Bacteria; p__Firmicutes; c__Clostridia; o__...  0.175859  0.000025   \n",
       "237  k__Bacteria; p__Firmicutes; c__Clostridia; o__...  0.175983  0.000025   \n",
       "289  k__Bacteria; p__Firmicutes; c__Clostridia; o__...  0.176235  0.000024   \n",
       "315  k__Bacteria; p__Tenericutes; c__RF3; o__ML615J...  0.172459  0.000037   \n",
       "341  k__Bacteria; p__Firmicutes; c__Clostridia; o__...  0.174129  0.000031   \n",
       "62   k__Bacteria; p__Firmicutes; c__Clostridia; o__...  0.170019  0.000047   \n",
       "524  k__Bacteria; p__Firmicutes; c__Clostridia; o__...  0.165885  0.000072   \n",
       "389  k__Bacteria; p__Firmicutes; c__Clostridia; o__...  0.162297  0.000104   \n",
       "346  k__Bacteria; p__Firmicutes; c__Clostridia; o__...  0.162295  0.000104   \n",
       "\n",
       "     fdr pval  \n",
       "808  0.007530  \n",
       "0    0.028455  \n",
       "237  0.028455  \n",
       "289  0.028455  \n",
       "315  0.028455  \n",
       "341  0.028455  \n",
       "62   0.031509  \n",
       "524  0.042206  \n",
       "389  0.048481  \n",
       "346  0.048481  "
      ]
     },
     "execution_count": 15,
     "metadata": {},
     "output_type": "execute_result"
    }
   ],
   "source": [
    "# check\n",
    "results_spearman_OHV1D3.head(10)"
   ]
  },
  {
   "cell_type": "markdown",
   "metadata": {},
   "source": [
    "#### OHV24D3"
   ]
  },
  {
   "cell_type": "code",
   "execution_count": 16,
   "metadata": {},
   "outputs": [
    {
     "name": "stdout",
     "output_type": "stream",
     "text": [
      "k__Bacteria; p__Firmicutes; c__Erysipelotrichi; o__Erysipelotrichales; f__Erysipelotrichaceae; g__; s__ 0.190355708167 0.0234067706265\n"
     ]
    }
   ],
   "source": [
    "results= []\n",
    "i = 2\n",
    "for j in range(len(otu_cols)):\n",
    "    tmp = dat[[vars_vd[i], otu_cols[j]]].dropna(axis=0, how='any')\n",
    "    rho, pval = spearmanr(tmp[vars_vd[i]], tmp[otu_cols[j]])\n",
    "    tax = bt.loc['taxonomy'][otu_cols[j]]\n",
    "    results.append([vars_vd[i], otu_cols[j], tax, rho, pval])\n",
    "\n",
    "# output table    \n",
    "results = pd.DataFrame(results, columns=['vars', 'otu', \n",
    "                                         'taxonomy', 'rho', 'pval']).dropna(axis=0, how='any')\n",
    "results['fdr pval'] = multipletests(results['pval'], method = 'fdr_bh')[1]\n",
    "results = results.sort_values(['fdr pval'], ascending=True)\n",
    "\n",
    "# specific bacteria\n",
    "index = results.loc[results['fdr pval'] <= 0.05].index\n",
    "for i in range(len(index)):\n",
    "    print(results.taxonomy[index[i]], \n",
    "          results['rho'][index[i]],\n",
    "          results['fdr pval'][index[i]])"
   ]
  },
  {
   "cell_type": "code",
   "execution_count": 17,
   "metadata": {},
   "outputs": [
    {
     "data": {
      "text/html": [
       "<div>\n",
       "<style>\n",
       "    .dataframe thead tr:only-child th {\n",
       "        text-align: right;\n",
       "    }\n",
       "\n",
       "    .dataframe thead th {\n",
       "        text-align: left;\n",
       "    }\n",
       "\n",
       "    .dataframe tbody tr th {\n",
       "        vertical-align: top;\n",
       "    }\n",
       "</style>\n",
       "<table border=\"1\" class=\"dataframe\">\n",
       "  <thead>\n",
       "    <tr style=\"text-align: right;\">\n",
       "      <th></th>\n",
       "      <th>vars</th>\n",
       "      <th>otu</th>\n",
       "      <th>taxonomy</th>\n",
       "      <th>rho</th>\n",
       "      <th>pval</th>\n",
       "      <th>fdr pval</th>\n",
       "    </tr>\n",
       "  </thead>\n",
       "  <tbody>\n",
       "    <tr>\n",
       "      <th>557</th>\n",
       "      <td>OHV24D3</td>\n",
       "      <td>TACGTAGGTGGCGAGCGTTATCCGGAATTATTGGGCGTAAAGAGGG...</td>\n",
       "      <td>k__Bacteria; p__Firmicutes; c__Erysipelotrichi...</td>\n",
       "      <td>0.190356</td>\n",
       "      <td>0.000005</td>\n",
       "      <td>0.023407</td>\n",
       "    </tr>\n",
       "    <tr>\n",
       "      <th>369</th>\n",
       "      <td>OHV24D3</td>\n",
       "      <td>TACGTAGGTGGCAAGCGTTATCCGGATTTACTGGGTGTAAAGGGCG...</td>\n",
       "      <td>k__Bacteria; p__Firmicutes; c__Clostridia; o__...</td>\n",
       "      <td>0.150416</td>\n",
       "      <td>0.000325</td>\n",
       "      <td>0.506989</td>\n",
       "    </tr>\n",
       "    <tr>\n",
       "      <th>509</th>\n",
       "      <td>OHV24D3</td>\n",
       "      <td>TACGTAGGGAGCAAGCGTTATCCGGATTTATTGGGTGTAAAGGGTG...</td>\n",
       "      <td>k__Bacteria; p__Firmicutes; c__Clostridia; o__...</td>\n",
       "      <td>0.154249</td>\n",
       "      <td>0.000227</td>\n",
       "      <td>0.506989</td>\n",
       "    </tr>\n",
       "  </tbody>\n",
       "</table>\n",
       "</div>"
      ],
      "text/plain": [
       "        vars                                                otu  \\\n",
       "557  OHV24D3  TACGTAGGTGGCGAGCGTTATCCGGAATTATTGGGCGTAAAGAGGG...   \n",
       "369  OHV24D3  TACGTAGGTGGCAAGCGTTATCCGGATTTACTGGGTGTAAAGGGCG...   \n",
       "509  OHV24D3  TACGTAGGGAGCAAGCGTTATCCGGATTTATTGGGTGTAAAGGGTG...   \n",
       "\n",
       "                                              taxonomy       rho      pval  \\\n",
       "557  k__Bacteria; p__Firmicutes; c__Erysipelotrichi...  0.190356  0.000005   \n",
       "369  k__Bacteria; p__Firmicutes; c__Clostridia; o__...  0.150416  0.000325   \n",
       "509  k__Bacteria; p__Firmicutes; c__Clostridia; o__...  0.154249  0.000227   \n",
       "\n",
       "     fdr pval  \n",
       "557  0.023407  \n",
       "369  0.506989  \n",
       "509  0.506989  "
      ]
     },
     "execution_count": 17,
     "metadata": {},
     "output_type": "execute_result"
    }
   ],
   "source": [
    "# check\n",
    "results.head(3)"
   ]
  },
  {
   "cell_type": "markdown",
   "metadata": {},
   "source": [
    "#### ratio_activation"
   ]
  },
  {
   "cell_type": "code",
   "execution_count": 18,
   "metadata": {},
   "outputs": [
    {
     "name": "stdout",
     "output_type": "stream",
     "text": [
      "k__Bacteria; p__Actinobacteria; c__Coriobacteriia; o__Coriobacteriales; f__Coriobacteriaceae; g__Collinsella; s__aerofaciens 0.205430869768 0.00480556475164\n",
      "k__Bacteria; p__Actinobacteria; c__Actinobacteria; o__Bifidobacteriales; f__Bifidobacteriaceae; g__Bifidobacterium; s__adolescentis 0.18657996033 0.0219326446641\n",
      "k__Bacteria; p__Firmicutes; c__Clostridia; o__Clostridiales; f__Lachnospiraceae; g__Coprococcus; s__ 0.182982414424 0.0219326446641\n",
      "k__Bacteria; p__Firmicutes; c__Clostridia; o__Clostridiales 0.17632798806 0.0224875187164\n",
      "k__Bacteria; p__Firmicutes; c__Clostridia; o__Clostridiales; f__Ruminococcaceae; g__; s__ 0.17667163223 0.0224875187164\n",
      "k__Bacteria; p__Firmicutes; c__Clostridia; o__Clostridiales; f__Clostridiaceae; g__; s__ 0.176468273107 0.0224875187164\n",
      "k__Bacteria; p__Firmicutes; c__Clostridia; o__Clostridiales; f__Lachnospiraceae; g__Blautia; s__ -0.169605546227 0.032013016431\n",
      "k__Bacteria; p__Firmicutes; c__Clostridia; o__Clostridiales; f__; g__; s__ 0.170988997592 0.032013016431\n",
      "k__Bacteria; p__Firmicutes; c__Clostridia; o__Clostridiales; f__Ruminococcaceae; g__; s__ 0.169022222708 0.032013016431\n",
      "k__Bacteria; p__Firmicutes; c__Clostridia; o__Clostridiales; f__Lachnospiraceae; g__; s__ -0.166615010425 0.036744237386\n",
      "k__Bacteria; p__Firmicutes; c__Clostridia; o__Clostridiales; f__Lachnospiraceae; g__Blautia; s__ -0.164914497427 0.0395854487556\n",
      "k__Bacteria; p__Firmicutes; c__Clostridia; o__Clostridiales; f__Christensenellaceae; g__; s__ 0.160017623775 0.0416249954679\n",
      "k__Bacteria; p__Firmicutes; c__Clostridia; o__Clostridiales; f__Christensenellaceae; g__; s__ 0.159956679493 0.0416249954679\n",
      "k__Bacteria; p__Firmicutes; c__Clostridia; o__Clostridiales; f__Ruminococcaceae; g__; s__ 0.16214051855 0.0416249954679\n",
      "k__Bacteria; p__Firmicutes; c__Clostridia; o__Clostridiales; f__Veillonellaceae; g__Phascolarctobacterium; s__ 0.160531045525 0.0416249954679\n",
      "k__Bacteria; p__Firmicutes; c__Clostridia; o__Clostridiales; f__Lachnospiraceae; g__Blautia; s__producta -0.161275088323 0.0416249954679\n",
      "k__Bacteria; p__Firmicutes; c__Clostridia; o__Clostridiales; f__Lachnospiraceae; g__Blautia; s__ 0.160164094073 0.0416249954679\n",
      "k__Bacteria; p__Firmicutes; c__Clostridia; o__Clostridiales; f__Lachnospiraceae; g__; s__ 0.157884085728 0.0479600361212\n",
      "k__Bacteria; p__Firmicutes; c__Clostridia; o__Clostridiales; f__Ruminococcaceae; g__; s__ 0.157214822237 0.0484233453381\n"
     ]
    }
   ],
   "source": [
    "results= []\n",
    "i = 3\n",
    "for j in range(len(otu_cols)):\n",
    "    tmp = dat[[vars_vd[i], otu_cols[j]]].dropna(axis=0, how='any')\n",
    "    rho, pval = spearmanr(tmp[vars_vd[i]], tmp[otu_cols[j]])\n",
    "    tax = bt.loc['taxonomy'][otu_cols[j]]\n",
    "    results.append([vars_vd[i], otu_cols[j], tax, rho, pval])\n",
    "\n",
    "# output table    \n",
    "results = pd.DataFrame(results, columns=['vars', 'otu', \n",
    "                                         'taxonomy', 'rho', 'pval']).dropna(axis=0, how='any')\n",
    "results['fdr pval'] = multipletests(results['pval'], method = 'fdr_bh')[1]\n",
    "results = results.sort_values(['fdr pval'], ascending=True)\n",
    "\n",
    "# specific bacteria\n",
    "index = results.loc[results['fdr pval'] <= 0.05].index\n",
    "for i in range(len(index)):\n",
    "    print(results.taxonomy[index[i]], \n",
    "          results['rho'][index[i]],\n",
    "          results['fdr pval'][index[i]])"
   ]
  },
  {
   "cell_type": "code",
   "execution_count": 19,
   "metadata": {
    "collapsed": true
   },
   "outputs": [],
   "source": [
    "# store result for future check with lasso\n",
    "results_spearman_activation = results"
   ]
  },
  {
   "cell_type": "code",
   "execution_count": 20,
   "metadata": {},
   "outputs": [
    {
     "data": {
      "text/html": [
       "<div>\n",
       "<style>\n",
       "    .dataframe thead tr:only-child th {\n",
       "        text-align: right;\n",
       "    }\n",
       "\n",
       "    .dataframe thead th {\n",
       "        text-align: left;\n",
       "    }\n",
       "\n",
       "    .dataframe tbody tr th {\n",
       "        vertical-align: top;\n",
       "    }\n",
       "</style>\n",
       "<table border=\"1\" class=\"dataframe\">\n",
       "  <thead>\n",
       "    <tr style=\"text-align: right;\">\n",
       "      <th></th>\n",
       "      <th>vars</th>\n",
       "      <th>otu</th>\n",
       "      <th>taxonomy</th>\n",
       "      <th>rho</th>\n",
       "      <th>pval</th>\n",
       "      <th>fdr pval</th>\n",
       "    </tr>\n",
       "  </thead>\n",
       "  <tbody>\n",
       "    <tr>\n",
       "      <th>83</th>\n",
       "      <td>ratio_activation</td>\n",
       "      <td>TACGTAGGGGGCGAGCGTTATCCGGATTCATTGGGCGTAAAGCGCG...</td>\n",
       "      <td>k__Bacteria; p__Actinobacteria; c__Coriobacter...</td>\n",
       "      <td>0.205431</td>\n",
       "      <td>0.000001</td>\n",
       "      <td>0.004806</td>\n",
       "    </tr>\n",
       "    <tr>\n",
       "      <th>758</th>\n",
       "      <td>ratio_activation</td>\n",
       "      <td>TACGTAGGGTGCAAGCGTTATCCGGAATTATTGGGCGTAAAGGGCT...</td>\n",
       "      <td>k__Bacteria; p__Actinobacteria; c__Actinobacte...</td>\n",
       "      <td>0.186580</td>\n",
       "      <td>0.000009</td>\n",
       "      <td>0.021933</td>\n",
       "    </tr>\n",
       "    <tr>\n",
       "      <th>822</th>\n",
       "      <td>ratio_activation</td>\n",
       "      <td>TACGTATGGTGCAAGCGTTATCCGGATTTACTGGGTGTAAAGGGTG...</td>\n",
       "      <td>k__Bacteria; p__Firmicutes; c__Clostridia; o__...</td>\n",
       "      <td>0.182982</td>\n",
       "      <td>0.000014</td>\n",
       "      <td>0.021933</td>\n",
       "    </tr>\n",
       "    <tr>\n",
       "      <th>50</th>\n",
       "      <td>ratio_activation</td>\n",
       "      <td>TACGTAGGGGGCGAGCGTTGTCCGGAATTACTGGGCGTAAAGGGTG...</td>\n",
       "      <td>k__Bacteria; p__Firmicutes; c__Clostridia; o__...</td>\n",
       "      <td>0.176328</td>\n",
       "      <td>0.000029</td>\n",
       "      <td>0.022488</td>\n",
       "    </tr>\n",
       "    <tr>\n",
       "      <th>538</th>\n",
       "      <td>ratio_activation</td>\n",
       "      <td>TACGTAGGTGGCAAGCGTTATCCGGATTTACTGGGTGTAAAGGGCG...</td>\n",
       "      <td>k__Bacteria; p__Firmicutes; c__Clostridia; o__...</td>\n",
       "      <td>0.176672</td>\n",
       "      <td>0.000028</td>\n",
       "      <td>0.022488</td>\n",
       "    </tr>\n",
       "    <tr>\n",
       "      <th>573</th>\n",
       "      <td>ratio_activation</td>\n",
       "      <td>TACGTAGGGGGCAAGCGTTATCCGGAATTATTGGGCGTAAAGAGTG...</td>\n",
       "      <td>k__Bacteria; p__Firmicutes; c__Clostridia; o__...</td>\n",
       "      <td>0.176468</td>\n",
       "      <td>0.000029</td>\n",
       "      <td>0.022488</td>\n",
       "    </tr>\n",
       "    <tr>\n",
       "      <th>2372</th>\n",
       "      <td>ratio_activation</td>\n",
       "      <td>TACGTAGGGGGCAAGCGTTATCCGGATTTACTGGGTGTAAAGGGAG...</td>\n",
       "      <td>k__Bacteria; p__Firmicutes; c__Clostridia; o__...</td>\n",
       "      <td>-0.169606</td>\n",
       "      <td>0.000058</td>\n",
       "      <td>0.032013</td>\n",
       "    </tr>\n",
       "    <tr>\n",
       "      <th>826</th>\n",
       "      <td>ratio_activation</td>\n",
       "      <td>TACGTAGGGAGCGAGCGTTATCCGGAATTATTGGGTGTAAAGGGTG...</td>\n",
       "      <td>k__Bacteria; p__Firmicutes; c__Clostridia; o__...</td>\n",
       "      <td>0.170989</td>\n",
       "      <td>0.000051</td>\n",
       "      <td>0.032013</td>\n",
       "    </tr>\n",
       "    <tr>\n",
       "      <th>330</th>\n",
       "      <td>ratio_activation</td>\n",
       "      <td>TACGTAGGTGGCGAGCGTTATCCGGAATTACTGGGTGTAAAGGGTG...</td>\n",
       "      <td>k__Bacteria; p__Firmicutes; c__Clostridia; o__...</td>\n",
       "      <td>0.169022</td>\n",
       "      <td>0.000062</td>\n",
       "      <td>0.032013</td>\n",
       "    </tr>\n",
       "    <tr>\n",
       "      <th>230</th>\n",
       "      <td>ratio_activation</td>\n",
       "      <td>TACGTAGGGGGCAAGCGTTATCCGGATTTACTGGGTGTAAAGGGAG...</td>\n",
       "      <td>k__Bacteria; p__Firmicutes; c__Clostridia; o__...</td>\n",
       "      <td>-0.166615</td>\n",
       "      <td>0.000079</td>\n",
       "      <td>0.036744</td>\n",
       "    </tr>\n",
       "  </tbody>\n",
       "</table>\n",
       "</div>"
      ],
      "text/plain": [
       "                  vars                                                otu  \\\n",
       "83    ratio_activation  TACGTAGGGGGCGAGCGTTATCCGGATTCATTGGGCGTAAAGCGCG...   \n",
       "758   ratio_activation  TACGTAGGGTGCAAGCGTTATCCGGAATTATTGGGCGTAAAGGGCT...   \n",
       "822   ratio_activation  TACGTATGGTGCAAGCGTTATCCGGATTTACTGGGTGTAAAGGGTG...   \n",
       "50    ratio_activation  TACGTAGGGGGCGAGCGTTGTCCGGAATTACTGGGCGTAAAGGGTG...   \n",
       "538   ratio_activation  TACGTAGGTGGCAAGCGTTATCCGGATTTACTGGGTGTAAAGGGCG...   \n",
       "573   ratio_activation  TACGTAGGGGGCAAGCGTTATCCGGAATTATTGGGCGTAAAGAGTG...   \n",
       "2372  ratio_activation  TACGTAGGGGGCAAGCGTTATCCGGATTTACTGGGTGTAAAGGGAG...   \n",
       "826   ratio_activation  TACGTAGGGAGCGAGCGTTATCCGGAATTATTGGGTGTAAAGGGTG...   \n",
       "330   ratio_activation  TACGTAGGTGGCGAGCGTTATCCGGAATTACTGGGTGTAAAGGGTG...   \n",
       "230   ratio_activation  TACGTAGGGGGCAAGCGTTATCCGGATTTACTGGGTGTAAAGGGAG...   \n",
       "\n",
       "                                               taxonomy       rho      pval  \\\n",
       "83    k__Bacteria; p__Actinobacteria; c__Coriobacter...  0.205431  0.000001   \n",
       "758   k__Bacteria; p__Actinobacteria; c__Actinobacte...  0.186580  0.000009   \n",
       "822   k__Bacteria; p__Firmicutes; c__Clostridia; o__...  0.182982  0.000014   \n",
       "50    k__Bacteria; p__Firmicutes; c__Clostridia; o__...  0.176328  0.000029   \n",
       "538   k__Bacteria; p__Firmicutes; c__Clostridia; o__...  0.176672  0.000028   \n",
       "573   k__Bacteria; p__Firmicutes; c__Clostridia; o__...  0.176468  0.000029   \n",
       "2372  k__Bacteria; p__Firmicutes; c__Clostridia; o__... -0.169606  0.000058   \n",
       "826   k__Bacteria; p__Firmicutes; c__Clostridia; o__...  0.170989  0.000051   \n",
       "330   k__Bacteria; p__Firmicutes; c__Clostridia; o__...  0.169022  0.000062   \n",
       "230   k__Bacteria; p__Firmicutes; c__Clostridia; o__... -0.166615  0.000079   \n",
       "\n",
       "      fdr pval  \n",
       "83    0.004806  \n",
       "758   0.021933  \n",
       "822   0.021933  \n",
       "50    0.022488  \n",
       "538   0.022488  \n",
       "573   0.022488  \n",
       "2372  0.032013  \n",
       "826   0.032013  \n",
       "330   0.032013  \n",
       "230   0.036744  "
      ]
     },
     "execution_count": 20,
     "metadata": {},
     "output_type": "execute_result"
    }
   ],
   "source": [
    "# check\n",
    "results.head(10)"
   ]
  },
  {
   "cell_type": "markdown",
   "metadata": {},
   "source": [
    "#### ratio_catabolism"
   ]
  },
  {
   "cell_type": "code",
   "execution_count": 21,
   "metadata": {
    "collapsed": true
   },
   "outputs": [],
   "source": [
    "results= []\n",
    "i = 4\n",
    "for j in range(len(otu_cols)):\n",
    "    tmp = dat[[vars_vd[i], otu_cols[j]]].dropna(axis=0, how='any')\n",
    "    rho, pval = spearmanr(tmp[vars_vd[i]], tmp[otu_cols[j]])\n",
    "    tax = bt.loc['taxonomy'][otu_cols[j]]\n",
    "    results.append([vars_vd[i], otu_cols[j], tax, rho, pval])\n",
    "\n",
    "# output table    \n",
    "results = pd.DataFrame(results, columns=['vars', 'otu', \n",
    "                                         'taxonomy', 'rho', 'pval']).dropna(axis=0, how='any')\n",
    "results['fdr pval'] = multipletests(results['pval'], method = 'fdr_bh')[1]\n",
    "results = results.sort_values(['fdr pval'], ascending=True)\n",
    "\n",
    "# specific bacteria\n",
    "index = results.loc[results['fdr pval'] <= 0.05].index\n",
    "for i in range(len(index)):\n",
    "    print(results.taxonomy[index[i]], \n",
    "          results['fdr pval'][index[i]])"
   ]
  },
  {
   "cell_type": "code",
   "execution_count": 22,
   "metadata": {},
   "outputs": [
    {
     "data": {
      "text/html": [
       "<div>\n",
       "<style>\n",
       "    .dataframe thead tr:only-child th {\n",
       "        text-align: right;\n",
       "    }\n",
       "\n",
       "    .dataframe thead th {\n",
       "        text-align: left;\n",
       "    }\n",
       "\n",
       "    .dataframe tbody tr th {\n",
       "        vertical-align: top;\n",
       "    }\n",
       "</style>\n",
       "<table border=\"1\" class=\"dataframe\">\n",
       "  <thead>\n",
       "    <tr style=\"text-align: right;\">\n",
       "      <th></th>\n",
       "      <th>vars</th>\n",
       "      <th>otu</th>\n",
       "      <th>taxonomy</th>\n",
       "      <th>rho</th>\n",
       "      <th>pval</th>\n",
       "      <th>fdr pval</th>\n",
       "    </tr>\n",
       "  </thead>\n",
       "  <tbody>\n",
       "    <tr>\n",
       "      <th>557</th>\n",
       "      <td>ratio_catabolism</td>\n",
       "      <td>TACGTAGGTGGCGAGCGTTATCCGGAATTATTGGGCGTAAAGAGGG...</td>\n",
       "      <td>k__Bacteria; p__Firmicutes; c__Erysipelotrichi...</td>\n",
       "      <td>0.181890</td>\n",
       "      <td>0.000016</td>\n",
       "      <td>0.074166</td>\n",
       "    </tr>\n",
       "    <tr>\n",
       "      <th>369</th>\n",
       "      <td>ratio_catabolism</td>\n",
       "      <td>TACGTAGGTGGCAAGCGTTATCCGGATTTACTGGGTGTAAAGGGCG...</td>\n",
       "      <td>k__Bacteria; p__Firmicutes; c__Clostridia; o__...</td>\n",
       "      <td>0.170042</td>\n",
       "      <td>0.000056</td>\n",
       "      <td>0.129824</td>\n",
       "    </tr>\n",
       "    <tr>\n",
       "      <th>204</th>\n",
       "      <td>ratio_catabolism</td>\n",
       "      <td>AACGTAGGTCACAAGCGTTGTCCGGAATTACTGGGTGTAAAGGGAG...</td>\n",
       "      <td>k__Bacteria; p__Firmicutes; c__Clostridia; o__...</td>\n",
       "      <td>0.164678</td>\n",
       "      <td>0.000096</td>\n",
       "      <td>0.148595</td>\n",
       "    </tr>\n",
       "  </tbody>\n",
       "</table>\n",
       "</div>"
      ],
      "text/plain": [
       "                 vars                                                otu  \\\n",
       "557  ratio_catabolism  TACGTAGGTGGCGAGCGTTATCCGGAATTATTGGGCGTAAAGAGGG...   \n",
       "369  ratio_catabolism  TACGTAGGTGGCAAGCGTTATCCGGATTTACTGGGTGTAAAGGGCG...   \n",
       "204  ratio_catabolism  AACGTAGGTCACAAGCGTTGTCCGGAATTACTGGGTGTAAAGGGAG...   \n",
       "\n",
       "                                              taxonomy       rho      pval  \\\n",
       "557  k__Bacteria; p__Firmicutes; c__Erysipelotrichi...  0.181890  0.000016   \n",
       "369  k__Bacteria; p__Firmicutes; c__Clostridia; o__...  0.170042  0.000056   \n",
       "204  k__Bacteria; p__Firmicutes; c__Clostridia; o__...  0.164678  0.000096   \n",
       "\n",
       "     fdr pval  \n",
       "557  0.074166  \n",
       "369  0.129824  \n",
       "204  0.148595  "
      ]
     },
     "execution_count": 22,
     "metadata": {},
     "output_type": "execute_result"
    }
   ],
   "source": [
    "# check\n",
    "results.head(3)"
   ]
  },
  {
   "cell_type": "markdown",
   "metadata": {},
   "source": [
    "## Lasso Regression"
   ]
  },
  {
   "cell_type": "markdown",
   "metadata": {},
   "source": [
    "1. reference on lasso: https://www.coursera.org/learn/machine-learning-data-analysis/supplement/MMg4w/python-code-lasso-regression\n",
    "2. reference on standardize data before lasso: https://chrisalbon.com/machine-learning/lasso_regression_in_scikit.html\n",
    "3. no need for standardization on OTUs, as they are on the same scale already"
   ]
  },
  {
   "cell_type": "code",
   "execution_count": 23,
   "metadata": {},
   "outputs": [
    {
     "name": "stdout",
     "output_type": "stream",
     "text": [
      "(556, 4732)\n"
     ]
    },
    {
     "data": {
      "text/html": [
       "<div>\n",
       "<style>\n",
       "    .dataframe thead tr:only-child th {\n",
       "        text-align: right;\n",
       "    }\n",
       "\n",
       "    .dataframe thead th {\n",
       "        text-align: left;\n",
       "    }\n",
       "\n",
       "    .dataframe tbody tr th {\n",
       "        vertical-align: top;\n",
       "    }\n",
       "</style>\n",
       "<table border=\"1\" class=\"dataframe\">\n",
       "  <thead>\n",
       "    <tr style=\"text-align: right;\">\n",
       "      <th></th>\n",
       "      <th>OHVD3</th>\n",
       "      <th>OHV1D3</th>\n",
       "      <th>OHV24D3</th>\n",
       "      <th>ratio_activation</th>\n",
       "      <th>ratio_catabolism</th>\n",
       "      <th>TACGTAGGTGGCAAGCGTTGTCCGGAATTACTGGGTGTAAAGGGAGTGTAGGCGGGATATCAAGTCAGAAGTGAAAATTACGGGCTCAACTCGTAACCTGCTTTTGAAACTGACATTCTTGAGTGAAGTAGAGGCAAGCGGAATTCCTAGTGTAGCGGTGAAATGCGTAGATATTAGGAGGAACACCAGTGGCGAAGGCGGCTTGCTGGGCTTTTACTGACGCTGAGGCTCGAAAGCGTGGGGAGCAAA</th>\n",
       "      <th>TACGGAGGATGCGAGCGTTATCCGGATTTATTGGGTTTAAAGGGAGCGTAGACGGGTCCTTAAGTCAGTTGTGAAAGTTTGCGGCTCAACCGTAAAATTGCAGTTGATACTGGGGACCTTGAGTGCGGCAGAGGCAGGCGGAATTCGTGGTGTAGCGGTGAAATGCTTAGATATCACGAAGAACTCCGATTGCGAAGGCAGCTTGCTGGACCGTAACTGACGTTGATGCTCGAAAGTGCGGGTATCAAA</th>\n",
       "      <th>AACGTAGGTCACAAGCGTTGTCCGGAATTACTGGGTGTAAAGGGAGCGCAGGCGGGAAGACAAGTTGGAAGTGAAATCCATGGGCTCAACCCATGAACTGCTTTCAAAACTGTTTTTCTTGAGTAGTGCAGAGGTAGGCGGAATTCCCGGTGTAGCGGTGGAATGCGTAGATATCGGGAGGAACACCAGTGGCGAAGGCGGCCTACTGGGCACCAACTGACGCTGAGGCTCGAAAGTGTGGGTAGCAAA</th>\n",
       "      <th>TACGGAGGATCCGAGCGTTATCCGGATTTATTGGGTTTAAAGGGAGCGTAGATGGATGTTTAAGTCAGTTGTGAAAGTTTGCGGCTCAACCGTAAAATTGCAGTTGATACTGGATATCTTGAGTGCAGTTGAGGCAGGCGGAATTCGTGGTGTAGCGGTGAAATGCTTAGATATCACGAAGAACTCCGATTGCGAAGGCAGCCTGCTAAGCTGCAACTGACATTGAGGCTCGAAAGTGTGGGTATCAAA</th>\n",
       "      <th>AACGTAGGTCACAAGCGTTGTCCGGAATTACTGGGTGTAAAGGGAGCGCAGGCGGGAAGACAAGTTGGAAGTGAAATCTATGGGCTCAACCCATAAACTGCTTTCAAAACTGTTTTTCTTGAGTAGTGCAGAGGTAGGCGGAATTCCCGGTGTAGCGGTGGAATGCGTAGATATCGGGAGGAACACCAGTGGCGAAGGCGGCCTACTGGGCACCAACTGACGCTGAGGCTCGAAAGTGTGGGTAGCAAA</th>\n",
       "      <th>...</th>\n",
       "      <th>AACGTAGGGTGCAAGCGTTGTCCGGAATTACTGGGTGTAAAGGGAGCGCAGGCGGACCGGCAAGTTGGAAGTGAAAACTATGGGCTCAACCCATAAATTGCTTTCAAAACTGTTGGCCTTGAGTAGTGCAGAGGTAGGTGGAATTCCCGGTGTAGCGGTGGAATGCGTAGATATCGGGAGGAACACCAGTGGCGAAGGCGACCTACTGGGCACCAACTGACGCTGAGGCTCGAAAGCATGGGTAGCAAA</th>\n",
       "      <th>TACGTAGGGGGCAAGCGTTATCCGGATTTACTGGGTGTAAAGGGAGCGTAGGTGGCAAGGCAAGTCAGATGTGAAAACCCGGGGCTCAACTCCGGGACTGCATTTGAAACTGTCTAGCTAGAGTGCAGGAGAGGTAAGTGGAATTCCTAGTGTAGCGGTGAAATGCATAGATATTAGGAGGAACACCAGTGGCGAAGGCGGCTTACTGGACTGTAACTGACACTGAGGCTCGAAAGCGTGGGGAGCAAA</th>\n",
       "      <th>TACGTAGGGGGCAAGCGTTATCCGGATTTACTGGGTGTAAAGGGAGCGTAGACGGCGACGCAAGTCTGAAGTGAAATACCCGGGCTCAACCTGGGAACTGCTTTGGAAACTGTGTTGCTAGAGTGCTGGAGAGGTAAGCGGAATTCCTAGTGTAGCGGTGAAATGCGTAGATATTAGGAAGAACACCAGTGGCGAAGGCGGCTTACTGGACAGTAACTGACGTTGAGGCTCGAAAACGTGGGGAGCAAA</th>\n",
       "      <th>TACGGAGGGTGCAAGCGTTAATCGGAATCACTGGGCGTAAAGCGCACGTAGGCGGCTTGGTAAGTCAGGGGTGAAATCCCACAGCCCAACTATGGAACTGCCTTTGATACTGCCAGGCTTGAGTACCGGAGAGGGTGGCGGAATTCCAGGTGTAGGAGTGAAATCCGTAGATATCTGGAGGAACACCGGTGGCGAAGGCGGCCACCTGGACGGTAACTGACGCTGAGGTGCGAAAGCGTGGGTAGCAAA</th>\n",
       "      <th>TACGTAGGTGGCAAGCGTTGTCCGGAATTACTGGGTGTAAAGGGTGCGCAGGCGGGATTGCAAGTTGGATGTGAAATACCGGGGCTTAACCCCGGAGCTGCATCCAAAACTGTAGTTCTTGAGTGGAGTAGAGGTAAGCGGAATTCCGAGTGTAGCGGTGAAATGCGTAGATATTCGGAGGAACACCAGCGGCGAAGGCGGCTTACTGGGCTCTAACTGACGCTGAGGCACGAAAGCATGGGTAGCAAA</th>\n",
       "      <th>TACGTAGGGGGCAAGCGTTATCCGGATTTACTGGGTGTAAAGGGAGCGCAGGCGGTCTTGTAAGTCCGGTGTGAAAACCCGAGGCTCAACCTCGGGACTGCACTGGAAACTATGGGACTGGAGTGTCGGAGAGGTAAGTGGAATTCCTAGTGTAGCGGTGAAATGCGTAGATATTAGGAGGAACACCAGTGGCGAAGGCGGCTTACTGGACGACAACTGACGCTGAGGCTCGAAAGCGTGGGGAGCAAA</th>\n",
       "      <th>TACGGAGGATGCGAGCGTTATCCGGATTTATTGGGTTTAAAGGGTGCGTAGGCGGGGATTTAAGTCAGCGGTGAAAGTTTGAGGCTCAACCTTAAAATTGCCGTTGAAACTGGGTTTCTTGAGTGTATTTGAAGTAGGCGGAATTCGTTGTGTAGCGGTGAAATGCATAGATATAACGAAGAACTCCAATTGCGCAGGCAGCTTACTAAACTACAACTGACGCTGAAGCACGAAAGCGTGGGTATCAAA</th>\n",
       "      <th>TACGTAGGGGGCAAGCGTTATCCGGATTTACTGGGTGTAAAGGGAGCGTAGACGGCGAAGCAAGTCAGAAGTGAAAACCCCGGGCTTAACCTGGGGACTGCTTTTGAAACTGTTTGGCTGGAGTGCAGGAGAGGTGAGTGGAATTCCTAGTGTAGCGGTGAAATGCGTAGATATTAGGAGGAACACCAGTGGCGAAGGCGGCTTACTGGACTGTAACTGACGTTGAGGCTCGAAAGCGTGGGGAGCAAA</th>\n",
       "      <th>TACGTAGGTGGCAAGCGTTGTCCGGAATTACTGGGTGTAAAGGGAGCGTAGGCGGGGAGACAAGTTGAATGTCTAAACTATCGGCTTAACTGATAGTCGCGTTCAAAACTATCACTCTTGAGTGCAGTAGAGGTAGGCAGAATTCCTAGTGTAGCGGTGAAATGCGTAGATATTAGGAGGAACACCAGTGGCGAAGGCGGCCTACTGGGCTGTAACTGACGCTGAGGCTCGAAAGCGTGGGTAGCAAAC</th>\n",
       "      <th>TACGTAGGGGGCAAGAGTTATCCGGATTTACTGGGTGTAAAGGGAGCGTAGACGGCATGACAAGCCAGATGTGAAAACCCAGGGCTCAACCCTGGGACTGCATTTGGAACTGCCAGGCTGGAGTGCAGGAGAGGTAAGCGGAATTCCTAGTGTAGCGGTGAAATGCGTAGATATTAGGAGGAACACCAGTGGCGAAGGCGGCTTACTGGACTGTAACTGACGTTGAGGCTCGAAAGCGTGGGGAGCAAA</th>\n",
       "    </tr>\n",
       "  </thead>\n",
       "  <tbody>\n",
       "    <tr>\n",
       "      <th>BI0023</th>\n",
       "      <td>25.8</td>\n",
       "      <td>0.0393</td>\n",
       "      <td>1.77</td>\n",
       "      <td>0.001523</td>\n",
       "      <td>0.068605</td>\n",
       "      <td>0.0</td>\n",
       "      <td>0.0</td>\n",
       "      <td>223.0</td>\n",
       "      <td>4071.0</td>\n",
       "      <td>313.0</td>\n",
       "      <td>...</td>\n",
       "      <td>0.0</td>\n",
       "      <td>0.0</td>\n",
       "      <td>0.0</td>\n",
       "      <td>0.0</td>\n",
       "      <td>0.0</td>\n",
       "      <td>0.0</td>\n",
       "      <td>0.0</td>\n",
       "      <td>0.0</td>\n",
       "      <td>0.0</td>\n",
       "      <td>0.0</td>\n",
       "    </tr>\n",
       "    <tr>\n",
       "      <th>BI0056</th>\n",
       "      <td>39.2</td>\n",
       "      <td>0.0619</td>\n",
       "      <td>3.91</td>\n",
       "      <td>0.001579</td>\n",
       "      <td>0.099745</td>\n",
       "      <td>88.0</td>\n",
       "      <td>0.0</td>\n",
       "      <td>120.0</td>\n",
       "      <td>5639.0</td>\n",
       "      <td>0.0</td>\n",
       "      <td>...</td>\n",
       "      <td>0.0</td>\n",
       "      <td>0.0</td>\n",
       "      <td>0.0</td>\n",
       "      <td>0.0</td>\n",
       "      <td>0.0</td>\n",
       "      <td>0.0</td>\n",
       "      <td>0.0</td>\n",
       "      <td>0.0</td>\n",
       "      <td>0.0</td>\n",
       "      <td>0.0</td>\n",
       "    </tr>\n",
       "    <tr>\n",
       "      <th>BI0131</th>\n",
       "      <td>23.1</td>\n",
       "      <td>0.0521</td>\n",
       "      <td>1.49</td>\n",
       "      <td>0.002255</td>\n",
       "      <td>0.064502</td>\n",
       "      <td>26.0</td>\n",
       "      <td>0.0</td>\n",
       "      <td>60.0</td>\n",
       "      <td>257.0</td>\n",
       "      <td>404.0</td>\n",
       "      <td>...</td>\n",
       "      <td>0.0</td>\n",
       "      <td>0.0</td>\n",
       "      <td>0.0</td>\n",
       "      <td>0.0</td>\n",
       "      <td>0.0</td>\n",
       "      <td>0.0</td>\n",
       "      <td>0.0</td>\n",
       "      <td>0.0</td>\n",
       "      <td>0.0</td>\n",
       "      <td>0.0</td>\n",
       "    </tr>\n",
       "    <tr>\n",
       "      <th>BI0153</th>\n",
       "      <td>27.3</td>\n",
       "      <td>0.0431</td>\n",
       "      <td>2.14</td>\n",
       "      <td>0.001579</td>\n",
       "      <td>0.078388</td>\n",
       "      <td>0.0</td>\n",
       "      <td>0.0</td>\n",
       "      <td>236.0</td>\n",
       "      <td>193.0</td>\n",
       "      <td>1984.0</td>\n",
       "      <td>...</td>\n",
       "      <td>0.0</td>\n",
       "      <td>0.0</td>\n",
       "      <td>0.0</td>\n",
       "      <td>0.0</td>\n",
       "      <td>0.0</td>\n",
       "      <td>0.0</td>\n",
       "      <td>0.0</td>\n",
       "      <td>0.0</td>\n",
       "      <td>0.0</td>\n",
       "      <td>0.0</td>\n",
       "    </tr>\n",
       "    <tr>\n",
       "      <th>BI0215</th>\n",
       "      <td>33.0</td>\n",
       "      <td>0.0502</td>\n",
       "      <td>3.62</td>\n",
       "      <td>0.001521</td>\n",
       "      <td>0.109697</td>\n",
       "      <td>0.0</td>\n",
       "      <td>0.0</td>\n",
       "      <td>242.0</td>\n",
       "      <td>685.0</td>\n",
       "      <td>735.0</td>\n",
       "      <td>...</td>\n",
       "      <td>0.0</td>\n",
       "      <td>0.0</td>\n",
       "      <td>0.0</td>\n",
       "      <td>0.0</td>\n",
       "      <td>0.0</td>\n",
       "      <td>0.0</td>\n",
       "      <td>0.0</td>\n",
       "      <td>0.0</td>\n",
       "      <td>0.0</td>\n",
       "      <td>0.0</td>\n",
       "    </tr>\n",
       "  </tbody>\n",
       "</table>\n",
       "<p>5 rows × 4732 columns</p>\n",
       "</div>"
      ],
      "text/plain": [
       "        OHVD3  OHV1D3  OHV24D3  ratio_activation  ratio_catabolism  \\\n",
       "BI0023   25.8  0.0393     1.77          0.001523          0.068605   \n",
       "BI0056   39.2  0.0619     3.91          0.001579          0.099745   \n",
       "BI0131   23.1  0.0521     1.49          0.002255          0.064502   \n",
       "BI0153   27.3  0.0431     2.14          0.001579          0.078388   \n",
       "BI0215   33.0  0.0502     3.62          0.001521          0.109697   \n",
       "\n",
       "       TACGTAGGTGGCAAGCGTTGTCCGGAATTACTGGGTGTAAAGGGAGTGTAGGCGGGATATCAAGTCAGAAGTGAAAATTACGGGCTCAACTCGTAACCTGCTTTTGAAACTGACATTCTTGAGTGAAGTAGAGGCAAGCGGAATTCCTAGTGTAGCGGTGAAATGCGTAGATATTAGGAGGAACACCAGTGGCGAAGGCGGCTTGCTGGGCTTTTACTGACGCTGAGGCTCGAAAGCGTGGGGAGCAAA  \\\n",
       "BI0023                                                0.0                                                                                                                                                                                                          \n",
       "BI0056                                               88.0                                                                                                                                                                                                          \n",
       "BI0131                                               26.0                                                                                                                                                                                                          \n",
       "BI0153                                                0.0                                                                                                                                                                                                          \n",
       "BI0215                                                0.0                                                                                                                                                                                                          \n",
       "\n",
       "       TACGGAGGATGCGAGCGTTATCCGGATTTATTGGGTTTAAAGGGAGCGTAGACGGGTCCTTAAGTCAGTTGTGAAAGTTTGCGGCTCAACCGTAAAATTGCAGTTGATACTGGGGACCTTGAGTGCGGCAGAGGCAGGCGGAATTCGTGGTGTAGCGGTGAAATGCTTAGATATCACGAAGAACTCCGATTGCGAAGGCAGCTTGCTGGACCGTAACTGACGTTGATGCTCGAAAGTGCGGGTATCAAA  \\\n",
       "BI0023                                                0.0                                                                                                                                                                                                          \n",
       "BI0056                                                0.0                                                                                                                                                                                                          \n",
       "BI0131                                                0.0                                                                                                                                                                                                          \n",
       "BI0153                                                0.0                                                                                                                                                                                                          \n",
       "BI0215                                                0.0                                                                                                                                                                                                          \n",
       "\n",
       "       AACGTAGGTCACAAGCGTTGTCCGGAATTACTGGGTGTAAAGGGAGCGCAGGCGGGAAGACAAGTTGGAAGTGAAATCCATGGGCTCAACCCATGAACTGCTTTCAAAACTGTTTTTCTTGAGTAGTGCAGAGGTAGGCGGAATTCCCGGTGTAGCGGTGGAATGCGTAGATATCGGGAGGAACACCAGTGGCGAAGGCGGCCTACTGGGCACCAACTGACGCTGAGGCTCGAAAGTGTGGGTAGCAAA  \\\n",
       "BI0023                                              223.0                                                                                                                                                                                                          \n",
       "BI0056                                              120.0                                                                                                                                                                                                          \n",
       "BI0131                                               60.0                                                                                                                                                                                                          \n",
       "BI0153                                              236.0                                                                                                                                                                                                          \n",
       "BI0215                                              242.0                                                                                                                                                                                                          \n",
       "\n",
       "       TACGGAGGATCCGAGCGTTATCCGGATTTATTGGGTTTAAAGGGAGCGTAGATGGATGTTTAAGTCAGTTGTGAAAGTTTGCGGCTCAACCGTAAAATTGCAGTTGATACTGGATATCTTGAGTGCAGTTGAGGCAGGCGGAATTCGTGGTGTAGCGGTGAAATGCTTAGATATCACGAAGAACTCCGATTGCGAAGGCAGCCTGCTAAGCTGCAACTGACATTGAGGCTCGAAAGTGTGGGTATCAAA  \\\n",
       "BI0023                                             4071.0                                                                                                                                                                                                          \n",
       "BI0056                                             5639.0                                                                                                                                                                                                          \n",
       "BI0131                                              257.0                                                                                                                                                                                                          \n",
       "BI0153                                              193.0                                                                                                                                                                                                          \n",
       "BI0215                                              685.0                                                                                                                                                                                                          \n",
       "\n",
       "       AACGTAGGTCACAAGCGTTGTCCGGAATTACTGGGTGTAAAGGGAGCGCAGGCGGGAAGACAAGTTGGAAGTGAAATCTATGGGCTCAACCCATAAACTGCTTTCAAAACTGTTTTTCTTGAGTAGTGCAGAGGTAGGCGGAATTCCCGGTGTAGCGGTGGAATGCGTAGATATCGGGAGGAACACCAGTGGCGAAGGCGGCCTACTGGGCACCAACTGACGCTGAGGCTCGAAAGTGTGGGTAGCAAA  \\\n",
       "BI0023                                              313.0                                                                                                                                                                                                          \n",
       "BI0056                                                0.0                                                                                                                                                                                                          \n",
       "BI0131                                              404.0                                                                                                                                                                                                          \n",
       "BI0153                                             1984.0                                                                                                                                                                                                          \n",
       "BI0215                                              735.0                                                                                                                                                                                                          \n",
       "\n",
       "                                                                                                                                  ...                                                                                                                             \\\n",
       "BI0023                                                                                                                            ...                                                                                                                              \n",
       "BI0056                                                                                                                            ...                                                                                                                              \n",
       "BI0131                                                                                                                            ...                                                                                                                              \n",
       "BI0153                                                                                                                            ...                                                                                                                              \n",
       "BI0215                                                                                                                            ...                                                                                                                              \n",
       "\n",
       "       AACGTAGGGTGCAAGCGTTGTCCGGAATTACTGGGTGTAAAGGGAGCGCAGGCGGACCGGCAAGTTGGAAGTGAAAACTATGGGCTCAACCCATAAATTGCTTTCAAAACTGTTGGCCTTGAGTAGTGCAGAGGTAGGTGGAATTCCCGGTGTAGCGGTGGAATGCGTAGATATCGGGAGGAACACCAGTGGCGAAGGCGACCTACTGGGCACCAACTGACGCTGAGGCTCGAAAGCATGGGTAGCAAA  \\\n",
       "BI0023                                                0.0                                                                                                                                                                                                          \n",
       "BI0056                                                0.0                                                                                                                                                                                                          \n",
       "BI0131                                                0.0                                                                                                                                                                                                          \n",
       "BI0153                                                0.0                                                                                                                                                                                                          \n",
       "BI0215                                                0.0                                                                                                                                                                                                          \n",
       "\n",
       "       TACGTAGGGGGCAAGCGTTATCCGGATTTACTGGGTGTAAAGGGAGCGTAGGTGGCAAGGCAAGTCAGATGTGAAAACCCGGGGCTCAACTCCGGGACTGCATTTGAAACTGTCTAGCTAGAGTGCAGGAGAGGTAAGTGGAATTCCTAGTGTAGCGGTGAAATGCATAGATATTAGGAGGAACACCAGTGGCGAAGGCGGCTTACTGGACTGTAACTGACACTGAGGCTCGAAAGCGTGGGGAGCAAA  \\\n",
       "BI0023                                                0.0                                                                                                                                                                                                          \n",
       "BI0056                                                0.0                                                                                                                                                                                                          \n",
       "BI0131                                                0.0                                                                                                                                                                                                          \n",
       "BI0153                                                0.0                                                                                                                                                                                                          \n",
       "BI0215                                                0.0                                                                                                                                                                                                          \n",
       "\n",
       "       TACGTAGGGGGCAAGCGTTATCCGGATTTACTGGGTGTAAAGGGAGCGTAGACGGCGACGCAAGTCTGAAGTGAAATACCCGGGCTCAACCTGGGAACTGCTTTGGAAACTGTGTTGCTAGAGTGCTGGAGAGGTAAGCGGAATTCCTAGTGTAGCGGTGAAATGCGTAGATATTAGGAAGAACACCAGTGGCGAAGGCGGCTTACTGGACAGTAACTGACGTTGAGGCTCGAAAACGTGGGGAGCAAA  \\\n",
       "BI0023                                                0.0                                                                                                                                                                                                          \n",
       "BI0056                                                0.0                                                                                                                                                                                                          \n",
       "BI0131                                                0.0                                                                                                                                                                                                          \n",
       "BI0153                                                0.0                                                                                                                                                                                                          \n",
       "BI0215                                                0.0                                                                                                                                                                                                          \n",
       "\n",
       "       TACGGAGGGTGCAAGCGTTAATCGGAATCACTGGGCGTAAAGCGCACGTAGGCGGCTTGGTAAGTCAGGGGTGAAATCCCACAGCCCAACTATGGAACTGCCTTTGATACTGCCAGGCTTGAGTACCGGAGAGGGTGGCGGAATTCCAGGTGTAGGAGTGAAATCCGTAGATATCTGGAGGAACACCGGTGGCGAAGGCGGCCACCTGGACGGTAACTGACGCTGAGGTGCGAAAGCGTGGGTAGCAAA  \\\n",
       "BI0023                                                0.0                                                                                                                                                                                                          \n",
       "BI0056                                                0.0                                                                                                                                                                                                          \n",
       "BI0131                                                0.0                                                                                                                                                                                                          \n",
       "BI0153                                                0.0                                                                                                                                                                                                          \n",
       "BI0215                                                0.0                                                                                                                                                                                                          \n",
       "\n",
       "       TACGTAGGTGGCAAGCGTTGTCCGGAATTACTGGGTGTAAAGGGTGCGCAGGCGGGATTGCAAGTTGGATGTGAAATACCGGGGCTTAACCCCGGAGCTGCATCCAAAACTGTAGTTCTTGAGTGGAGTAGAGGTAAGCGGAATTCCGAGTGTAGCGGTGAAATGCGTAGATATTCGGAGGAACACCAGCGGCGAAGGCGGCTTACTGGGCTCTAACTGACGCTGAGGCACGAAAGCATGGGTAGCAAA  \\\n",
       "BI0023                                                0.0                                                                                                                                                                                                          \n",
       "BI0056                                                0.0                                                                                                                                                                                                          \n",
       "BI0131                                                0.0                                                                                                                                                                                                          \n",
       "BI0153                                                0.0                                                                                                                                                                                                          \n",
       "BI0215                                                0.0                                                                                                                                                                                                          \n",
       "\n",
       "       TACGTAGGGGGCAAGCGTTATCCGGATTTACTGGGTGTAAAGGGAGCGCAGGCGGTCTTGTAAGTCCGGTGTGAAAACCCGAGGCTCAACCTCGGGACTGCACTGGAAACTATGGGACTGGAGTGTCGGAGAGGTAAGTGGAATTCCTAGTGTAGCGGTGAAATGCGTAGATATTAGGAGGAACACCAGTGGCGAAGGCGGCTTACTGGACGACAACTGACGCTGAGGCTCGAAAGCGTGGGGAGCAAA  \\\n",
       "BI0023                                                0.0                                                                                                                                                                                                          \n",
       "BI0056                                                0.0                                                                                                                                                                                                          \n",
       "BI0131                                                0.0                                                                                                                                                                                                          \n",
       "BI0153                                                0.0                                                                                                                                                                                                          \n",
       "BI0215                                                0.0                                                                                                                                                                                                          \n",
       "\n",
       "       TACGGAGGATGCGAGCGTTATCCGGATTTATTGGGTTTAAAGGGTGCGTAGGCGGGGATTTAAGTCAGCGGTGAAAGTTTGAGGCTCAACCTTAAAATTGCCGTTGAAACTGGGTTTCTTGAGTGTATTTGAAGTAGGCGGAATTCGTTGTGTAGCGGTGAAATGCATAGATATAACGAAGAACTCCAATTGCGCAGGCAGCTTACTAAACTACAACTGACGCTGAAGCACGAAAGCGTGGGTATCAAA  \\\n",
       "BI0023                                                0.0                                                                                                                                                                                                          \n",
       "BI0056                                                0.0                                                                                                                                                                                                          \n",
       "BI0131                                                0.0                                                                                                                                                                                                          \n",
       "BI0153                                                0.0                                                                                                                                                                                                          \n",
       "BI0215                                                0.0                                                                                                                                                                                                          \n",
       "\n",
       "       TACGTAGGGGGCAAGCGTTATCCGGATTTACTGGGTGTAAAGGGAGCGTAGACGGCGAAGCAAGTCAGAAGTGAAAACCCCGGGCTTAACCTGGGGACTGCTTTTGAAACTGTTTGGCTGGAGTGCAGGAGAGGTGAGTGGAATTCCTAGTGTAGCGGTGAAATGCGTAGATATTAGGAGGAACACCAGTGGCGAAGGCGGCTTACTGGACTGTAACTGACGTTGAGGCTCGAAAGCGTGGGGAGCAAA  \\\n",
       "BI0023                                                0.0                                                                                                                                                                                                          \n",
       "BI0056                                                0.0                                                                                                                                                                                                          \n",
       "BI0131                                                0.0                                                                                                                                                                                                          \n",
       "BI0153                                                0.0                                                                                                                                                                                                          \n",
       "BI0215                                                0.0                                                                                                                                                                                                          \n",
       "\n",
       "       TACGTAGGTGGCAAGCGTTGTCCGGAATTACTGGGTGTAAAGGGAGCGTAGGCGGGGAGACAAGTTGAATGTCTAAACTATCGGCTTAACTGATAGTCGCGTTCAAAACTATCACTCTTGAGTGCAGTAGAGGTAGGCAGAATTCCTAGTGTAGCGGTGAAATGCGTAGATATTAGGAGGAACACCAGTGGCGAAGGCGGCCTACTGGGCTGTAACTGACGCTGAGGCTCGAAAGCGTGGGTAGCAAAC  \\\n",
       "BI0023                                                0.0                                                                                                                                                                                                          \n",
       "BI0056                                                0.0                                                                                                                                                                                                          \n",
       "BI0131                                                0.0                                                                                                                                                                                                          \n",
       "BI0153                                                0.0                                                                                                                                                                                                          \n",
       "BI0215                                                0.0                                                                                                                                                                                                          \n",
       "\n",
       "       TACGTAGGGGGCAAGAGTTATCCGGATTTACTGGGTGTAAAGGGAGCGTAGACGGCATGACAAGCCAGATGTGAAAACCCAGGGCTCAACCCTGGGACTGCATTTGGAACTGCCAGGCTGGAGTGCAGGAGAGGTAAGCGGAATTCCTAGTGTAGCGGTGAAATGCGTAGATATTAGGAGGAACACCAGTGGCGAAGGCGGCTTACTGGACTGTAACTGACGTTGAGGCTCGAAAGCGTGGGGAGCAAA  \n",
       "BI0023                                                0.0                                                                                                                                                                                                         \n",
       "BI0056                                                0.0                                                                                                                                                                                                         \n",
       "BI0131                                                0.0                                                                                                                                                                                                         \n",
       "BI0153                                                0.0                                                                                                                                                                                                         \n",
       "BI0215                                                0.0                                                                                                                                                                                                         \n",
       "\n",
       "[5 rows x 4732 columns]"
      ]
     },
     "execution_count": 23,
     "metadata": {},
     "output_type": "execute_result"
    }
   ],
   "source": [
    "tmp = dat[np.append(vars_vd, otu_cols)].dropna()\n",
    "print(tmp.shape)\n",
    "tmp.head()"
   ]
  },
  {
   "cell_type": "markdown",
   "metadata": {},
   "source": [
    "#### OHVD3"
   ]
  },
  {
   "cell_type": "code",
   "execution_count": 24,
   "metadata": {
    "collapsed": true
   },
   "outputs": [],
   "source": [
    "X = tmp[otu_cols]\n",
    "y = tmp[vars_vd[0]]\n",
    "\n",
    "# split data into train and test sets\n",
    "pred_train, pred_test, tar_train, tar_test = train_test_split(X, y, test_size=.3, random_state=123)\n",
    "\n",
    "# specify the lasso regression model\n",
    "model=LassoLarsCV(cv=10, precompute=True).fit(pred_train,tar_train)\n"
   ]
  },
  {
   "cell_type": "code",
   "execution_count": 25,
   "metadata": {},
   "outputs": [
    {
     "data": {
      "text/plain": [
       "0.0"
      ]
     },
     "execution_count": 25,
     "metadata": {},
     "output_type": "execute_result"
    }
   ],
   "source": [
    "np.sum(model.coef_)"
   ]
  },
  {
   "cell_type": "markdown",
   "metadata": {},
   "source": [
    "#### OHV1D3"
   ]
  },
  {
   "cell_type": "code",
   "execution_count": 26,
   "metadata": {
    "collapsed": true
   },
   "outputs": [],
   "source": [
    "X = tmp[otu_cols]\n",
    "y = tmp[vars_vd[0]]\n",
    "\n",
    "# split data into train and test sets\n",
    "pred_train, pred_test, tar_train, tar_test = train_test_split(X, y, test_size=.3, random_state=123)\n",
    "\n",
    "# specify the lasso regression model\n",
    "model=LassoLarsCV(cv=10, precompute=True).fit(pred_train,tar_train)"
   ]
  },
  {
   "cell_type": "code",
   "execution_count": 27,
   "metadata": {},
   "outputs": [
    {
     "data": {
      "text/plain": [
       "0.0"
      ]
     },
     "execution_count": 27,
     "metadata": {},
     "output_type": "execute_result"
    }
   ],
   "source": [
    "np.sum(model.coef_)"
   ]
  },
  {
   "cell_type": "markdown",
   "metadata": {},
   "source": [
    "#### OHV24D3"
   ]
  },
  {
   "cell_type": "code",
   "execution_count": 28,
   "metadata": {
    "collapsed": true
   },
   "outputs": [],
   "source": [
    "X = tmp[otu_cols]\n",
    "y = tmp[vars_vd[0]]\n",
    "\n",
    "# split data into train and test sets\n",
    "pred_train, pred_test, tar_train, tar_test = train_test_split(X, y, test_size=.3, random_state=123)\n",
    "\n",
    "# specify the lasso regression model\n",
    "model=LassoLarsCV(cv=10, precompute=True).fit(pred_train,tar_train)"
   ]
  },
  {
   "cell_type": "code",
   "execution_count": 29,
   "metadata": {},
   "outputs": [
    {
     "data": {
      "text/plain": [
       "0.0"
      ]
     },
     "execution_count": 29,
     "metadata": {},
     "output_type": "execute_result"
    }
   ],
   "source": [
    "np.sum(model.coef_)"
   ]
  },
  {
   "cell_type": "markdown",
   "metadata": {},
   "source": [
    "#### ratio_activation"
   ]
  },
  {
   "cell_type": "code",
   "execution_count": 30,
   "metadata": {
    "collapsed": true
   },
   "outputs": [],
   "source": [
    "X = tmp[otu_cols]\n",
    "\n",
    "# split data into train and test sets\n",
    "pred_train, pred_test, tar_train, tar_test = train_test_split(X, y, test_size=.3, random_state=123)\n",
    "\n",
    "# specify the lasso regression model\n",
    "model=LassoLarsCV(cv=20, precompute=True).fit(pred_train,tar_train)"
   ]
  },
  {
   "cell_type": "code",
   "execution_count": 31,
   "metadata": {},
   "outputs": [
    {
     "data": {
      "text/plain": [
       "0.0"
      ]
     },
     "execution_count": 31,
     "metadata": {},
     "output_type": "execute_result"
    }
   ],
   "source": [
    "np.sum(model.coef_)"
   ]
  },
  {
   "cell_type": "code",
   "execution_count": 32,
   "metadata": {
    "collapsed": true
   },
   "outputs": [],
   "source": [
    "reg = dict(zip(X.columns, model.coef_))\n",
    "reg = pd.DataFrame.from_dict(reg, orient='index').rename(\n",
    "    columns={0: 'lasso coef'})\n",
    "reg['taxonomy'] = bt.loc['taxonomy'][reg.index]"
   ]
  },
  {
   "cell_type": "code",
   "execution_count": 33,
   "metadata": {},
   "outputs": [
    {
     "name": "stdout",
     "output_type": "stream",
     "text": [
      "(0, 2)\n",
      "[] []\n"
     ]
    }
   ],
   "source": [
    "subset = reg.loc[reg['lasso coef'] != 0]\n",
    "print(subset.shape)\n",
    "print(subset.taxonomy.values, subset['lasso coef'].values)"
   ]
  },
  {
   "cell_type": "code",
   "execution_count": 34,
   "metadata": {},
   "outputs": [
    {
     "data": {
      "text/html": [
       "<div>\n",
       "<style>\n",
       "    .dataframe thead tr:only-child th {\n",
       "        text-align: right;\n",
       "    }\n",
       "\n",
       "    .dataframe thead th {\n",
       "        text-align: left;\n",
       "    }\n",
       "\n",
       "    .dataframe tbody tr th {\n",
       "        vertical-align: top;\n",
       "    }\n",
       "</style>\n",
       "<table border=\"1\" class=\"dataframe\">\n",
       "  <thead>\n",
       "    <tr style=\"text-align: right;\">\n",
       "      <th></th>\n",
       "      <th>lasso coef</th>\n",
       "      <th>taxonomy</th>\n",
       "    </tr>\n",
       "  </thead>\n",
       "  <tbody>\n",
       "  </tbody>\n",
       "</table>\n",
       "</div>"
      ],
      "text/plain": [
       "Empty DataFrame\n",
       "Columns: [lasso coef, taxonomy]\n",
       "Index: []"
      ]
     },
     "execution_count": 34,
     "metadata": {},
     "output_type": "execute_result"
    }
   ],
   "source": [
    "# store result for future need\n",
    "subset_activation = subset\n",
    "subset_activation"
   ]
  },
  {
   "cell_type": "code",
   "execution_count": 35,
   "metadata": {},
   "outputs": [
    {
     "name": "stdout",
     "output_type": "stream",
     "text": [
      "[]\n",
      "Series([], Name: fdr pval, dtype: float64)\n"
     ]
    }
   ],
   "source": [
    "# check whether the same as in spearman result \n",
    "same = results_spearman_activation.loc[results_spearman_activation['otu'].isin (subset_activation.index)]\n",
    "print(same.taxonomy.values)\n",
    "print(same['fdr pval'])"
   ]
  },
  {
   "cell_type": "code",
   "execution_count": 36,
   "metadata": {},
   "outputs": [
    {
     "data": {
      "text/plain": [
       "Int64Index([], dtype='int64')"
      ]
     },
     "execution_count": 36,
     "metadata": {},
     "output_type": "execute_result"
    }
   ],
   "source": [
    "results_spearman_activation.loc[results['fdr pval'] <= 0.05].index"
   ]
  },
  {
   "cell_type": "code",
   "execution_count": 37,
   "metadata": {},
   "outputs": [
    {
     "data": {
      "image/png": "[encoded data removed]",
      "text/plain": [
       "<matplotlib.figure.Figure at 0x1130fd518>"
      ]
     },
     "metadata": {},
     "output_type": "display_data"
    }
   ],
   "source": [
    "# plot coefficient progression\n",
    "m_log_alphas = -np.log10(model.alphas_)\n",
    "ax = plt.gca()\n",
    "plt.plot(m_log_alphas, model.coef_path_.T)\n",
    "plt.axvline(-np.log10(model.alpha_), linestyle='--', color='k',\n",
    "            label='alpha CV')\n",
    "plt.ylabel('Regression Coefficients')\n",
    "plt.xlabel('-log(alpha)')\n",
    "plt.title('Regression Coefficients Progression for Lasso Paths')\n",
    "plt.savefig('../figures/lasso_coef.png', bbox_inches='tight')"
   ]
  },
  {
   "cell_type": "code",
   "execution_count": 38,
   "metadata": {},
   "outputs": [
    {
     "data": {
      "image/png": "[encoded data removed]",
      "text/plain": [
       "<matplotlib.figure.Figure at 0x12c996ef0>"
      ]
     },
     "metadata": {},
     "output_type": "display_data"
    }
   ],
   "source": [
    "# plot mean square error for each fold\n",
    "m_log_alphascv = -np.log10(model.cv_alphas_)\n",
    "plt.figure()\n",
    "plt.plot(m_log_alphascv, model.cv_mse_path_, ':')\n",
    "plt.plot(m_log_alphascv, model.cv_mse_path_.mean(axis=-1), 'k',\n",
    "         label='Average across the folds', linewidth=2)\n",
    "plt.axvline(-np.log10(model.alpha_), linestyle='--', color='k',\n",
    "            label='alpha CV')\n",
    "plt.legend()\n",
    "plt.xlabel('-log(alpha)')\n",
    "plt.ylabel('Mean squared error')\n",
    "plt.title('Mean squared error on each fold')\n",
    "plt.savefig('../figures/lasso_mse.png', bbox_inches='tight')"
   ]
  },
  {
   "cell_type": "code",
   "execution_count": 39,
   "metadata": {},
   "outputs": [
    {
     "name": "stdout",
     "output_type": "stream",
     "text": [
      "training data MSE\n",
      "163.687496514\n",
      "test data MSE\n",
      "133.920898726\n"
     ]
    }
   ],
   "source": [
    "# MSE from training and test data\n",
    "from sklearn.metrics import mean_squared_error\n",
    "train_error = mean_squared_error(tar_train, model.predict(pred_train))\n",
    "test_error = mean_squared_error(tar_test, model.predict(pred_test))\n",
    "print ('training data MSE')\n",
    "print(train_error)\n",
    "print ('test data MSE')\n",
    "print(test_error)"
   ]
  },
  {
   "cell_type": "code",
   "execution_count": 40,
   "metadata": {},
   "outputs": [
    {
     "name": "stdout",
     "output_type": "stream",
     "text": [
      "training data R-square\n",
      "0.0\n",
      "test data R-square\n",
      "-0.000351184246403\n"
     ]
    }
   ],
   "source": [
    "# R-square from training and test data\n",
    "rsquared_train=model.score(pred_train,tar_train)\n",
    "rsquared_test=model.score(pred_test,tar_test)\n",
    "print ('training data R-square')\n",
    "print(rsquared_train)\n",
    "print ('test data R-square')\n",
    "print(rsquared_test)"
   ]
  },
  {
   "cell_type": "markdown",
   "metadata": {},
   "source": [
    "#### ratio_catabolism"
   ]
  },
  {
   "cell_type": "code",
   "execution_count": 41,
   "metadata": {
    "collapsed": true
   },
   "outputs": [],
   "source": [
    "X = tmp[otu_cols]\n",
    "y = tmp[vars_vd[4]]\n",
    "\n",
    "# split data into train and test sets\n",
    "pred_train, pred_test, tar_train, tar_test = train_test_split(X, y, test_size=.3, random_state=123)\n",
    "\n",
    "# specify the lasso regression model\n",
    "model=LassoLarsCV(cv=10, precompute=True).fit(pred_train,tar_train)"
   ]
  },
  {
   "cell_type": "code",
   "execution_count": 42,
   "metadata": {},
   "outputs": [
    {
     "data": {
      "text/plain": [
       "0.0"
      ]
     },
     "execution_count": 42,
     "metadata": {},
     "output_type": "execute_result"
    }
   ],
   "source": [
    "np.sum(model.coef_)"
   ]
  },
  {
   "cell_type": "code",
   "execution_count": 43,
   "metadata": {},
   "outputs": [
    {
     "name": "stdout",
     "output_type": "stream",
     "text": [
      "(0, 2)\n"
     ]
    }
   ],
   "source": [
    "# check\n",
    "reg = dict(zip(X.columns, model.coef_))\n",
    "reg = pd.DataFrame.from_dict(reg, orient='index').rename(\n",
    "    columns={0: 'lasso coef'})\n",
    "reg['taxonomy'] = bt.loc['taxonomy'][reg.index]\n",
    "subset = reg.loc[reg['lasso coef'] != 0]\n",
    "print(subset.shape)"
   ]
  },
  {
   "cell_type": "code",
   "execution_count": null,
   "metadata": {
    "collapsed": true
   },
   "outputs": [],
   "source": []
  },
  {
   "cell_type": "code",
   "execution_count": null,
   "metadata": {
    "collapsed": true
   },
   "outputs": [],
   "source": []
  },
  {
   "cell_type": "code",
   "execution_count": null,
   "metadata": {
    "collapsed": true
   },
   "outputs": [],
   "source": []
  },
  {
   "cell_type": "code",
   "execution_count": 44,
   "metadata": {
    "collapsed": true
   },
   "outputs": [],
   "source": [
    "#### previous scratch on lasso"
   ]
  },
  {
   "cell_type": "code",
   "execution_count": 45,
   "metadata": {
    "collapsed": true
   },
   "outputs": [],
   "source": [
    "from sklearn.linear_model import Lasso\n",
    "from sklearn.preprocessing import StandardScaler"
   ]
  },
  {
   "cell_type": "code",
   "execution_count": 46,
   "metadata": {},
   "outputs": [
    {
     "ename": "NameError",
     "evalue": "name 'scaler' is not defined",
     "output_type": "error",
     "traceback": [
      "\u001b[0;31m---------------------------------------------------------------------------\u001b[0m",
      "\u001b[0;31mNameError\u001b[0m                                 Traceback (most recent call last)",
      "\u001b[0;32m<ipython-input-46-57a6a1e6672d>\u001b[0m in \u001b[0;36m<module>\u001b[0;34m()\u001b[0m\n\u001b[1;32m      1\u001b[0m \u001b[0msmall\u001b[0m\u001b[0;34m=\u001b[0m \u001b[0mtmp\u001b[0m\u001b[0;34m[\u001b[0m\u001b[0mnp\u001b[0m\u001b[0;34m.\u001b[0m\u001b[0mappend\u001b[0m\u001b[0;34m(\u001b[0m\u001b[0mvars_vd\u001b[0m\u001b[0;34m[\u001b[0m\u001b[0;36m1\u001b[0m\u001b[0;34m]\u001b[0m\u001b[0;34m,\u001b[0m \u001b[0motu_cols\u001b[0m\u001b[0;34m)\u001b[0m\u001b[0;34m]\u001b[0m\u001b[0;34m.\u001b[0m\u001b[0mdropna\u001b[0m\u001b[0;34m(\u001b[0m\u001b[0maxis\u001b[0m\u001b[0;34m=\u001b[0m\u001b[0;36m0\u001b[0m\u001b[0;34m,\u001b[0m \u001b[0mhow\u001b[0m\u001b[0;34m=\u001b[0m\u001b[0;34m'any'\u001b[0m\u001b[0;34m)\u001b[0m\u001b[0;34m\u001b[0m\u001b[0m\n\u001b[0;32m----> 2\u001b[0;31m \u001b[0mX\u001b[0m \u001b[0;34m=\u001b[0m \u001b[0mscaler\u001b[0m\u001b[0;34m.\u001b[0m\u001b[0mfit_transform\u001b[0m\u001b[0;34m(\u001b[0m\u001b[0msmall\u001b[0m\u001b[0;34m[\u001b[0m\u001b[0motu_cols\u001b[0m\u001b[0;34m]\u001b[0m\u001b[0;34m)\u001b[0m\u001b[0;34m\u001b[0m\u001b[0m\n\u001b[0m\u001b[1;32m      3\u001b[0m \u001b[0mY\u001b[0m \u001b[0;34m=\u001b[0m \u001b[0msmall\u001b[0m\u001b[0;34m[\u001b[0m\u001b[0mvars_vd\u001b[0m\u001b[0;34m[\u001b[0m\u001b[0;36m1\u001b[0m\u001b[0;34m]\u001b[0m\u001b[0;34m]\u001b[0m\u001b[0;34m\u001b[0m\u001b[0m\n",
      "\u001b[0;31mNameError\u001b[0m: name 'scaler' is not defined"
     ]
    }
   ],
   "source": [
    "small= tmp[np.append(vars_vd[1], otu_cols)].dropna(axis=0, how='any')\n",
    "X = scaler.fit_transform(small[otu_cols])\n",
    "Y = small[vars_vd[1]]"
   ]
  },
  {
   "cell_type": "code",
   "execution_count": null,
   "metadata": {
    "collapsed": true
   },
   "outputs": [],
   "source": [
    "# drop all missing values\n",
    "tmp = dat[np.append(vars_vd, otu_cols)]\n",
    "tmp.head()"
   ]
  },
  {
   "cell_type": "code",
   "execution_count": null,
   "metadata": {
    "collapsed": true
   },
   "outputs": [],
   "source": [
    "scaler = StandardScaler()\n",
    "small= tmp[np.append(vars_vd[0], otu_cols)].dropna(axis=0, how='any')\n",
    "X = scaler.fit_transform(small[otu_cols])\n",
    "Y = small[vars_vd[0]]\n",
    "names = otu_cols"
   ]
  },
  {
   "cell_type": "code",
   "execution_count": null,
   "metadata": {
    "collapsed": true
   },
   "outputs": [],
   "source": [
    "# Create a function called lasso,\n",
    "def lasso(alphas):\n",
    "    '''\n",
    "    Takes in a list of alphas. Outputs a dataframe containing the coefficients of lasso regressions from each alpha.\n",
    "    '''\n",
    "    # Create an empty data frame\n",
    "    df = pd.DataFrame()\n",
    "\n",
    "    # Create a column of feature names\n",
    "    df['OTU names'] = names\n",
    "\n",
    "    # For each alpha value in the list of alpha values,\n",
    "    for alpha in alphas:\n",
    "        # Create a lasso regression with that alpha value,\n",
    "        lasso = Lasso(alpha=alpha)\n",
    "\n",
    "        # Fit the lasso regression\n",
    "        lasso.fit(X, Y)\n",
    "\n",
    "        # Create a column name for that alpha value\n",
    "        column_name = 'Alpha = %f' % alpha\n",
    "\n",
    "        # Create a column of coefficient values\n",
    "        df[column_name] = lasso.coef_\n",
    "\n",
    "    # Return the datafram    \n",
    "    return df"
   ]
  },
  {
   "cell_type": "code",
   "execution_count": null,
   "metadata": {
    "collapsed": true
   },
   "outputs": [],
   "source": [
    "table = lasso([0.5, 1, 1.5, 2, 2.5, 3, 3.5, 4, 4.5, 5])"
   ]
  },
  {
   "cell_type": "code",
   "execution_count": null,
   "metadata": {
    "collapsed": true
   },
   "outputs": [],
   "source": [
    "table.head()"
   ]
  },
  {
   "cell_type": "code",
   "execution_count": null,
   "metadata": {
    "collapsed": true
   },
   "outputs": [],
   "source": [
    "table.loc[table['Alpha = 0.500000'] != 0]"
   ]
  },
  {
   "cell_type": "code",
   "execution_count": null,
   "metadata": {
    "collapsed": true
   },
   "outputs": [],
   "source": [
    "list = np.array([63, 131, 188, 237, 384, 505, 2116, 2545, 3484, 3598])\n",
    "for i in range(len(list)):\n",
    "    print(bt.loc['taxonomy'][list[i]])"
   ]
  },
  {
   "cell_type": "code",
   "execution_count": null,
   "metadata": {
    "collapsed": true
   },
   "outputs": [],
   "source": []
  },
  {
   "cell_type": "code",
   "execution_count": null,
   "metadata": {
    "collapsed": true
   },
   "outputs": [],
   "source": [
    "scaler = StandardScaler()\n",
    "small= tmp[np.append(vars_vd[1], otu_cols)].dropna(axis=0, how='any')\n",
    "X = scaler.fit_transform(small[otu_cols])\n",
    "Y = small[vars_vd[1]]\n",
    "names = otu_cols"
   ]
  },
  {
   "cell_type": "code",
   "execution_count": null,
   "metadata": {
    "collapsed": true
   },
   "outputs": [],
   "source": [
    "table = lasso([0.5, 1, 1.5, 2, 2.5, 3, 3.5, 4, 4.5, 5])"
   ]
  },
  {
   "cell_type": "code",
   "execution_count": null,
   "metadata": {
    "collapsed": true
   },
   "outputs": [],
   "source": [
    "table.loc[table['Alpha = 3.000000'] != 0]"
   ]
  },
  {
   "cell_type": "code",
   "execution_count": null,
   "metadata": {
    "collapsed": true
   },
   "outputs": [],
   "source": [
    "bt.loc['taxonomy'][3323]"
   ]
  },
  {
   "cell_type": "code",
   "execution_count": null,
   "metadata": {
    "collapsed": true
   },
   "outputs": [],
   "source": []
  },
  {
   "cell_type": "code",
   "execution_count": null,
   "metadata": {
    "collapsed": true
   },
   "outputs": [],
   "source": [
    "scaler = StandardScaler()\n",
    "small= tmp[np.append(vars_vd[2], otu_cols)].dropna(axis=0, how='any')\n",
    "X = scaler.fit_transform(small[otu_cols])\n",
    "Y = small[vars_vd[2]]\n",
    "names = otu_cols\n",
    "table = lasso([0.5, 1, 1.5, 2, 2.5, 3, 3.5, 4, 4.5, 5])"
   ]
  },
  {
   "cell_type": "code",
   "execution_count": null,
   "metadata": {
    "collapsed": true
   },
   "outputs": [],
   "source": [
    "table.loc[table['Alpha = 2.000000'] != 0]"
   ]
  },
  {
   "cell_type": "code",
   "execution_count": null,
   "metadata": {
    "collapsed": true
   },
   "outputs": [],
   "source": []
  },
  {
   "cell_type": "code",
   "execution_count": null,
   "metadata": {
    "collapsed": true
   },
   "outputs": [],
   "source": [
    "scaler = StandardScaler()\n",
    "small= tmp[np.append(vars_vd[3], otu_cols)].dropna(axis=0, how='any')\n",
    "X = scaler.fit_transform(small[otu_cols])\n",
    "Y = small[vars_vd[3]]\n",
    "names = otu_cols\n",
    "table = lasso([0.5, 1, 1.5, 2, 2.5, 3, 3.5, 4, 4.5, 5])"
   ]
  },
  {
   "cell_type": "code",
   "execution_count": null,
   "metadata": {
    "collapsed": true
   },
   "outputs": [],
   "source": [
    "table.loc[table['Alpha = 2.000000'] != 0]"
   ]
  },
  {
   "cell_type": "code",
   "execution_count": null,
   "metadata": {
    "collapsed": true
   },
   "outputs": [],
   "source": []
  },
  {
   "cell_type": "code",
   "execution_count": null,
   "metadata": {
    "collapsed": true
   },
   "outputs": [],
   "source": [
    "scaler = StandardScaler()\n",
    "small= tmp[np.append(vars_vd[3], otu_cols)].dropna(axis=0, how='any')\n",
    "X = scaler.fit_transform(small[otu_cols])\n",
    "Y = small[vars_vd[3]]\n",
    "names = otu_cols\n",
    "table = lasso([0.5, 1, 1.5, 2, 2.5, 3, 3.5, 4, 4.5, 5])"
   ]
  },
  {
   "cell_type": "code",
   "execution_count": null,
   "metadata": {
    "collapsed": true
   },
   "outputs": [],
   "source": [
    "table.loc[table['Alpha = 1.000000'] != 0]"
   ]
  },
  {
   "cell_type": "code",
   "execution_count": null,
   "metadata": {
    "collapsed": true
   },
   "outputs": [],
   "source": []
  },
  {
   "cell_type": "code",
   "execution_count": null,
   "metadata": {
    "collapsed": true
   },
   "outputs": [],
   "source": [
    "scaler = StandardScaler()\n",
    "small= tmp[np.append(vars_vd[4], otu_cols)].dropna(axis=0, how='any')\n",
    "X = scaler.fit_transform(small[otu_cols])\n",
    "Y = small[vars_vd[4]]\n",
    "names = otu_cols\n",
    "table = lasso([0.5, 1, 1.5, 2, 2.5, 3, 3.5, 4, 4.5, 5])"
   ]
  },
  {
   "cell_type": "code",
   "execution_count": null,
   "metadata": {
    "collapsed": true
   },
   "outputs": [],
   "source": [
    "table.loc[table['Alpha = 1.000000'] != 0]"
   ]
  },
  {
   "cell_type": "code",
   "execution_count": null,
   "metadata": {
    "collapsed": true
   },
   "outputs": [],
   "source": []
  },
  {
   "cell_type": "code",
   "execution_count": null,
   "metadata": {
    "collapsed": true
   },
   "outputs": [],
   "source": [
    "clf = Lasso(alpha=0.5)\n",
    "clf.fit(X, Y)\n",
    "Lasso(alpha=0.5, copy_X=True, fit_intercept=True, max_iter=1000,\n",
    "   normalize=False, positive=False, precompute=False, random_state=None,\n",
    "   selection='cyclic', tol=0.0001, warm_start=False)"
   ]
  },
  {
   "cell_type": "code",
   "execution_count": null,
   "metadata": {
    "collapsed": true
   },
   "outputs": [],
   "source": [
    "print(clf.coef_)"
   ]
  },
  {
   "cell_type": "code",
   "execution_count": null,
   "metadata": {
    "collapsed": true
   },
   "outputs": [],
   "source": [
    "sum(np.abs(clf.coef_))"
   ]
  },
  {
   "cell_type": "code",
   "execution_count": null,
   "metadata": {
    "collapsed": true
   },
   "outputs": [],
   "source": [
    "print(clf.intercept_)"
   ]
  },
  {
   "cell_type": "code",
   "execution_count": null,
   "metadata": {
    "collapsed": true
   },
   "outputs": [],
   "source": []
  }
 ],
 "metadata": {
  "kernelspec": {
   "display_name": "Python 3",
   "language": "python",
   "name": "python3"
  },
  "language_info": {
   "codemirror_mode": {
    "name": "ipython",
    "version": 3
   },
   "file_extension": ".py",
   "mimetype": "text/x-python",
   "name": "python",
   "nbconvert_exporter": "python",
   "pygments_lexer": "ipython3",
   "version": "3.5.3"
  }
 },
 "nbformat": 4,
 "nbformat_minor": 2
}
