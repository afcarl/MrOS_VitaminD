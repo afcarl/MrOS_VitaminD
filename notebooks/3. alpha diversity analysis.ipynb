{
 "cells": [
  {
   "cell_type": "markdown",
   "metadata": {},
   "source": [
    "1. output: 'mapping_PDalpha.txt'(mapping file with PD alpha diversity)\n",
    "2. scatterplots of PD alpha diversity vs. 5 vitaminD measurements (output: 'vitamin_pd.txt' (5 VitD variables with PD)\n",
    "3. linear regression of PD alpha diversity vs. 5 vitaminD measurements & diagnostic plots and tests\n",
    "4. effect size analysis of alpha diversity with medata (see notebook R_alpha_RDA)\n",
    "\n",
    "reference on statsmodel ols and disagnostic plots\n",
    "http://mpastell.com/pweave/_downloads/linear_regression.html (visualization)\n",
    "http://www.statsmodels.org/dev/examples/notebooks/generated/regression_diagnostics.html (tests)"
   ]
  },
  {
   "cell_type": "code",
   "execution_count": 44,
   "metadata": {},
   "outputs": [],
   "source": [
    "import pandas as pd\n",
    "import numpy as np\n",
    "import statsmodels.formula.api as smf\n",
    "from statsmodels.compat import lzip\n",
    "import statsmodels.stats.api as sms\n",
    "\n",
    "import matplotlib.pyplot as plt\n",
    "import seaborn as sns\n",
    "%matplotlib inline"
   ]
  },
  {
   "cell_type": "markdown",
   "metadata": {},
   "source": [
    "## I. prepare mapping_PDalpha file"
   ]
  },
  {
   "cell_type": "markdown",
   "metadata": {},
   "source": [
    "### calculate average PD alpha diversity at highest rarefaction 5870"
   ]
  },
  {
   "cell_type": "code",
   "execution_count": 2,
   "metadata": {
    "collapsed": true
   },
   "outputs": [],
   "source": [
    "alpha = pd.read_csv('../data/PD_whole_tree.txt', sep='\\t')"
   ]
  },
  {
   "cell_type": "code",
   "execution_count": 3,
   "metadata": {},
   "outputs": [
    {
     "data": {
      "text/html": [
       "<div>\n",
       "<style>\n",
       "    .dataframe thead tr:only-child th {\n",
       "        text-align: right;\n",
       "    }\n",
       "\n",
       "    .dataframe thead th {\n",
       "        text-align: left;\n",
       "    }\n",
       "\n",
       "    .dataframe tbody tr th {\n",
       "        vertical-align: top;\n",
       "    }\n",
       "</style>\n",
       "<table border=\"1\" class=\"dataframe\">\n",
       "  <thead>\n",
       "    <tr style=\"text-align: right;\">\n",
       "      <th></th>\n",
       "      <th>Unnamed: 0</th>\n",
       "      <th>sequences per sample</th>\n",
       "      <th>iteration</th>\n",
       "      <th>SD8637</th>\n",
       "      <th>PO7016</th>\n",
       "      <th>MN1789</th>\n",
       "      <th>MN1868</th>\n",
       "      <th>PA3814</th>\n",
       "      <th>MN2006</th>\n",
       "      <th>PA3070</th>\n",
       "      <th>...</th>\n",
       "      <th>PI4544</th>\n",
       "      <th>BI0445</th>\n",
       "      <th>PO7138</th>\n",
       "      <th>BI0215</th>\n",
       "      <th>MN2452</th>\n",
       "      <th>BI0704</th>\n",
       "      <th>PO7442</th>\n",
       "      <th>MN2439</th>\n",
       "      <th>SD8458</th>\n",
       "      <th>PI4831</th>\n",
       "    </tr>\n",
       "  </thead>\n",
       "  <tbody>\n",
       "    <tr>\n",
       "      <th>100</th>\n",
       "      <td>alpha_rarefaction_5870_0.txt</td>\n",
       "      <td>5870</td>\n",
       "      <td>0</td>\n",
       "      <td>15.75587</td>\n",
       "      <td>13.32326</td>\n",
       "      <td>20.44849</td>\n",
       "      <td>19.84739</td>\n",
       "      <td>23.18831</td>\n",
       "      <td>22.89172</td>\n",
       "      <td>10.97722</td>\n",
       "      <td>...</td>\n",
       "      <td>17.06109</td>\n",
       "      <td>8.70005</td>\n",
       "      <td>20.21180</td>\n",
       "      <td>15.14925</td>\n",
       "      <td>20.24193</td>\n",
       "      <td>18.10936</td>\n",
       "      <td>13.24216</td>\n",
       "      <td>12.39128</td>\n",
       "      <td>20.51470</td>\n",
       "      <td>13.60442</td>\n",
       "    </tr>\n",
       "    <tr>\n",
       "      <th>101</th>\n",
       "      <td>alpha_rarefaction_5870_1.txt</td>\n",
       "      <td>5870</td>\n",
       "      <td>1</td>\n",
       "      <td>16.84385</td>\n",
       "      <td>13.66343</td>\n",
       "      <td>19.87174</td>\n",
       "      <td>19.08975</td>\n",
       "      <td>23.06850</td>\n",
       "      <td>23.27983</td>\n",
       "      <td>10.45496</td>\n",
       "      <td>...</td>\n",
       "      <td>17.83850</td>\n",
       "      <td>8.77648</td>\n",
       "      <td>18.93974</td>\n",
       "      <td>15.34710</td>\n",
       "      <td>20.44643</td>\n",
       "      <td>17.70311</td>\n",
       "      <td>12.79435</td>\n",
       "      <td>12.40482</td>\n",
       "      <td>21.29006</td>\n",
       "      <td>13.43003</td>\n",
       "    </tr>\n",
       "    <tr>\n",
       "      <th>102</th>\n",
       "      <td>alpha_rarefaction_5870_2.txt</td>\n",
       "      <td>5870</td>\n",
       "      <td>2</td>\n",
       "      <td>16.83551</td>\n",
       "      <td>13.10052</td>\n",
       "      <td>19.77507</td>\n",
       "      <td>19.98490</td>\n",
       "      <td>22.27577</td>\n",
       "      <td>23.93320</td>\n",
       "      <td>10.64706</td>\n",
       "      <td>...</td>\n",
       "      <td>17.80205</td>\n",
       "      <td>8.69184</td>\n",
       "      <td>19.55050</td>\n",
       "      <td>15.10865</td>\n",
       "      <td>20.37949</td>\n",
       "      <td>18.22299</td>\n",
       "      <td>13.30310</td>\n",
       "      <td>11.63605</td>\n",
       "      <td>20.45430</td>\n",
       "      <td>13.75714</td>\n",
       "    </tr>\n",
       "    <tr>\n",
       "      <th>103</th>\n",
       "      <td>alpha_rarefaction_5870_3.txt</td>\n",
       "      <td>5870</td>\n",
       "      <td>3</td>\n",
       "      <td>17.01391</td>\n",
       "      <td>13.60641</td>\n",
       "      <td>20.94002</td>\n",
       "      <td>20.31355</td>\n",
       "      <td>22.29525</td>\n",
       "      <td>23.49255</td>\n",
       "      <td>10.87460</td>\n",
       "      <td>...</td>\n",
       "      <td>17.67976</td>\n",
       "      <td>8.60897</td>\n",
       "      <td>19.87384</td>\n",
       "      <td>15.59344</td>\n",
       "      <td>20.82964</td>\n",
       "      <td>17.66770</td>\n",
       "      <td>13.71284</td>\n",
       "      <td>11.98228</td>\n",
       "      <td>20.97530</td>\n",
       "      <td>13.11811</td>\n",
       "    </tr>\n",
       "    <tr>\n",
       "      <th>104</th>\n",
       "      <td>alpha_rarefaction_5870_4.txt</td>\n",
       "      <td>5870</td>\n",
       "      <td>4</td>\n",
       "      <td>15.23422</td>\n",
       "      <td>13.35253</td>\n",
       "      <td>21.66715</td>\n",
       "      <td>19.84968</td>\n",
       "      <td>22.99364</td>\n",
       "      <td>23.37404</td>\n",
       "      <td>10.24237</td>\n",
       "      <td>...</td>\n",
       "      <td>17.64535</td>\n",
       "      <td>8.61127</td>\n",
       "      <td>18.96962</td>\n",
       "      <td>14.96346</td>\n",
       "      <td>20.11946</td>\n",
       "      <td>18.40578</td>\n",
       "      <td>13.48864</td>\n",
       "      <td>12.92007</td>\n",
       "      <td>21.04409</td>\n",
       "      <td>13.57417</td>\n",
       "    </tr>\n",
       "    <tr>\n",
       "      <th>105</th>\n",
       "      <td>alpha_rarefaction_5870_5.txt</td>\n",
       "      <td>5870</td>\n",
       "      <td>5</td>\n",
       "      <td>16.60161</td>\n",
       "      <td>13.90799</td>\n",
       "      <td>20.81864</td>\n",
       "      <td>20.52247</td>\n",
       "      <td>23.07356</td>\n",
       "      <td>23.30511</td>\n",
       "      <td>11.04011</td>\n",
       "      <td>...</td>\n",
       "      <td>16.68028</td>\n",
       "      <td>8.97809</td>\n",
       "      <td>19.49549</td>\n",
       "      <td>15.36826</td>\n",
       "      <td>19.90272</td>\n",
       "      <td>17.76130</td>\n",
       "      <td>13.66044</td>\n",
       "      <td>13.15065</td>\n",
       "      <td>20.39785</td>\n",
       "      <td>12.77800</td>\n",
       "    </tr>\n",
       "    <tr>\n",
       "      <th>106</th>\n",
       "      <td>alpha_rarefaction_5870_6.txt</td>\n",
       "      <td>5870</td>\n",
       "      <td>6</td>\n",
       "      <td>15.71821</td>\n",
       "      <td>13.32600</td>\n",
       "      <td>20.80596</td>\n",
       "      <td>18.97112</td>\n",
       "      <td>22.93652</td>\n",
       "      <td>23.55482</td>\n",
       "      <td>10.47248</td>\n",
       "      <td>...</td>\n",
       "      <td>17.32057</td>\n",
       "      <td>8.98164</td>\n",
       "      <td>19.78647</td>\n",
       "      <td>15.62907</td>\n",
       "      <td>20.43249</td>\n",
       "      <td>17.80697</td>\n",
       "      <td>13.29448</td>\n",
       "      <td>12.53729</td>\n",
       "      <td>20.80874</td>\n",
       "      <td>13.10029</td>\n",
       "    </tr>\n",
       "    <tr>\n",
       "      <th>107</th>\n",
       "      <td>alpha_rarefaction_5870_7.txt</td>\n",
       "      <td>5870</td>\n",
       "      <td>7</td>\n",
       "      <td>16.96784</td>\n",
       "      <td>13.37339</td>\n",
       "      <td>19.91307</td>\n",
       "      <td>19.18377</td>\n",
       "      <td>23.23890</td>\n",
       "      <td>23.36222</td>\n",
       "      <td>10.99062</td>\n",
       "      <td>...</td>\n",
       "      <td>17.45931</td>\n",
       "      <td>8.65055</td>\n",
       "      <td>19.41450</td>\n",
       "      <td>16.29582</td>\n",
       "      <td>20.65076</td>\n",
       "      <td>17.91058</td>\n",
       "      <td>13.40999</td>\n",
       "      <td>12.50201</td>\n",
       "      <td>19.44895</td>\n",
       "      <td>13.14013</td>\n",
       "    </tr>\n",
       "    <tr>\n",
       "      <th>108</th>\n",
       "      <td>alpha_rarefaction_5870_8.txt</td>\n",
       "      <td>5870</td>\n",
       "      <td>8</td>\n",
       "      <td>16.00307</td>\n",
       "      <td>13.56382</td>\n",
       "      <td>20.83371</td>\n",
       "      <td>19.53175</td>\n",
       "      <td>23.77068</td>\n",
       "      <td>24.11530</td>\n",
       "      <td>10.39094</td>\n",
       "      <td>...</td>\n",
       "      <td>17.35419</td>\n",
       "      <td>8.24875</td>\n",
       "      <td>19.48926</td>\n",
       "      <td>15.20291</td>\n",
       "      <td>20.72879</td>\n",
       "      <td>18.30452</td>\n",
       "      <td>12.42839</td>\n",
       "      <td>13.09816</td>\n",
       "      <td>19.55612</td>\n",
       "      <td>12.97831</td>\n",
       "    </tr>\n",
       "    <tr>\n",
       "      <th>109</th>\n",
       "      <td>alpha_rarefaction_5870_9.txt</td>\n",
       "      <td>5870</td>\n",
       "      <td>9</td>\n",
       "      <td>16.79019</td>\n",
       "      <td>13.49341</td>\n",
       "      <td>20.30081</td>\n",
       "      <td>19.23515</td>\n",
       "      <td>22.83322</td>\n",
       "      <td>23.12022</td>\n",
       "      <td>10.10992</td>\n",
       "      <td>...</td>\n",
       "      <td>16.95053</td>\n",
       "      <td>8.34492</td>\n",
       "      <td>20.08737</td>\n",
       "      <td>15.30908</td>\n",
       "      <td>21.38410</td>\n",
       "      <td>18.44069</td>\n",
       "      <td>13.30827</td>\n",
       "      <td>12.57624</td>\n",
       "      <td>20.84301</td>\n",
       "      <td>13.76798</td>\n",
       "    </tr>\n",
       "  </tbody>\n",
       "</table>\n",
       "<p>10 rows × 602 columns</p>\n",
       "</div>"
      ],
      "text/plain": [
       "                       Unnamed: 0  sequences per sample  iteration    SD8637  \\\n",
       "100  alpha_rarefaction_5870_0.txt                  5870          0  15.75587   \n",
       "101  alpha_rarefaction_5870_1.txt                  5870          1  16.84385   \n",
       "102  alpha_rarefaction_5870_2.txt                  5870          2  16.83551   \n",
       "103  alpha_rarefaction_5870_3.txt                  5870          3  17.01391   \n",
       "104  alpha_rarefaction_5870_4.txt                  5870          4  15.23422   \n",
       "105  alpha_rarefaction_5870_5.txt                  5870          5  16.60161   \n",
       "106  alpha_rarefaction_5870_6.txt                  5870          6  15.71821   \n",
       "107  alpha_rarefaction_5870_7.txt                  5870          7  16.96784   \n",
       "108  alpha_rarefaction_5870_8.txt                  5870          8  16.00307   \n",
       "109  alpha_rarefaction_5870_9.txt                  5870          9  16.79019   \n",
       "\n",
       "       PO7016    MN1789    MN1868    PA3814    MN2006    PA3070    ...     \\\n",
       "100  13.32326  20.44849  19.84739  23.18831  22.89172  10.97722    ...      \n",
       "101  13.66343  19.87174  19.08975  23.06850  23.27983  10.45496    ...      \n",
       "102  13.10052  19.77507  19.98490  22.27577  23.93320  10.64706    ...      \n",
       "103  13.60641  20.94002  20.31355  22.29525  23.49255  10.87460    ...      \n",
       "104  13.35253  21.66715  19.84968  22.99364  23.37404  10.24237    ...      \n",
       "105  13.90799  20.81864  20.52247  23.07356  23.30511  11.04011    ...      \n",
       "106  13.32600  20.80596  18.97112  22.93652  23.55482  10.47248    ...      \n",
       "107  13.37339  19.91307  19.18377  23.23890  23.36222  10.99062    ...      \n",
       "108  13.56382  20.83371  19.53175  23.77068  24.11530  10.39094    ...      \n",
       "109  13.49341  20.30081  19.23515  22.83322  23.12022  10.10992    ...      \n",
       "\n",
       "       PI4544   BI0445    PO7138    BI0215    MN2452    BI0704    PO7442  \\\n",
       "100  17.06109  8.70005  20.21180  15.14925  20.24193  18.10936  13.24216   \n",
       "101  17.83850  8.77648  18.93974  15.34710  20.44643  17.70311  12.79435   \n",
       "102  17.80205  8.69184  19.55050  15.10865  20.37949  18.22299  13.30310   \n",
       "103  17.67976  8.60897  19.87384  15.59344  20.82964  17.66770  13.71284   \n",
       "104  17.64535  8.61127  18.96962  14.96346  20.11946  18.40578  13.48864   \n",
       "105  16.68028  8.97809  19.49549  15.36826  19.90272  17.76130  13.66044   \n",
       "106  17.32057  8.98164  19.78647  15.62907  20.43249  17.80697  13.29448   \n",
       "107  17.45931  8.65055  19.41450  16.29582  20.65076  17.91058  13.40999   \n",
       "108  17.35419  8.24875  19.48926  15.20291  20.72879  18.30452  12.42839   \n",
       "109  16.95053  8.34492  20.08737  15.30908  21.38410  18.44069  13.30827   \n",
       "\n",
       "       MN2439    SD8458    PI4831  \n",
       "100  12.39128  20.51470  13.60442  \n",
       "101  12.40482  21.29006  13.43003  \n",
       "102  11.63605  20.45430  13.75714  \n",
       "103  11.98228  20.97530  13.11811  \n",
       "104  12.92007  21.04409  13.57417  \n",
       "105  13.15065  20.39785  12.77800  \n",
       "106  12.53729  20.80874  13.10029  \n",
       "107  12.50201  19.44895  13.14013  \n",
       "108  13.09816  19.55612  12.97831  \n",
       "109  12.57624  20.84301  13.76798  \n",
       "\n",
       "[10 rows x 602 columns]"
      ]
     },
     "execution_count": 3,
     "metadata": {},
     "output_type": "execute_result"
    }
   ],
   "source": [
    "alpha.tail(10)"
   ]
  },
  {
   "cell_type": "code",
   "execution_count": 4,
   "metadata": {},
   "outputs": [
    {
     "data": {
      "text/plain": [
       "(110, 602)"
      ]
     },
     "execution_count": 4,
     "metadata": {},
     "output_type": "execute_result"
    }
   ],
   "source": [
    "alpha.shape"
   ]
  },
  {
   "cell_type": "code",
   "execution_count": 5,
   "metadata": {
    "collapsed": true
   },
   "outputs": [],
   "source": [
    "# look at only the highest rarefaction depth\n",
    "alpha_high = alpha.loc[alpha['sequences per sample'] == 5870]"
   ]
  },
  {
   "cell_type": "code",
   "execution_count": 6,
   "metadata": {
    "collapsed": true
   },
   "outputs": [],
   "source": [
    "# take average of 10 iterations as alpha value\n",
    "alpha_high = alpha_high.drop(['Unnamed: 0', 'sequences per sample', 'iteration'], axis=1)"
   ]
  },
  {
   "cell_type": "code",
   "execution_count": 7,
   "metadata": {},
   "outputs": [
    {
     "data": {
      "text/html": [
       "<div>\n",
       "<style>\n",
       "    .dataframe thead tr:only-child th {\n",
       "        text-align: right;\n",
       "    }\n",
       "\n",
       "    .dataframe thead th {\n",
       "        text-align: left;\n",
       "    }\n",
       "\n",
       "    .dataframe tbody tr th {\n",
       "        vertical-align: top;\n",
       "    }\n",
       "</style>\n",
       "<table border=\"1\" class=\"dataframe\">\n",
       "  <thead>\n",
       "    <tr style=\"text-align: right;\">\n",
       "      <th></th>\n",
       "      <th>SD8637</th>\n",
       "      <th>PO7016</th>\n",
       "      <th>MN1789</th>\n",
       "      <th>MN1868</th>\n",
       "      <th>PA3814</th>\n",
       "      <th>MN2006</th>\n",
       "      <th>PA3070</th>\n",
       "      <th>PI5374</th>\n",
       "      <th>SD8714</th>\n",
       "      <th>BI0448</th>\n",
       "      <th>...</th>\n",
       "      <th>PI4544</th>\n",
       "      <th>BI0445</th>\n",
       "      <th>PO7138</th>\n",
       "      <th>BI0215</th>\n",
       "      <th>MN2452</th>\n",
       "      <th>BI0704</th>\n",
       "      <th>PO7442</th>\n",
       "      <th>MN2439</th>\n",
       "      <th>SD8458</th>\n",
       "      <th>PI4831</th>\n",
       "    </tr>\n",
       "  </thead>\n",
       "  <tbody>\n",
       "    <tr>\n",
       "      <th>100</th>\n",
       "      <td>15.75587</td>\n",
       "      <td>13.32326</td>\n",
       "      <td>20.44849</td>\n",
       "      <td>19.84739</td>\n",
       "      <td>23.18831</td>\n",
       "      <td>22.89172</td>\n",
       "      <td>10.97722</td>\n",
       "      <td>15.85441</td>\n",
       "      <td>17.02916</td>\n",
       "      <td>8.31325</td>\n",
       "      <td>...</td>\n",
       "      <td>17.06109</td>\n",
       "      <td>8.70005</td>\n",
       "      <td>20.21180</td>\n",
       "      <td>15.14925</td>\n",
       "      <td>20.24193</td>\n",
       "      <td>18.10936</td>\n",
       "      <td>13.24216</td>\n",
       "      <td>12.39128</td>\n",
       "      <td>20.51470</td>\n",
       "      <td>13.60442</td>\n",
       "    </tr>\n",
       "    <tr>\n",
       "      <th>101</th>\n",
       "      <td>16.84385</td>\n",
       "      <td>13.66343</td>\n",
       "      <td>19.87174</td>\n",
       "      <td>19.08975</td>\n",
       "      <td>23.06850</td>\n",
       "      <td>23.27983</td>\n",
       "      <td>10.45496</td>\n",
       "      <td>16.35933</td>\n",
       "      <td>17.42745</td>\n",
       "      <td>9.80179</td>\n",
       "      <td>...</td>\n",
       "      <td>17.83850</td>\n",
       "      <td>8.77648</td>\n",
       "      <td>18.93974</td>\n",
       "      <td>15.34710</td>\n",
       "      <td>20.44643</td>\n",
       "      <td>17.70311</td>\n",
       "      <td>12.79435</td>\n",
       "      <td>12.40482</td>\n",
       "      <td>21.29006</td>\n",
       "      <td>13.43003</td>\n",
       "    </tr>\n",
       "    <tr>\n",
       "      <th>102</th>\n",
       "      <td>16.83551</td>\n",
       "      <td>13.10052</td>\n",
       "      <td>19.77507</td>\n",
       "      <td>19.98490</td>\n",
       "      <td>22.27577</td>\n",
       "      <td>23.93320</td>\n",
       "      <td>10.64706</td>\n",
       "      <td>15.79729</td>\n",
       "      <td>18.39808</td>\n",
       "      <td>8.85678</td>\n",
       "      <td>...</td>\n",
       "      <td>17.80205</td>\n",
       "      <td>8.69184</td>\n",
       "      <td>19.55050</td>\n",
       "      <td>15.10865</td>\n",
       "      <td>20.37949</td>\n",
       "      <td>18.22299</td>\n",
       "      <td>13.30310</td>\n",
       "      <td>11.63605</td>\n",
       "      <td>20.45430</td>\n",
       "      <td>13.75714</td>\n",
       "    </tr>\n",
       "    <tr>\n",
       "      <th>103</th>\n",
       "      <td>17.01391</td>\n",
       "      <td>13.60641</td>\n",
       "      <td>20.94002</td>\n",
       "      <td>20.31355</td>\n",
       "      <td>22.29525</td>\n",
       "      <td>23.49255</td>\n",
       "      <td>10.87460</td>\n",
       "      <td>16.23930</td>\n",
       "      <td>18.41135</td>\n",
       "      <td>9.24317</td>\n",
       "      <td>...</td>\n",
       "      <td>17.67976</td>\n",
       "      <td>8.60897</td>\n",
       "      <td>19.87384</td>\n",
       "      <td>15.59344</td>\n",
       "      <td>20.82964</td>\n",
       "      <td>17.66770</td>\n",
       "      <td>13.71284</td>\n",
       "      <td>11.98228</td>\n",
       "      <td>20.97530</td>\n",
       "      <td>13.11811</td>\n",
       "    </tr>\n",
       "    <tr>\n",
       "      <th>104</th>\n",
       "      <td>15.23422</td>\n",
       "      <td>13.35253</td>\n",
       "      <td>21.66715</td>\n",
       "      <td>19.84968</td>\n",
       "      <td>22.99364</td>\n",
       "      <td>23.37404</td>\n",
       "      <td>10.24237</td>\n",
       "      <td>15.92897</td>\n",
       "      <td>18.07075</td>\n",
       "      <td>9.19460</td>\n",
       "      <td>...</td>\n",
       "      <td>17.64535</td>\n",
       "      <td>8.61127</td>\n",
       "      <td>18.96962</td>\n",
       "      <td>14.96346</td>\n",
       "      <td>20.11946</td>\n",
       "      <td>18.40578</td>\n",
       "      <td>13.48864</td>\n",
       "      <td>12.92007</td>\n",
       "      <td>21.04409</td>\n",
       "      <td>13.57417</td>\n",
       "    </tr>\n",
       "  </tbody>\n",
       "</table>\n",
       "<p>5 rows × 599 columns</p>\n",
       "</div>"
      ],
      "text/plain": [
       "       SD8637    PO7016    MN1789    MN1868    PA3814    MN2006    PA3070  \\\n",
       "100  15.75587  13.32326  20.44849  19.84739  23.18831  22.89172  10.97722   \n",
       "101  16.84385  13.66343  19.87174  19.08975  23.06850  23.27983  10.45496   \n",
       "102  16.83551  13.10052  19.77507  19.98490  22.27577  23.93320  10.64706   \n",
       "103  17.01391  13.60641  20.94002  20.31355  22.29525  23.49255  10.87460   \n",
       "104  15.23422  13.35253  21.66715  19.84968  22.99364  23.37404  10.24237   \n",
       "\n",
       "       PI5374    SD8714   BI0448    ...       PI4544   BI0445    PO7138  \\\n",
       "100  15.85441  17.02916  8.31325    ...     17.06109  8.70005  20.21180   \n",
       "101  16.35933  17.42745  9.80179    ...     17.83850  8.77648  18.93974   \n",
       "102  15.79729  18.39808  8.85678    ...     17.80205  8.69184  19.55050   \n",
       "103  16.23930  18.41135  9.24317    ...     17.67976  8.60897  19.87384   \n",
       "104  15.92897  18.07075  9.19460    ...     17.64535  8.61127  18.96962   \n",
       "\n",
       "       BI0215    MN2452    BI0704    PO7442    MN2439    SD8458    PI4831  \n",
       "100  15.14925  20.24193  18.10936  13.24216  12.39128  20.51470  13.60442  \n",
       "101  15.34710  20.44643  17.70311  12.79435  12.40482  21.29006  13.43003  \n",
       "102  15.10865  20.37949  18.22299  13.30310  11.63605  20.45430  13.75714  \n",
       "103  15.59344  20.82964  17.66770  13.71284  11.98228  20.97530  13.11811  \n",
       "104  14.96346  20.11946  18.40578  13.48864  12.92007  21.04409  13.57417  \n",
       "\n",
       "[5 rows x 599 columns]"
      ]
     },
     "execution_count": 7,
     "metadata": {},
     "output_type": "execute_result"
    }
   ],
   "source": [
    "alpha_high.head()"
   ]
  },
  {
   "cell_type": "code",
   "execution_count": 8,
   "metadata": {},
   "outputs": [
    {
     "data": {
      "text/plain": [
       "(10, 599)"
      ]
     },
     "execution_count": 8,
     "metadata": {},
     "output_type": "execute_result"
    }
   ],
   "source": [
    "alpha_high.shape"
   ]
  },
  {
   "cell_type": "code",
   "execution_count": 9,
   "metadata": {
    "collapsed": true
   },
   "outputs": [],
   "source": [
    "alpha_avg = pd.DataFrame(alpha_high.mean(axis=0), columns=['alpha_pd'])"
   ]
  },
  {
   "cell_type": "markdown",
   "metadata": {},
   "source": [
    "### Add PD alpha diversity into mapping file"
   ]
  },
  {
   "cell_type": "code",
   "execution_count": 27,
   "metadata": {
    "collapsed": true
   },
   "outputs": [],
   "source": [
    "mf = pd.read_csv('../data/mapping_cleaned_MrOS.txt', sep='\\t', dtype=str, index_col='#SampleID') "
   ]
  },
  {
   "cell_type": "code",
   "execution_count": 28,
   "metadata": {},
   "outputs": [
    {
     "data": {
      "text/html": [
       "<div>\n",
       "<style>\n",
       "    .dataframe thead tr:only-child th {\n",
       "        text-align: right;\n",
       "    }\n",
       "\n",
       "    .dataframe thead th {\n",
       "        text-align: left;\n",
       "    }\n",
       "\n",
       "    .dataframe tbody tr th {\n",
       "        vertical-align: top;\n",
       "    }\n",
       "</style>\n",
       "<table border=\"1\" class=\"dataframe\">\n",
       "  <thead>\n",
       "    <tr style=\"text-align: right;\">\n",
       "      <th></th>\n",
       "      <th>BarcodeSequence</th>\n",
       "      <th>LinkerPrimerSequence</th>\n",
       "      <th>Experiment_Design_Description</th>\n",
       "      <th>Library_Construction_Protocol</th>\n",
       "      <th>Linker</th>\n",
       "      <th>Platform</th>\n",
       "      <th>Center_Name</th>\n",
       "      <th>Center_Project</th>\n",
       "      <th>Instrument_Model</th>\n",
       "      <th>Title</th>\n",
       "      <th>...</th>\n",
       "      <th>OHV1D2</th>\n",
       "      <th>OHV1D2CT</th>\n",
       "      <th>OHVD2CT</th>\n",
       "      <th>OHVDTOT</th>\n",
       "      <th>OHV1DTOT</th>\n",
       "      <th>OHSEAS</th>\n",
       "      <th>VDstatus</th>\n",
       "      <th>Description</th>\n",
       "      <th>ratio_activation</th>\n",
       "      <th>ratio_catabolism</th>\n",
       "    </tr>\n",
       "    <tr>\n",
       "      <th>#SampleID</th>\n",
       "      <th></th>\n",
       "      <th></th>\n",
       "      <th></th>\n",
       "      <th></th>\n",
       "      <th></th>\n",
       "      <th></th>\n",
       "      <th></th>\n",
       "      <th></th>\n",
       "      <th></th>\n",
       "      <th></th>\n",
       "      <th></th>\n",
       "      <th></th>\n",
       "      <th></th>\n",
       "      <th></th>\n",
       "      <th></th>\n",
       "      <th></th>\n",
       "      <th></th>\n",
       "      <th></th>\n",
       "      <th></th>\n",
       "      <th></th>\n",
       "      <th></th>\n",
       "    </tr>\n",
       "  </thead>\n",
       "  <tbody>\n",
       "    <tr>\n",
       "      <th>BI0023</th>\n",
       "      <td>TCTGGTGACATT</td>\n",
       "      <td>GGACTACHVGGGTWTCTAAT</td>\n",
       "      <td>16S stool samples sequenced for MrOS Vitamin D...</td>\n",
       "      <td>16S rRNA v4</td>\n",
       "      <td>GT</td>\n",
       "      <td>Illumina</td>\n",
       "      <td>BI</td>\n",
       "      <td>MrOS</td>\n",
       "      <td>Illumina MiSeq</td>\n",
       "      <td>MrOS_VitaminD</td>\n",
       "      <td>...</td>\n",
       "      <td>0.0</td>\n",
       "      <td>NaN</td>\n",
       "      <td>NaN</td>\n",
       "      <td>25.8</td>\n",
       "      <td>39.3</td>\n",
       "      <td>3:SUMMER</td>\n",
       "      <td>sufficiency</td>\n",
       "      <td>Orwoll.BI0023.BI</td>\n",
       "      <td>1.5232558139534882</td>\n",
       "      <td>0.0686046511627907</td>\n",
       "    </tr>\n",
       "    <tr>\n",
       "      <th>BI0056</th>\n",
       "      <td>CAAGCATGCCTA</td>\n",
       "      <td>GGACTACHVGGGTWTCTAAT</td>\n",
       "      <td>16S stool samples sequenced for MrOS Vitamin D...</td>\n",
       "      <td>16S rRNA v4</td>\n",
       "      <td>GT</td>\n",
       "      <td>Illumina</td>\n",
       "      <td>BI</td>\n",
       "      <td>MrOS</td>\n",
       "      <td>Illumina MiSeq</td>\n",
       "      <td>MrOS_VitaminD</td>\n",
       "      <td>...</td>\n",
       "      <td>0.0</td>\n",
       "      <td>NaN</td>\n",
       "      <td>NaN</td>\n",
       "      <td>39.2</td>\n",
       "      <td>61.9</td>\n",
       "      <td>2:SPRING</td>\n",
       "      <td>sufficiency</td>\n",
       "      <td>Orwoll.BI0056.BI</td>\n",
       "      <td>1.579081632653061</td>\n",
       "      <td>0.09974489795918368</td>\n",
       "    </tr>\n",
       "    <tr>\n",
       "      <th>BI0131</th>\n",
       "      <td>CTATTTGCGACA</td>\n",
       "      <td>GGACTACHVGGGTWTCTAAT</td>\n",
       "      <td>16S stool samples sequenced for MrOS Vitamin D...</td>\n",
       "      <td>16S rRNA v4</td>\n",
       "      <td>GT</td>\n",
       "      <td>Illumina</td>\n",
       "      <td>BI</td>\n",
       "      <td>MrOS</td>\n",
       "      <td>Illumina MiSeq</td>\n",
       "      <td>MrOS_VitaminD</td>\n",
       "      <td>...</td>\n",
       "      <td>0.0</td>\n",
       "      <td>NaN</td>\n",
       "      <td>NaN</td>\n",
       "      <td>23.1</td>\n",
       "      <td>52.1</td>\n",
       "      <td>2:SPRING</td>\n",
       "      <td>sufficiency</td>\n",
       "      <td>Orwoll.BI0131.BI</td>\n",
       "      <td>2.2554112554112553</td>\n",
       "      <td>0.06450216450216449</td>\n",
       "    </tr>\n",
       "    <tr>\n",
       "      <th>BI0153</th>\n",
       "      <td>ATCGGCGTTACA</td>\n",
       "      <td>GGACTACHVGGGTWTCTAAT</td>\n",
       "      <td>16S stool samples sequenced for MrOS Vitamin D...</td>\n",
       "      <td>16S rRNA v4</td>\n",
       "      <td>GT</td>\n",
       "      <td>Illumina</td>\n",
       "      <td>BI</td>\n",
       "      <td>MrOS</td>\n",
       "      <td>Illumina MiSeq</td>\n",
       "      <td>MrOS_VitaminD</td>\n",
       "      <td>...</td>\n",
       "      <td>0.0</td>\n",
       "      <td>NaN</td>\n",
       "      <td>NaN</td>\n",
       "      <td>27.3</td>\n",
       "      <td>43.1</td>\n",
       "      <td>2:SPRING</td>\n",
       "      <td>sufficiency</td>\n",
       "      <td>Orwoll.BI0153.BI</td>\n",
       "      <td>1.5787545787545787</td>\n",
       "      <td>0.07838827838827839</td>\n",
       "    </tr>\n",
       "    <tr>\n",
       "      <th>BI0215</th>\n",
       "      <td>CCTCTCGTGATC</td>\n",
       "      <td>GGACTACHVGGGTWTCTAAT</td>\n",
       "      <td>16S stool samples sequenced for MrOS Vitamin D...</td>\n",
       "      <td>16S rRNA v4</td>\n",
       "      <td>GT</td>\n",
       "      <td>Illumina</td>\n",
       "      <td>BI</td>\n",
       "      <td>MrOS</td>\n",
       "      <td>Illumina MiSeq</td>\n",
       "      <td>MrOS_VitaminD</td>\n",
       "      <td>...</td>\n",
       "      <td>0.0</td>\n",
       "      <td>NaN</td>\n",
       "      <td>NaN</td>\n",
       "      <td>33.0</td>\n",
       "      <td>50.2</td>\n",
       "      <td>4:FALL</td>\n",
       "      <td>sufficiency</td>\n",
       "      <td>Orwoll.BI0215.BI</td>\n",
       "      <td>1.5212121212121212</td>\n",
       "      <td>0.1096969696969697</td>\n",
       "    </tr>\n",
       "  </tbody>\n",
       "</table>\n",
       "<p>5 rows × 66 columns</p>\n",
       "</div>"
      ],
      "text/plain": [
       "          BarcodeSequence  LinkerPrimerSequence  \\\n",
       "#SampleID                                         \n",
       "BI0023       TCTGGTGACATT  GGACTACHVGGGTWTCTAAT   \n",
       "BI0056       CAAGCATGCCTA  GGACTACHVGGGTWTCTAAT   \n",
       "BI0131       CTATTTGCGACA  GGACTACHVGGGTWTCTAAT   \n",
       "BI0153       ATCGGCGTTACA  GGACTACHVGGGTWTCTAAT   \n",
       "BI0215       CCTCTCGTGATC  GGACTACHVGGGTWTCTAAT   \n",
       "\n",
       "                               Experiment_Design_Description  \\\n",
       "#SampleID                                                      \n",
       "BI0023     16S stool samples sequenced for MrOS Vitamin D...   \n",
       "BI0056     16S stool samples sequenced for MrOS Vitamin D...   \n",
       "BI0131     16S stool samples sequenced for MrOS Vitamin D...   \n",
       "BI0153     16S stool samples sequenced for MrOS Vitamin D...   \n",
       "BI0215     16S stool samples sequenced for MrOS Vitamin D...   \n",
       "\n",
       "          Library_Construction_Protocol Linker  Platform Center_Name  \\\n",
       "#SampleID                                                              \n",
       "BI0023                      16S rRNA v4     GT  Illumina          BI   \n",
       "BI0056                      16S rRNA v4     GT  Illumina          BI   \n",
       "BI0131                      16S rRNA v4     GT  Illumina          BI   \n",
       "BI0153                      16S rRNA v4     GT  Illumina          BI   \n",
       "BI0215                      16S rRNA v4     GT  Illumina          BI   \n",
       "\n",
       "          Center_Project Instrument_Model          Title         ...           \\\n",
       "#SampleID                                                        ...            \n",
       "BI0023              MrOS   Illumina MiSeq  MrOS_VitaminD         ...            \n",
       "BI0056              MrOS   Illumina MiSeq  MrOS_VitaminD         ...            \n",
       "BI0131              MrOS   Illumina MiSeq  MrOS_VitaminD         ...            \n",
       "BI0153              MrOS   Illumina MiSeq  MrOS_VitaminD         ...            \n",
       "BI0215              MrOS   Illumina MiSeq  MrOS_VitaminD         ...            \n",
       "\n",
       "          OHV1D2 OHV1D2CT OHVD2CT OHVDTOT OHV1DTOT    OHSEAS     VDstatus  \\\n",
       "#SampleID                                                                   \n",
       "BI0023       0.0      NaN     NaN    25.8     39.3  3:SUMMER  sufficiency   \n",
       "BI0056       0.0      NaN     NaN    39.2     61.9  2:SPRING  sufficiency   \n",
       "BI0131       0.0      NaN     NaN    23.1     52.1  2:SPRING  sufficiency   \n",
       "BI0153       0.0      NaN     NaN    27.3     43.1  2:SPRING  sufficiency   \n",
       "BI0215       0.0      NaN     NaN    33.0     50.2    4:FALL  sufficiency   \n",
       "\n",
       "                Description    ratio_activation     ratio_catabolism  \n",
       "#SampleID                                                             \n",
       "BI0023     Orwoll.BI0023.BI  1.5232558139534882   0.0686046511627907  \n",
       "BI0056     Orwoll.BI0056.BI   1.579081632653061  0.09974489795918368  \n",
       "BI0131     Orwoll.BI0131.BI  2.2554112554112553  0.06450216450216449  \n",
       "BI0153     Orwoll.BI0153.BI  1.5787545787545787  0.07838827838827839  \n",
       "BI0215     Orwoll.BI0215.BI  1.5212121212121212   0.1096969696969697  \n",
       "\n",
       "[5 rows x 66 columns]"
      ]
     },
     "execution_count": 28,
     "metadata": {},
     "output_type": "execute_result"
    }
   ],
   "source": [
    "mf.head()"
   ]
  },
  {
   "cell_type": "code",
   "execution_count": 29,
   "metadata": {
    "collapsed": true
   },
   "outputs": [],
   "source": [
    "table = pd.merge(mf, alpha_avg, left_index=True, right_index=True)"
   ]
  },
  {
   "cell_type": "code",
   "execution_count": 30,
   "metadata": {},
   "outputs": [
    {
     "data": {
      "text/html": [
       "<div>\n",
       "<style>\n",
       "    .dataframe thead tr:only-child th {\n",
       "        text-align: right;\n",
       "    }\n",
       "\n",
       "    .dataframe thead th {\n",
       "        text-align: left;\n",
       "    }\n",
       "\n",
       "    .dataframe tbody tr th {\n",
       "        vertical-align: top;\n",
       "    }\n",
       "</style>\n",
       "<table border=\"1\" class=\"dataframe\">\n",
       "  <thead>\n",
       "    <tr style=\"text-align: right;\">\n",
       "      <th></th>\n",
       "      <th>BarcodeSequence</th>\n",
       "      <th>LinkerPrimerSequence</th>\n",
       "      <th>Experiment_Design_Description</th>\n",
       "      <th>Library_Construction_Protocol</th>\n",
       "      <th>Linker</th>\n",
       "      <th>Platform</th>\n",
       "      <th>Center_Name</th>\n",
       "      <th>Center_Project</th>\n",
       "      <th>Instrument_Model</th>\n",
       "      <th>Title</th>\n",
       "      <th>...</th>\n",
       "      <th>OHV1D2CT</th>\n",
       "      <th>OHVD2CT</th>\n",
       "      <th>OHVDTOT</th>\n",
       "      <th>OHV1DTOT</th>\n",
       "      <th>OHSEAS</th>\n",
       "      <th>VDstatus</th>\n",
       "      <th>Description</th>\n",
       "      <th>ratio_activation</th>\n",
       "      <th>ratio_catabolism</th>\n",
       "      <th>alpha_pd</th>\n",
       "    </tr>\n",
       "  </thead>\n",
       "  <tbody>\n",
       "    <tr>\n",
       "      <th>BI0023</th>\n",
       "      <td>TCTGGTGACATT</td>\n",
       "      <td>GGACTACHVGGGTWTCTAAT</td>\n",
       "      <td>16S stool samples sequenced for MrOS Vitamin D...</td>\n",
       "      <td>16S rRNA v4</td>\n",
       "      <td>GT</td>\n",
       "      <td>Illumina</td>\n",
       "      <td>BI</td>\n",
       "      <td>MrOS</td>\n",
       "      <td>Illumina MiSeq</td>\n",
       "      <td>MrOS_VitaminD</td>\n",
       "      <td>...</td>\n",
       "      <td>NaN</td>\n",
       "      <td>NaN</td>\n",
       "      <td>25.8</td>\n",
       "      <td>39.3</td>\n",
       "      <td>3:SUMMER</td>\n",
       "      <td>sufficiency</td>\n",
       "      <td>Orwoll.BI0023.BI</td>\n",
       "      <td>1.5232558139534882</td>\n",
       "      <td>0.0686046511627907</td>\n",
       "      <td>22.495231</td>\n",
       "    </tr>\n",
       "    <tr>\n",
       "      <th>BI0056</th>\n",
       "      <td>CAAGCATGCCTA</td>\n",
       "      <td>GGACTACHVGGGTWTCTAAT</td>\n",
       "      <td>16S stool samples sequenced for MrOS Vitamin D...</td>\n",
       "      <td>16S rRNA v4</td>\n",
       "      <td>GT</td>\n",
       "      <td>Illumina</td>\n",
       "      <td>BI</td>\n",
       "      <td>MrOS</td>\n",
       "      <td>Illumina MiSeq</td>\n",
       "      <td>MrOS_VitaminD</td>\n",
       "      <td>...</td>\n",
       "      <td>NaN</td>\n",
       "      <td>NaN</td>\n",
       "      <td>39.2</td>\n",
       "      <td>61.9</td>\n",
       "      <td>2:SPRING</td>\n",
       "      <td>sufficiency</td>\n",
       "      <td>Orwoll.BI0056.BI</td>\n",
       "      <td>1.579081632653061</td>\n",
       "      <td>0.09974489795918368</td>\n",
       "      <td>14.809823</td>\n",
       "    </tr>\n",
       "    <tr>\n",
       "      <th>BI0131</th>\n",
       "      <td>CTATTTGCGACA</td>\n",
       "      <td>GGACTACHVGGGTWTCTAAT</td>\n",
       "      <td>16S stool samples sequenced for MrOS Vitamin D...</td>\n",
       "      <td>16S rRNA v4</td>\n",
       "      <td>GT</td>\n",
       "      <td>Illumina</td>\n",
       "      <td>BI</td>\n",
       "      <td>MrOS</td>\n",
       "      <td>Illumina MiSeq</td>\n",
       "      <td>MrOS_VitaminD</td>\n",
       "      <td>...</td>\n",
       "      <td>NaN</td>\n",
       "      <td>NaN</td>\n",
       "      <td>23.1</td>\n",
       "      <td>52.1</td>\n",
       "      <td>2:SPRING</td>\n",
       "      <td>sufficiency</td>\n",
       "      <td>Orwoll.BI0131.BI</td>\n",
       "      <td>2.2554112554112553</td>\n",
       "      <td>0.06450216450216449</td>\n",
       "      <td>17.617832</td>\n",
       "    </tr>\n",
       "    <tr>\n",
       "      <th>BI0153</th>\n",
       "      <td>ATCGGCGTTACA</td>\n",
       "      <td>GGACTACHVGGGTWTCTAAT</td>\n",
       "      <td>16S stool samples sequenced for MrOS Vitamin D...</td>\n",
       "      <td>16S rRNA v4</td>\n",
       "      <td>GT</td>\n",
       "      <td>Illumina</td>\n",
       "      <td>BI</td>\n",
       "      <td>MrOS</td>\n",
       "      <td>Illumina MiSeq</td>\n",
       "      <td>MrOS_VitaminD</td>\n",
       "      <td>...</td>\n",
       "      <td>NaN</td>\n",
       "      <td>NaN</td>\n",
       "      <td>27.3</td>\n",
       "      <td>43.1</td>\n",
       "      <td>2:SPRING</td>\n",
       "      <td>sufficiency</td>\n",
       "      <td>Orwoll.BI0153.BI</td>\n",
       "      <td>1.5787545787545787</td>\n",
       "      <td>0.07838827838827839</td>\n",
       "      <td>14.797242</td>\n",
       "    </tr>\n",
       "    <tr>\n",
       "      <th>BI0215</th>\n",
       "      <td>CCTCTCGTGATC</td>\n",
       "      <td>GGACTACHVGGGTWTCTAAT</td>\n",
       "      <td>16S stool samples sequenced for MrOS Vitamin D...</td>\n",
       "      <td>16S rRNA v4</td>\n",
       "      <td>GT</td>\n",
       "      <td>Illumina</td>\n",
       "      <td>BI</td>\n",
       "      <td>MrOS</td>\n",
       "      <td>Illumina MiSeq</td>\n",
       "      <td>MrOS_VitaminD</td>\n",
       "      <td>...</td>\n",
       "      <td>NaN</td>\n",
       "      <td>NaN</td>\n",
       "      <td>33.0</td>\n",
       "      <td>50.2</td>\n",
       "      <td>4:FALL</td>\n",
       "      <td>sufficiency</td>\n",
       "      <td>Orwoll.BI0215.BI</td>\n",
       "      <td>1.5212121212121212</td>\n",
       "      <td>0.1096969696969697</td>\n",
       "      <td>15.396704</td>\n",
       "    </tr>\n",
       "  </tbody>\n",
       "</table>\n",
       "<p>5 rows × 67 columns</p>\n",
       "</div>"
      ],
      "text/plain": [
       "       BarcodeSequence  LinkerPrimerSequence  \\\n",
       "BI0023    TCTGGTGACATT  GGACTACHVGGGTWTCTAAT   \n",
       "BI0056    CAAGCATGCCTA  GGACTACHVGGGTWTCTAAT   \n",
       "BI0131    CTATTTGCGACA  GGACTACHVGGGTWTCTAAT   \n",
       "BI0153    ATCGGCGTTACA  GGACTACHVGGGTWTCTAAT   \n",
       "BI0215    CCTCTCGTGATC  GGACTACHVGGGTWTCTAAT   \n",
       "\n",
       "                            Experiment_Design_Description  \\\n",
       "BI0023  16S stool samples sequenced for MrOS Vitamin D...   \n",
       "BI0056  16S stool samples sequenced for MrOS Vitamin D...   \n",
       "BI0131  16S stool samples sequenced for MrOS Vitamin D...   \n",
       "BI0153  16S stool samples sequenced for MrOS Vitamin D...   \n",
       "BI0215  16S stool samples sequenced for MrOS Vitamin D...   \n",
       "\n",
       "       Library_Construction_Protocol Linker  Platform Center_Name  \\\n",
       "BI0023                   16S rRNA v4     GT  Illumina          BI   \n",
       "BI0056                   16S rRNA v4     GT  Illumina          BI   \n",
       "BI0131                   16S rRNA v4     GT  Illumina          BI   \n",
       "BI0153                   16S rRNA v4     GT  Illumina          BI   \n",
       "BI0215                   16S rRNA v4     GT  Illumina          BI   \n",
       "\n",
       "       Center_Project Instrument_Model          Title    ...     OHV1D2CT  \\\n",
       "BI0023           MrOS   Illumina MiSeq  MrOS_VitaminD    ...          NaN   \n",
       "BI0056           MrOS   Illumina MiSeq  MrOS_VitaminD    ...          NaN   \n",
       "BI0131           MrOS   Illumina MiSeq  MrOS_VitaminD    ...          NaN   \n",
       "BI0153           MrOS   Illumina MiSeq  MrOS_VitaminD    ...          NaN   \n",
       "BI0215           MrOS   Illumina MiSeq  MrOS_VitaminD    ...          NaN   \n",
       "\n",
       "       OHVD2CT OHVDTOT OHV1DTOT    OHSEAS     VDstatus       Description  \\\n",
       "BI0023     NaN    25.8     39.3  3:SUMMER  sufficiency  Orwoll.BI0023.BI   \n",
       "BI0056     NaN    39.2     61.9  2:SPRING  sufficiency  Orwoll.BI0056.BI   \n",
       "BI0131     NaN    23.1     52.1  2:SPRING  sufficiency  Orwoll.BI0131.BI   \n",
       "BI0153     NaN    27.3     43.1  2:SPRING  sufficiency  Orwoll.BI0153.BI   \n",
       "BI0215     NaN    33.0     50.2    4:FALL  sufficiency  Orwoll.BI0215.BI   \n",
       "\n",
       "          ratio_activation     ratio_catabolism   alpha_pd  \n",
       "BI0023  1.5232558139534882   0.0686046511627907  22.495231  \n",
       "BI0056   1.579081632653061  0.09974489795918368  14.809823  \n",
       "BI0131  2.2554112554112553  0.06450216450216449  17.617832  \n",
       "BI0153  1.5787545787545787  0.07838827838827839  14.797242  \n",
       "BI0215  1.5212121212121212   0.1096969696969697  15.396704  \n",
       "\n",
       "[5 rows x 67 columns]"
      ]
     },
     "execution_count": 30,
     "metadata": {},
     "output_type": "execute_result"
    }
   ],
   "source": [
    "table.head()"
   ]
  },
  {
   "cell_type": "code",
   "execution_count": 31,
   "metadata": {},
   "outputs": [
    {
     "name": "stdout",
     "output_type": "stream",
     "text": [
      "(599, 66) (599, 67)\n"
     ]
    }
   ],
   "source": [
    "print(mf.shape, table.shape)"
   ]
  },
  {
   "cell_type": "code",
   "execution_count": 32,
   "metadata": {},
   "outputs": [
    {
     "name": "stdout",
     "output_type": "stream",
     "text": [
      "         alpha_pd\n",
      "SD8637  16.376428\n",
      "PO7016  13.471076\n",
      "MN1789  20.537466\n",
      "MN1868  19.652953\n",
      "PA3814  22.967435\n",
      "SD8637    16.376428\n",
      "Name: alpha_pd, dtype: float64\n",
      "PO7016    13.471076\n",
      "Name: alpha_pd, dtype: float64\n",
      "MN1789    20.537466\n",
      "Name: alpha_pd, dtype: float64\n",
      "MN1868    19.652953\n",
      "Name: alpha_pd, dtype: float64\n",
      "PA3814    22.967435\n",
      "Name: alpha_pd, dtype: float64\n"
     ]
    }
   ],
   "source": [
    "# check\n",
    "print(alpha_avg.head())\n",
    "print(table.loc[table.index=='SD8637'].alpha_pd)\n",
    "print(table.loc[table.index=='PO7016'].alpha_pd)\n",
    "print(table.loc[table.index=='MN1789'].alpha_pd)\n",
    "print(table.loc[table.index=='MN1868'].alpha_pd)\n",
    "print(table.loc[table.index=='PA3814'].alpha_pd)"
   ]
  },
  {
   "cell_type": "markdown",
   "metadata": {},
   "source": [
    "### output mapping file with PD alpha diveristy"
   ]
  },
  {
   "cell_type": "code",
   "execution_count": 33,
   "metadata": {
    "collapsed": true
   },
   "outputs": [],
   "source": [
    "table.to_csv('../data/mapping_PDalpha.txt', sep='\\t')"
   ]
  },
  {
   "cell_type": "markdown",
   "metadata": {},
   "source": [
    "## II. scatterplots of PD alpha vs. 5 vitaminD measurements"
   ]
  },
  {
   "cell_type": "markdown",
   "metadata": {},
   "source": [
    "### prepare file with only 5 VitD variables and PD"
   ]
  },
  {
   "cell_type": "code",
   "execution_count": 34,
   "metadata": {},
   "outputs": [],
   "source": [
    "df = table[['OHV1D3', 'OHVD3', 'OHV24D3', 'ratio_activation', 'ratio_catabolism', 'alpha_pd']]\n",
    "df = df.apply(pd.to_numeric, errors='coerce') # still need to convert, as their types changed in 'table'"
   ]
  },
  {
   "cell_type": "code",
   "execution_count": 35,
   "metadata": {},
   "outputs": [
    {
     "name": "stdout",
     "output_type": "stream",
     "text": [
      "(599, 6)\n"
     ]
    }
   ],
   "source": [
    "print(df.shape)"
   ]
  },
  {
   "cell_type": "code",
   "execution_count": 36,
   "metadata": {},
   "outputs": [
    {
     "data": {
      "text/html": [
       "<div>\n",
       "<style>\n",
       "    .dataframe thead tr:only-child th {\n",
       "        text-align: right;\n",
       "    }\n",
       "\n",
       "    .dataframe thead th {\n",
       "        text-align: left;\n",
       "    }\n",
       "\n",
       "    .dataframe tbody tr th {\n",
       "        vertical-align: top;\n",
       "    }\n",
       "</style>\n",
       "<table border=\"1\" class=\"dataframe\">\n",
       "  <thead>\n",
       "    <tr style=\"text-align: right;\">\n",
       "      <th></th>\n",
       "      <th>OHV1D3</th>\n",
       "      <th>OHVD3</th>\n",
       "      <th>OHV24D3</th>\n",
       "      <th>ratio_activation</th>\n",
       "      <th>ratio_catabolism</th>\n",
       "      <th>alpha_pd</th>\n",
       "    </tr>\n",
       "  </thead>\n",
       "  <tbody>\n",
       "    <tr>\n",
       "      <th>BI0023</th>\n",
       "      <td>39.3</td>\n",
       "      <td>25.8</td>\n",
       "      <td>1.77</td>\n",
       "      <td>1.523256</td>\n",
       "      <td>0.068605</td>\n",
       "      <td>22.495231</td>\n",
       "    </tr>\n",
       "    <tr>\n",
       "      <th>BI0056</th>\n",
       "      <td>61.9</td>\n",
       "      <td>39.2</td>\n",
       "      <td>3.91</td>\n",
       "      <td>1.579082</td>\n",
       "      <td>0.099745</td>\n",
       "      <td>14.809823</td>\n",
       "    </tr>\n",
       "    <tr>\n",
       "      <th>BI0131</th>\n",
       "      <td>52.1</td>\n",
       "      <td>23.1</td>\n",
       "      <td>1.49</td>\n",
       "      <td>2.255411</td>\n",
       "      <td>0.064502</td>\n",
       "      <td>17.617832</td>\n",
       "    </tr>\n",
       "    <tr>\n",
       "      <th>BI0153</th>\n",
       "      <td>43.1</td>\n",
       "      <td>27.3</td>\n",
       "      <td>2.14</td>\n",
       "      <td>1.578755</td>\n",
       "      <td>0.078388</td>\n",
       "      <td>14.797242</td>\n",
       "    </tr>\n",
       "    <tr>\n",
       "      <th>BI0215</th>\n",
       "      <td>50.2</td>\n",
       "      <td>33.0</td>\n",
       "      <td>3.62</td>\n",
       "      <td>1.521212</td>\n",
       "      <td>0.109697</td>\n",
       "      <td>15.396704</td>\n",
       "    </tr>\n",
       "  </tbody>\n",
       "</table>\n",
       "</div>"
      ],
      "text/plain": [
       "        OHV1D3  OHVD3  OHV24D3  ratio_activation  ratio_catabolism   alpha_pd\n",
       "BI0023    39.3   25.8     1.77          1.523256          0.068605  22.495231\n",
       "BI0056    61.9   39.2     3.91          1.579082          0.099745  14.809823\n",
       "BI0131    52.1   23.1     1.49          2.255411          0.064502  17.617832\n",
       "BI0153    43.1   27.3     2.14          1.578755          0.078388  14.797242\n",
       "BI0215    50.2   33.0     3.62          1.521212          0.109697  15.396704"
      ]
     },
     "execution_count": 36,
     "metadata": {},
     "output_type": "execute_result"
    }
   ],
   "source": [
    "df.head()"
   ]
  },
  {
   "cell_type": "code",
   "execution_count": 37,
   "metadata": {},
   "outputs": [
    {
     "data": {
      "text/html": [
       "<div>\n",
       "<style>\n",
       "    .dataframe thead tr:only-child th {\n",
       "        text-align: right;\n",
       "    }\n",
       "\n",
       "    .dataframe thead th {\n",
       "        text-align: left;\n",
       "    }\n",
       "\n",
       "    .dataframe tbody tr th {\n",
       "        vertical-align: top;\n",
       "    }\n",
       "</style>\n",
       "<table border=\"1\" class=\"dataframe\">\n",
       "  <thead>\n",
       "    <tr style=\"text-align: right;\">\n",
       "      <th></th>\n",
       "      <th>OHV1D3</th>\n",
       "      <th>OHVD3</th>\n",
       "      <th>OHV24D3</th>\n",
       "      <th>ratio_activation</th>\n",
       "      <th>ratio_catabolism</th>\n",
       "      <th>alpha_pd</th>\n",
       "    </tr>\n",
       "  </thead>\n",
       "  <tbody>\n",
       "    <tr>\n",
       "      <th>count</th>\n",
       "      <td>567.000000</td>\n",
       "      <td>556.000000</td>\n",
       "      <td>567.000000</td>\n",
       "      <td>556.000000</td>\n",
       "      <td>556.000000</td>\n",
       "      <td>599.000000</td>\n",
       "    </tr>\n",
       "    <tr>\n",
       "      <th>mean</th>\n",
       "      <td>57.774956</td>\n",
       "      <td>35.229137</td>\n",
       "      <td>3.430864</td>\n",
       "      <td>1.772433</td>\n",
       "      <td>0.094776</td>\n",
       "      <td>16.450656</td>\n",
       "    </tr>\n",
       "    <tr>\n",
       "      <th>std</th>\n",
       "      <td>19.772731</td>\n",
       "      <td>12.450758</td>\n",
       "      <td>1.834771</td>\n",
       "      <td>0.735064</td>\n",
       "      <td>0.029770</td>\n",
       "      <td>4.682735</td>\n",
       "    </tr>\n",
       "    <tr>\n",
       "      <th>min</th>\n",
       "      <td>10.700000</td>\n",
       "      <td>7.800000</td>\n",
       "      <td>0.300000</td>\n",
       "      <td>0.398077</td>\n",
       "      <td>0.018788</td>\n",
       "      <td>3.205879</td>\n",
       "    </tr>\n",
       "    <tr>\n",
       "      <th>25%</th>\n",
       "      <td>44.100000</td>\n",
       "      <td>27.400000</td>\n",
       "      <td>2.175000</td>\n",
       "      <td>1.315582</td>\n",
       "      <td>0.074216</td>\n",
       "      <td>12.900394</td>\n",
       "    </tr>\n",
       "    <tr>\n",
       "      <th>50%</th>\n",
       "      <td>55.500000</td>\n",
       "      <td>33.650000</td>\n",
       "      <td>3.180000</td>\n",
       "      <td>1.659602</td>\n",
       "      <td>0.092821</td>\n",
       "      <td>16.074452</td>\n",
       "    </tr>\n",
       "    <tr>\n",
       "      <th>75%</th>\n",
       "      <td>66.300000</td>\n",
       "      <td>41.825000</td>\n",
       "      <td>4.235000</td>\n",
       "      <td>2.080741</td>\n",
       "      <td>0.112849</td>\n",
       "      <td>20.063326</td>\n",
       "    </tr>\n",
       "    <tr>\n",
       "      <th>max</th>\n",
       "      <td>156.000000</td>\n",
       "      <td>104.000000</td>\n",
       "      <td>14.070000</td>\n",
       "      <td>6.727273</td>\n",
       "      <td>0.197786</td>\n",
       "      <td>29.952565</td>\n",
       "    </tr>\n",
       "  </tbody>\n",
       "</table>\n",
       "</div>"
      ],
      "text/plain": [
       "           OHV1D3       OHVD3     OHV24D3  ratio_activation  ratio_catabolism  \\\n",
       "count  567.000000  556.000000  567.000000        556.000000        556.000000   \n",
       "mean    57.774956   35.229137    3.430864          1.772433          0.094776   \n",
       "std     19.772731   12.450758    1.834771          0.735064          0.029770   \n",
       "min     10.700000    7.800000    0.300000          0.398077          0.018788   \n",
       "25%     44.100000   27.400000    2.175000          1.315582          0.074216   \n",
       "50%     55.500000   33.650000    3.180000          1.659602          0.092821   \n",
       "75%     66.300000   41.825000    4.235000          2.080741          0.112849   \n",
       "max    156.000000  104.000000   14.070000          6.727273          0.197786   \n",
       "\n",
       "         alpha_pd  \n",
       "count  599.000000  \n",
       "mean    16.450656  \n",
       "std      4.682735  \n",
       "min      3.205879  \n",
       "25%     12.900394  \n",
       "50%     16.074452  \n",
       "75%     20.063326  \n",
       "max     29.952565  "
      ]
     },
     "execution_count": 37,
     "metadata": {},
     "output_type": "execute_result"
    }
   ],
   "source": [
    "df.describe()"
   ]
  },
  {
   "cell_type": "code",
   "execution_count": 38,
   "metadata": {
    "collapsed": true
   },
   "outputs": [],
   "source": [
    "df.to_csv('../data/vitamin_pd.txt', sep='\\t')"
   ]
  },
  {
   "cell_type": "markdown",
   "metadata": {},
   "source": [
    "### plot scatterplots"
   ]
  },
  {
   "cell_type": "code",
   "execution_count": 57,
   "metadata": {
    "scrolled": false
   },
   "outputs": [
    {
     "data": {
      "image/png": "[encoded data removed]",
      "text/plain": [
       "<matplotlib.figure.Figure at 0x10f675ba8>"
      ]
     },
     "metadata": {},
     "output_type": "display_data"
    }
   ],
   "source": [
    "# all 5 VitD measurements \n",
    "sns.set(color_codes=True)\n",
    "var = df.columns.drop('alpha_pd')\n",
    "sns.set_palette(\"Set2\", n_colors=len(var))\n",
    "for i in range(len(var)):\n",
    "    ax = sns.regplot(x=var[i], y=\"alpha_pd\", label=var[i], data=df)\n",
    "ax.set(xlabel='VitaminD measurement', ylabel='PD alpha diversity')\n",
    "ax.legend()\n",
    "plt.xlim(-5, 165)\n",
    "\n",
    "ax = ax.get_figure()\n",
    "ax.tight_layout()\n",
    "ax.savefig('../figures/PD_5VitD_reg.pdf')\n",
    "ax.savefig('../figures/PD_5VitD_reg.png')"
   ]
  },
  {
   "cell_type": "code",
   "execution_count": 50,
   "metadata": {},
   "outputs": [
    {
     "data": {
      "image/png": "[encoded data removed]",
      "text/plain": [
       "<matplotlib.figure.Figure at 0x11d6c3320>"
      ]
     },
     "metadata": {},
     "output_type": "display_data"
    }
   ],
   "source": [
    "# without ratio_catabolism\n",
    "var = df.columns.drop('alpha_pd')\n",
    "sns.set_palette(\"Set2\", n_colors=len(var))\n",
    "for i in range(len(var)-1):\n",
    "    ax = sns.regplot(x=var[i], y=\"alpha_pd\", label=var[i], data=df)\n",
    "ax.set(xlabel='VitaminD measurement', ylabel='PD alpha diversity')\n",
    "ax.legend()\n",
    "plt.xlim(-5, 165)\n",
    "\n",
    "ax = ax.get_figure()\n",
    "ax.tight_layout()\n",
    "ax.savefig('../figures/PD_4VitD_reg.pdf')\n",
    "ax.savefig('../figures/PD_4VitD_reg.png')"
   ]
  },
  {
   "cell_type": "code",
   "execution_count": 53,
   "metadata": {},
   "outputs": [
    {
     "data": {
      "image/png": "[encoded data removed]",
      "text/plain": [
       "<matplotlib.figure.Figure at 0x11e702198>"
      ]
     },
     "metadata": {},
     "output_type": "display_data"
    }
   ],
   "source": [
    "# without two ratio VitD variables\n",
    "var = df.columns.drop('alpha_pd')\n",
    "sns.set_palette(\"Set2\", n_colors=len(var))\n",
    "for i in range(len(var)-2):\n",
    "    ax = sns.regplot(x=var[i], y=\"alpha_pd\", label=var[i], data=df, ci=95)\n",
    "ax.set(xlabel='VitaminD measurement', ylabel='PD alpha diversity')\n",
    "ax.legend()\n",
    "plt.xlim(-5, 165)\n",
    "\n",
    "ax = ax.get_figure()\n",
    "ax.tight_layout()\n",
    "ax.savefig('../figures/PD_3VitD_reg.pdf')\n",
    "ax.savefig('../figures/PD_3VitD_reg.png')"
   ]
  },
  {
   "cell_type": "code",
   "execution_count": 52,
   "metadata": {
    "scrolled": false
   },
   "outputs": [
    {
     "data": {
      "image/png": "[encoded data removed]",
      "text/plain": [
       "<matplotlib.figure.Figure at 0x11e70c8d0>"
      ]
     },
     "metadata": {},
     "output_type": "display_data"
    }
   ],
   "source": [
    "# with only two ratio VitD variables\n",
    "var = df.columns.drop('alpha_pd')\n",
    "sns.set_palette(\"Set2\", n_colors=len(var)-2)\n",
    "for i in range(len(var)-3):\n",
    "    ax = sns.regplot(x=var[i+3], y=\"alpha_pd\", label=var[i+2], data=df, ci=95)\n",
    "ax.set(xlabel='VitaminD measurement', ylabel='PD alpha diversity')\n",
    "ax.legend()\n",
    "plt.xlim(-0.5, 8)\n",
    "\n",
    "ax = ax.get_figure()\n",
    "ax.tight_layout()\n",
    "ax.savefig('../figures/PD_RatioVitD_reg.pdf')"
   ]
  },
  {
   "cell_type": "markdown",
   "metadata": {},
   "source": [
    "## III. linear regression of PD alpha diversity vs. 5 vitaminD measurements"
   ]
  },
  {
   "cell_type": "code",
   "execution_count": 119,
   "metadata": {
    "scrolled": false
   },
   "outputs": [
    {
     "data": {
      "text/html": [
       "<div>\n",
       "<style>\n",
       "    .dataframe thead tr:only-child th {\n",
       "        text-align: right;\n",
       "    }\n",
       "\n",
       "    .dataframe thead th {\n",
       "        text-align: left;\n",
       "    }\n",
       "\n",
       "    .dataframe tbody tr th {\n",
       "        vertical-align: top;\n",
       "    }\n",
       "</style>\n",
       "<table border=\"1\" class=\"dataframe\">\n",
       "  <thead>\n",
       "    <tr style=\"text-align: right;\">\n",
       "      <th></th>\n",
       "      <th>y</th>\n",
       "      <th>X</th>\n",
       "      <th>slope</th>\n",
       "      <th>pvalue</th>\n",
       "      <th>adjusted R-square</th>\n",
       "      <th>norm test P-val</th>\n",
       "      <th>condition number</th>\n",
       "      <th>hetero test P-val</th>\n",
       "      <th>linear P-val</th>\n",
       "    </tr>\n",
       "  </thead>\n",
       "  <tbody>\n",
       "    <tr>\n",
       "      <th>0</th>\n",
       "      <td>alpha_pd</td>\n",
       "      <td>OHV1D3</td>\n",
       "      <td>0.051592</td>\n",
       "      <td>1.428321e-07</td>\n",
       "      <td>0.046173</td>\n",
       "      <td>5.071045e-05</td>\n",
       "      <td>188.765278</td>\n",
       "      <td>0.884284</td>\n",
       "      <td>0.744596</td>\n",
       "    </tr>\n",
       "    <tr>\n",
       "      <th>1</th>\n",
       "      <td>alpha_pd</td>\n",
       "      <td>OHVD3</td>\n",
       "      <td>-0.004865</td>\n",
       "      <td>7.607707e-01</td>\n",
       "      <td>-0.001637</td>\n",
       "      <td>6.808188e-07</td>\n",
       "      <td>112.280839</td>\n",
       "      <td>0.471899</td>\n",
       "      <td>0.578848</td>\n",
       "    </tr>\n",
       "    <tr>\n",
       "      <th>2</th>\n",
       "      <td>alpha_pd</td>\n",
       "      <td>OHV24D3</td>\n",
       "      <td>0.241207</td>\n",
       "      <td>2.381868e-02</td>\n",
       "      <td>0.007254</td>\n",
       "      <td>6.347246e-06</td>\n",
       "      <td>8.684601</td>\n",
       "      <td>0.138322</td>\n",
       "      <td>0.945413</td>\n",
       "    </tr>\n",
       "    <tr>\n",
       "      <th>3</th>\n",
       "      <td>alpha_pd</td>\n",
       "      <td>ratio_activation</td>\n",
       "      <td>1.152073</td>\n",
       "      <td>1.771088e-05</td>\n",
       "      <td>0.030987</td>\n",
       "      <td>3.180971e-06</td>\n",
       "      <td>6.212749</td>\n",
       "      <td>0.256221</td>\n",
       "      <td>0.391792</td>\n",
       "    </tr>\n",
       "    <tr>\n",
       "      <th>4</th>\n",
       "      <td>alpha_pd</td>\n",
       "      <td>ratio_catabolism</td>\n",
       "      <td>24.079698</td>\n",
       "      <td>2.894969e-04</td>\n",
       "      <td>0.021692</td>\n",
       "      <td>9.228702e-06</td>\n",
       "      <td>33.923192</td>\n",
       "      <td>0.063342</td>\n",
       "      <td>0.846119</td>\n",
       "    </tr>\n",
       "  </tbody>\n",
       "</table>\n",
       "</div>"
      ],
      "text/plain": [
       "          y                 X      slope        pvalue  adjusted R-square  \\\n",
       "0  alpha_pd            OHV1D3   0.051592  1.428321e-07           0.046173   \n",
       "1  alpha_pd             OHVD3  -0.004865  7.607707e-01          -0.001637   \n",
       "2  alpha_pd           OHV24D3   0.241207  2.381868e-02           0.007254   \n",
       "3  alpha_pd  ratio_activation   1.152073  1.771088e-05           0.030987   \n",
       "4  alpha_pd  ratio_catabolism  24.079698  2.894969e-04           0.021692   \n",
       "\n",
       "   norm test P-val  condition number  hetero test P-val  linear P-val  \n",
       "0     5.071045e-05        188.765278           0.884284      0.744596  \n",
       "1     6.808188e-07        112.280839           0.471899      0.578848  \n",
       "2     6.347246e-06          8.684601           0.138322      0.945413  \n",
       "3     3.180971e-06          6.212749           0.256221      0.391792  \n",
       "4     9.228702e-06         33.923192           0.063342      0.846119  "
      ]
     },
     "execution_count": 119,
     "metadata": {},
     "output_type": "execute_result"
    }
   ],
   "source": [
    "out = []\n",
    "for i in range(len(var)):\n",
    "    tmp = df[['alpha_pd', var[i]]].dropna(axis=0, how='any')\n",
    "    y = tmp['alpha_pd']\n",
    "    X = tmp[var[i]]\n",
    "    #results = smf.OLS(y, sm.add_constant(X), missing='drop').fit()\n",
    "    results = smf.OLS(y, sm.add_constant(X)).fit()\n",
    "    #print(results.summary())\n",
    "    \n",
    "    # normality test\n",
    "    name = ['Chi^2', 'Two-tail probability']\n",
    "    test = sms.omni_normtest(results.resid)\n",
    "    normtest = lzip(name, test)[1][1]\n",
    "    \n",
    "    # condition number\n",
    "    cn = np.linalg.cond(results.model.exog)\n",
    "    \n",
    "    # heteroskedasticity tests (null: the residual variance does not depend on the variables in x)\n",
    "    name = ['Lagrange multiplier statistic', 'p-value']\n",
    "    test = sms.het_breuschpagan(results.resid, results.model.exog)\n",
    "    heter = lzip(name, test)[1][1]\n",
    "    \n",
    "    # linearity test (null: is linear)\n",
    "    name = ['t value', 'p value']\n",
    "    test = sms.linear_harvey_collier(results)\n",
    "    linear = lzip(name, test)[1][1]\n",
    "\n",
    "    out.append(['alpha_pd', var[i], results.params[1], results.pvalues[1], \n",
    "                results.rsquared_adj, normtest, cn, heter, linear])\n",
    "out = pd.DataFrame(out, columns=['y', 'X', 'slope', 'pvalue', 'adjusted R-square', \n",
    "                                 'norm test P-val', 'condition number', 'hetero test P-val', 'linear P-val'])\n",
    "out"
   ]
  },
  {
   "cell_type": "markdown",
   "metadata": {},
   "source": [
    "#### diagnostic results: only break the 'normality' asssumption; all else hold\n",
    "This is not a concern, see here (https://stats.stackexchange.com/questions/75054/how-do-i-perform-a-regression-on-non-normal-data-which-remain-non-normal-when-tr)"
   ]
  },
  {
   "cell_type": "markdown",
   "metadata": {},
   "source": [
    "#### Diagnostics Plots and Tests"
   ]
  },
  {
   "cell_type": "code",
   "execution_count": 69,
   "metadata": {},
   "outputs": [
    {
     "data": {
      "text/plain": [
       "<matplotlib.text.Text at 0x11ee10ef0>"
      ]
     },
     "execution_count": 69,
     "metadata": {},
     "output_type": "execute_result"
    },
    {
     "data": {
      "image/png": "[encoded data removed]",
      "text/plain": [
       "<matplotlib.figure.Figure at 0x11edeb048>"
      ]
     },
     "metadata": {},
     "output_type": "display_data"
    }
   ],
   "source": [
    "# plot the data and fit\n",
    "plt.plot(X, y, 'ro')\n",
    "plt.plot(X, results.fittedvalues, 'b')\n",
    "plt.xlabel(var[i])\n",
    "plt.ylabel('PD Alpha')"
   ]
  },
  {
   "cell_type": "code",
   "execution_count": 70,
   "metadata": {},
   "outputs": [
    {
     "data": {
      "text/plain": [
       "<matplotlib.text.Text at 0x11ee17048>"
      ]
     },
     "execution_count": 70,
     "metadata": {},
     "output_type": "execute_result"
    },
    {
     "data": {
      "image/png": "[encoded data removed]",
      "text/plain": [
       "<matplotlib.figure.Figure at 0x11ef3d320>"
      ]
     },
     "metadata": {},
     "output_type": "display_data"
    }
   ],
   "source": [
    "# histogram of normalized residuals\n",
    "plt.hist(results.resid_pearson)\n",
    "plt.ylabel('Count')\n",
    "plt.xlabel('Normalized residuals')"
   ]
  },
  {
   "cell_type": "code",
   "execution_count": 109,
   "metadata": {},
   "outputs": [
    {
     "name": "stdout",
     "output_type": "stream",
     "text": [
      "[('Jarque-Bera', 13.266285142902351), ('Chi^2 two-tail prob.', 0.0013160208911760518), ('Skew', 0.21263565945227517), ('Kurtosis', 2.374068927781114)]\n",
      "[('Chi^2', 23.186384354366623), ('Two-tail probability', 9.2287017281316676e-06)]\n"
     ]
    }
   ],
   "source": [
    "# normality of residual tests\n",
    "# Jarque-Bera test\n",
    "name = ['Jarque-Bera', 'Chi^2 two-tail prob.', 'Skew', 'Kurtosis']\n",
    "test = sms.jarque_bera(results.resid)\n",
    "print(lzip(name, test))\n",
    "\n",
    "# Omni test\n",
    "name = ['Chi^2', 'Two-tail probability']\n",
    "test = sms.omni_normtest(results.resid)\n",
    "print(lzip(name, test))"
   ]
  },
  {
   "cell_type": "code",
   "execution_count": 72,
   "metadata": {},
   "outputs": [
    {
     "data": {
      "text/plain": [
       "<Container object of 3 artists>"
      ]
     },
     "execution_count": 72,
     "metadata": {},
     "output_type": "execute_result"
    },
    {
     "data": {
      "image/png": "[encoded data removed]",
      "text/plain": [
       "<matplotlib.figure.Figure at 0x11e061a58>"
      ]
     },
     "metadata": {},
     "output_type": "display_data"
    }
   ],
   "source": [
    "# cooks distance\n",
    "influence = results.get_influence()\n",
    "(c, p) = influence.cooks_distance # c is the distance and p is p-value\n",
    "plt.stem(np.arange(len(c)), c, markerfmt=',')"
   ]
  },
  {
   "cell_type": "code",
   "execution_count": 92,
   "metadata": {},
   "outputs": [
    {
     "data": {
      "text/plain": [
       "array([[ 0.06951663, -0.05370485],\n",
       "       [-0.00231121, -0.00275754],\n",
       "       [ 0.02167332, -0.0173622 ],\n",
       "       [-0.00982712,  0.00656197],\n",
       "       [ 0.00238826, -0.00668517]])"
      ]
     },
     "execution_count": 92,
     "metadata": {},
     "output_type": "execute_result"
    }
   ],
   "source": [
    "# influence test\n",
    "from statsmodels.stats.outliers_influence import OLSInfluence\n",
    "test_class = OLSInfluence(results)\n",
    "test_class.dfbetas[:5,:]"
   ]
  },
  {
   "cell_type": "code",
   "execution_count": 95,
   "metadata": {},
   "outputs": [
    {
     "data": {
      "image/png": "[encoded data removed]",
      "text/plain": [
       "<matplotlib.figure.Figure at 0x11ffe8ba8>"
      ]
     },
     "metadata": {},
     "output_type": "display_data"
    }
   ],
   "source": [
    "# residuals against leverage\n",
    "from statsmodels.graphics.regressionplots import plot_leverage_resid2\n",
    "fig, ax = plt.subplots(figsize=(8,6))\n",
    "fig = plot_leverage_resid2(results, ax = ax)"
   ]
  },
  {
   "cell_type": "code",
   "execution_count": 96,
   "metadata": {},
   "outputs": [
    {
     "data": {
      "text/plain": [
       "33.923191966589435"
      ]
     },
     "execution_count": 96,
     "metadata": {},
     "output_type": "execute_result"
    }
   ],
   "source": [
    "# multicolinearity\n",
    "np.linalg.cond(results.model.exog) # condition number"
   ]
  },
  {
   "cell_type": "code",
   "execution_count": 117,
   "metadata": {},
   "outputs": [
    {
     "name": "stdout",
     "output_type": "stream",
     "text": [
      "[('Lagrange multiplier statistic', 3.4476411016500679), ('p-valuef-value', 0.06334211022670018), ('f p-value', 3.4566736338293191)]\n",
      "[('F statistic', 0.97237458203175153), ('p-value', 0.59192078475013821)]\n"
     ]
    }
   ],
   "source": [
    "# heteroskedasticity tests (whether residuals have unequal variance)\n",
    "# Breush-Pagan test\n",
    "name = ['Lagrange multiplier statistic', 'p-value'\n",
    "        'f-value', 'f p-value']\n",
    "test = sms.het_breuschpagan(results.resid, results.model.exog)\n",
    "print(lzip(name, test))\n",
    "\n",
    "# Goldfeld-Quand test\n",
    "name = ['F statistic', 'p-value']\n",
    "test = sms.het_goldfeldquandt(results.resid, results.model.exog)\n",
    "print(lzip(name, test))"
   ]
  },
  {
   "cell_type": "code",
   "execution_count": 118,
   "metadata": {},
   "outputs": [
    {
     "data": {
      "text/plain": [
       "[('t value', 0.19416448878664003), ('p value', 0.84611851987307118)]"
      ]
     },
     "execution_count": 118,
     "metadata": {},
     "output_type": "execute_result"
    }
   ],
   "source": [
    "# linearity test\n",
    "name = ['t value', 'p value']\n",
    "test = sms.linear_harvey_collier(results)\n",
    "lzip(name, test)"
   ]
  },
  {
   "cell_type": "code",
   "execution_count": null,
   "metadata": {
    "collapsed": true
   },
   "outputs": [],
   "source": []
  },
  {
   "cell_type": "code",
   "execution_count": null,
   "metadata": {
    "collapsed": true
   },
   "outputs": [],
   "source": []
  },
  {
   "cell_type": "code",
   "execution_count": null,
   "metadata": {
    "collapsed": true
   },
   "outputs": [],
   "source": [
    "######### draft below"
   ]
  },
  {
   "cell_type": "markdown",
   "metadata": {
    "collapsed": true
   },
   "source": [
    "## correlation analysis with metadata"
   ]
  },
  {
   "cell_type": "code",
   "execution_count": null,
   "metadata": {
    "collapsed": true
   },
   "outputs": [],
   "source": [
    "covariates = np.array(['Geo_Loc_Name', 'Latitude', 'Longitude', 'Age', 'Sex', 'Height',\n",
    "                       'Weight',  'BMI','GIERACE', 'SITE', 'TUDRAMT', 'PASCORE', 'TURSMOKE', \n",
    "                       'DTVITD', 'M1ADEPR', 'M1VITMND', 'M1ANTIB', 'M1PROBI', 'OHV1D3', \n",
    "                       'OHV24D3', 'OHVD3', 'OHVD2', 'OHV1D2', 'OHV1D2CT', 'OHVD2CT', \n",
    "                       'OHVDTOT', 'OHV1DTOT', 'OHSEAS', 'VDstatus','alpha_pd'])\n",
    "tmp = table[covariates]"
   ]
  },
  {
   "cell_type": "code",
   "execution_count": null,
   "metadata": {},
   "outputs": [],
   "source": [
    "cov_cat = np.array(['Geo_Loc_Name', 'Sex','GIERACE','SITE', 'TUDRAMT',\n",
    "                    'TURSMOKE', 'M1ADEPR', 'M1VITMND', 'M1ANTIB', 'M1PROBI', 'OHV1D2CT', \n",
    "                    'OHVD2CT', 'OHSEAS', 'VDstatus'])\n",
    "for i in range(len(cov_cat)):\n",
    "    tmp[cov_cat[i]] = tmp[cov_cat[i]].astype('category').cat.codes"
   ]
  },
  {
   "cell_type": "code",
   "execution_count": null,
   "metadata": {},
   "outputs": [],
   "source": [
    "tmp.head()"
   ]
  },
  {
   "cell_type": "code",
   "execution_count": null,
   "metadata": {
    "collapsed": true
   },
   "outputs": [],
   "source": [
    "tmp = tmp.apply(pd.to_numeric, errors='coerce') "
   ]
  },
  {
   "cell_type": "code",
   "execution_count": null,
   "metadata": {},
   "outputs": [],
   "source": [
    "tmp.head()"
   ]
  },
  {
   "cell_type": "code",
   "execution_count": null,
   "metadata": {},
   "outputs": [],
   "source": [
    "import scipy as sp\n",
    "X = tmp.columns.drop('alpha_pd')\n",
    "\n",
    "results = []\n",
    "for i in range(len(X)):\n",
    "    A = tmp[['alpha_pd', X[i]]].dropna(axis=0, how='any')\n",
    "    es1, pval1 = sp.stats.spearmanr(A[X[i]], A['alpha_pd'])\n",
    "    #es2, pval2 = sp.stats.pearsonr(A[X[i]], A['alpha_pd'])\n",
    "    #results.append([es1, pval1, es2, pval2])\n",
    "    results.append([X[i], es1, pval1])"
   ]
  },
  {
   "cell_type": "code",
   "execution_count": null,
   "metadata": {
    "collapsed": true
   },
   "outputs": [],
   "source": [
    "results = pd.DataFrame(results, columns=['covariate', 'spearman es', 'spearman p-val'])"
   ]
  },
  {
   "cell_type": "code",
   "execution_count": null,
   "metadata": {},
   "outputs": [],
   "source": [
    "results.head()"
   ]
  },
  {
   "cell_type": "code",
   "execution_count": null,
   "metadata": {},
   "outputs": [],
   "source": [
    "results.shape"
   ]
  },
  {
   "cell_type": "code",
   "execution_count": null,
   "metadata": {
    "collapsed": true
   },
   "outputs": [],
   "source": []
  }
 ],
 "metadata": {
  "kernelspec": {
   "display_name": "Python 3",
   "language": "python",
   "name": "python3"
  },
  "language_info": {
   "codemirror_mode": {
    "name": "ipython",
    "version": 3
   },
   "file_extension": ".py",
   "mimetype": "text/x-python",
   "name": "python",
   "nbconvert_exporter": "python",
   "pygments_lexer": "ipython3",
   "version": "3.5.3"
  }
 },
 "nbformat": 4,
 "nbformat_minor": 2
}
