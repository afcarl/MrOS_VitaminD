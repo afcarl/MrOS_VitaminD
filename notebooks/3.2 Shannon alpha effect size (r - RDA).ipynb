{
 "cells": [
  {
   "cell_type": "code",
   "execution_count": 1,
   "metadata": {
    "collapsed": false
   },
   "outputs": [
    {
     "name": "stderr",
     "output_type": "stream",
     "text": [
      "Loading required package: permute\n",
      "Loading required package: lattice\n",
      "This is vegan 2.4-3\n"
     ]
    }
   ],
   "source": [
    "library(vegan)"
   ]
  },
  {
   "cell_type": "code",
   "execution_count": 2,
   "metadata": {
    "collapsed": true
   },
   "outputs": [],
   "source": [
    "mf = read.csv('../data/mapping_Shannonalpha.txt', stringsAsFactors=FALSE, sep='\\t')\n",
    "colnames(mf)[1] = 'SampleName'"
   ]
  },
  {
   "cell_type": "code",
   "execution_count": 3,
   "metadata": {
    "collapsed": false
   },
   "outputs": [
    {
     "data": {
      "text/html": [
       "<table>\n",
       "<thead><tr><th scope=col>SampleName</th><th scope=col>BarcodeSequence</th><th scope=col>LinkerPrimerSequence</th><th scope=col>Experiment_Design_Description</th><th scope=col>Library_Construction_Protocol</th><th scope=col>Linker</th><th scope=col>Platform</th><th scope=col>Center_Name</th><th scope=col>Center_Project</th><th scope=col>Instrument_Model</th><th scope=col>⋯</th><th scope=col>OHV1D2CT</th><th scope=col>OHVD2CT</th><th scope=col>OHVDTOT</th><th scope=col>OHV1DTOT</th><th scope=col>OHSEAS</th><th scope=col>VDstatus</th><th scope=col>Description</th><th scope=col>ratio_activation</th><th scope=col>ratio_catabolism</th><th scope=col>alpha_shannon</th></tr></thead>\n",
       "<tbody>\n",
       "\t<tr><td>BI0023                                              </td><td>TCTGGTGACATT                                        </td><td>GGACTACHVGGGTWTCTAAT                                </td><td>16S stool samples sequenced for MrOS Vitamin D study</td><td>16S rRNA v4                                         </td><td>GT                                                  </td><td>Illumina                                            </td><td>BI                                                  </td><td>MrOS                                                </td><td>Illumina MiSeq                                      </td><td>⋯                                                   </td><td>1: Yes                                              </td><td>1: Yes                                              </td><td>25.8                                                </td><td>0.0393                                              </td><td>3:SUMMER                                            </td><td>sufficiency                                         </td><td>Orwoll.BI0023.BI                                    </td><td>0.001523256                                         </td><td>0.06860465                                          </td><td>5.621879                                            </td></tr>\n",
       "\t<tr><td>BI0056                                              </td><td>CAAGCATGCCTA                                        </td><td>GGACTACHVGGGTWTCTAAT                                </td><td>16S stool samples sequenced for MrOS Vitamin D study</td><td>16S rRNA v4                                         </td><td>GT                                                  </td><td>Illumina                                            </td><td>BI                                                  </td><td>MrOS                                                </td><td>Illumina MiSeq                                      </td><td>⋯                                                   </td><td>1: Yes                                              </td><td>1: Yes                                              </td><td>39.2                                                </td><td>0.0619                                              </td><td>2:SPRING                                            </td><td>sufficiency                                         </td><td>Orwoll.BI0056.BI                                    </td><td>0.001579082                                         </td><td>0.09974490                                          </td><td>3.766687                                            </td></tr>\n",
       "\t<tr><td>BI0131                                              </td><td>CTATTTGCGACA                                        </td><td>GGACTACHVGGGTWTCTAAT                                </td><td>16S stool samples sequenced for MrOS Vitamin D study</td><td>16S rRNA v4                                         </td><td>GT                                                  </td><td>Illumina                                            </td><td>BI                                                  </td><td>MrOS                                                </td><td>Illumina MiSeq                                      </td><td>⋯                                                   </td><td>1: Yes                                              </td><td>1: Yes                                              </td><td>23.1                                                </td><td>0.0521                                              </td><td>2:SPRING                                            </td><td>sufficiency                                         </td><td>Orwoll.BI0131.BI                                    </td><td>0.002255411                                         </td><td>0.06450216                                          </td><td>3.945446                                            </td></tr>\n",
       "\t<tr><td>BI0153                                              </td><td>ATCGGCGTTACA                                        </td><td>GGACTACHVGGGTWTCTAAT                                </td><td>16S stool samples sequenced for MrOS Vitamin D study</td><td>16S rRNA v4                                         </td><td>GT                                                  </td><td>Illumina                                            </td><td>BI                                                  </td><td>MrOS                                                </td><td>Illumina MiSeq                                      </td><td>⋯                                                   </td><td>1: Yes                                              </td><td>1: Yes                                              </td><td>27.3                                                </td><td>0.0431                                              </td><td>2:SPRING                                            </td><td>sufficiency                                         </td><td>Orwoll.BI0153.BI                                    </td><td>0.001578755                                         </td><td>0.07838828                                          </td><td>4.801318                                            </td></tr>\n",
       "\t<tr><td>BI0215                                              </td><td>CCTCTCGTGATC                                        </td><td>GGACTACHVGGGTWTCTAAT                                </td><td>16S stool samples sequenced for MrOS Vitamin D study</td><td>16S rRNA v4                                         </td><td>GT                                                  </td><td>Illumina                                            </td><td>BI                                                  </td><td>MrOS                                                </td><td>Illumina MiSeq                                      </td><td>⋯                                                   </td><td>1: Yes                                              </td><td>1: Yes                                              </td><td>33.0                                                </td><td>0.0502                                              </td><td>4:FALL                                              </td><td>sufficiency                                         </td><td>Orwoll.BI0215.BI                                    </td><td>0.001521212                                         </td><td>0.10969697                                          </td><td>5.229841                                            </td></tr>\n",
       "\t<tr><td>BI0353                                              </td><td>TGCCATCTGAAT                                        </td><td>GGACTACHVGGGTWTCTAAT                                </td><td>16S stool samples sequenced for MrOS Vitamin D study</td><td>16S rRNA v4                                         </td><td>GT                                                  </td><td>Illumina                                            </td><td>BI                                                  </td><td>MrOS                                                </td><td>Illumina MiSeq                                      </td><td>⋯                                                   </td><td>1: Yes                                              </td><td>1: Yes                                              </td><td>19.5                                                </td><td>0.0455                                              </td><td>2:SPRING                                            </td><td>deficiency                                          </td><td>Orwoll.BI0353.BI                                    </td><td>0.002333333                                         </td><td>0.09179487                                          </td><td>4.111526                                            </td></tr>\n",
       "</tbody>\n",
       "</table>\n"
      ],
      "text/latex": [
       "\\begin{tabular}{r|llllllllllllllllllllllllllllllllllllllllllllllllllllllllllllllllllll}\n",
       " SampleName & BarcodeSequence & LinkerPrimerSequence & Experiment\\_Design\\_Description & Library\\_Construction\\_Protocol & Linker & Platform & Center\\_Name & Center\\_Project & Instrument\\_Model & ⋯ & OHV1D2CT & OHVD2CT & OHVDTOT & OHV1DTOT & OHSEAS & VDstatus & Description & ratio\\_activation & ratio\\_catabolism & alpha\\_shannon\\\\\n",
       "\\hline\n",
       "\t BI0023                                               & TCTGGTGACATT                                         & GGACTACHVGGGTWTCTAAT                                 & 16S stool samples sequenced for MrOS Vitamin D study & 16S rRNA v4                                          & GT                                                   & Illumina                                             & BI                                                   & MrOS                                                 & Illumina MiSeq                                       & ⋯                                                    & 1: Yes                                               & 1: Yes                                               & 25.8                                                 & 0.0393                                               & 3:SUMMER                                             & sufficiency                                          & Orwoll.BI0023.BI                                     & 0.001523256                                          & 0.06860465                                           & 5.621879                                            \\\\\n",
       "\t BI0056                                               & CAAGCATGCCTA                                         & GGACTACHVGGGTWTCTAAT                                 & 16S stool samples sequenced for MrOS Vitamin D study & 16S rRNA v4                                          & GT                                                   & Illumina                                             & BI                                                   & MrOS                                                 & Illumina MiSeq                                       & ⋯                                                    & 1: Yes                                               & 1: Yes                                               & 39.2                                                 & 0.0619                                               & 2:SPRING                                             & sufficiency                                          & Orwoll.BI0056.BI                                     & 0.001579082                                          & 0.09974490                                           & 3.766687                                            \\\\\n",
       "\t BI0131                                               & CTATTTGCGACA                                         & GGACTACHVGGGTWTCTAAT                                 & 16S stool samples sequenced for MrOS Vitamin D study & 16S rRNA v4                                          & GT                                                   & Illumina                                             & BI                                                   & MrOS                                                 & Illumina MiSeq                                       & ⋯                                                    & 1: Yes                                               & 1: Yes                                               & 23.1                                                 & 0.0521                                               & 2:SPRING                                             & sufficiency                                          & Orwoll.BI0131.BI                                     & 0.002255411                                          & 0.06450216                                           & 3.945446                                            \\\\\n",
       "\t BI0153                                               & ATCGGCGTTACA                                         & GGACTACHVGGGTWTCTAAT                                 & 16S stool samples sequenced for MrOS Vitamin D study & 16S rRNA v4                                          & GT                                                   & Illumina                                             & BI                                                   & MrOS                                                 & Illumina MiSeq                                       & ⋯                                                    & 1: Yes                                               & 1: Yes                                               & 27.3                                                 & 0.0431                                               & 2:SPRING                                             & sufficiency                                          & Orwoll.BI0153.BI                                     & 0.001578755                                          & 0.07838828                                           & 4.801318                                            \\\\\n",
       "\t BI0215                                               & CCTCTCGTGATC                                         & GGACTACHVGGGTWTCTAAT                                 & 16S stool samples sequenced for MrOS Vitamin D study & 16S rRNA v4                                          & GT                                                   & Illumina                                             & BI                                                   & MrOS                                                 & Illumina MiSeq                                       & ⋯                                                    & 1: Yes                                               & 1: Yes                                               & 33.0                                                 & 0.0502                                               & 4:FALL                                               & sufficiency                                          & Orwoll.BI0215.BI                                     & 0.001521212                                          & 0.10969697                                           & 5.229841                                            \\\\\n",
       "\t BI0353                                               & TGCCATCTGAAT                                         & GGACTACHVGGGTWTCTAAT                                 & 16S stool samples sequenced for MrOS Vitamin D study & 16S rRNA v4                                          & GT                                                   & Illumina                                             & BI                                                   & MrOS                                                 & Illumina MiSeq                                       & ⋯                                                    & 1: Yes                                               & 1: Yes                                               & 19.5                                                 & 0.0455                                               & 2:SPRING                                             & deficiency                                           & Orwoll.BI0353.BI                                     & 0.002333333                                          & 0.09179487                                           & 4.111526                                            \\\\\n",
       "\\end{tabular}\n"
      ],
      "text/markdown": [
       "\n",
       "SampleName | BarcodeSequence | LinkerPrimerSequence | Experiment_Design_Description | Library_Construction_Protocol | Linker | Platform | Center_Name | Center_Project | Instrument_Model | ⋯ | OHV1D2CT | OHVD2CT | OHVDTOT | OHV1DTOT | OHSEAS | VDstatus | Description | ratio_activation | ratio_catabolism | alpha_shannon | \n",
       "|---|---|---|---|---|---|\n",
       "| BI0023                                               | TCTGGTGACATT                                         | GGACTACHVGGGTWTCTAAT                                 | 16S stool samples sequenced for MrOS Vitamin D study | 16S rRNA v4                                          | GT                                                   | Illumina                                             | BI                                                   | MrOS                                                 | Illumina MiSeq                                       | ⋯                                                    | 1: Yes                                               | 1: Yes                                               | 25.8                                                 | 0.0393                                               | 3:SUMMER                                             | sufficiency                                          | Orwoll.BI0023.BI                                     | 0.001523256                                          | 0.06860465                                           | 5.621879                                             | \n",
       "| BI0056                                               | CAAGCATGCCTA                                         | GGACTACHVGGGTWTCTAAT                                 | 16S stool samples sequenced for MrOS Vitamin D study | 16S rRNA v4                                          | GT                                                   | Illumina                                             | BI                                                   | MrOS                                                 | Illumina MiSeq                                       | ⋯                                                    | 1: Yes                                               | 1: Yes                                               | 39.2                                                 | 0.0619                                               | 2:SPRING                                             | sufficiency                                          | Orwoll.BI0056.BI                                     | 0.001579082                                          | 0.09974490                                           | 3.766687                                             | \n",
       "| BI0131                                               | CTATTTGCGACA                                         | GGACTACHVGGGTWTCTAAT                                 | 16S stool samples sequenced for MrOS Vitamin D study | 16S rRNA v4                                          | GT                                                   | Illumina                                             | BI                                                   | MrOS                                                 | Illumina MiSeq                                       | ⋯                                                    | 1: Yes                                               | 1: Yes                                               | 23.1                                                 | 0.0521                                               | 2:SPRING                                             | sufficiency                                          | Orwoll.BI0131.BI                                     | 0.002255411                                          | 0.06450216                                           | 3.945446                                             | \n",
       "| BI0153                                               | ATCGGCGTTACA                                         | GGACTACHVGGGTWTCTAAT                                 | 16S stool samples sequenced for MrOS Vitamin D study | 16S rRNA v4                                          | GT                                                   | Illumina                                             | BI                                                   | MrOS                                                 | Illumina MiSeq                                       | ⋯                                                    | 1: Yes                                               | 1: Yes                                               | 27.3                                                 | 0.0431                                               | 2:SPRING                                             | sufficiency                                          | Orwoll.BI0153.BI                                     | 0.001578755                                          | 0.07838828                                           | 4.801318                                             | \n",
       "| BI0215                                               | CCTCTCGTGATC                                         | GGACTACHVGGGTWTCTAAT                                 | 16S stool samples sequenced for MrOS Vitamin D study | 16S rRNA v4                                          | GT                                                   | Illumina                                             | BI                                                   | MrOS                                                 | Illumina MiSeq                                       | ⋯                                                    | 1: Yes                                               | 1: Yes                                               | 33.0                                                 | 0.0502                                               | 4:FALL                                               | sufficiency                                          | Orwoll.BI0215.BI                                     | 0.001521212                                          | 0.10969697                                           | 5.229841                                             | \n",
       "| BI0353                                               | TGCCATCTGAAT                                         | GGACTACHVGGGTWTCTAAT                                 | 16S stool samples sequenced for MrOS Vitamin D study | 16S rRNA v4                                          | GT                                                   | Illumina                                             | BI                                                   | MrOS                                                 | Illumina MiSeq                                       | ⋯                                                    | 1: Yes                                               | 1: Yes                                               | 19.5                                                 | 0.0455                                               | 2:SPRING                                             | deficiency                                           | Orwoll.BI0353.BI                                     | 0.002333333                                          | 0.09179487                                           | 4.111526                                             | \n",
       "\n",
       "\n"
      ],
      "text/plain": [
       "  SampleName BarcodeSequence LinkerPrimerSequence\n",
       "1 BI0023     TCTGGTGACATT    GGACTACHVGGGTWTCTAAT\n",
       "2 BI0056     CAAGCATGCCTA    GGACTACHVGGGTWTCTAAT\n",
       "3 BI0131     CTATTTGCGACA    GGACTACHVGGGTWTCTAAT\n",
       "4 BI0153     ATCGGCGTTACA    GGACTACHVGGGTWTCTAAT\n",
       "5 BI0215     CCTCTCGTGATC    GGACTACHVGGGTWTCTAAT\n",
       "6 BI0353     TGCCATCTGAAT    GGACTACHVGGGTWTCTAAT\n",
       "  Experiment_Design_Description                       \n",
       "1 16S stool samples sequenced for MrOS Vitamin D study\n",
       "2 16S stool samples sequenced for MrOS Vitamin D study\n",
       "3 16S stool samples sequenced for MrOS Vitamin D study\n",
       "4 16S stool samples sequenced for MrOS Vitamin D study\n",
       "5 16S stool samples sequenced for MrOS Vitamin D study\n",
       "6 16S stool samples sequenced for MrOS Vitamin D study\n",
       "  Library_Construction_Protocol Linker Platform Center_Name Center_Project\n",
       "1 16S rRNA v4                   GT     Illumina BI          MrOS          \n",
       "2 16S rRNA v4                   GT     Illumina BI          MrOS          \n",
       "3 16S rRNA v4                   GT     Illumina BI          MrOS          \n",
       "4 16S rRNA v4                   GT     Illumina BI          MrOS          \n",
       "5 16S rRNA v4                   GT     Illumina BI          MrOS          \n",
       "6 16S rRNA v4                   GT     Illumina BI          MrOS          \n",
       "  Instrument_Model ⋯ OHV1D2CT OHVD2CT OHVDTOT OHV1DTOT OHSEAS   VDstatus   \n",
       "1 Illumina MiSeq   ⋯ 1: Yes   1: Yes  25.8    0.0393   3:SUMMER sufficiency\n",
       "2 Illumina MiSeq   ⋯ 1: Yes   1: Yes  39.2    0.0619   2:SPRING sufficiency\n",
       "3 Illumina MiSeq   ⋯ 1: Yes   1: Yes  23.1    0.0521   2:SPRING sufficiency\n",
       "4 Illumina MiSeq   ⋯ 1: Yes   1: Yes  27.3    0.0431   2:SPRING sufficiency\n",
       "5 Illumina MiSeq   ⋯ 1: Yes   1: Yes  33.0    0.0502   4:FALL   sufficiency\n",
       "6 Illumina MiSeq   ⋯ 1: Yes   1: Yes  19.5    0.0455   2:SPRING deficiency \n",
       "  Description      ratio_activation ratio_catabolism alpha_shannon\n",
       "1 Orwoll.BI0023.BI 0.001523256      0.06860465       5.621879     \n",
       "2 Orwoll.BI0056.BI 0.001579082      0.09974490       3.766687     \n",
       "3 Orwoll.BI0131.BI 0.002255411      0.06450216       3.945446     \n",
       "4 Orwoll.BI0153.BI 0.001578755      0.07838828       4.801318     \n",
       "5 Orwoll.BI0215.BI 0.001521212      0.10969697       5.229841     \n",
       "6 Orwoll.BI0353.BI 0.002333333      0.09179487       4.111526     "
      ]
     },
     "metadata": {},
     "output_type": "display_data"
    }
   ],
   "source": [
    "head(mf)"
   ]
  },
  {
   "cell_type": "code",
   "execution_count": 4,
   "metadata": {
    "collapsed": false
   },
   "outputs": [
    {
     "data": {
      "text/html": [
       "<ol class=list-inline>\n",
       "\t<li>599</li>\n",
       "\t<li>68</li>\n",
       "</ol>\n"
      ],
      "text/latex": [
       "\\begin{enumerate*}\n",
       "\\item 599\n",
       "\\item 68\n",
       "\\end{enumerate*}\n"
      ],
      "text/markdown": [
       "1. 599\n",
       "2. 68\n",
       "\n",
       "\n"
      ],
      "text/plain": [
       "[1] 599  68"
      ]
     },
     "metadata": {},
     "output_type": "display_data"
    }
   ],
   "source": [
    "dim(mf)"
   ]
  },
  {
   "cell_type": "code",
   "execution_count": 5,
   "metadata": {
    "collapsed": false
   },
   "outputs": [],
   "source": [
    "# convert categorial to factors\n",
    "vars_cat = c('Sex','GIERACE', 'SITE', 'TUDRAMT', 'TURSMOKE', 'M1ADEPR', 'M1VITMND', 'M1ANTIB', 'M1PROBI', \n",
    "               'OHSEAS', 'VDstatus', 'OHV1D2CT', 'OHVD2CT')\n",
    "mf[vars_cat] = lapply(mf[vars_cat], factor)\n",
    "\n",
    "# convert continuous to numeric\n",
    "vars_cts = c('Latitude', 'Longitude', 'Age', 'Height', 'Weight', 'BMI', 'PASCORE', 'DTVITD', \n",
    "             'OHV1D3', 'OHV24D3', 'OHVD3', 'OHVD2', 'OHV1D2', 'OHVDTOT', 'OHV1DTOT', 'alpha_shannon')"
   ]
  },
  {
   "cell_type": "code",
   "execution_count": 6,
   "metadata": {
    "collapsed": false
   },
   "outputs": [
    {
     "data": {
      "text/html": [
       "13"
      ],
      "text/latex": [
       "13"
      ],
      "text/markdown": [
       "13"
      ],
      "text/plain": [
       "[1] 13"
      ]
     },
     "metadata": {},
     "output_type": "display_data"
    },
    {
     "data": {
      "text/html": [
       "16"
      ],
      "text/latex": [
       "16"
      ],
      "text/markdown": [
       "16"
      ],
      "text/plain": [
       "[1] 16"
      ]
     },
     "metadata": {},
     "output_type": "display_data"
    }
   ],
   "source": [
    "length(vars_cat)\n",
    "length(vars_cts)"
   ]
  },
  {
   "cell_type": "code",
   "execution_count": 7,
   "metadata": {
    "collapsed": false
   },
   "outputs": [
    {
     "data": {
      "text/html": [
       "<ol class=list-inline>\n",
       "\t<li>599</li>\n",
       "\t<li>29</li>\n",
       "</ol>\n"
      ],
      "text/latex": [
       "\\begin{enumerate*}\n",
       "\\item 599\n",
       "\\item 29\n",
       "\\end{enumerate*}\n"
      ],
      "text/markdown": [
       "1. 599\n",
       "2. 29\n",
       "\n",
       "\n"
      ],
      "text/plain": [
       "[1] 599  29"
      ]
     },
     "metadata": {},
     "output_type": "display_data"
    },
    {
     "data": {
      "text/html": [
       "<table>\n",
       "<thead><tr><th scope=col>Sex</th><th scope=col>GIERACE</th><th scope=col>SITE</th><th scope=col>TUDRAMT</th><th scope=col>TURSMOKE</th><th scope=col>M1ADEPR</th><th scope=col>M1VITMND</th><th scope=col>M1ANTIB</th><th scope=col>M1PROBI</th><th scope=col>OHSEAS</th><th scope=col>⋯</th><th scope=col>PASCORE</th><th scope=col>DTVITD</th><th scope=col>OHV1D3</th><th scope=col>OHV24D3</th><th scope=col>OHVD3</th><th scope=col>OHVD2</th><th scope=col>OHV1D2</th><th scope=col>OHVDTOT</th><th scope=col>OHV1DTOT</th><th scope=col>alpha_shannon</th></tr></thead>\n",
       "<tbody>\n",
       "\t<tr><td>male                           </td><td>1:WHITE                        </td><td>Birmingham                     </td><td>1: Less than one drink per week</td><td>M:Not Applicable               </td><td>0: No                          </td><td>0: No                          </td><td>0: No                          </td><td>0: No                          </td><td>3:SUMMER                       </td><td>⋯                              </td><td> 91.00000                      </td><td>250.90                         </td><td>0.0393                         </td><td>1.77                           </td><td>25.8                           </td><td>0                              </td><td>0                              </td><td>25.8                           </td><td>0.0393                         </td><td>5.621879                       </td></tr>\n",
       "\t<tr><td>male                           </td><td>1:WHITE                        </td><td>Birmingham                     </td><td>0:None drinker                 </td><td>1:PAST                         </td><td>0: No                          </td><td>1: Yes                         </td><td>1: Yes                         </td><td>0: No                          </td><td>2:SPRING                       </td><td>⋯                              </td><td>199.17857                      </td><td> 72.97                         </td><td>0.0619                         </td><td>3.91                           </td><td>39.2                           </td><td>0                              </td><td>0                              </td><td>39.2                           </td><td>0.0619                         </td><td>3.766687                       </td></tr>\n",
       "\t<tr><td>male                           </td><td>1:WHITE                        </td><td>Birmingham                     </td><td>0:None drinker                 </td><td>1:PAST                         </td><td>0: No                          </td><td>1: Yes                         </td><td>0: No                          </td><td>0: No                          </td><td>2:SPRING                       </td><td>⋯                              </td><td>161.71429                      </td><td>312.15                         </td><td>0.0521                         </td><td>1.49                           </td><td>23.1                           </td><td>0                              </td><td>0                              </td><td>23.1                           </td><td>0.0521                         </td><td>3.945446                       </td></tr>\n",
       "\t<tr><td>male                           </td><td>1:WHITE                        </td><td>Birmingham                     </td><td>4: 6-13 drinks per week        </td><td>1:PAST                         </td><td>0: No                          </td><td>1: Yes                         </td><td>0: No                          </td><td>0: No                          </td><td>2:SPRING                       </td><td>⋯                              </td><td> 88.21429                      </td><td>323.52                         </td><td>0.0431                         </td><td>2.14                           </td><td>27.3                           </td><td>0                              </td><td>0                              </td><td>27.3                           </td><td>0.0431                         </td><td>4.801318                       </td></tr>\n",
       "\t<tr><td>male                           </td><td>1:WHITE                        </td><td>Birmingham                     </td><td>3: 3-5 drinks per week         </td><td>1:PAST                         </td><td>0: No                          </td><td>0: No                          </td><td>0: No                          </td><td>0: No                          </td><td>4:FALL                         </td><td>⋯                              </td><td>256.82143                      </td><td> 31.95                         </td><td>0.0502                         </td><td>3.62                           </td><td>33.0                           </td><td>0                              </td><td>0                              </td><td>33.0                           </td><td>0.0502                         </td><td>5.229841                       </td></tr>\n",
       "\t<tr><td>male                           </td><td>1:WHITE                        </td><td>Birmingham                     </td><td>0:None drinker                 </td><td>1:PAST                         </td><td>0: No                          </td><td>0: No                          </td><td>1: Yes                         </td><td>0: No                          </td><td>2:SPRING                       </td><td>⋯                              </td><td>179.57143                      </td><td>156.06                         </td><td>0.0455                         </td><td>1.79                           </td><td>19.5                           </td><td>0                              </td><td>0                              </td><td>19.5                           </td><td>0.0455                         </td><td>4.111526                       </td></tr>\n",
       "</tbody>\n",
       "</table>\n"
      ],
      "text/latex": [
       "\\begin{tabular}{r|lllllllllllllllllllllllllllll}\n",
       " Sex & GIERACE & SITE & TUDRAMT & TURSMOKE & M1ADEPR & M1VITMND & M1ANTIB & M1PROBI & OHSEAS & ⋯ & PASCORE & DTVITD & OHV1D3 & OHV24D3 & OHVD3 & OHVD2 & OHV1D2 & OHVDTOT & OHV1DTOT & alpha\\_shannon\\\\\n",
       "\\hline\n",
       "\t male                            & 1:WHITE                         & Birmingham                      & 1: Less than one drink per week & M:Not Applicable                & 0: No                           & 0: No                           & 0: No                           & 0: No                           & 3:SUMMER                        & ⋯                               &  91.00000                       & 250.90                          & 0.0393                          & 1.77                            & 25.8                            & 0                               & 0                               & 25.8                            & 0.0393                          & 5.621879                       \\\\\n",
       "\t male                            & 1:WHITE                         & Birmingham                      & 0:None drinker                  & 1:PAST                          & 0: No                           & 1: Yes                          & 1: Yes                          & 0: No                           & 2:SPRING                        & ⋯                               & 199.17857                       &  72.97                          & 0.0619                          & 3.91                            & 39.2                            & 0                               & 0                               & 39.2                            & 0.0619                          & 3.766687                       \\\\\n",
       "\t male                            & 1:WHITE                         & Birmingham                      & 0:None drinker                  & 1:PAST                          & 0: No                           & 1: Yes                          & 0: No                           & 0: No                           & 2:SPRING                        & ⋯                               & 161.71429                       & 312.15                          & 0.0521                          & 1.49                            & 23.1                            & 0                               & 0                               & 23.1                            & 0.0521                          & 3.945446                       \\\\\n",
       "\t male                            & 1:WHITE                         & Birmingham                      & 4: 6-13 drinks per week         & 1:PAST                          & 0: No                           & 1: Yes                          & 0: No                           & 0: No                           & 2:SPRING                        & ⋯                               &  88.21429                       & 323.52                          & 0.0431                          & 2.14                            & 27.3                            & 0                               & 0                               & 27.3                            & 0.0431                          & 4.801318                       \\\\\n",
       "\t male                            & 1:WHITE                         & Birmingham                      & 3: 3-5 drinks per week          & 1:PAST                          & 0: No                           & 0: No                           & 0: No                           & 0: No                           & 4:FALL                          & ⋯                               & 256.82143                       &  31.95                          & 0.0502                          & 3.62                            & 33.0                            & 0                               & 0                               & 33.0                            & 0.0502                          & 5.229841                       \\\\\n",
       "\t male                            & 1:WHITE                         & Birmingham                      & 0:None drinker                  & 1:PAST                          & 0: No                           & 0: No                           & 1: Yes                          & 0: No                           & 2:SPRING                        & ⋯                               & 179.57143                       & 156.06                          & 0.0455                          & 1.79                            & 19.5                            & 0                               & 0                               & 19.5                            & 0.0455                          & 4.111526                       \\\\\n",
       "\\end{tabular}\n"
      ],
      "text/markdown": [
       "\n",
       "Sex | GIERACE | SITE | TUDRAMT | TURSMOKE | M1ADEPR | M1VITMND | M1ANTIB | M1PROBI | OHSEAS | ⋯ | PASCORE | DTVITD | OHV1D3 | OHV24D3 | OHVD3 | OHVD2 | OHV1D2 | OHVDTOT | OHV1DTOT | alpha_shannon | \n",
       "|---|---|---|---|---|---|\n",
       "| male                            | 1:WHITE                         | Birmingham                      | 1: Less than one drink per week | M:Not Applicable                | 0: No                           | 0: No                           | 0: No                           | 0: No                           | 3:SUMMER                        | ⋯                               |  91.00000                       | 250.90                          | 0.0393                          | 1.77                            | 25.8                            | 0                               | 0                               | 25.8                            | 0.0393                          | 5.621879                        | \n",
       "| male                            | 1:WHITE                         | Birmingham                      | 0:None drinker                  | 1:PAST                          | 0: No                           | 1: Yes                          | 1: Yes                          | 0: No                           | 2:SPRING                        | ⋯                               | 199.17857                       |  72.97                          | 0.0619                          | 3.91                            | 39.2                            | 0                               | 0                               | 39.2                            | 0.0619                          | 3.766687                        | \n",
       "| male                            | 1:WHITE                         | Birmingham                      | 0:None drinker                  | 1:PAST                          | 0: No                           | 1: Yes                          | 0: No                           | 0: No                           | 2:SPRING                        | ⋯                               | 161.71429                       | 312.15                          | 0.0521                          | 1.49                            | 23.1                            | 0                               | 0                               | 23.1                            | 0.0521                          | 3.945446                        | \n",
       "| male                            | 1:WHITE                         | Birmingham                      | 4: 6-13 drinks per week         | 1:PAST                          | 0: No                           | 1: Yes                          | 0: No                           | 0: No                           | 2:SPRING                        | ⋯                               |  88.21429                       | 323.52                          | 0.0431                          | 2.14                            | 27.3                            | 0                               | 0                               | 27.3                            | 0.0431                          | 4.801318                        | \n",
       "| male                            | 1:WHITE                         | Birmingham                      | 3: 3-5 drinks per week          | 1:PAST                          | 0: No                           | 0: No                           | 0: No                           | 0: No                           | 4:FALL                          | ⋯                               | 256.82143                       |  31.95                          | 0.0502                          | 3.62                            | 33.0                            | 0                               | 0                               | 33.0                            | 0.0502                          | 5.229841                        | \n",
       "| male                            | 1:WHITE                         | Birmingham                      | 0:None drinker                  | 1:PAST                          | 0: No                           | 0: No                           | 1: Yes                          | 0: No                           | 2:SPRING                        | ⋯                               | 179.57143                       | 156.06                          | 0.0455                          | 1.79                            | 19.5                            | 0                               | 0                               | 19.5                            | 0.0455                          | 4.111526                        | \n",
       "\n",
       "\n"
      ],
      "text/plain": [
       "  Sex  GIERACE SITE       TUDRAMT                         TURSMOKE        \n",
       "1 male 1:WHITE Birmingham 1: Less than one drink per week M:Not Applicable\n",
       "2 male 1:WHITE Birmingham 0:None drinker                  1:PAST          \n",
       "3 male 1:WHITE Birmingham 0:None drinker                  1:PAST          \n",
       "4 male 1:WHITE Birmingham 4: 6-13 drinks per week         1:PAST          \n",
       "5 male 1:WHITE Birmingham 3: 3-5 drinks per week          1:PAST          \n",
       "6 male 1:WHITE Birmingham 0:None drinker                  1:PAST          \n",
       "  M1ADEPR M1VITMND M1ANTIB M1PROBI OHSEAS   ⋯ PASCORE   DTVITD OHV1D3 OHV24D3\n",
       "1 0: No   0: No    0: No   0: No   3:SUMMER ⋯  91.00000 250.90 0.0393 1.77   \n",
       "2 0: No   1: Yes   1: Yes  0: No   2:SPRING ⋯ 199.17857  72.97 0.0619 3.91   \n",
       "3 0: No   1: Yes   0: No   0: No   2:SPRING ⋯ 161.71429 312.15 0.0521 1.49   \n",
       "4 0: No   1: Yes   0: No   0: No   2:SPRING ⋯  88.21429 323.52 0.0431 2.14   \n",
       "5 0: No   0: No    0: No   0: No   4:FALL   ⋯ 256.82143  31.95 0.0502 3.62   \n",
       "6 0: No   0: No    1: Yes  0: No   2:SPRING ⋯ 179.57143 156.06 0.0455 1.79   \n",
       "  OHVD3 OHVD2 OHV1D2 OHVDTOT OHV1DTOT alpha_shannon\n",
       "1 25.8  0     0      25.8    0.0393   5.621879     \n",
       "2 39.2  0     0      39.2    0.0619   3.766687     \n",
       "3 23.1  0     0      23.1    0.0521   3.945446     \n",
       "4 27.3  0     0      27.3    0.0431   4.801318     \n",
       "5 33.0  0     0      33.0    0.0502   5.229841     \n",
       "6 19.5  0     0      19.5    0.0455   4.111526     "
      ]
     },
     "metadata": {},
     "output_type": "display_data"
    }
   ],
   "source": [
    "dat = mf[c(vars_cat, vars_cts)]\n",
    "dim(dat)\n",
    "head(dat)"
   ]
  },
  {
   "cell_type": "code",
   "execution_count": 8,
   "metadata": {
    "collapsed": false
   },
   "outputs": [
    {
     "data": {
      "text/plain": [
       "   Sex                    GIERACE             SITE    \n",
       " male:599   1:WHITE           :520   Birmingham : 75  \n",
       "            2:AFRICAN AMERICAN: 24   Minneapolis: 91  \n",
       "            3:ASIAN           : 34   Palo Alto  : 86  \n",
       "            4:HISPANIC        : 12   Pittsburgh : 92  \n",
       "            5:OTHER           :  9   Portland   :121  \n",
       "                                     San Diego  :134  \n",
       "                                                      \n",
       "                            TUDRAMT                TURSMOKE     M1ADEPR   \n",
       " .                              :  2   0:NO            :230   0: No :546  \n",
       " 0:None drinker                 :230   1:PAST          :289   1: Yes: 53  \n",
       " 1: Less than one drink per week: 78   2:CURRENT       :  9               \n",
       " 2: 1-2drinks per week          : 66   M:Not Applicable: 71               \n",
       " 3: 3-5 drinks per week         : 90                                      \n",
       " 4: 6-13 drinks per week        :106                                      \n",
       " 5: 14 or more drinks per week  : 27                                      \n",
       "   M1VITMND     M1ANTIB      M1PROBI                       OHSEAS   \n",
       " 0: No :154   0: No :558   0: No :573   1:WINTER              :  6  \n",
       " 1: Yes:445   1: Yes: 41   1: Yes: 26   2:SPRING              :211  \n",
       "                                        3:SUMMER              :220  \n",
       "                                        4:FALL                :130  \n",
       "                                        Missing:Not collected : 32  \n",
       "                                                                    \n",
       "                                                                    \n",
       "                   VDstatus                     OHV1D2CT  \n",
       "                       : 11   0: No                 :  4  \n",
       " deficiency            : 40   1: Yes                :563  \n",
       " Missing:Not collected : 32   Missing:Not collected : 32  \n",
       " sufficiency           :516                               \n",
       "                                                          \n",
       "                                                          \n",
       "                                                          \n",
       "                   OHVD2CT       Latitude       Longitude           Age       \n",
       " 0: No                 :119   Min.   :32.72   Min.   :-122.7   Min.   :78.00  \n",
       " 1: Yes                :448   1st Qu.:33.52   1st Qu.:-122.1   1st Qu.:81.00  \n",
       " Missing:Not collected : 32   Median :40.44   Median :-117.2   Median :83.00  \n",
       "                              Mean   :39.13   Mean   :-105.9   Mean   :84.24  \n",
       "                              3rd Qu.:44.98   3rd Qu.: -86.8   3rd Qu.:87.00  \n",
       "                              Max.   :45.52   Max.   : -80.0   Max.   :98.00  \n",
       "                                                                              \n",
       "     Height          Weight            BMI           PASCORE      \n",
       " Min.   :153.8   Min.   : 51.40   Min.   :17.60   Min.   :  0.00  \n",
       " 1st Qu.:167.3   1st Qu.: 71.00   1st Qu.:24.51   1st Qu.: 70.14  \n",
       " Median :172.1   Median : 79.00   Median :26.72   Median :116.75  \n",
       " Mean   :172.1   Mean   : 80.17   Mean   :27.01   Mean   :122.48  \n",
       " 3rd Qu.:176.7   3rd Qu.: 87.50   3rd Qu.:28.98   3rd Qu.:165.79  \n",
       " Max.   :194.7   Max.   :127.60   Max.   :42.93   Max.   :359.14  \n",
       "                                                                  \n",
       "     DTVITD            OHV1D3           OHV24D3           OHVD3       \n",
       " Min.   :  0.429   Min.   :0.01070   Min.   : 0.300   Min.   :  7.80  \n",
       " 1st Qu.: 77.963   1st Qu.:0.04410   1st Qu.: 2.175   1st Qu.: 27.40  \n",
       " Median :128.125   Median :0.05550   Median : 3.180   Median : 33.65  \n",
       " Mean   :164.396   Mean   :0.05777   Mean   : 3.431   Mean   : 35.23  \n",
       " 3rd Qu.:211.643   3rd Qu.:0.06630   3rd Qu.: 4.235   3rd Qu.: 41.83  \n",
       " Max.   :982.830   Max.   :0.15600   Max.   :14.070   Max.   :104.00  \n",
       " NA's   :15        NA's   :32        NA's   :32       NA's   :43      \n",
       "     OHVD2             OHV1D2           OHVDTOT          OHV1DTOT      \n",
       " Min.   : 0.0000   Min.   :0.00000   Min.   :  7.80   Min.   :0.01070  \n",
       " 1st Qu.: 0.0000   1st Qu.:0.00000   1st Qu.: 28.10   1st Qu.:0.04425  \n",
       " Median : 0.0000   Median :0.00000   Median : 34.15   Median :0.05550  \n",
       " Mean   : 0.7691   Mean   :0.00018   Mean   : 36.01   Mean   :0.05795  \n",
       " 3rd Qu.: 0.0000   3rd Qu.:0.00000   3rd Qu.: 42.30   3rd Qu.:0.06645  \n",
       " Max.   :59.0000   Max.   :0.03780   Max.   :104.00   Max.   :0.15600  \n",
       " NA's   :32        NA's   :32        NA's   :43       NA's   :32       \n",
       " alpha_shannon  \n",
       " Min.   :1.459  \n",
       " 1st Qu.:4.384  \n",
       " Median :5.019  \n",
       " Mean   :4.904  \n",
       " 3rd Qu.:5.547  \n",
       " Max.   :6.764  \n",
       "                "
      ]
     },
     "metadata": {},
     "output_type": "display_data"
    }
   ],
   "source": [
    "summary(dat)"
   ]
  },
  {
   "cell_type": "code",
   "execution_count": 9,
   "metadata": {
    "collapsed": false
   },
   "outputs": [
    {
     "name": "stdout",
     "output_type": "stream",
     "text": [
      "[1] 545  29\n"
     ]
    },
    {
     "data": {
      "text/html": [
       "<ol class=list-inline>\n",
       "\t<li>545</li>\n",
       "\t<li>28</li>\n",
       "</ol>\n"
      ],
      "text/latex": [
       "\\begin{enumerate*}\n",
       "\\item 545\n",
       "\\item 28\n",
       "\\end{enumerate*}\n"
      ],
      "text/markdown": [
       "1. 545\n",
       "2. 28\n",
       "\n",
       "\n"
      ],
      "text/plain": [
       "[1] 545  28"
      ]
     },
     "metadata": {},
     "output_type": "display_data"
    }
   ],
   "source": [
    "dat = dat[complete.cases(dat), ]\n",
    "print(dim(dat))\n",
    "alpha = dat$alpha_shannon\n",
    "dat = dat[, -which(names(dat) %in% 'alpha_shannon')]\n",
    "dim(dat)"
   ]
  },
  {
   "cell_type": "code",
   "execution_count": 10,
   "metadata": {
    "collapsed": true
   },
   "outputs": [],
   "source": [
    "mod0 <- rda(alpha ~ 1., dat)  # Model with intercept only\n",
    "mod1 <- rda(alpha ~ ., dat)  # Model with all explanatory variables"
   ]
  },
  {
   "cell_type": "code",
   "execution_count": 11,
   "metadata": {
    "collapsed": false
   },
   "outputs": [
    {
     "name": "stdout",
     "output_type": "stream",
     "text": [
      "Step: R2.adj= 0 \n",
      "Call: alpha ~ 1 \n",
      " \n",
      "                  R2.adjusted\n",
      "<All variables>  6.705342e-02\n",
      "+ OHV1D3         2.674177e-02\n",
      "+ OHV1DTOT       2.615615e-02\n",
      "+ SITE           2.470355e-02\n",
      "+ GIERACE        2.282282e-02\n",
      "+ M1ANTIB        1.754900e-02\n",
      "+ OHV24D3        1.292210e-02\n",
      "+ M1ADEPR        1.267359e-02\n",
      "+ Latitude       1.118248e-02\n",
      "+ TUDRAMT        5.309808e-03\n",
      "+ Longitude      4.327768e-03\n",
      "+ OHVD2          2.171294e-03\n",
      "+ PASCORE        1.996015e-03\n",
      "+ TURSMOKE       1.639366e-03\n",
      "+ OHVD3          1.032975e-03\n",
      "+ OHVD2CT        5.620141e-04\n",
      "<none>           0.000000e+00\n",
      "+ Sex            0.000000e+00\n",
      "+ OHSEAS        -1.990955e-05\n",
      "+ Height        -3.044395e-04\n",
      "+ OHVDTOT       -8.380857e-04\n",
      "+ VDstatus      -8.389714e-04\n",
      "+ OHV1D2        -1.264224e-03\n",
      "+ M1VITMND      -1.452819e-03\n",
      "+ BMI           -1.460865e-03\n",
      "+ Age           -1.497746e-03\n",
      "+ OHV1D2CT      -1.722565e-03\n",
      "+ M1PROBI       -1.803669e-03\n",
      "+ Weight        -1.837918e-03\n",
      "+ DTVITD        -1.841588e-03\n",
      "\n",
      "         Df     AIC      F Pr(>F)   \n",
      "+ OHV1D3  1 -139.45 15.947  0.002 **\n",
      "---\n",
      "Signif. codes:  0 ‘***’ 0.001 ‘**’ 0.01 ‘*’ 0.05 ‘.’ 0.1 ‘ ’ 1\n",
      "\n",
      "Step: R2.adj= 0.02674177 \n",
      "Call: alpha ~ OHV1D3 \n",
      " \n",
      "                R2.adjusted\n",
      "<All variables>  0.06705342\n",
      "+ SITE           0.04849791\n",
      "+ GIERACE        0.04699867\n",
      "+ M1ANTIB        0.04093914\n",
      "+ Latitude       0.03829696\n",
      "+ M1ADEPR        0.03675633\n",
      "+ Longitude      0.02990335\n",
      "+ TUDRAMT        0.02799118\n",
      "+ OHSEAS         0.02755673\n",
      "+ Height         0.02705354\n",
      "<none>           0.02674177\n",
      "+ Sex            0.02674177\n",
      "+ TURSMOKE       0.02673742\n",
      "+ OHVD2          0.02633353\n",
      "+ OHVD2CT        0.02626271\n",
      "+ OHVDTOT        0.02623675\n",
      "+ PASCORE        0.02615071\n",
      "+ OHV24D3        0.02575473\n",
      "+ Weight         0.02566085\n",
      "+ OHVD3          0.02545363\n",
      "+ M1VITMND       0.02535431\n",
      "+ OHV1D2CT       0.02503365\n",
      "+ M1PROBI        0.02503070\n",
      "+ VDstatus       0.02498326\n",
      "+ OHV1DTOT       0.02497579\n",
      "+ OHV1D2         0.02497579\n",
      "+ DTVITD         0.02497527\n",
      "+ Age            0.02496951\n",
      "+ BMI            0.02496549\n",
      "\n",
      "       Df     AIC      F Pr(>F)  \n",
      "+ SITE  5 -146.81 3.4831  0.012 *\n",
      "---\n",
      "Signif. codes:  0 ‘***’ 0.001 ‘**’ 0.01 ‘*’ 0.05 ‘.’ 0.1 ‘ ’ 1\n",
      "\n",
      "Step: R2.adj= 0.04849791 \n",
      "Call: alpha ~ OHV1D3 + SITE \n",
      " \n",
      "                R2.adjusted\n",
      "<All variables>  0.06705342\n",
      "+ GIERACE        0.06563356\n",
      "+ M1ANTIB        0.05933434\n",
      "+ M1ADEPR        0.05869710\n",
      "+ TURSMOKE       0.05023173\n",
      "+ PASCORE        0.04860019\n",
      "<none>           0.04849791\n",
      "+ Sex            0.04849791\n",
      "+ Latitude       0.04849791\n",
      "+ Longitude      0.04849791\n",
      "+ Height         0.04791070\n",
      "+ OHSEAS         0.04770900\n",
      "+ OHV24D3        0.04761256\n",
      "+ TUDRAMT        0.04756302\n",
      "+ Weight         0.04728769\n",
      "+ M1VITMND       0.04726216\n",
      "+ OHV1D2CT       0.04723182\n",
      "+ OHVDTOT        0.04714798\n",
      "+ OHVD2          0.04709069\n",
      "+ OHVD2CT        0.04693233\n",
      "+ DTVITD         0.04692231\n",
      "+ OHVD3          0.04691301\n",
      "+ BMI            0.04679526\n",
      "+ M1PROBI        0.04675592\n",
      "+ OHV1D2         0.04675405\n",
      "+ OHV1DTOT       0.04675405\n",
      "+ Age            0.04675097\n",
      "+ VDstatus       0.04672905\n",
      "\n",
      "          Df     AIC      F Pr(>F)  \n",
      "+ GIERACE  4 -152.78 3.4666  0.014 *\n",
      "---\n",
      "Signif. codes:  0 ‘***’ 0.001 ‘**’ 0.01 ‘*’ 0.05 ‘.’ 0.1 ‘ ’ 1\n",
      "\n",
      "Step: R2.adj= 0.06563356 \n",
      "Call: alpha ~ OHV1D3 + SITE + GIERACE \n",
      " \n",
      "                R2.adjusted\n",
      "+ M1ADEPR        0.07643586\n",
      "+ M1ANTIB        0.07626007\n",
      "+ TURSMOKE       0.06944108\n",
      "<All variables>  0.06705342\n",
      "+ PASCORE        0.06644381\n",
      "+ OHSEAS         0.06570132\n",
      "<none>           0.06563356\n",
      "+ Sex            0.06563356\n",
      "+ Latitude       0.06563356\n",
      "+ Longitude      0.06563356\n",
      "+ OHVDTOT        0.06482613\n",
      "+ OHVD3          0.06440082\n",
      "+ OHV24D3        0.06439327\n",
      "+ DTVITD         0.06438085\n",
      "+ OHVD2          0.06437992\n",
      "+ OHV1D2CT       0.06416410\n",
      "+ Age            0.06407867\n",
      "+ M1VITMND       0.06407478\n",
      "+ M1PROBI        0.06400581\n",
      "+ OHVD2CT        0.06399239\n",
      "+ BMI            0.06390843\n",
      "+ Weight         0.06390332\n",
      "+ VDstatus       0.06389693\n",
      "+ Height         0.06388701\n",
      "+ OHV1D2         0.06388329\n",
      "+ OHV1DTOT       0.06388329\n",
      "+ TUDRAMT        0.06199672\n",
      "\n"
     ]
    }
   ],
   "source": [
    "step.res <- ordiR2step(mod0, mod1, perm.max = 1000)"
   ]
  },
  {
   "cell_type": "code",
   "execution_count": 13,
   "metadata": {
    "collapsed": false
   },
   "outputs": [
    {
     "data": {
      "text/html": [
       "<table>\n",
       "<thead><tr><th></th><th scope=col>R2.adj</th><th scope=col>Df</th><th scope=col>AIC</th><th scope=col>F</th><th scope=col>Pr(&gt;F)</th></tr></thead>\n",
       "<tbody>\n",
       "\t<tr><th scope=row>+ OHV1D3</th><td>0.02674177</td><td> 1        </td><td>-139.4461 </td><td>15.947237 </td><td>0.002     </td></tr>\n",
       "\t<tr><th scope=row>+ SITE</th><td>0.04849791</td><td> 5        </td><td>-146.8088 </td><td> 3.483144 </td><td>0.012     </td></tr>\n",
       "\t<tr><th scope=row>+ GIERACE</th><td>0.06563356</td><td> 4        </td><td>-152.7804 </td><td> 3.466640 </td><td>0.014     </td></tr>\n",
       "\t<tr><th scope=row>&lt;All variables&gt;</th><td>0.06705342</td><td>NA        </td><td>       NA </td><td>       NA </td><td>   NA     </td></tr>\n",
       "</tbody>\n",
       "</table>\n"
      ],
      "text/latex": [
       "\\begin{tabular}{r|lllll}\n",
       "  & R2.adj & Df & AIC & F & Pr(>F)\\\\\n",
       "\\hline\n",
       "\t+ OHV1D3 & 0.02674177 &  1         & -139.4461  & 15.947237  & 0.002     \\\\\n",
       "\t+ SITE & 0.04849791 &  5         & -146.8088  &  3.483144  & 0.012     \\\\\n",
       "\t+ GIERACE & 0.06563356 &  4         & -152.7804  &  3.466640  & 0.014     \\\\\n",
       "\t<All variables> & 0.06705342 & NA         &        NA  &        NA  &    NA     \\\\\n",
       "\\end{tabular}\n"
      ],
      "text/markdown": [
       "\n",
       "| <!--/--> | R2.adj | Df | AIC | F | Pr(>F) | \n",
       "|---|---|---|---|\n",
       "| + OHV1D3 | 0.02674177 |  1         | -139.4461  | 15.947237  | 0.002      | \n",
       "| + SITE | 0.04849791 |  5         | -146.8088  |  3.483144  | 0.012      | \n",
       "| + GIERACE | 0.06563356 |  4         | -152.7804  |  3.466640  | 0.014      | \n",
       "| <All variables> | 0.06705342 | NA         |        NA  |        NA  |    NA      | \n",
       "\n",
       "\n"
      ],
      "text/plain": [
       "                R2.adj     Df AIC       F         Pr(>F)\n",
       "+ OHV1D3        0.02674177  1 -139.4461 15.947237 0.002 \n",
       "+ SITE          0.04849791  5 -146.8088  3.483144 0.012 \n",
       "+ GIERACE       0.06563356  4 -152.7804  3.466640 0.014 \n",
       "<All variables> 0.06705342 NA        NA        NA    NA "
      ]
     },
     "metadata": {},
     "output_type": "display_data"
    }
   ],
   "source": [
    "table = step.res$anova\n",
    "table"
   ]
  },
  {
   "cell_type": "code",
   "execution_count": null,
   "metadata": {
    "collapsed": false
   },
   "outputs": [],
   "source": [
    "# Step: R2.adj= 0 \n",
    "# Call: alpha ~ 1 \n",
    " \n",
    "#                   R2.adjusted\n",
    "# <All variables>  6.705342e-02\n",
    "# + OHV1D3         2.674177e-02\n",
    "# + SITE           2.470355e-02\n",
    "# + GIERACE        2.282282e-02"
   ]
  },
  {
   "cell_type": "code",
   "execution_count": null,
   "metadata": {
    "collapsed": true
   },
   "outputs": [],
   "source": [
    "# explain negative adjusted R^2: https://stats.stackexchange.com/questions/183265/what-does-negative-r-squared-mean"
   ]
  },
  {
   "cell_type": "code",
   "execution_count": 16,
   "metadata": {
    "collapsed": false
   },
   "outputs": [],
   "source": [
    "table$ES.independent = c(0.06705342, 0.02470355, 0.02282282, 0.06705342)\n",
    "table$ES.RDA = c(table$R2.adj[1], table$R2.adj[2]-table$R2.adj[1], \n",
    "                       table$R2.adj[3]-table$R2.adj[2], table$R2.adj[4]-table$R2.adj[3])\n",
    "table = table[-4, ]"
   ]
  },
  {
   "cell_type": "code",
   "execution_count": 17,
   "metadata": {
    "collapsed": false
   },
   "outputs": [
    {
     "data": {
      "text/plain": [
       "rda(formula = alpha ~ OHV1D3 + SITE + GIERACE, data = dat)"
      ]
     },
     "metadata": {},
     "output_type": "display_data"
    }
   ],
   "source": [
    "step.res$call"
   ]
  },
  {
   "cell_type": "code",
   "execution_count": 18,
   "metadata": {
    "collapsed": false,
    "scrolled": true
   },
   "outputs": [
    {
     "data": {
      "text/html": [
       "<table>\n",
       "<thead><tr><th></th><th scope=col>R2.adj</th><th scope=col>Df</th><th scope=col>AIC</th><th scope=col>F</th><th scope=col>Pr(&gt;F)</th><th scope=col>ES.independent</th><th scope=col>ES.RDA</th></tr></thead>\n",
       "<tbody>\n",
       "\t<tr><th scope=row>+ OHV1D3</th><td>0.02674177</td><td>1         </td><td>-139.4461 </td><td>15.947237 </td><td>0.002     </td><td>0.06705342</td><td>0.02674177</td></tr>\n",
       "\t<tr><th scope=row>+ SITE</th><td>0.04849791</td><td>5         </td><td>-146.8088 </td><td> 3.483144 </td><td>0.012     </td><td>0.02470355</td><td>0.02175614</td></tr>\n",
       "\t<tr><th scope=row>+ GIERACE</th><td>0.06563356</td><td>4         </td><td>-152.7804 </td><td> 3.466640 </td><td>0.014     </td><td>0.02282282</td><td>0.01713566</td></tr>\n",
       "</tbody>\n",
       "</table>\n"
      ],
      "text/latex": [
       "\\begin{tabular}{r|lllllll}\n",
       "  & R2.adj & Df & AIC & F & Pr(>F) & ES.independent & ES.RDA\\\\\n",
       "\\hline\n",
       "\t+ OHV1D3 & 0.02674177 & 1          & -139.4461  & 15.947237  & 0.002      & 0.06705342 & 0.02674177\\\\\n",
       "\t+ SITE & 0.04849791 & 5          & -146.8088  &  3.483144  & 0.012      & 0.02470355 & 0.02175614\\\\\n",
       "\t+ GIERACE & 0.06563356 & 4          & -152.7804  &  3.466640  & 0.014      & 0.02282282 & 0.01713566\\\\\n",
       "\\end{tabular}\n"
      ],
      "text/markdown": [
       "\n",
       "| <!--/--> | R2.adj | Df | AIC | F | Pr(>F) | ES.independent | ES.RDA | \n",
       "|---|---|---|\n",
       "| + OHV1D3 | 0.02674177 | 1          | -139.4461  | 15.947237  | 0.002      | 0.06705342 | 0.02674177 | \n",
       "| + SITE | 0.04849791 | 5          | -146.8088  |  3.483144  | 0.012      | 0.02470355 | 0.02175614 | \n",
       "| + GIERACE | 0.06563356 | 4          | -152.7804  |  3.466640  | 0.014      | 0.02282282 | 0.01713566 | \n",
       "\n",
       "\n"
      ],
      "text/plain": [
       "          R2.adj     Df AIC       F         Pr(>F) ES.independent ES.RDA    \n",
       "+ OHV1D3  0.02674177 1  -139.4461 15.947237 0.002  0.06705342     0.02674177\n",
       "+ SITE    0.04849791 5  -146.8088  3.483144 0.012  0.02470355     0.02175614\n",
       "+ GIERACE 0.06563356 4  -152.7804  3.466640 0.014  0.02282282     0.01713566"
      ]
     },
     "metadata": {},
     "output_type": "display_data"
    }
   ],
   "source": [
    "table"
   ]
  },
  {
   "cell_type": "code",
   "execution_count": null,
   "metadata": {
    "collapsed": true
   },
   "outputs": [],
   "source": []
  }
 ],
 "metadata": {
  "kernelspec": {
   "display_name": "R",
   "language": "R",
   "name": "ir"
  },
  "language_info": {
   "codemirror_mode": "r",
   "file_extension": ".r",
   "mimetype": "text/x-r-source",
   "name": "R",
   "pygments_lexer": "r",
   "version": "3.3.2"
  }
 },
 "nbformat": 4,
 "nbformat_minor": 2
}
