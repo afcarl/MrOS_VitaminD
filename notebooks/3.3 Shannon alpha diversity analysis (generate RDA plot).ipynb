{
 "cells": [
  {
   "cell_type": "code",
   "execution_count": 6,
   "metadata": {
    "collapsed": true
   },
   "outputs": [],
   "source": [
    "import pandas as pd\n",
    "import seaborn as sns\n",
    "import matplotlib.pyplot as plt\n",
    "%matplotlib inline"
   ]
  },
  {
   "cell_type": "code",
   "execution_count": 7,
   "metadata": {},
   "outputs": [],
   "source": [
    "info = {'VAR': ['1,25(OH)D3', 'Site', 'Race'],\n",
    "        'ES_IND': [0.06705342, 0.02470355, 0.02282282],\n",
    "        'ES_CUL': [0.02674177, 0.02175614, 0.01713566]}\n",
    "dat = pd.DataFrame(info, columns=['VAR', 'ES_IND', 'ES_CUL'])"
   ]
  },
  {
   "cell_type": "code",
   "execution_count": 8,
   "metadata": {},
   "outputs": [
    {
     "data": {
      "text/html": [
       "<div>\n",
       "<style>\n",
       "    .dataframe thead tr:only-child th {\n",
       "        text-align: right;\n",
       "    }\n",
       "\n",
       "    .dataframe thead th {\n",
       "        text-align: left;\n",
       "    }\n",
       "\n",
       "    .dataframe tbody tr th {\n",
       "        vertical-align: top;\n",
       "    }\n",
       "</style>\n",
       "<table border=\"1\" class=\"dataframe\">\n",
       "  <thead>\n",
       "    <tr style=\"text-align: right;\">\n",
       "      <th></th>\n",
       "      <th>VAR</th>\n",
       "      <th>ES_IND</th>\n",
       "      <th>ES_CUL</th>\n",
       "    </tr>\n",
       "  </thead>\n",
       "  <tbody>\n",
       "    <tr>\n",
       "      <th>0</th>\n",
       "      <td>1,25(OH)D3</td>\n",
       "      <td>0.067053</td>\n",
       "      <td>0.026742</td>\n",
       "    </tr>\n",
       "    <tr>\n",
       "      <th>1</th>\n",
       "      <td>Site</td>\n",
       "      <td>0.024704</td>\n",
       "      <td>0.021756</td>\n",
       "    </tr>\n",
       "    <tr>\n",
       "      <th>2</th>\n",
       "      <td>Race</td>\n",
       "      <td>0.022823</td>\n",
       "      <td>0.017136</td>\n",
       "    </tr>\n",
       "  </tbody>\n",
       "</table>\n",
       "</div>"
      ],
      "text/plain": [
       "          VAR    ES_IND    ES_CUL\n",
       "0  1,25(OH)D3  0.067053  0.026742\n",
       "1        Site  0.024704  0.021756\n",
       "2        Race  0.022823  0.017136"
      ]
     },
     "execution_count": 8,
     "metadata": {},
     "output_type": "execute_result"
    }
   ],
   "source": [
    "dat"
   ]
  },
  {
   "cell_type": "code",
   "execution_count": 9,
   "metadata": {},
   "outputs": [
    {
     "data": {
      "image/png": "[encoded data removed]",
      "text/plain": [
       "<matplotlib.figure.Figure at 0x10ed62128>"
      ]
     },
     "metadata": {},
     "output_type": "display_data"
    }
   ],
   "source": [
    "sns.set(style=\"whitegrid\")\n",
    "\n",
    "# Plot cumulative effect size\n",
    "sns.set_color_codes(\"muted\")\n",
    "ax = sns.barplot(x=\"ES_CUL\", y=\"VAR\", data=dat,\n",
    "            label=\"Dependent\", color=\"b\")\n",
    "ax.set_xlabel('Effect Size', fontsize=16)\n",
    "ax.set_ylabel('Non-redundant Covariates', fontsize=16)\n",
    "\n",
    "ax = ax.get_figure()\n",
    "ax.tight_layout()\n",
    "ax.savefig('../figures/RDA_Shannon_alpha.pdf')\n",
    "ax.savefig('../figures/RDA_Shannon_alpha.png')"
   ]
  },
  {
   "cell_type": "code",
   "execution_count": null,
   "metadata": {
    "collapsed": true
   },
   "outputs": [],
   "source": []
  }
 ],
 "metadata": {
  "kernelspec": {
   "display_name": "Python 3",
   "language": "python",
   "name": "python3"
  },
  "language_info": {
   "codemirror_mode": {
    "name": "ipython",
    "version": 3
   },
   "file_extension": ".py",
   "mimetype": "text/x-python",
   "name": "python",
   "nbconvert_exporter": "python",
   "pygments_lexer": "ipython3",
   "version": "3.5.3"
  }
 },
 "nbformat": 4,
 "nbformat_minor": 2
}
