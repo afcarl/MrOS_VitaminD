{
 "cells": [
  {
   "cell_type": "code",
   "execution_count": 1,
   "metadata": {
    "collapsed": true
   },
   "outputs": [],
   "source": [
    "import pandas as pd\n",
    "import seaborn as sns\n",
    "import matplotlib.pyplot as plt\n",
    "%matplotlib inline"
   ]
  },
  {
   "cell_type": "code",
   "execution_count": 2,
   "metadata": {
    "collapsed": true
   },
   "outputs": [],
   "source": [
    "info = {'VAR': ['Total 1,25(OH)D', 'Site', 'Race', 'Total 25(OH)D', ' Oral Antibiotic Use'],\n",
    "        'ES_IND': [0.045545564, 0.031161839, 0.027166031, 0.001210949, 0.021151959],\n",
    "        'ES_CUL': [0.04554556, 0.02964010, 0.02223142, 0.01265013, 0.01270502]}\n",
    "dat = pd.DataFrame(info, columns=['VAR', 'ES_IND', 'ES_CUL'])"
   ]
  },
  {
   "cell_type": "code",
   "execution_count": 3,
   "metadata": {},
   "outputs": [
    {
     "data": {
      "text/html": [
       "<div>\n",
       "<style>\n",
       "    .dataframe thead tr:only-child th {\n",
       "        text-align: right;\n",
       "    }\n",
       "\n",
       "    .dataframe thead th {\n",
       "        text-align: left;\n",
       "    }\n",
       "\n",
       "    .dataframe tbody tr th {\n",
       "        vertical-align: top;\n",
       "    }\n",
       "</style>\n",
       "<table border=\"1\" class=\"dataframe\">\n",
       "  <thead>\n",
       "    <tr style=\"text-align: right;\">\n",
       "      <th></th>\n",
       "      <th>VAR</th>\n",
       "      <th>ES_IND</th>\n",
       "      <th>ES_CUL</th>\n",
       "    </tr>\n",
       "  </thead>\n",
       "  <tbody>\n",
       "    <tr>\n",
       "      <th>0</th>\n",
       "      <td>Total 1,25(OH)D</td>\n",
       "      <td>0.045546</td>\n",
       "      <td>0.045546</td>\n",
       "    </tr>\n",
       "    <tr>\n",
       "      <th>1</th>\n",
       "      <td>Site</td>\n",
       "      <td>0.031162</td>\n",
       "      <td>0.029640</td>\n",
       "    </tr>\n",
       "    <tr>\n",
       "      <th>2</th>\n",
       "      <td>Race</td>\n",
       "      <td>0.027166</td>\n",
       "      <td>0.022231</td>\n",
       "    </tr>\n",
       "    <tr>\n",
       "      <th>3</th>\n",
       "      <td>Total 25(OH)D</td>\n",
       "      <td>0.001211</td>\n",
       "      <td>0.012650</td>\n",
       "    </tr>\n",
       "    <tr>\n",
       "      <th>4</th>\n",
       "      <td>Oral Antibiotic Use</td>\n",
       "      <td>0.021152</td>\n",
       "      <td>0.012705</td>\n",
       "    </tr>\n",
       "  </tbody>\n",
       "</table>\n",
       "</div>"
      ],
      "text/plain": [
       "                    VAR    ES_IND    ES_CUL\n",
       "0       Total 1,25(OH)D  0.045546  0.045546\n",
       "1                  Site  0.031162  0.029640\n",
       "2                  Race  0.027166  0.022231\n",
       "3         Total 25(OH)D  0.001211  0.012650\n",
       "4   Oral Antibiotic Use  0.021152  0.012705"
      ]
     },
     "execution_count": 3,
     "metadata": {},
     "output_type": "execute_result"
    }
   ],
   "source": [
    "dat"
   ]
  },
  {
   "cell_type": "code",
   "execution_count": 4,
   "metadata": {},
   "outputs": [
    {
     "data": {
      "image/png": "[encoded data removed]",
      "text/plain": [
       "<matplotlib.figure.Figure at 0x1182db0b8>"
      ]
     },
     "metadata": {},
     "output_type": "display_data"
    }
   ],
   "source": [
    "sns.set(style=\"whitegrid\")\n",
    "\n",
    "# Plot cumulative effect size\n",
    "sns.set_color_codes(\"muted\")\n",
    "ax = sns.barplot(x=\"ES_CUL\", y=\"VAR\", data=dat,\n",
    "            label=\"Dependent\", color=\"b\")\n",
    "ax.set_xlabel('Effect Size', fontsize=16)\n",
    "ax.set_ylabel('Non-redundant Covariates', fontsize=16)\n",
    "\n",
    "ax = ax.get_figure()\n",
    "ax.tight_layout()\n",
    "ax.savefig('../figures/RDA_alpha.pdf')\n",
    "ax.savefig('../figures/RDA_alpha.png')"
   ]
  },
  {
   "cell_type": "code",
   "execution_count": null,
   "metadata": {
    "collapsed": true
   },
   "outputs": [],
   "source": []
  }
 ],
 "metadata": {
  "kernelspec": {
   "display_name": "Python 3",
   "language": "python",
   "name": "python3"
  },
  "language_info": {
   "codemirror_mode": {
    "name": "ipython",
    "version": 3
   },
   "file_extension": ".py",
   "mimetype": "text/x-python",
   "name": "python",
   "nbconvert_exporter": "python",
   "pygments_lexer": "ipython3",
   "version": "3.5.3"
  }
 },
 "nbformat": 4,
 "nbformat_minor": 2
}
